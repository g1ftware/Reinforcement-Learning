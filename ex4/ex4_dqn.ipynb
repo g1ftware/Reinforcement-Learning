{
 "cells": [
  {
   "cell_type": "markdown",
   "id": "53274fb5",
   "metadata": {
    "deletable": false,
    "editable": false,
    "nbgrader": {
     "cell_type": "markdown",
     "checksum": "5bba742b91375ed640d206a3c9f351e5",
     "grade": false,
     "grade_id": "cell-7dd133571740e15f",
     "locked": true,
     "schema_version": 3,
     "solution": false,
     "task": false
    }
   },
   "source": [
    "\n",
    "<div class=\"alert alert-block alert-info\">\n",
    "   <h2 align=\"center\"> <center><b> Reinforcement Learning Assignment 4 - Function Approximators Part 2: Deep Q Network </b></center></h2>\n",
    "\n",
    "<br>\n",
    "<center><font size=\"3\">This notebook is a part of teaching material for ELEC-E8125</font></center>\n",
    "<center><font size=\"3\">Aalto University</font></center>\n",
    "</div>\n",
    "\n",
    "\n",
    "<a id='TOC'></a>\n",
    "\n",
    "<div class=\"alert alert-block alert-success\">\n",
    "    \n",
    "# Table of contents\n",
    "* <a href='#1.'> 1. Introduction </a>\n",
    "* <a href='#1.1'> 1.1 Task environments </a>\n",
    "* <a href='#1.2'> 1.2 Learning Objectives </a>\n",
    "* <a href='#1.3'> 1.3 Code Structure & Files </a>\n",
    "* <a href='#1.4'> 1.4 Execution time </a>\n",
    "* <a href='#2.'> 2. A (not-so-)deep Q-network</a>\n",
    "* <a href='#3.'> 3. Submitting </a>\n",
    "* <a href='#3.1'> 3.1 Feedback </a>\n",
    "\n",
    "<a href='#T1'><b>Student Task 1.</b> Implementing DQN (10 points) </a>\\\n",
    "<a href='#Q1'><b>Student Question 1.1</b> Considering Continuous Action Spaces (5 points) </a>\\\n",
    "<a href='#Q2'><b>Student Question 1.2</b> Continuous Action Spaces Part 1 (15 points) </a>\\\n",
    "<a href='#Q3'><b>Student Question 1.3</b> The Target Network (10 points) </a>\n",
    " \n",
    "\n",
    "**Total Points:** 40\n",
    "\n",
    "**Estimated runtime of all the cells:** 2 hours"
   ]
  },
  {
   "cell_type": "markdown",
   "id": "9fb3bd96",
   "metadata": {
    "deletable": false,
    "editable": false,
    "nbgrader": {
     "cell_type": "markdown",
     "checksum": "2ccf0d452335e813bfc82782639cf8f7",
     "grade": false,
     "grade_id": "cell-ebc6fa2d1ab8fcf9",
     "locked": true,
     "schema_version": 3,
     "solution": false,
     "task": false
    }
   },
   "source": [
    "# 1. Introduction <a id='1.'></a>\n",
    "\n",
    "In various real-world scenarios, dealing with high-dimensional state spaces makes it impractical to compute and store Q-values for every possible state-action pair in a Q-table. To address this challenge, we turn to function approximators. In this assignment, you will progress creating a basic Deep Q-Network (DQN) in the **Cartpole** and **LunarLander** environment.\n",
    "\n",
    "**Please start working on this assignment early since the DQN will take some time to train.**\n",
    "\n",
    "\n",
    "<div style=\"display:flex\">\n",
    "     <div style=\"flex:1;padding-left:100px;\">\n",
    "          <img src=\"imgs/cartpole.png\" width=\"300\"/>\n",
    "         <figcaption style=\"flex:1;padding-left:20px;\">  Figure 1: The Cartpole environment. </figcaption>\n",
    "     </div>\n",
    "     <div style=\"flex:1;padding-left:70px;\">\n",
    "          <img src=\"imgs/lunar_lander.png\" width=\"300\"/>\n",
    "         <figcaption style=\"flex:1;padding-left:20px;\">  Figure 2: The Lunarlander environment. </figcaption>\n",
    "     </div>\n",
    "\n",
    "</div>\n",
    "\n",
    "Useful Sources:\n",
    "\n",
    "- Mnih, Volodymyr, et al. \"Playing atari with deep reinforcement learning.\" arXiv preprint arXiv:1312.5602 (2013). https://arxiv.org/pdf/1312.5602.pdf\n",
    "\n",
    "\n",
    "## 1.1 Task environments: <a id='1.1'></a>\n",
    "In this excercise, we will mainly use DQN for two tasks:\n",
    "- Cartpole(https://gymnasium.farama.org/environments/classic_control/cart_pole/): This environment corresponds to the version of the cart-pole problem described by Barto, Sutton, and Anderson in “Neuronlike Adaptive Elements That Can Solve Difficult Learning Control Problem”. A pole is attached by an un-actuated joint to a cart, which moves along a frictionless track. The pendulum is placed upright on the cart and the goal is to balance the pole by applying forces in the left and right direction on the cart.\n",
    "\n",
    "- Lunar Lander (https://gymnasium.farama.org/environments/box2d/lunar_lander/): This environment is a classic rocket trajectory optimization problem. According to Pontryagin’s maximum principle, it is optimal to fire the engine at full throttle or turn it off. This is the reason why this environment has discrete actions: engine on or off.\n",
    "\n",
    "## 1.2 Learning Objectives: <a id='1.1'></a>\n",
    "- Understand why and how function approximators can be used for Q-learning\n",
    "- Understand the Deep Q-Network RL algorithm\n",
    "\n",
    "## 1.3 Code Structure & Files <a id='1.2'></a>\n",
    "\n",
    "```ex4_dqn.ipynb``` is the file needed to be modified for this part of the assignment.  \n",
    "\n",
    "<span style=\"color:red\"> **# IMPORTANT: DO NOT FORGET ANOTHER TASK IN ```ex4_rbf.ipynb```** </span>\n",
    "\n",
    "```\n",
    "├───cfg                            # Config files for environments\n",
    "├───imgs                           # Images used in notebook\n",
    "├───results\n",
    "│   └───CartPole-v1\n",
    "│   │   ├───logging                \n",
    "│   │   │    └───logging.pkl        # Contains logged data\n",
    "│   │   ├───model              \n",
    "│   │   │    └───*dqn.pt            # Contains trained model\n",
    "│   │   └───video                   # Videos saved\n",
    "│   │   └───*cartpole_dqn.png       # Contains training performance plot\n",
    "│   └───LunarLander-v2\n",
    "│   │   ├───logging                \n",
    "│   │   │    └───logging.pkl        # Contains logged data\n",
    "│   │   ├───model              \n",
    "│   │   │    └───*dqn.pt            # Contains trained model\n",
    "│   │   └───video                   # Videos saved\n",
    "│   │   └───*lunarlander_dqn.png    # Contains training performance plot\n",
    "│   ex4_dqn.ipynb                   # 2nd assignment file containing tasks <---------This task\n",
    "│   ex4_rbf.ipynb                   # 1st assignment file containing tasks <---------\n",
    "│   train.py                        # Contains train and test functions \n",
    "│   utils.py                        # Contains useful functions \n",
    "└───buffer.py                       # Contains buffer functions\n",
    "```\n",
    "\n",
    "## 1.4 Execution time <a id='1.4'></a>\n",
    "\n",
    "The training of these methods might take more than 40 mins depends on the server. If you have problem of experiment running takes too much time, you can download the jupyter notebook and test it locally."
   ]
  },
  {
   "cell_type": "markdown",
   "id": "c6968238",
   "metadata": {
    "deletable": false,
    "editable": false,
    "nbgrader": {
     "cell_type": "markdown",
     "checksum": "47530e48db6901812adae6ba0239bc2d",
     "grade": false,
     "grade_id": "cell-fdd24e05653d4a99",
     "locked": true,
     "schema_version": 3,
     "solution": false,
     "task": false
    }
   },
   "source": [
    "## Warnings:\n",
    "\n",
    "- Don’t copy and paste cells within a notebook. This will mess up the tracking metadata and prevent autograding from working.\n",
    "- Only add new cells using the '+' button in the upper toolbar and do not split cells.\n",
    "- Be cautious about things such as copying the whole notebook to Colab to work on it. This has sometimes resulted in removing all notebook metadata, making autograding impossible."
   ]
  },
  {
   "cell_type": "markdown",
   "id": "2cba7612-914b-4860-b019-7dc32b075b6b",
   "metadata": {
    "deletable": false,
    "editable": false,
    "nbgrader": {
     "cell_type": "markdown",
     "checksum": "8ead3054091bb4a4807d085110e4ebc7",
     "grade": false,
     "grade_id": "cell-3c7108bbf5fe22bf",
     "locked": true,
     "schema_version": 3,
     "solution": false,
     "task": false
    },
    "tags": []
   },
   "source": [
    "# 2. A (not-so-)deep Q-network <a id='2.'></a>"
   ]
  },
  {
   "cell_type": "markdown",
   "id": "00b2f2ea",
   "metadata": {
    "deletable": false,
    "editable": false,
    "nbgrader": {
     "cell_type": "markdown",
     "checksum": "a84e8c7719f42c54880e4a2a07f85574",
     "grade": false,
     "grade_id": "cell-af25de8f4a4da8d9",
     "locked": true,
     "schema_version": 3,
     "solution": false,
     "task": false
    }
   },
   "source": [
    "<a id='T1'></a>\n",
    "<div class=\" alert alert-warning\">\n",
    "    <h3><b>Student Task 1.</b> Implementing DQN (10 points) </h3> \n",
    "\n",
    "Finish the incomplete code in DQNAgent (functions ```update``` and ```get_action```, marked with ```TODO```) to implement a DQN agent.\n",
    "\n",
    "**See Figure 3 for an example training performance plot for cartpole. Save the training performance plots, and check if they are in the right place (the paths please refer to <a href='#3.'>Submitting<a>).**\n",
    "\n",
    "<figure style=\"text-align: center\">\n",
    "<img src=\"imgs/dqn.png\" width=\"300px\">\n",
    "<figcaption style=\"text-align: center\"> Figure 3: The training performance plot for cartpole-dqn might look something like this. </figcaption>\n",
    "</figure>\n",
    "    \n",
    "🔝\t<a href='#TOC'><b>Table of Contents</b></a>\n",
    "</div>\n"
   ]
  },
  {
   "cell_type": "code",
   "execution_count": 81,
   "id": "4284bfc0",
   "metadata": {
    "tags": []
   },
   "outputs": [],
   "source": [
    "skip_training = True  # Set this flag to True before validation and submission"
   ]
  },
  {
   "cell_type": "code",
   "execution_count": null,
   "id": "6c9a2760",
   "metadata": {
    "deletable": false,
    "editable": false,
    "nbgrader": {
     "cell_type": "code",
     "checksum": "578a265f70c27c97dcec1ac8b16d4362",
     "grade": true,
     "grade_id": "cell-6421cfde6887e896",
     "locked": true,
     "points": 0,
     "schema_version": 3,
     "solution": false,
     "task": false
    }
   },
   "outputs": [],
   "source": []
  },
  {
   "cell_type": "code",
   "execution_count": 53,
   "id": "ec1d14d1",
   "metadata": {
    "tags": []
   },
   "outputs": [],
   "source": [
    "import sys, os\n",
    "sys.path.insert(0, os.path.abspath(\"..\"))\n",
    "from typing import List\n",
    "import numpy as np\n",
    "import torch, random, copy, yaml, time\n",
    "import torch.nn as nn\n",
    "import torch.optim as optim\n",
    "import torch.nn.functional as F\n",
    "from pathlib import Path\n",
    "\n",
    "import utils as u\n",
    "import train as t\n",
    "\n",
    "from IPython.display import Video # to display videos\n",
    "\n",
    "device = 'cpu'"
   ]
  },
  {
   "cell_type": "code",
   "execution_count": 54,
   "id": "b2c93182",
   "metadata": {
    "tags": []
   },
   "outputs": [],
   "source": [
    "def mlp(in_dim, mlp_dims: List[int], out_dim, act_fn=nn.ReLU, out_act=nn.Identity):\n",
    "    \"\"\"Returns an MLP.\"\"\"\n",
    "    if isinstance(mlp_dims, int): raise ValueError(\"mlp dimensions should be list, but got int.\")\n",
    "\n",
    "    layers = [nn.Linear(in_dim, mlp_dims[0]), act_fn()]\n",
    "    for i in range(len(mlp_dims)-1):\n",
    "        layers += [nn.Linear(mlp_dims[i], mlp_dims[i+1]), act_fn()]\n",
    "    # the output layer\n",
    "    layers += [nn.Linear(mlp_dims[-1], out_dim), out_act()]\n",
    "    return nn.Sequential(*layers)"
   ]
  },
  {
   "cell_type": "code",
   "execution_count": 64,
   "id": "6c01a546",
   "metadata": {
    "tags": []
   },
   "outputs": [],
   "source": [
    "class DQNAgent(object):\n",
    "    def __init__(self, state_shape, n_actions,\n",
    "                 batch_size=32, hidden_dims=[12], gamma=0.98, lr=1e-3, grad_clip_norm=1000, tau=0.001):\n",
    "        self.n_actions = n_actions\n",
    "        self.state_dim = state_shape[0]\n",
    "        self.policy_net = mlp(self.state_dim, hidden_dims, n_actions).to(device)\n",
    "        self.target_net = copy.deepcopy(self.policy_net)\n",
    "        self.target_net.eval()\n",
    "        self.optimizer = optim.Adam(self.policy_net.parameters(), lr=float(lr))\n",
    "\n",
    "        self.batch_size = batch_size\n",
    "        self.gamma = gamma\n",
    "        self.grad_clip_norm = grad_clip_norm\n",
    "        self.tau = tau\n",
    "        \n",
    "        self.counter = 0\n",
    "\n",
    "    def update(self, buffer):\n",
    "        \"\"\" One gradient step, update the policy net.\"\"\"\n",
    "        start = time.perf_counter()\n",
    "        self.counter += 1\n",
    "        \n",
    "        # Do one step gradient update\n",
    "        batch = buffer.sample(self.batch_size, device=device)\n",
    "        \n",
    "        \n",
    "        # TODO: Task 3: Finish the DQN implementation.\n",
    "        # Hints: 1. You can use torch.gather() to gather values along an axis specified by dim. \n",
    "        #        2. torch.max returns a namedtuple (values, indices) where values is the maximum \n",
    "        #           value of each row of the input tensor in the given dimension dim.\n",
    "        #           And indices is the index location of each maximum value found (argmax).\n",
    "        #        3.  batch is a namedtuple, which has state, action, next_state, not_done, reward\n",
    "        #           you can access the value be batch.<name>, e.g, batch.state\n",
    "        #        4. check torch.nn.utils.clip_grad_norm_() to know how to clip grad norm\n",
    "        #        5. You can go throught the PyTorch Tutorial given on MyCourses if you are not familiar with it. \n",
    "        # calculate the q(s,a)\n",
    "        ########## You code starts here #########\n",
    "        # Hint:\n",
    "        state = batch.state\n",
    "        action = batch.action \n",
    "        next_state = batch.next_state\n",
    "        reward = batch.reward \n",
    "        not_done = batch.not_done \n",
    "        \n",
    "        # 1. Calculate Q(s, a) from policy net\n",
    "        # Gather Q-values for the actions actually taken in the batch\n",
    "        qs = self.policy_net(state).gather(1, action.long())\n",
    "\n",
    "        # 2. Calculate max Q(s', a') from target net for next states\n",
    "        # Initialize the next_state_values as zeroes\n",
    "        next_state_values = torch.zeros(self.batch_size, device=device)\n",
    "        with torch.no_grad():\n",
    "            non_final_mask = not_done.squeeze(-1).bool()  # Mask for non-terminal states\n",
    "            non_final_next_states = next_state[non_final_mask]\n",
    "            # Get the max Q value for next state from target network\n",
    "            next_state_values[non_final_mask] = self.target_net(non_final_next_states).max(1)[0]\n",
    "\n",
    "        # 3. Calculate the expected Q values: reward + gamma * max Q(s', a')\n",
    "        expected_state_action_values = reward.squeeze(-1) + (self.gamma * next_state_values)\n",
    "\n",
    "        # 4. Compute the loss between predicted Q-values and the expected Q-values\n",
    "        criterion = nn.SmoothL1Loss()\n",
    "        loss = criterion(qs.squeeze(-1), expected_state_action_values)\n",
    "\n",
    "        # Perform backward pass and optimization\n",
    "        self.optimizer.zero_grad()\n",
    "        loss.backward()\n",
    "\n",
    "        # Clip the gradients for stability\n",
    "        torch.nn.utils.clip_grad_norm_(self.policy_net.parameters(), self.grad_clip_norm)\n",
    "\n",
    "        # Update policy network parameters\n",
    "        self.optimizer.step()\n",
    "        ########## You code ends here #########\n",
    "\n",
    "        # update the target network\n",
    "        u.soft_update_params(self.policy_net, self.target_net, self.tau)\n",
    "        \n",
    "        end = time.perf_counter()\n",
    "        update_time = end - start\n",
    "        return {'loss': loss.item(), \n",
    "                'q_mean': qs.mean().item(),\n",
    "                'num_update': self.counter,\n",
    "                'update_time': update_time}\n",
    "\n",
    "\n",
    "    @torch.no_grad()\n",
    "    def get_action(self, state, epsilon=0.05):\n",
    "        # TODO:  Task 3: implement epsilon-greedy action selection\n",
    "        ########## You code starts here #########\n",
    "        # Generate a random value for epsilon-greedy exploration\n",
    "        p = np.random.uniform(0, 1)\n",
    "\n",
    "        if p < epsilon:\n",
    "            # Explore: choose a random action\n",
    "            action = np.random.choice(self.n_actions)\n",
    "        else:\n",
    "            # Exploit: choose action with the highest Q-value\n",
    "            state = torch.FloatTensor(state).unsqueeze(0).to(device)  # Ensure correct dtype and device\n",
    "            q_values = self.policy_net(state)\n",
    "            action = torch.argmax(q_values, dim=1).item()  # Choose action with the highest Q-value\n",
    "\n",
    "        ########## You code ends here #########\n",
    "        return action\n",
    "\n",
    "\n",
    "    def save(self, fp):\n",
    "        path = fp/'dqn.pt'\n",
    "        torch.save({\n",
    "            'policy': self.policy_net.state_dict(),\n",
    "            'policy_target': self.target_net.state_dict()\n",
    "        }, path)\n",
    "\n",
    "    def load(self, fp):\n",
    "        path = fp/'dqn.pt'\n",
    "        d = torch.load(path)\n",
    "        self.policy_net.load_state_dict(d['policy'])\n",
    "        self.target_net.load_state_dict(d['policy_target'])"
   ]
  },
  {
   "cell_type": "code",
   "execution_count": 65,
   "id": "d1d97e7d",
   "metadata": {
    "tags": []
   },
   "outputs": [],
   "source": [
    "# init agent\n",
    "with open(Path().cwd()/'cfg'/'cartpole_dqn.yaml', 'r') as f:\n",
    "    cfg = t.Struct(**yaml.safe_load(f))\n",
    "    \n",
    "agent = DQNAgent(state_shape=cfg.state_shape, n_actions=cfg.n_actions, batch_size=cfg.batch_size, hidden_dims=cfg.hidden_dims,\n",
    "                 gamma=cfg.gamma, lr=cfg.lr, tau=cfg.tau)"
   ]
  },
  {
   "cell_type": "code",
   "execution_count": 66,
   "id": "35fc3169",
   "metadata": {
    "tags": []
   },
   "outputs": [
    {
     "name": "stdout",
     "output_type": "stream",
     "text": [
      "Numpy/Torch/Random Seed:  436\n",
      "{'ep_reward': 35.0, 'episode': 0, 'epsilon': 1.0, 'ep_avr': 0.015634626150131226, 'ts_avr': 0.00042678117752075194}\n",
      "{'ep_reward': 14.0, 'episode': 100, 'epsilon': 0.6666666666666666, 'ep_avr': 0.07951344415545464, 'ts_avr': 0.003963684774712174, 'loss': 0.16079874336719513, 'q_mean': 0.9828429818153381, 'num_update': 1860, 'update_time': 0.0034583881497383118}\n",
      "{'ep_reward': 10.0, 'episode': 200, 'epsilon': 0.5, 'ep_avr': 0.05348991885781288, 'ts_avr': 0.003517469203613399, 'loss': 0.12098461389541626, 'q_mean': 2.1113481521606445, 'num_update': 3379, 'update_time': 0.002989731729030609}\n",
      "{'ep_reward': 10.0, 'episode': 300, 'epsilon': 0.4, 'ep_avr': 0.04780831180512905, 'ts_avr': 0.003625659115086384, 'loss': 0.16210351884365082, 'q_mean': 3.3091037273406982, 'num_update': 4696, 'update_time': 0.0029796436429023743}\n",
      "{'ep_reward': 10.0, 'episode': 400, 'epsilon': 0.3333333333333333, 'ep_avr': 0.04460385657846928, 'ts_avr': 0.003614854085706658, 'loss': 0.25853902101516724, 'q_mean': 4.371017932891846, 'num_update': 5928, 'update_time': 0.003012426197528839}\n",
      "{'ep_reward': 9.0, 'episode': 500, 'epsilon': 0.2857142857142857, 'ep_avr': 0.04116343468427658, 'ts_avr': 0.0036312209922728183, 'loss': 0.25155192613601685, 'q_mean': 5.3242411613464355, 'num_update': 7060, 'update_time': 0.003310859203338623}\n",
      "{'ep_reward': 10.0, 'episode': 600, 'epsilon': 0.25, 'ep_avr': 0.039062088876962664, 'ts_avr': 0.0035852530478116345, 'loss': 0.3841712474822998, 'q_mean': 6.1722025871276855, 'num_update': 8148, 'update_time': 0.0030174627900123596}\n",
      "{'ep_reward': 11.0, 'episode': 700, 'epsilon': 0.2222222222222222, 'ep_avr': 0.0371032552421093, 'ts_avr': 0.003621372739299185, 'loss': 0.38547083735466003, 'q_mean': 6.876608848571777, 'num_update': 9171, 'update_time': 0.002873033285140991}\n",
      "{'ep_reward': 8.0, 'episode': 800, 'epsilon': 0.2, 'ep_avr': 0.03712012842297554, 'ts_avr': 0.0035986080259374042, 'loss': 0.3476718068122864, 'q_mean': 7.729243278503418, 'num_update': 10201, 'update_time': 0.0029966458678245544}\n",
      "{'ep_reward': 10.0, 'episode': 900, 'epsilon': 0.18181818181818182, 'ep_avr': 0.03825715959072113, 'ts_avr': 0.003627770745742921, 'loss': 0.39857691526412964, 'q_mean': 8.449295043945312, 'num_update': 11254, 'update_time': 0.0029047802090644836}\n",
      "{'ep_reward': 11.0, 'episode': 1000, 'epsilon': 0.16666666666666666, 'ep_avr': 0.03674183331429958, 'ts_avr': 0.003596683482036871, 'loss': 0.5132609009742737, 'q_mean': 9.675041198730469, 'num_update': 12274, 'update_time': 0.0031981095671653748}\n",
      "{'ep_reward': 13.0, 'episode': 1100, 'epsilon': 0.15384615384615385, 'ep_avr': 0.037215253338217735, 'ts_avr': 0.0036864465930395657, 'loss': 0.5571060180664062, 'q_mean': 10.176982879638672, 'num_update': 13282, 'update_time': 0.0033272281289100647}\n",
      "{'ep_reward': 11.0, 'episode': 1200, 'epsilon': 0.14285714285714285, 'ep_avr': 0.03697513163089752, 'ts_avr': 0.0035881112366769937, 'loss': 0.6717233657836914, 'q_mean': 11.486310958862305, 'num_update': 14311, 'update_time': 0.0029715299606323242}\n",
      "{'ep_reward': 9.0, 'episode': 1300, 'epsilon': 0.13333333333333333, 'ep_avr': 0.03787252046167851, 'ts_avr': 0.003664345574355865, 'loss': 0.9344208240509033, 'q_mean': 11.942521095275879, 'num_update': 15343, 'update_time': 0.002862386405467987}\n",
      "{'ep_reward': 9.0, 'episode': 1400, 'epsilon': 0.125, 'ep_avr': 0.036297768205404285, 'ts_avr': 0.0035777676773330186, 'loss': 0.9866900444030762, 'q_mean': 13.110627174377441, 'num_update': 16356, 'update_time': 0.002968728542327881}\n",
      "{'ep_reward': 10.0, 'episode': 1500, 'epsilon': 0.11764705882352941, 'ep_avr': 0.038011504784226414, 'ts_avr': 0.0037321003049524135, 'loss': 1.3131837844848633, 'q_mean': 13.938505172729492, 'num_update': 17373, 'update_time': 0.0029091089963912964}\n",
      "{'ep_reward': 9.0, 'episode': 1600, 'epsilon': 0.1111111111111111, 'ep_avr': 0.03599698446691036, 'ts_avr': 0.0035448629387031644, 'loss': 1.0125033855438232, 'q_mean': 15.052674293518066, 'num_update': 18387, 'update_time': 0.0029921457171440125}\n",
      "{'ep_reward': 11.0, 'episode': 1700, 'epsilon': 0.10526315789473684, 'ep_avr': 0.04021754883229733, 'ts_avr': 0.0036845835933991527, 'loss': 1.1079521179199219, 'q_mean': 15.563013076782227, 'num_update': 19477, 'update_time': 0.0029019340872764587}\n",
      "{'ep_reward': 88.0, 'episode': 1800, 'epsilon': 0.1, 'ep_avr': 0.3549774470180273, 'ts_avr': 0.003635635521629306, 'loss': 1.6156502962112427, 'q_mean': 23.446971893310547, 'num_update': 29237, 'update_time': 0.0030095353722572327}\n",
      "{'ep_reward': 177.0, 'episode': 1900, 'epsilon': 0.09523809523809523, 'ep_avr': 0.4496535234898329, 'ts_avr': 0.003784530874132518, 'loss': 1.180524230003357, 'q_mean': 32.28742980957031, 'num_update': 41114, 'update_time': 0.003024876117706299}\n",
      "{'ep_reward': 195.0, 'episode': 2000, 'epsilon': 0.09090909090909091, 'ep_avr': 0.6372231642156839, 'ts_avr': 0.003767727747028087, 'loss': 1.4789164066314697, 'q_mean': 44.74341583251953, 'num_update': 58021, 'update_time': 0.002982109785079956}\n",
      "{'ep_reward': 200.0, 'episode': 2100, 'epsilon': 0.08695652173913043, 'ep_avr': 0.6501156686991453, 'ts_avr': 0.003674472117023659, 'loss': 0.004446541424840689, 'q_mean': 54.644622802734375, 'num_update': 75708, 'update_time': 0.00302114337682724}\n",
      "{'ep_reward': 150.0, 'episode': 2200, 'epsilon': 0.08333333333333333, 'ep_avr': 0.5608104622364044, 'ts_avr': 0.0037869348471807614, 'loss': 0.0033925273455679417, 'q_mean': 61.16135025024414, 'num_update': 90512, 'update_time': 0.002888992428779602}\n",
      "{'ep_reward': 121.0, 'episode': 2300, 'epsilon': 0.08, 'ep_avr': 0.3932618849724531, 'ts_avr': 0.0036967385329764344, 'loss': 0.25530382990837097, 'q_mean': 65.81333923339844, 'num_update': 101146, 'update_time': 0.0030279159545898438}\n",
      "{'ep_reward': 159.0, 'episode': 2400, 'epsilon': 0.07692307692307693, 'ep_avr': 0.5076980699598789, 'ts_avr': 0.0037344878017244484, 'loss': 0.5406710505485535, 'q_mean': 70.48275756835938, 'num_update': 114736, 'update_time': 0.002999730408191681}\n",
      "{'ep_reward': 200.0, 'episode': 2500, 'epsilon': 0.07407407407407407, 'ep_avr': 0.7465020291507244, 'ts_avr': 0.0037540071335853036, 'loss': 0.0026652163360267878, 'q_mean': 77.28666687011719, 'num_update': 134615, 'update_time': 0.0030358806252479553}\n",
      "{'ep_reward': 147.0, 'episode': 2600, 'epsilon': 0.07142857142857142, 'ep_avr': 0.6402296087145806, 'ts_avr': 0.0037469435359993248, 'loss': 0.0011169795179739594, 'q_mean': 81.76876831054688, 'num_update': 151696, 'update_time': 0.003017731010913849}\n",
      "{'ep_reward': 142.0, 'episode': 2700, 'epsilon': 0.06896551724137931, 'ep_avr': 0.5551622046530247, 'ts_avr': 0.0037706985655589376, 'loss': 0.3334750235080719, 'q_mean': 84.4049301147461, 'num_update': 166414, 'update_time': 0.0030104070901870728}\n",
      "{'ep_reward': 123.0, 'episode': 2800, 'epsilon': 0.06666666666666667, 'ep_avr': 0.4185976516455412, 'ts_avr': 0.0036660319901461024, 'loss': 0.3373662531375885, 'q_mean': 86.1818618774414, 'num_update': 177828, 'update_time': 0.002996094524860382}\n",
      "{'ep_reward': 116.0, 'episode': 2900, 'epsilon': 0.06451612903225806, 'ep_avr': 0.4174318110197783, 'ts_avr': 0.003819770283017653, 'loss': 1.0451105833053589, 'q_mean': 87.86572265625, 'num_update': 188752, 'update_time': 0.0029086098074913025}\n",
      "{'ep_reward': 29.0, 'episode': 3000, 'epsilon': 0.0625, 'ep_avr': 0.3052928741276264, 'ts_avr': 0.003674820761747213, 'loss': 0.3525342345237732, 'q_mean': 88.84561157226562, 'num_update': 197056, 'update_time': 0.0031667575240135193}\n",
      "{'ep_reward': 97.0, 'episode': 3100, 'epsilon': 0.06060606060606061, 'ep_avr': 0.31105708636343476, 'ts_avr': 0.004108817106991853, 'loss': 1.133614182472229, 'q_mean': 89.56613159179688, 'num_update': 204623, 'update_time': 0.003519028425216675}\n",
      "{'ep_reward': 95.0, 'episode': 3200, 'epsilon': 0.058823529411764705, 'ep_avr': 0.2972565246373415, 'ts_avr': 0.003555038406799558, 'loss': 0.35509419441223145, 'q_mean': 90.59437561035156, 'num_update': 212981, 'update_time': 0.0030228644609451294}\n",
      "{'ep_reward': 101.0, 'episode': 3300, 'epsilon': 0.05714285714285714, 'ep_avr': 0.31417527675628665, 'ts_avr': 0.003547319593462421, 'loss': 0.002336355624720454, 'q_mean': 92.23371124267578, 'num_update': 221834, 'update_time': 0.0029300078749656677}\n",
      "{'ep_reward': 98.0, 'episode': 3400, 'epsilon': 0.05555555555555555, 'ep_avr': 0.35539765417575836, 'ts_avr': 0.0037692797223516103, 'loss': 1.0476906299591064, 'q_mean': 92.92509460449219, 'num_update': 231259, 'update_time': 0.00286894291639328}\n",
      "{'ep_reward': 97.0, 'episode': 3500, 'epsilon': 0.05405405405405406, 'ep_avr': 0.3526023502647877, 'ts_avr': 0.0038651580764923407, 'loss': 1.0586614608764648, 'q_mean': 93.65869140625, 'num_update': 240378, 'update_time': 0.0030464082956314087}\n",
      "{'ep_reward': 98.0, 'episode': 3600, 'epsilon': 0.05263157894736842, 'ep_avr': 0.3282990758121014, 'ts_avr': 0.0035531005699908696, 'loss': 1.3791866302490234, 'q_mean': 93.83914184570312, 'num_update': 249614, 'update_time': 0.00278550386428833}\n",
      "{'ep_reward': 94.0, 'episode': 3700, 'epsilon': 0.05128205128205128, 'ep_avr': 0.3092765408009291, 'ts_avr': 0.0034967684348693948, 'loss': 0.6618441939353943, 'q_mean': 93.7671890258789, 'num_update': 258455, 'update_time': 0.0028651058673858643}\n",
      "{'ep_reward': 95.0, 'episode': 3800, 'epsilon': 0.05, 'ep_avr': 0.31354075513780116, 'ts_avr': 0.003674644090629208, 'loss': 0.0011675156420096755, 'q_mean': 93.15241241455078, 'num_update': 266984, 'update_time': 0.0035345032811164856}\n",
      "{'ep_reward': 93.0, 'episode': 3900, 'epsilon': 0.05, 'ep_avr': 0.3613648155331612, 'ts_avr': 0.0038916425523804685, 'loss': 0.3723674416542053, 'q_mean': 92.97113037109375, 'num_update': 276266, 'update_time': 0.0029439926147460938}\n",
      "------ Training Finished ------\n"
     ]
    }
   ],
   "source": [
    "# Trainig takes approximately 40 mins,depends on server\n",
    "if not skip_training:\n",
    "    t.train(agent,  cfg_path=Path().cwd()/'cfg'/'cartpole_dqn.yaml',) "
   ]
  },
  {
   "cell_type": "code",
   "execution_count": 67,
   "id": "9a9a1164-6330-4e45-ba52-1a84d8a91001",
   "metadata": {
    "tags": []
   },
   "outputs": [
    {
     "name": "stdout",
     "output_type": "stream",
     "text": [
      "Numpy/Torch/Random Seed:  436\n"
     ]
    },
    {
     "data": {
      "image/png": "[encoded data removed]",
      "text/plain": [
       "<Figure size 640x480 with 1 Axes>"
      ]
     },
     "metadata": {},
     "output_type": "display_data"
    }
   ],
   "source": [
    "# Visualize the DQN training plots for the cartpole \n",
    "if not skip_training:\n",
    "    t.plot(save_name='cartpole_dqn.png', cfg_path=Path().cwd()/'cfg'/'cartpole_dqn.yaml',)"
   ]
  },
  {
   "cell_type": "markdown",
   "id": "adf80e71",
   "metadata": {},
   "source": [
    "In order to get full points from the task make sure most of the test episodes give a reward of 200, given the seeds below (at least 50% of episodes)."
   ]
  },
  {
   "cell_type": "code",
   "execution_count": 68,
   "id": "09736f3b",
   "metadata": {
    "tags": []
   },
   "outputs": [
    {
     "name": "stdout",
     "output_type": "stream",
     "text": [
      "Numpy/Torch/Random Seed:  436\n",
      "{'episode': 0, 'ep_reward': 102.0}\n",
      "{'episode': 1, 'ep_reward': 102.0}\n",
      "{'episode': 2, 'ep_reward': 97.0}\n",
      "{'episode': 3, 'ep_reward': 98.0}\n",
      "{'episode': 4, 'ep_reward': 96.0}\n",
      "{'episode': 5, 'ep_reward': 95.0}\n",
      "{'episode': 6, 'ep_reward': 96.0}\n",
      "{'episode': 7, 'ep_reward': 97.0}\n",
      "{'episode': 8, 'ep_reward': 99.0}\n",
      "{'episode': 9, 'ep_reward': 98.0}\n"
     ]
    }
   ],
   "source": [
    "if not skip_training:\n",
    "    t.test(agent, cfg_path=Path().cwd()/'cfg'/'cartpole_dqn.yaml', cfg_args=dict(save_video=True), seeds=[67, 23, 89, 12, 45, 78, 34, 90, 21, 56])"
   ]
  },
  {
   "cell_type": "code",
   "execution_count": null,
   "id": "e3658eb5",
   "metadata": {
    "deletable": false,
    "editable": false,
    "nbgrader": {
     "cell_type": "code",
     "checksum": "38a43041b8d9d7219c1c55d322617d12",
     "grade": true,
     "grade_id": "cell-3ef5a6f870ccd026",
     "locked": true,
     "points": 5,
     "schema_version": 3,
     "solution": false,
     "task": false
    }
   },
   "outputs": [],
   "source": [
    "%%capture --no-stdout\n",
    "\"TEST\""
   ]
  },
  {
   "cell_type": "code",
   "execution_count": 69,
   "id": "6c63b5ce",
   "metadata": {
    "tags": []
   },
   "outputs": [
    {
     "data": {
      "text/html": [
       "<video loop autoplay  >\n",
       " <source src=\"data:video/mp4;base64,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\" type=\"video/mp4\">\n",
       " Your browser does not support the video tag.\n",
       " </video>"
      ],
      "text/plain": [
       "<IPython.core.display.Video object>"
      ]
     },
     "metadata": {},
     "output_type": "display_data"
    }
   ],
   "source": [
    "if not skip_training:\n",
    "      video = Video(Path().cwd()/'results'/'CartPole-v1'/'video'/'test'/'ex4_dqn-episode-0.mp4',\n",
    "      embed=True, html_attributes=\"loop autoplay\") # Set html_attributes=\"controls\" for video control\n",
    "      display(video)"
   ]
  },
  {
   "cell_type": "code",
   "execution_count": 70,
   "id": "004fa76f",
   "metadata": {
    "tags": []
   },
   "outputs": [],
   "source": [
    "# init agent\n",
    "with open(Path().cwd()/'cfg'/'lunarlander_dqn.yaml', 'r') as f:\n",
    "    cfg = t.Struct(**yaml.safe_load(f))\n",
    "    \n",
    "agent = DQNAgent(state_shape=cfg.state_shape, n_actions=cfg.n_actions, batch_size=cfg.batch_size, hidden_dims=cfg.hidden_dims,\n",
    "                 gamma=cfg.gamma, lr=cfg.lr, tau=cfg.tau)"
   ]
  },
  {
   "cell_type": "code",
   "execution_count": 71,
   "id": "d3775e17",
   "metadata": {
    "tags": []
   },
   "outputs": [
    {
     "name": "stdout",
     "output_type": "stream",
     "text": [
      "Numpy/Torch/Random Seed:  436\n",
      "{'ep_reward': -86.22045864257586, 'episode': 0, 'epsilon': 1.0, 'ep_avr': 0.03828556835651398, 'ts_avr': 0.00037733885519048}\n",
      "{'ep_reward': -6.831547924267255, 'episode': 100, 'epsilon': 0.6666666666666666, 'ep_avr': 0.5011524930596352, 'ts_avr': 0.004496584930446711, 'loss': 1.3527178764343262, 'q_mean': 3.8473634719848633, 'num_update': 10247, 'update_time': 0.004063084721565247}\n",
      "{'ep_reward': -28.015310624586277, 'episode': 200, 'epsilon': 0.5, 'ep_avr': 0.7976847440004349, 'ts_avr': 0.004741594453857246, 'loss': 1.4946178197860718, 'q_mean': 14.871513366699219, 'num_update': 27051, 'update_time': 0.0037880241870880127}\n",
      "{'ep_reward': -43.741735959189626, 'episode': 300, 'epsilon': 0.4, 'ep_avr': 1.127231626957655, 'ts_avr': 0.0048698781748126455, 'loss': 1.8083133697509766, 'q_mean': 16.605113983154297, 'num_update': 50177, 'update_time': 0.0039687082171440125}\n",
      "{'ep_reward': 97.33890696049991, 'episode': 400, 'epsilon': 0.3333333333333333, 'ep_avr': 1.1597580317407847, 'ts_avr': 0.004524421326463509, 'loss': 2.409670829772949, 'q_mean': 17.97300148010254, 'num_update': 75789, 'update_time': 0.004274733364582062}\n",
      "{'ep_reward': 2.68180948259716, 'episode': 500, 'epsilon': 0.2857142857142857, 'ep_avr': 1.4258509911596775, 'ts_avr': 0.004853493681079463, 'loss': 1.9972096681594849, 'q_mean': 15.83233642578125, 'num_update': 105144, 'update_time': 0.0040487200021743774}\n",
      "{'ep_reward': 6.218134238538497, 'episode': 600, 'epsilon': 0.25, 'ep_avr': 1.6740692605823277, 'ts_avr': 0.004865252656161447, 'loss': 2.7319369316101074, 'q_mean': 23.567541122436523, 'num_update': 139529, 'update_time': 0.004289411008358002}\n",
      "{'ep_reward': 64.1277288328577, 'episode': 700, 'epsilon': 0.2222222222222222, 'ep_avr': 1.854731287434697, 'ts_avr': 0.004713796200802462, 'loss': 1.71258544921875, 'q_mean': 29.0516300201416, 'num_update': 178851, 'update_time': 0.003961801528930664}\n",
      "{'ep_reward': 114.41901788624966, 'episode': 800, 'epsilon': 0.2, 'ep_avr': 2.198890218809247, 'ts_avr': 0.0048882744381533675, 'loss': 2.9782257080078125, 'q_mean': 25.62771987915039, 'num_update': 223808, 'update_time': 0.003834672272205353}\n",
      "{'ep_reward': 50.56186293484939, 'episode': 900, 'epsilon': 0.18181818181818182, 'ep_avr': 2.3137086805701257, 'ts_avr': 0.004964448503762661, 'loss': 2.1704041957855225, 'q_mean': 30.420963287353516, 'num_update': 270387, 'update_time': 0.0038711056113243103}\n",
      "{'ep_reward': -50.16694863950645, 'episode': 1000, 'epsilon': 0.16666666666666666, 'ep_avr': 1.9252880481630563, 'ts_avr': 0.004804930665791958, 'loss': 3.6965112686157227, 'q_mean': 27.625774383544922, 'num_update': 310431, 'update_time': 0.003910362720489502}\n",
      "{'ep_reward': 54.84109808440194, 'episode': 1100, 'epsilon': 0.15384615384615385, 'ep_avr': 1.9851354750990868, 'ts_avr': 0.004667718420266185, 'loss': 2.185450315475464, 'q_mean': 24.274553298950195, 'num_update': 352935, 'update_time': 0.0038662105798721313}\n",
      "{'ep_reward': -5.908511447206623, 'episode': 1200, 'epsilon': 0.14285714285714285, 'ep_avr': 2.0781188017129897, 'ts_avr': 0.0046505710246033906, 'loss': 2.447683095932007, 'q_mean': 28.894819259643555, 'num_update': 397595, 'update_time': 0.003955252468585968}\n",
      "{'ep_reward': 66.36636091146696, 'episode': 1300, 'epsilon': 0.13333333333333333, 'ep_avr': 1.8537323260307312, 'ts_avr': 0.00475402526530105, 'loss': 1.6451760530471802, 'q_mean': 33.06532669067383, 'num_update': 436564, 'update_time': 0.004662305116653442}\n",
      "{'ep_reward': 71.71108907345403, 'episode': 1400, 'epsilon': 0.125, 'ep_avr': 2.2904079883545636, 'ts_avr': 0.004843128184228222, 'loss': 1.6742435693740845, 'q_mean': 28.928699493408203, 'num_update': 483830, 'update_time': 0.003987938165664673}\n",
      "{'ep_reward': 117.78594272398591, 'episode': 1500, 'epsilon': 0.11764705882352941, 'ep_avr': 2.3226787348091604, 'ts_avr': 0.0046843397439814295, 'loss': 1.0600121021270752, 'q_mean': 31.14852523803711, 'num_update': 533387, 'update_time': 0.004765406250953674}\n",
      "{'ep_reward': 271.69103599905554, 'episode': 1600, 'epsilon': 0.1111111111111111, 'ep_avr': 2.3052253448963165, 'ts_avr': 0.004641720808508683, 'loss': 0.6569347977638245, 'q_mean': 26.691797256469727, 'num_update': 583023, 'update_time': 0.0038534551858901978}\n",
      "{'ep_reward': 65.25994990361758, 'episode': 1700, 'epsilon': 0.10526315789473684, 'ep_avr': 2.2235107374936343, 'ts_avr': 0.0046159126494053826, 'loss': 0.6852615475654602, 'q_mean': 23.957569122314453, 'num_update': 631167, 'update_time': 0.004230812191963196}\n",
      "{'ep_reward': 84.28895455511963, 'episode': 1800, 'epsilon': 0.1, 'ep_avr': 2.189307837858796, 'ts_avr': 0.0045595873471656655, 'loss': 0.8853875398635864, 'q_mean': 24.477506637573242, 'num_update': 679156, 'update_time': 0.004734605550765991}\n",
      "{'ep_reward': 67.2742366196117, 'episode': 1900, 'epsilon': 0.09523809523809523, 'ep_avr': 2.2539173191785813, 'ts_avr': 0.004557794452949672, 'loss': 0.563050389289856, 'q_mean': 21.945344924926758, 'num_update': 728581, 'update_time': 0.0037330463528633118}\n",
      "------ Training Finished ------\n"
     ]
    }
   ],
   "source": [
    "# Trainig takes approximately 60 mins,depends on server\n",
    "if not skip_training:\n",
    "    t.train(agent, cfg_path=Path().cwd()/'cfg'/'lunarlander_dqn.yaml', cfg_args=dict()) "
   ]
  },
  {
   "cell_type": "code",
   "execution_count": 72,
   "id": "3e2a7511-d1aa-4691-be76-406dbccdc739",
   "metadata": {
    "tags": []
   },
   "outputs": [
    {
     "name": "stdout",
     "output_type": "stream",
     "text": [
      "Numpy/Torch/Random Seed:  436\n"
     ]
    },
    {
     "data": {
      "image/png": "[encoded data removed]",
      "text/plain": [
       "<Figure size 640x480 with 1 Axes>"
      ]
     },
     "metadata": {},
     "output_type": "display_data"
    }
   ],
   "source": [
    "# Visualize the DQN training plots for the lunarlander task\n",
    "if not skip_training:\n",
    "    t.plot(save_name='lunarlander_dqn.png', cfg_path=Path().cwd()/'cfg'/'lunarlander_dqn.yaml', cfg_args=dict())"
   ]
  },
  {
   "cell_type": "markdown",
   "id": "74030fd2",
   "metadata": {},
   "source": [
    "In order to get full points from the task make sure most of the test episodes give a reward of 200, given the seeds below (at least 50% of episodes)."
   ]
  },
  {
   "cell_type": "code",
   "execution_count": 73,
   "id": "ba2808d4",
   "metadata": {
    "tags": []
   },
   "outputs": [
    {
     "name": "stdout",
     "output_type": "stream",
     "text": [
      "Numpy/Torch/Random Seed:  436\n",
      "{'episode': 0, 'ep_reward': 106.21499263316299}\n",
      "{'episode': 1, 'ep_reward': 293.021584236969}\n",
      "{'episode': 2, 'ep_reward': 111.30635834642203}\n",
      "{'episode': 3, 'ep_reward': 280.21940796415123}\n",
      "{'episode': 4, 'ep_reward': 54.31173105693994}\n",
      "{'episode': 5, 'ep_reward': 75.28193876571679}\n",
      "{'episode': 6, 'ep_reward': 83.67492923744115}\n",
      "{'episode': 7, 'ep_reward': 44.80882467994866}\n",
      "{'episode': 8, 'ep_reward': 125.99330467685077}\n",
      "{'episode': 9, 'ep_reward': 113.78838790897541}\n"
     ]
    }
   ],
   "source": [
    "if not skip_training:\n",
    "    t.test(agent, cfg_path=Path().cwd()/'cfg'/'lunarlander_dqn.yaml', cfg_args=dict(save_video=True),seeds=[67, 23, 89, 12, 45, 78, 34, 90, 21, 56])"
   ]
  },
  {
   "cell_type": "code",
   "execution_count": null,
   "id": "85204079",
   "metadata": {
    "deletable": false,
    "editable": false,
    "nbgrader": {
     "cell_type": "code",
     "checksum": "5b145c58866764ca02e0b5c4729621a0",
     "grade": true,
     "grade_id": "cell-7c41d50955488cf2",
     "locked": true,
     "points": 5,
     "schema_version": 3,
     "solution": false,
     "task": false
    }
   },
   "outputs": [],
   "source": [
    "%%capture --no-stdout\n",
    "\"TEST\""
   ]
  },
  {
   "cell_type": "code",
   "execution_count": 74,
   "id": "e34889d9",
   "metadata": {
    "tags": []
   },
   "outputs": [
    {
     "data": {
      "text/html": [
       "<video loop autoplay  >\n",
       " <source src=\"data:video/mp4;base64,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\" type=\"video/mp4\">\n",
       " Your browser does not support the video tag.\n",
       " </video>"
      ],
      "text/plain": [
       "<IPython.core.display.Video object>"
      ]
     },
     "metadata": {},
     "output_type": "display_data"
    }
   ],
   "source": [
    "if not skip_training:\n",
    "  video = Video(Path().cwd()/'results'/'LunarLander-v2'/'video'/'test'/'ex4_dqn-episode-8.mp4',\n",
    "  embed=True, html_attributes=\"loop autoplay\") # Set html_attributes=\"controls\" for video control\n",
    "  display(video)"
   ]
  },
  {
   "cell_type": "markdown",
   "id": "55896461",
   "metadata": {},
   "source": [
    "<a id='Q1'></a>\n",
    "<div class=\" alert alert-warning\">\n",
    "    <h3><b>Student Question 1.1</b> Considering Continuous Action Spaces (5 points) </h3> \n",
    "    \n",
    "🔝\t<a href='#TOC'><b>Table of Contents</b></a>\n",
    "</div>\n"
   ]
  },
  {
   "cell_type": "markdown",
   "id": "9b95154b-026f-4e95-9492-20782e8aa24d",
   "metadata": {},
   "source": [
    "### 1.1.1 Question (5 points):\n",
    "Can Q-learning be used directly in environments with continuous action spaces?\n",
    "\n",
    "**Select one:**\n",
    "\n",
    "1. Yes, Q-learning can be used directly without any modifications.\n",
    "2. No, Q-learning cannot be used directly because it only works with a discrete set of actions.\n",
    "3. No, Q-learning cannot be used directly in continuous action spaces, but it can be adapted with certain modifications.\n",
    "4. Yes, Q-learning can be used directly, but it is less efficient than in discrete action spaces."
   ]
  },
  {
   "cell_type": "code",
   "execution_count": 75,
   "id": "22025c94-158f-4ee7-834a-1248eb189d1a",
   "metadata": {
    "tags": []
   },
   "outputs": [],
   "source": [
    "sq_1_1_1 = 3 # Replace with the appropriate answer number"
   ]
  },
  {
   "cell_type": "markdown",
   "id": "29c2290f-67a7-4fe8-9a55-7db7bb6c88f6",
   "metadata": {},
   "source": [
    "The following cells are used for grading"
   ]
  },
  {
   "cell_type": "code",
   "execution_count": null,
   "id": "abdf5784-303d-4aa9-b036-75219830d49d",
   "metadata": {
    "deletable": false,
    "editable": false,
    "nbgrader": {
     "cell_type": "code",
     "checksum": "85bc371a65d530f9fc963804e483295d",
     "grade": true,
     "grade_id": "cell-9b579c6ba03d991a",
     "locked": true,
     "points": 0,
     "schema_version": 3,
     "solution": false,
     "task": false
    },
    "tags": []
   },
   "outputs": [],
   "source": [
    "assert sq_1_1_1 in range(1, 5)"
   ]
  },
  {
   "cell_type": "code",
   "execution_count": null,
   "id": "42005b40-9ed9-4977-bcbf-8420c8d177b4",
   "metadata": {
    "deletable": false,
    "editable": false,
    "nbgrader": {
     "cell_type": "code",
     "checksum": "0cca2254b439447f716776ca19336a27",
     "grade": true,
     "grade_id": "cell-254ea90497e5d82c",
     "locked": true,
     "points": 5,
     "schema_version": 3,
     "solution": false,
     "task": false
    },
    "tags": []
   },
   "outputs": [],
   "source": []
  },
  {
   "cell_type": "markdown",
   "id": "1395f3d1",
   "metadata": {},
   "source": [
    "<a id='Q2'></a>\n",
    "<div class=\" alert alert-warning\">\n",
    "    <h3><b>Student Question 1.2</b> Continuous Action Spaces Part 1 (15 points) </h3> \n",
    "    \n",
    "🔝\t<a href='#TOC'><b>Table of Contents</b></a>\n",
    "</div>\n"
   ]
  },
  {
   "cell_type": "markdown",
   "id": "f5ee6c44-ca32-4620-85c5-204a4ef2646d",
   "metadata": {},
   "source": [
    "### 1.2.1 Question (5 points):\n",
    "\n",
    "What is the primary challenge when applying DQN to a continuous action space? Hint: select the one that describes the main issue.\n",
    "\n",
    "**Select one:**\n",
    "\n",
    "1. Updating the Q values\n",
    "2. Storing the Q values\n",
    "3. Performing the maximization (argmax) operation\n",
    "4. Calculating the loss function\n",
    "5. Calculating the reward"
   ]
  },
  {
   "cell_type": "code",
   "execution_count": 76,
   "id": "4e8f0ef2-5e19-41d8-bf49-3c8f38ffe645",
   "metadata": {},
   "outputs": [],
   "source": [
    "sq_1_2_1 = 3 # Replace with the appropriate answer number"
   ]
  },
  {
   "cell_type": "markdown",
   "id": "88c67c7f-cabd-40df-97a6-8ddbcfa9a8d6",
   "metadata": {},
   "source": [
    "### 1.2.2 Question (5 points):\n",
    "\n",
    "Which one of the following methods does NOT address the continuous action space problem in DQN?\n",
    "\n",
    "**Select one:**\n",
    "\n",
    "1. Learn a function approximation for the maximum of the Q-function\n",
    "2. Use a policy to draw samples of Q(s,a) and select the action with the highest Q-value (e.g., MPO)\n",
    "3. Approximate the Q-function as a convex function\n",
    "4. Use a Deep Deterministic Policy Gradient (DDPG) approach to learn a policy and Q-function simultaneously\n",
    "5. Use a Double DQN approach with two separate networks to estimate Q-values for continuous actions\n",
    "6. Discretize the action space with fine-grained intervals"
   ]
  },
  {
   "cell_type": "code",
   "execution_count": 77,
   "id": "9f1ae7de-289e-44ab-bfed-437273e38cf4",
   "metadata": {},
   "outputs": [],
   "source": [
    "sq_1_2_2 = 5 # Replace with the appropriate answer number"
   ]
  },
  {
   "cell_type": "markdown",
   "id": "dbbf50e1-f1d0-4735-a614-adffd7574619",
   "metadata": {},
   "source": [
    "### 1.2.3 Question (5 points):\n",
    "\n",
    "Discretization is one approach to address the continuous action space problem. What is a **significant** limitation of discretizing the action space to address the continuous action space problem in DQN?\n",
    "\n",
    "**Select one:**\n",
    "\n",
    "1. It may not generalize well to actions outside the discrete set\n",
    "2. It increases the size of the state space exponentially\n",
    "3. It requires modifying the neural network architecture\n",
    "4. It can lead to unstable learning in the early stages of training\n",
    "5. It makes the reward function non-differentiable"
   ]
  },
  {
   "cell_type": "code",
   "execution_count": 78,
   "id": "134ba924-6705-4982-8477-93f27336b475",
   "metadata": {},
   "outputs": [],
   "source": [
    "sq_1_2_3 = 1 # Replace with the appropriate answer number"
   ]
  },
  {
   "cell_type": "markdown",
   "id": "3695dc82-6d20-4051-9e8e-1e256a5bf8fb",
   "metadata": {},
   "source": [
    "The following cells are used for grading"
   ]
  },
  {
   "cell_type": "code",
   "execution_count": null,
   "id": "7edf9407-26e1-4b81-910f-a877ebd3d68e",
   "metadata": {
    "deletable": false,
    "editable": false,
    "nbgrader": {
     "cell_type": "code",
     "checksum": "4e70d5f938adbf449599993ed8984ee7",
     "grade": true,
     "grade_id": "cell-b7c78664ec74ec2a",
     "locked": true,
     "points": 0,
     "schema_version": 3,
     "solution": false,
     "task": false
    },
    "tags": []
   },
   "outputs": [],
   "source": [
    "assert sq_1_2_1 in range(1, 6)\n",
    "assert sq_1_2_2 in range(1, 7)\n",
    "assert sq_1_2_3 in range(1, 6)"
   ]
  },
  {
   "cell_type": "code",
   "execution_count": null,
   "id": "d1c89084-b34b-4b3b-bb23-6d84d3b17180",
   "metadata": {
    "deletable": false,
    "editable": false,
    "nbgrader": {
     "cell_type": "code",
     "checksum": "261ad454b4494ded2716bb3ea7da00f4",
     "grade": true,
     "grade_id": "cell-cee299bf0c9ac8e4",
     "locked": true,
     "points": 5,
     "schema_version": 3,
     "solution": false,
     "task": false
    },
    "tags": []
   },
   "outputs": [],
   "source": []
  },
  {
   "cell_type": "code",
   "execution_count": null,
   "id": "9c4eeeb7-aa75-49f5-b69a-3a157060ef58",
   "metadata": {
    "deletable": false,
    "editable": false,
    "nbgrader": {
     "cell_type": "code",
     "checksum": "a0166d8f9297188b4711c3a925bf6006",
     "grade": true,
     "grade_id": "cell-bd84024a26ba389c",
     "locked": true,
     "points": 5,
     "schema_version": 3,
     "solution": false,
     "task": false
    },
    "tags": []
   },
   "outputs": [],
   "source": []
  },
  {
   "cell_type": "code",
   "execution_count": null,
   "id": "11daf090-e4f1-4ca7-bd2a-9e786c3d794b",
   "metadata": {
    "deletable": false,
    "editable": false,
    "nbgrader": {
     "cell_type": "code",
     "checksum": "b14e5eefe2c878d41a5c63ece44a2ab4",
     "grade": true,
     "grade_id": "cell-42e6f022fdf27684",
     "locked": true,
     "points": 5,
     "schema_version": 3,
     "solution": false,
     "task": false
    },
    "tags": []
   },
   "outputs": [],
   "source": []
  },
  {
   "cell_type": "markdown",
   "id": "f10e680f",
   "metadata": {},
   "source": [
    "<a id='Q3'></a>\n",
    "<div class=\" alert alert-warning\">\n",
    "    <h3><b>Student Question 1.3</b> The Target Network (10 points) </h3> \n",
    "    \n",
    "🔝\t<a href='#TOC'><b>Table of Contents</b></a>\n",
    "</div>\n"
   ]
  },
  {
   "cell_type": "markdown",
   "id": "11f15fdf-5b08-469f-a0d5-f63f6a969aff",
   "metadata": {
    "tags": []
   },
   "source": [
    "### 1.3.1 Question (5 points):\n",
    "\n",
    "Why do we use a separate target network in DQN instead of using the same network for both Q(s,a) and max_a(Q(s', ·))?\n",
    "\n",
    "**Select one:**\n",
    "\n",
    "1. To prevent the network from overfitting to the most recent transitions\n",
    "2. To ensure that the Q-values are always within a specific range\n",
    "3. To stabilize the training process by preventing frequent changes in target values\n",
    "4. To enable the network to learn from both on-policy and off-policy data"
   ]
  },
  {
   "cell_type": "code",
   "execution_count": 79,
   "id": "559704b6-23fd-4973-92ba-6492923011e2",
   "metadata": {},
   "outputs": [],
   "source": [
    "sq_1_3_1 = 3 # Replace with the appropriate answer number"
   ]
  },
  {
   "cell_type": "markdown",
   "id": "aa24ade0-0094-401f-820d-956a237e2247",
   "metadata": {
    "tags": []
   },
   "source": [
    "### 1.3.2 Question (5 points):\n",
    "\n",
    "What would happen if we don't stop the gradient of the target Q-value in DQN?\n",
    "\n",
    "**Select one:**\n",
    "\n",
    "1. The optimization process would become more stable due to the joint updates\n",
    "2. The target network updates would be synchronized with the main network updates\n",
    "3. Both the current Q-values and the target Q-values would be updated during optimization\n",
    "4. The algorithm would effectively switch to an on-policy learning method"
   ]
  },
  {
   "cell_type": "code",
   "execution_count": 80,
   "id": "e7714624-1df2-4e67-aa6a-0b248f69981e",
   "metadata": {},
   "outputs": [],
   "source": [
    "sq_1_3_2 = 3 # Replace with the appropriate answer number"
   ]
  },
  {
   "cell_type": "markdown",
   "id": "de0dd848-e39f-4fa8-bd6c-4b4c38396412",
   "metadata": {},
   "source": [
    "The following cells are used for grading"
   ]
  },
  {
   "cell_type": "code",
   "execution_count": null,
   "id": "92b45bf0-c052-4b1c-b19c-750b371a6cf4",
   "metadata": {
    "deletable": false,
    "editable": false,
    "nbgrader": {
     "cell_type": "code",
     "checksum": "738fa24b9d702b770e751fa6df17c2a3",
     "grade": true,
     "grade_id": "cell-7427871eee3676e5",
     "locked": true,
     "points": 0,
     "schema_version": 3,
     "solution": false,
     "task": false
    },
    "tags": []
   },
   "outputs": [],
   "source": [
    "assert sq_1_3_1 in range(1, 5)\n",
    "assert sq_1_3_2 in range(1, 5)"
   ]
  },
  {
   "cell_type": "code",
   "execution_count": null,
   "id": "08be39cf-a443-4ce7-b709-4701b5b9d187",
   "metadata": {
    "deletable": false,
    "editable": false,
    "nbgrader": {
     "cell_type": "code",
     "checksum": "1f7a58a67e676406e37624e5050e1132",
     "grade": true,
     "grade_id": "cell-06da3985fcfd8e51",
     "locked": true,
     "points": 5,
     "schema_version": 3,
     "solution": false,
     "task": false
    },
    "tags": []
   },
   "outputs": [],
   "source": []
  },
  {
   "cell_type": "code",
   "execution_count": null,
   "id": "5b6fd766-1305-43dd-8a4f-756ad0457882",
   "metadata": {
    "deletable": false,
    "editable": false,
    "nbgrader": {
     "cell_type": "code",
     "checksum": "6a767e7d006960d5cd4bf0181c632ea3",
     "grade": true,
     "grade_id": "cell-a8c5938cdf0dfd2c",
     "locked": true,
     "points": 5,
     "schema_version": 3,
     "solution": false,
     "task": false
    },
    "tags": []
   },
   "outputs": [],
   "source": []
  },
  {
   "cell_type": "markdown",
   "id": "4266d794-008d-4d2c-9a9e-0e18d9b6e354",
   "metadata": {
    "tags": []
   },
   "source": [
    "# 3. Submitting <a id='3.'></a>\n",
    "Ensure all tasks and questions (in ```ex4_dpn.ipynb``` and ```ex4_rbf.ipynb```) are answered and and that the necessary plots are saved in the appropriate locations. The relevant plots and files needed to be submitted for this assignment are:\n",
    "\n",
    "\n",
    "- Training performance plots:\n",
    "  - `cartpole_dqn.png`: Cartpole, training performance plots in terms of episode and episodic reward\n",
    "  - `lunarlander_dqn.png`: Lunarlander, training performance plots in terms of episode and episodic reward \n",
    "<br>\n",
    "<br>\n",
    "\n",
    "  \n",
    "\n",
    "- Model files:\n",
    "  - `dqn.pt`: Trained model\n",
    "\n",
    "\n",
    "Ensure the model files and plots are saved in correct paths:\n",
    "- ```results/CartPole-v1/cartpole_dqn``` Training result for Cartpole environment\n",
    "- ```results/CartPole-v1/model/dqn.pt``` Model for Cartpole environment\n",
    "- ```results/LunarLander-v2/lunarlander_dqn.png``` Training result for LunarLander environment\n",
    "- ```results/LunarLander-v2/model/dqn.pt``` Model for LunarLander environment\n",
    "\n",
    "\n",
    "<span style=\"color:red\"> **# IMPORTANT: DO NOT FORGET ANOTHER TASK IN ```ex4_rbf.ipynb```** </span>"
   ]
  },
  {
   "cell_type": "code",
   "execution_count": 82,
   "id": "40c8536b",
   "metadata": {
    "deletable": false,
    "editable": false,
    "nbgrader": {
     "cell_type": "code",
     "checksum": "cc73e5f68adbc298f70feabf9026032d",
     "grade": true,
     "grade_id": "cell-c97f1e23824070fc",
     "locked": true,
     "points": 0,
     "schema_version": 3,
     "solution": false,
     "task": false
    }
   },
   "outputs": [],
   "source": [
    "# Make sure that skip training is set to True before submission\n",
    "assert skip_training == True"
   ]
  },
  {
   "cell_type": "markdown",
   "id": "2ec40b02-69c6-401a-ad79-2f67a8a660e9",
   "metadata": {
    "tags": []
   },
   "source": [
    "## 3.1 Feedback <a id='3.1'></a>\n",
    "\n",
    "In order to help the staff of the course as well as the forthcoming students, it would be great if you could answer to the following questions in your submission:"
   ]
  },
  {
   "cell_type": "markdown",
   "id": "d0a8baf6-b860-4338-b655-b28ec4fac282",
   "metadata": {},
   "source": [
    "1) How much time did you spend solving this exercise? (change the ```hrs``` variable below to a floating point number representing the number of hours taken e.g. 5.43)"
   ]
  },
  {
   "cell_type": "code",
   "execution_count": null,
   "id": "ed94026d-ad80-4148-8e02-5bcfd4b33e98",
   "metadata": {
    "tags": []
   },
   "outputs": [],
   "source": [
    "hrs = 5"
   ]
  },
  {
   "cell_type": "markdown",
   "id": "732e1e56-4c4f-4bdf-95b3-f4efcc4c053a",
   "metadata": {},
   "source": [
    "2) Difficulty of each task/question from 1-5 (int or float)"
   ]
  },
  {
   "cell_type": "code",
   "execution_count": null,
   "id": "161f647d-4cf5-4cf8-abbf-1c0d285c5f40",
   "metadata": {
    "tags": []
   },
   "outputs": [],
   "source": [
    "T1 = 5   # Implementing DQN (10 points)\n",
    "Q1_1 = 2 # Question 1.1 Considering Continuous Action Spaces (5 points)\n",
    "Q1_2 = 3 # Question 1.2 Continuous Action Spaces Part 1 (15 points)\n",
    "Q1_3 = 3 # Question 1.3 The Target Network (10 points)"
   ]
  },
  {
   "cell_type": "markdown",
   "id": "4fb4a6d0-4ff1-4705-93af-493eed829e4e",
   "metadata": {},
   "source": [
    "3) How well did you understand the content of the task/question from 1-5? (int or float)"
   ]
  },
  {
   "cell_type": "code",
   "execution_count": null,
   "id": "eb003431-4a23-4350-86ec-34444a64ee9d",
   "metadata": {
    "tags": []
   },
   "outputs": [],
   "source": [
    "T1 = 3   # Implementing DQN (10 points)\n",
    "Q1_1 = 4 # Question 1.1 Considering Continuous Action Spaces (5 points)\n",
    "Q1_2 = 3 # Question 1.2 Continuous Action Spaces Part 1 (15 points)\n",
    "Q1_3 = 3 # Question 1.3 The Target Network (10 points)"
   ]
  },
  {
   "cell_type": "markdown",
   "id": "c2fa9a62-dcf9-41fe-8d56-a852b2582efa",
   "metadata": {},
   "source": [
    "4) General feedback. Consider questions like:\n",
    "\n",
    "    - Did the content of the lecture relate well with the assignment?\n",
    "    - To what extent did you find the material to be potentially useful for your research and studies?\n",
    "    \n",
    "Please share any additional feedback, suggestions, or comments you have about the lecture, assignment, or course content. Your input is valuable in helping us improve the learning experience."
   ]
  },
  {
   "cell_type": "markdown",
   "id": "77edf97b-6cd9-48a9-bbc9-a075e6c15abb",
   "metadata": {
    "tags": []
   },
   "source": [
    "DOUBLE CLICK HERE TO EDIT, CLEAR THIS TEXT AND ANSWER HERE"
   ]
  }
 ],
 "metadata": {
  "kernelspec": {
   "display_name": "Python 3",
   "language": "python",
   "name": "python3"
  },
  "language_info": {
   "codemirror_mode": {
    "name": "ipython",
    "version": 3
   },
   "file_extension": ".py",
   "mimetype": "text/x-python",
   "name": "python",
   "nbconvert_exporter": "python",
   "pygments_lexer": "ipython3",
   "version": "3.10.12"
  }
 },
 "nbformat": 4,
 "nbformat_minor": 5
}
