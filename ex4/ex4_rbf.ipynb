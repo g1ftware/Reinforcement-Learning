{
 "cells": [
  {
   "cell_type": "markdown",
   "id": "53274fb5",
   "metadata": {
    "deletable": false,
    "editable": false,
    "nbgrader": {
     "cell_type": "markdown",
     "checksum": "42aa8ce65cf2808c1df90efc58a0a546",
     "grade": false,
     "grade_id": "cell-d0c446e141ba6217",
     "locked": true,
     "schema_version": 3,
     "solution": false,
     "task": false
    }
   },
   "source": [
    "\n",
    "<div class=\"alert alert-block alert-info\">\n",
    "   <h2 align=\"center\"> <center><b> Reinforcement Learning Assignment 4 - Function Approximators Part 1: Radial Basis Functions </b></center></h2>\n",
    "\n",
    "<br>\n",
    "<center><font size=\"3\">This notebook is a part of teaching material for ELEC-E8125</font></center>\n",
    "<center><font size=\"3\">Aalto University</font></center>\n",
    "</div>\n",
    "\n",
    "\n",
    "<a id='TOC'></a>\n",
    "\n",
    "<div class=\"alert alert-block alert-success\">\n",
    "    \n",
    "# Table of contents\n",
    "* <a href='#1.'> 1. Introduction </a>\n",
    "* <a href='#1.1'> 1.1 Task environments </a>\n",
    "* <a href='#1.2'> 1.2 Learning Objectives </a>\n",
    "* <a href='#1.3'> 1.3 Code Structure & Files </a>\n",
    "* <a href='#2.'> 2. Approximate with non-linear features</a>\n",
    "* <a href='#2.1'> 2.1 Radial Basis Functions</a>\n",
    "* <a href='#2.2'> 2.2 Sklearn RBF function</a>\n",
    "* <a href='#3.'> 3. Submitting </a>\n",
    "* <a href='#3.1'> 3.1 Feedback </a>\n",
    "\n",
    "<a href='#T1'><b>Student Task 1.</b> Implementing Q-learning using Function Approximation (20 points) </a>\\\n",
    "<a href='#Q1'><b>Student Question 1.1</b> Considering Linear Features (10 points) </a>\\\n",
    "<a href='#Q2'><b>Student Question 1.2</b> Experience Replay Buffer (10 points) </a>\\\n",
    "<a href='#Q3'><b>Student Question 1.3</b> Grid-based vs Function Approximators (10 points) </a>\\\n",
    "<a href='#T2'><b>Student Task 2.</b> Visualizing the Policy (10 points)</a>\n",
    "    \n",
    "**Total Points:** 60\n",
    "\n",
    "**Estimated runtime of all the cells:** 2 - 3 hours"
   ]
  },
  {
   "cell_type": "markdown",
   "id": "c30395ea",
   "metadata": {
    "deletable": false,
    "editable": false,
    "nbgrader": {
     "cell_type": "markdown",
     "checksum": "7a2b0a701ed47cff056b5cb211ab235e",
     "grade": false,
     "grade_id": "cell-e08152dda643a700",
     "locked": true,
     "schema_version": 3,
     "solution": false,
     "task": false
    }
   },
   "source": [
    "# 1. Introduction <a id='1.'></a>\n",
    "\n",
    "In many real world scenarios, the dimensionality of the state space may be too high to compute and store the Q-values for each possible state and action in a Q-table. Instead, the state value and action value functions can be learned by using a function approximator, such as a radial basis functions (RBFs). In this exercise, you will start with handcrafted features and then move to radial basis functions in the **Cartpole** environment.\n",
    "\n",
    "\n",
    "<figure style=\"text-align: center\">\n",
    "<img src=\"imgs/cartpole.png\" width=\"300px\">\n",
    "<figcaption style=\"text-align: center\"> Figure 1: The Cartpole environment. </figcaption>\n",
    "</figure>\n",
    "\n",
    "Useful Sources:\n",
    "\n",
    "- Sutton, Richard S., and Andrew G. Barto. \"Reinforcement Learning: An Introduction (2nd Edition).\" London, England (2017). http://incompleteideas.net/book/RLbook2018.pdf\n",
    "- Lecture 4: Function Approximation (Sutton & Barto Ch. 9-9.3, 10-10.1)\n",
    "\n",
    "## 1.1 Task environments <a id='1.1'></a>\n",
    "\n",
    "In this part, we will specifically use RBF-based Q-learning to solve cartpole task. In this environment, a pole is attached by an un-actuated joint to a cart, which moves along a frictionless track. The pendulum is placed upright on the cart and the goal is to balance the pole by applying forces in the left and right direction on the cart. \n",
    "\n",
    "You can find the detailed description of the task through this link: https://gymnasium.farama.org/environments/classic_control/cart_pole/\n",
    "\n",
    "\n",
    "## 1.2 Learning Objectives: <a id='1.2'></a>\n",
    "- Understand why and how function approximators can be used for Q-learning\n",
    "- Develop intuition behind function approximators: radial basis functions\n",
    "\n",
    "## 1.3 Code Structure & Files <a id='1.3'></a>\n",
    "\n",
    "```ex4_rbf.ipynb``` is the file needed to be modified for this part of the assignment. \n",
    "\n",
    "<span style=\"color:red\"> **# IMPORTANT: DO NOT FORGET ANOTHER TASK IN ```ex4_dqn.ipynb```** </span>\n",
    "\n",
    "```\n",
    "├───cfg                            # Config files for environments\n",
    "├───imgs                           # Images used in notebook\n",
    "├───results\n",
    "│   └───CartPole-v1\n",
    "│   │   ├───logging                \n",
    "│   │   │    └───logging.pkl        # Contains logged data\n",
    "│   │   ├───model              \n",
    "│   │   │    └───*dqn.pt            # Contains trained model for dqn task\n",
    "│   │   │    └───*rbf.pkl           # Contains trained model for rbf task\n",
    "│   │   └───video                   # Videos saved\n",
    "│   │   └───*cartpole_rbf.png       # Contains training performance plot for rbd\n",
    "│   │   └───*cartpole_hd.png        # Contains training performance plot for handcrafted feature\n",
    "│   └───LunarLander-v2\n",
    "│   ex4_dqn.ipynb                   # 2nd assignment file containing tasks <---------\n",
    "│   ex4_rbf.ipynb                   # 1st assignment file containing tasks <---------This task\n",
    "│   train.py                        # Contains train and test functions \n",
    "│   utils.py                        # Contains useful functions \n",
    "└───buffer.py                       # Contains buffer functions\n",
    "```\n",
    "\n"
   ]
  },
  {
   "cell_type": "markdown",
   "id": "5b3c5f5c",
   "metadata": {
    "deletable": false,
    "editable": false,
    "nbgrader": {
     "cell_type": "markdown",
     "checksum": "36b40a9e7e6f787b1b792f5f3a7e224a",
     "grade": false,
     "grade_id": "cell-ab51a95c38cfeb41",
     "locked": true,
     "schema_version": 3,
     "solution": false,
     "task": false
    },
    "tags": []
   },
   "source": [
    "# 2. Approximate with non-linear features <a id='2.'></a>\n",
    "## 2.1 Radial Basis Functions <a id='2.1'></a>\n",
    "A radial basis function (RBF) is a real-valued function $\\phi$ that maps a vector $\\boldsymbol{x} \\in \\mathbb{R}^d$ into a real-value $\\phi : \\mathbb{R}^d \\mapsto \\mathbb{R}$. The RBF $\\phi(\\boldsymbol{x} )$ = $\\phi(||\\boldsymbol{x} ||)$ acts on a distance (radial) and a basis function $\\phi$ (e.g. Gaussian function). The RBFs are commonly used as kernels in machine learning. The RBF kernel is defined as a $K(\\boldsymbol{x} , \\boldsymbol{x} ′) = 〈\\phi(\\boldsymbol{x}),\\phi(\\boldsymbol{x}′)〉$, where $\\phi$ is the Gaussian function. Therefore, the RBF kernel is defined as\n",
    "\n",
    "$$\n",
    "K\\left(\\boldsymbol{x}, \\boldsymbol{x}^{\\prime}\\right)=\\exp \\left(-\\frac{\\left\\|\\boldsymbol{x}-\\boldsymbol{x}^{\\prime}\\right\\|^2}{2 \\sigma^2}\\right)\n",
    "$$\n",
    "\n",
    "where the parameter $\\sigma^2$ is the variance and gives shape to the Gaussian function. \n",
    "\n",
    "On the exercise you are given a ```featurizer``` which uses an ```RBFSampler```. The ```RBFSampler``` uses a Monte Carlo approximation of the RBF kernel and generates samples with the specified variance. The ```RBFSampler``` has been trained on a predefined dataset. Thus, the RBF kernel will map the state $x \\in \\mathbb{R}$ d to the distance to the trained dataset. Therefore, an input state will be transformed to as many features as samples $N$ are specified in the ```RBFSampler``` $\\phi : \\mathbb{R}^d \\mapsto \\mathbb{R}^N $. \n",
    "\n",
    "In a nutshell, the ```featurizer``` function maps low-dimensional states to a high-dimensional representation, which reveals properties that haven’t been shown in the original low-dimensional space, e.g., for the Cartpole environment, it maps the original four-dimensional states to a 230-dimensional vector.\n",
    "\n",
    "## 2.2 Sklearn RBF function<a id='2.2'></a>\n",
    "In this excercise, we use scikit-learn library to implement the RBF approximation by doing following steps:\n",
    "\n",
    "- RBFSampler: A RBF kernel will map feature into higher dimensions using random Fourier features.\n",
    "- FeatureUnion: Concatenates results of multiple transformer objects.\n",
    "- SGDRegressor: Linear model fitted by minimizing a regularized empirical loss with SGD.\n",
    "\n",
    "\n"
   ]
  },
  {
   "cell_type": "markdown",
   "id": "7c8cedc4-14e0-4fb1-b3ba-f26009fa02a4",
   "metadata": {
    "deletable": false,
    "editable": false,
    "nbgrader": {
     "cell_type": "markdown",
     "checksum": "47530e48db6901812adae6ba0239bc2d",
     "grade": false,
     "grade_id": "cell-fdd24e05653d4a99",
     "locked": true,
     "schema_version": 3,
     "solution": false,
     "task": false
    }
   },
   "source": [
    "## Warnings:\n",
    "\n",
    "- Don’t copy and paste cells within a notebook. This will mess up the tracking metadata and prevent autograding from working.\n",
    "- Only add new cells using the '+' button in the upper toolbar and do not split cells.\n",
    "- Be cautious about things such as copying the whole notebook to Colab to work on it. This has sometimes resulted in removing all notebook metadata, making autograding impossible."
   ]
  },
  {
   "cell_type": "markdown",
   "id": "5511d36c",
   "metadata": {
    "deletable": false,
    "editable": false,
    "nbgrader": {
     "cell_type": "markdown",
     "checksum": "d50ae4772484f424d02f23d09e82d04f",
     "grade": false,
     "grade_id": "cell-102128ef6321fb44",
     "locked": true,
     "schema_version": 3,
     "solution": false,
     "task": false
    }
   },
   "source": [
    "<a id='T1'></a>\n",
    "<div class=\" alert alert-warning\">\n",
    "    <h3><b>Student Task 1.</b> Implementing Q-learning using Function Approximation (20 points) </h3> \n",
    "\n",
    "Implement Q-learning using function approximation. Also implement $\\epsilon$-greedy action selection. Test two different features for state representations:\n",
    "\n",
    "&nbsp;&nbsp;&nbsp;&nbsp;&nbsp;(a) handcrafted feature vector $\\phi(s) = [s, |s|]^T$,(use the ```featurizer``` inside the ```RBFAgent``` class).\n",
    "\n",
    "&nbsp;&nbsp;&nbsp;&nbsp;&nbsp;(b) radial basis function representations (use the ```featurizer``` inside the ```RBFAgent``` class).\n",
    "\n",
    "For this task you need to modify functions ```featurize```, ```get_action```, and ```update``` inside the ```RBFAgent``` class. Test the implementation on the Cartpole environment by running the ```train(agent)``` script with default configs. You can test the trained model with the ```test(agent, cfg_args=dict(save_video=true))``` script. \n",
    "    \n",
    "**See Figure 2 for an example training performance plot for Task1(b). Save the training performance plots for both (a) and (b), and check if they are in the right place (the paths please refer to <a href='#3.'>Submitting<a>).**\n",
    "\n",
    "<figure style=\"text-align: center\">\n",
    "<img src=\"imgs/rbf.png\" width=\"300px\">\n",
    "<figcaption style=\"text-align: center\">Figure 2: The training performance plot for Task 1 (b) might look something like this.</figcaption>\n",
    "</figure>\n",
    "    \n",
    "🔝\t<a href='#TOC'><b>Table of Contents</b></a>\n",
    "</div>\n"
   ]
  },
  {
   "cell_type": "code",
   "execution_count": 29,
   "id": "57105930",
   "metadata": {
    "tags": []
   },
   "outputs": [],
   "source": [
    "skip_training = True  # Set this flag to True before validation and submission"
   ]
  },
  {
   "cell_type": "code",
   "execution_count": null,
   "id": "fd6ed5fa",
   "metadata": {
    "deletable": false,
    "editable": false,
    "nbgrader": {
     "cell_type": "code",
     "checksum": "8292581c94100e7cfcfa56cb34739b65",
     "grade": true,
     "grade_id": "cell-21f05aed2ce5f313",
     "locked": true,
     "points": 0,
     "schema_version": 3,
     "solution": false,
     "task": false
    }
   },
   "outputs": [],
   "source": []
  },
  {
   "cell_type": "code",
   "execution_count": 2,
   "id": "62817342",
   "metadata": {
    "tags": []
   },
   "outputs": [],
   "source": [
    "import sys, os\n",
    "sys.path.insert(0, os.path.abspath(\"..\"))\n",
    "\n",
    "import yaml\n",
    "import numpy as np\n",
    "from pathlib import Path\n",
    "\n",
    "from sklearn.linear_model import SGDRegressor\n",
    "from sklearn.kernel_approximation import RBFSampler\n",
    "from sklearn.preprocessing import StandardScaler\n",
    "from sklearn.pipeline import FeatureUnion\n",
    "\n",
    "from buffer import Batch\n",
    "import utils as u\n",
    "import train as t\n",
    "\n",
    "from IPython.display import Video # to display videos"
   ]
  },
  {
   "cell_type": "code",
   "execution_count": 16,
   "id": "9ee3fb4e",
   "metadata": {
    "tags": []
   },
   "outputs": [],
   "source": [
    "class RBFAgent(object):\n",
    "    def __init__(self, n_actions, gamma=0.98, batch_size=32):\n",
    "        self.scaler = None\n",
    "        self.featurizer = None\n",
    "        self.q_functions = None\n",
    "        self.gamma = gamma\n",
    "        self.batch_size = batch_size\n",
    "        self.n_actions = n_actions\n",
    "        self._initialize_model()\n",
    "\n",
    "    def _initialize_model(self):\n",
    "        # Draw some samples from the observation range and initialize the scaler (used to normalize data)\n",
    "        obs_limit = np.array([4.8, 5, 0.5, 5],\n",
    "                             dtype=np.float32)\n",
    "        samples = np.random.uniform(-obs_limit, obs_limit,\n",
    "                                    (1000, obs_limit.shape[0])).astype(np.float32)\n",
    "        \n",
    "        # calculate the mean and var of samples, used later to normalize training data\n",
    "        self.scaler = StandardScaler().fit(samples) \n",
    "\n",
    "        # Initialize the RBF featurizer\n",
    "        self.featurizer = FeatureUnion([\n",
    "            (\"rbf1\", RBFSampler(gamma=5.0, n_components=100)),\n",
    "            (\"rbf2\", RBFSampler(gamma=2.0, n_components=80)),\n",
    "            (\"rbf3\", RBFSampler(gamma=1.0, n_components=50)),\n",
    "        ])\n",
    "        self.featurizer.fit(self.scaler.transform(samples))\n",
    "\n",
    "        # Create a value approximator for each action dimension\n",
    "        self.q_functions = [SGDRegressor(learning_rate=\"constant\", max_iter=500, tol=1e-3)\n",
    "                           for _ in range(self.n_actions)]\n",
    "\n",
    "        # Initialize it to whatever values; implementation detail\n",
    "        for q_a in self.q_functions:\n",
    "            q_a.partial_fit(self.featurize(samples), \n",
    "                            np.zeros((samples.shape[0],), dtype=np.float32))\n",
    "\n",
    "    def featurize(self, state):\n",
    "        \"\"\" Map state to a higher dimension for better representation.\"\"\"\n",
    "        if len(state.shape) == 1:\n",
    "            state = state.reshape(1, -1)\n",
    "        \n",
    "        # TODO: Task 1, choose which feature to use. \n",
    "        # Task 1a: implement the manual features here \n",
    "        ########## You code starts here #########\n",
    "        manual_feature = np.concatenate([state, np.abs(state)], axis=1)\n",
    "        ########## You code ends here #########\n",
    "\n",
    "        # Task 1b: implement the RBF features transformation here \n",
    "        # it will map a state to a higher dimension (100+80+50)\n",
    "        ########## You code starts here #########\n",
    "        rbf_feature = self.featurizer.transform(self.scaler.transform(state))\n",
    "        ########## You code ends here #########\n",
    "\n",
    "        #Task 1: return manual_feature or return rbf_feature\n",
    "        ########## You code starts here #########\n",
    "        #feature = manual_feature #(task 1 a)\n",
    "        feature = rbf_feature #(task 1 b)\n",
    "        ########## You code ends here #########\n",
    "        \n",
    "        return feature\n",
    "    \n",
    "    def get_action(self, state, epsilon=0.0):\n",
    "        # TODO: Task 1: Implement epsilon-greedy policy\n",
    "        # Hints:\n",
    "        # 1. self.q_functions is a list which defines a q function for each action dimension\n",
    "        # 2. for each q function, use predict(feature) to obtain the q value\n",
    "        ########## Your code starts here ##########\n",
    "        p = np.random.uniform(0, 1)\n",
    "        \n",
    "        feature = self.featurize(state)\n",
    "        q_values = np.array([q.predict(feature)[0] for q in self.q_functions])\n",
    "        \n",
    "        if p < epsilon:\n",
    "            action = np.random.choice(self.n_actions)\n",
    "        else:\n",
    "            action = np.argmax(q_values)\n",
    "        ########## Your code ends here #########\n",
    "        return action\n",
    "\n",
    "    def _to_squeezed_np(self, batch:Batch) -> Batch:\n",
    "        \"\"\" A simple helper function squeeze data dimension and cover data format from tensor to np.ndarray.\"\"\"\n",
    "        _ret = {}\n",
    "        for name, value in batch._asdict().items():\n",
    "            if isinstance(value, dict): # this is for extra, which is a dict\n",
    "                for k, v in value.items():\n",
    "                    value[k] = v.squeeze().numpy()\n",
    "                _ret[name] = value\n",
    "            else:\n",
    "                _ret[name] = value.squeeze().numpy()\n",
    "        return Batch(**_ret)\n",
    "        \n",
    "    def update(self, buffer):\n",
    "        # batch is a namedtuple, which has state, action, next_state, not_done, reward\n",
    "        # you can access the value be batch.<name>, e.g, batch.state\n",
    "        batch = buffer.sample(self.batch_size) \n",
    "        # Hint:\n",
    "        #    state = batch.state\n",
    "        #    action = batch.action \n",
    "        #    next_state = batch.next_state\n",
    "        #    reward = batch.reward \n",
    "        #    not_done = batch.not_done \n",
    "        \n",
    "        # the returned batch is a namedtuple, where the data is torch.Tensor\n",
    "        # we first squeeze dim and then covert it to Numpy array.\n",
    "        batch = self._to_squeezed_np(batch)\n",
    "\n",
    "        # TODO: Task 1, update q_functions\n",
    "        # Hints: \n",
    "        # 1. featurize the state and next_state\n",
    "        # 2. calculate q_target (check q-learning)\n",
    "        # 3. self.q_functions is a list which defines a q function for each action dimension\n",
    "        #    for each q function, use q.predict(featurized_state) to obtain the q value \n",
    "        # 4. remember to use not_done to mask out the q values at terminal states (treat them as 0)\n",
    "        ########## You code starts here #########\n",
    "        f_state = self.featurize(batch.state)\n",
    "        f_next_state = self.featurize(batch.next_state)\n",
    "        \n",
    "        # Check the Hints to finish the rest ;)\n",
    "        q_tar = np.zeros(self.batch_size)\n",
    "        \n",
    "        for i in range(self.batch_size):\n",
    "            # Get the maximum Q-value for the next state\n",
    "            q_next = np.max([q.predict(f_next_state[i].reshape(1, -1))[0] for q in self.q_functions])\n",
    "\n",
    "            # If the state is terminal, q_next should be 0 (no future reward)\n",
    "            if batch.not_done[i] == 0:\n",
    "                q_next = 0\n",
    "\n",
    "            # Q-learning target update\n",
    "            q_tar[i] = batch.reward[i] + self.gamma * q_next\n",
    "        ########## You code ends here #########\n",
    "        \n",
    "        # Get new weights for each action separately\n",
    "        for a in range(self.n_actions):\n",
    "            # Find states where `a` was taken\n",
    "            idx = batch.action == a\n",
    "\n",
    "            # If a not present in the batch, skip and move to the next action\n",
    "            if np.any(idx):\n",
    "                act_states = f_state[idx]\n",
    "                act_targets = q_tar[idx]\n",
    "\n",
    "                # Perform a single SGD step on the Q-function params to update the q_function corresponding to action a\n",
    "                self.q_functions[a].partial_fit(act_states, act_targets)\n",
    "\n",
    "        return {}\n",
    "\n",
    "    def save(self, fp):\n",
    "        path = fp/'rbf.pkl'\n",
    "        u.save_object(\n",
    "            {'q': self.q_functions, 'featurizer': self.featurizer},\n",
    "            path\n",
    "        )\n",
    "\n",
    "    def load(self, fp):\n",
    "        path = fp/'rbf.pkl'\n",
    "        d = u.load_object(path)\n",
    "\n",
    "        self.q_functions = d['q']\n",
    "        self.featurizer = d['featurizer']"
   ]
  },
  {
   "cell_type": "markdown",
   "id": "bb219433-160a-4c5b-b1bf-6c654a57e703",
   "metadata": {
    "deletable": false,
    "editable": false,
    "nbgrader": {
     "cell_type": "markdown",
     "checksum": "d198c51b373df885c3794fef8724caf0",
     "grade": false,
     "grade_id": "cell-f9705dbb63754c13",
     "locked": true,
     "schema_version": 3,
     "solution": false,
     "task": false
    },
    "tags": []
   },
   "source": [
    "<a id='T1'></a>\n",
    "<div class=\" alert alert-warning\">\n",
    "    <h4><b>Student Task 1.(a)</b> Linear model with handcraft feature </h4> \n",
    "\n",
    "First, let's test Q-learning with handcrafted features. We define the feature as :\n",
    "    \n",
    "&nbsp;&nbsp;&nbsp;&nbsp;&nbsp;&nbsp;&nbsp;&nbsp;&nbsp;&nbsp;&nbsp;&nbsp;&nbsp;&nbsp;&nbsp;&nbsp;&nbsp;&nbsp;&nbsp;&nbsp;&nbsp;&nbsp;&nbsp;&nbsp;&nbsp;&nbsp;&nbsp;&nbsp;&nbsp;&nbsp;$\\phi(s) = [s, |s|]^T$\n",
    "\n",
    "Then we will feed this feature into a linear model to predict corresponding Q-values.\n",
    "\n",
    "For this Task, implement the code in ```class RBFAgent```:\n",
    "    \n",
    "1. First, you need to modify functions ```featurize```, to convert the state $s$ from encironment to $[s, |s|]^T$.\n",
    "2. Modify the function ```get_action```, use ```self.q_functions``` to select the action has the highest return.\n",
    "3. Modify the function ```update```, based on the Q-learning objective to update the Q-function (linear models).\n",
    "\n",
    "After the modifying, test the implementation on the Cartpole environment by running the ```train(agent)``` script with default configs. You can test the trained model with the ```test(agent, cfg_args=dict(save_video=true))``` script. \n",
    "</div>"
   ]
  },
  {
   "cell_type": "code",
   "execution_count": 5,
   "id": "d9dd6467",
   "metadata": {
    "tags": []
   },
   "outputs": [],
   "source": [
    "# After the modifying, run\n",
    "# init agent\n",
    "with open(Path().cwd()/'cfg'/'cartpole_rbf.yaml', 'r') as f:\n",
    "    cfg = t.Struct(**yaml.safe_load(f))\n",
    "        \n",
    "agent = RBFAgent(n_actions=cfg.n_actions, gamma=cfg.gamma, batch_size=cfg.batch_size)"
   ]
  },
  {
   "cell_type": "code",
   "execution_count": 6,
   "id": "d78c6566",
   "metadata": {
    "tags": []
   },
   "outputs": [
    {
     "name": "stdout",
     "output_type": "stream",
     "text": [
      "Numpy/Torch/Random Seed:  436\n",
      "{'ep_reward': 17.0, 'episode': 0, 'epsilon': 1.0, 'ep_avr': 0.02485392987728119, 'ts_avr': 0.0014317864004303427}\n",
      "{'ep_reward': 50.0, 'episode': 100, 'epsilon': 0.3333333333333333, 'ep_avr': 0.17725907236337662, 'ts_avr': 0.0037672583894411316}\n",
      "{'ep_reward': 50.0, 'episode': 200, 'epsilon': 0.2, 'ep_avr': 0.2288366826623678, 'ts_avr': 0.0038725530442428008}\n",
      "{'ep_reward': 93.0, 'episode': 300, 'epsilon': 0.14285714285714285, 'ep_avr': 0.2381040572375059, 'ts_avr': 0.003877779545050371}\n",
      "{'ep_reward': 54.0, 'episode': 400, 'epsilon': 0.1111111111111111, 'ep_avr': 0.23821299560368062, 'ts_avr': 0.003905629396448373}\n",
      "{'ep_reward': 71.0, 'episode': 500, 'epsilon': 0.09090909090909091, 'ep_avr': 0.2564503898471594, 'ts_avr': 0.0038931059653622164}\n",
      "{'ep_reward': 63.0, 'episode': 600, 'epsilon': 0.07692307692307693, 'ep_avr': 0.26153867699205874, 'ts_avr': 0.003906901803907927}\n",
      "{'ep_reward': 78.0, 'episode': 700, 'epsilon': 0.06666666666666667, 'ep_avr': 0.29143650583922864, 'ts_avr': 0.003887177847540493}\n",
      "{'ep_reward': 54.0, 'episode': 800, 'epsilon': 0.058823529411764705, 'ep_avr': 0.29945724152028563, 'ts_avr': 0.003883296345999578}\n",
      "{'ep_reward': 93.0, 'episode': 900, 'epsilon': 0.05263157894736842, 'ep_avr': 0.28337757863104346, 'ts_avr': 0.003891283325680074}\n",
      "{'ep_reward': 60.0, 'episode': 1000, 'epsilon': 0.05, 'ep_avr': 0.2583340149372816, 'ts_avr': 0.0038792885522131236}\n",
      "{'ep_reward': 66.0, 'episode': 1100, 'epsilon': 0.05, 'ep_avr': 0.293665105253458, 'ts_avr': 0.0038842216019735146}\n",
      "{'ep_reward': 74.0, 'episode': 1200, 'epsilon': 0.05, 'ep_avr': 0.29449576154351237, 'ts_avr': 0.003978379766387949}\n",
      "{'ep_reward': 68.0, 'episode': 1300, 'epsilon': 0.05, 'ep_avr': 0.2987947702407837, 'ts_avr': 0.003896414285161994}\n",
      "{'ep_reward': 43.0, 'episode': 1400, 'epsilon': 0.05, 'ep_avr': 0.29181647159159185, 'ts_avr': 0.0038984457059762874}\n",
      "{'ep_reward': 77.0, 'episode': 1500, 'epsilon': 0.05, 'ep_avr': 0.3448432210832834, 'ts_avr': 0.00393044981957705}\n",
      "{'ep_reward': 69.0, 'episode': 1600, 'epsilon': 0.05, 'ep_avr': 0.3220515829324722, 'ts_avr': 0.0038677728596750323}\n",
      "{'ep_reward': 59.0, 'episode': 1700, 'epsilon': 0.05, 'ep_avr': 0.28251363411545755, 'ts_avr': 0.003869319810238603}\n",
      "{'ep_reward': 111.0, 'episode': 1800, 'epsilon': 0.05, 'ep_avr': 0.3166499658674002, 'ts_avr': 0.0038998661309032788}\n",
      "{'ep_reward': 57.0, 'episode': 1900, 'epsilon': 0.05, 'ep_avr': 0.29419999204576014, 'ts_avr': 0.0038985512661886498}\n",
      "------ Training Finished ------\n"
     ]
    }
   ],
   "source": [
    "if not skip_training:\n",
    "    t.train(agent, cfg_path=Path().cwd()/'cfg'/'cartpole_rbf.yaml', cfg_args={}) # >= 20 mins"
   ]
  },
  {
   "cell_type": "code",
   "execution_count": 7,
   "id": "4d57a812",
   "metadata": {
    "tags": []
   },
   "outputs": [
    {
     "name": "stdout",
     "output_type": "stream",
     "text": [
      "Numpy/Torch/Random Seed:  436\n",
      "{'episode': 0, 'ep_reward': 68.0}\n",
      "{'episode': 1, 'ep_reward': 62.0}\n",
      "{'episode': 2, 'ep_reward': 53.0}\n",
      "{'episode': 3, 'ep_reward': 80.0}\n",
      "{'episode': 4, 'ep_reward': 100.0}\n",
      "{'episode': 5, 'ep_reward': 80.0}\n",
      "{'episode': 6, 'ep_reward': 69.0}\n",
      "{'episode': 7, 'ep_reward': 78.0}\n",
      "{'episode': 8, 'ep_reward': 62.0}\n",
      "{'episode': 9, 'ep_reward': 53.0}\n"
     ]
    }
   ],
   "source": [
    "if not skip_training:\n",
    "    t.test(agent, cfg_path=Path().cwd()/'cfg'/'cartpole_rbf.yaml', cfg_args=dict(save_video=True), seeds=[67, 23, 89, 12, 45, 78, 34, 90, 21, 56]) "
   ]
  },
  {
   "cell_type": "code",
   "execution_count": 8,
   "id": "4e9ba558-6057-4142-804b-d6bc43d0d709",
   "metadata": {
    "tags": []
   },
   "outputs": [
    {
     "name": "stdout",
     "output_type": "stream",
     "text": [
      "Numpy/Torch/Random Seed:  436\n"
     ]
    },
    {
     "data": {
      "image/png": "[encoded data removed]",
      "text/plain": [
       "<Figure size 640x480 with 1 Axes>"
      ]
     },
     "metadata": {},
     "output_type": "display_data"
    }
   ],
   "source": [
    "if not skip_training:\n",
    "    t.plot(save_name='cartpole_hd.png', cfg_path=Path().cwd()/'cfg'/'cartpole_rbf.yaml', cfg_args={}) # < 15 mins"
   ]
  },
  {
   "cell_type": "markdown",
   "id": "05fb6b18",
   "metadata": {},
   "source": [
    "The agent acting in the environment can be seen using the following command. Change the path to pick the episode you want to visualize. Bear in mind by default video saving for training is taken every 500 episodes"
   ]
  },
  {
   "cell_type": "code",
   "execution_count": 15,
   "id": "69b48c8a",
   "metadata": {
    "tags": []
   },
   "outputs": [
    {
     "data": {
      "text/html": [
       "<video loop autoplay  >\n",
       " <source src=\"data:video/mp4;base64,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\" type=\"video/mp4\">\n",
       " Your browser does not support the video tag.\n",
       " </video>"
      ],
      "text/plain": [
       "<IPython.core.display.Video object>"
      ]
     },
     "metadata": {},
     "output_type": "display_data"
    }
   ],
   "source": [
    "if not skip_training:\n",
    "    video = Video(Path().cwd()/'results'/'CartPole-v1'/'video'/'test'/'ex4_rbf-episode-0.mp4',\n",
    "    embed=True, html_attributes=\"loop autoplay\") # Set html_attributes=\"controls\" for video control\n",
    "    display(video)"
   ]
  },
  {
   "cell_type": "markdown",
   "id": "571f48c8-9ab6-43fb-bce0-19719ce2c9e2",
   "metadata": {
    "tags": []
   },
   "source": [
    "<a id='T1'></a>\n",
    "<div class=\" alert alert-warning\">\n",
    "    <h4><b>Student Task 1.(b)</b> RBF approximation </h4> \n",
    "\n",
    "Now, let's test Q-learning with RBF approximation. In this task, we will do a feature transform using the Radial Basis Function. An input state will be transformed to as many features as samples $N$ are specified in the ```RBFSampler``` $\\phi : \\mathbb{R}^d \\mapsto \\mathbb{R}^N $. Then we will feed this $\\mathbb{R}^N $ feature into a linear model to predict corresponding Q-values.\n",
    "\n",
    "For this Task:\n",
    "    \n",
    "1. You need to modify functions ```featurize```, to **convert the state $s$ to a higher dimensional feature using** ```RBFSampler```.\n",
    "\n",
    "2. Run the cell of ```class RBFAgent``` to update the class function\n",
    "\n",
    "3. <span style=\"color:red\"> **IMPORTANT: Directly come to this cell after the modifications, DO NOT RUN the handcraft feature cells again!!!** </span>\n",
    "\n",
    "4. Run the cells below to check the performances of Q-learning with RBF approximation.\n",
    "    \n",
    "After the modifying, test the implementation on the Cartpole environment by running the ```train(agent)``` script with default configs. You can test the trained model with the ```test(agent, cfg_args=dict(save_video=true))``` script. \n",
    "</div>"
   ]
  },
  {
   "cell_type": "code",
   "execution_count": 17,
   "id": "ab43c155-a9a9-4d7c-8829-0b472d25314e",
   "metadata": {
    "tags": []
   },
   "outputs": [],
   "source": [
    "# After modifying the function 'featurize', \n",
    "# 1. run the cell of class RBFAgent(object) to update the class\n",
    "# 2. After update the class, directly run this cell (Skip the cells above of training hadncraft feature) \n",
    "# 2. now let's rerun the agent\n",
    "\n",
    "with open(Path().cwd()/'cfg'/'cartpole_rbf.yaml', 'r') as f:\n",
    "    cfg = t.Struct(**yaml.safe_load(f))        \n",
    "agent = RBFAgent(n_actions=cfg.n_actions, gamma=cfg.gamma, batch_size=cfg.batch_size)"
   ]
  },
  {
   "cell_type": "code",
   "execution_count": 18,
   "id": "793f3d51-0bc1-469e-a889-86f217668c02",
   "metadata": {
    "tags": []
   },
   "outputs": [
    {
     "name": "stdout",
     "output_type": "stream",
     "text": [
      "Numpy/Torch/Random Seed:  436\n",
      "{'ep_reward': 25.0, 'episode': 0, 'epsilon': 1.0, 'ep_avr': 0.004340462386608124, 'ts_avr': 0.00015640616416931152}\n",
      "{'ep_reward': 200.0, 'episode': 100, 'epsilon': 0.3333333333333333, 'ep_avr': 0.3740161122381687, 'ts_avr': 0.003853910026827461}\n",
      "{'ep_reward': 153.0, 'episode': 200, 'epsilon': 0.2, 'ep_avr': 0.6983826116472482, 'ts_avr': 0.0039163124808687475}\n",
      "{'ep_reward': 200.0, 'episode': 300, 'epsilon': 0.14285714285714285, 'ep_avr': 0.7261486493051053, 'ts_avr': 0.0039435358282297415}\n",
      "{'ep_reward': 200.0, 'episode': 400, 'epsilon': 0.1111111111111111, 'ep_avr': 0.7393044691532851, 'ts_avr': 0.003923102808000555}\n",
      "{'ep_reward': 200.0, 'episode': 500, 'epsilon': 0.09090909090909091, 'ep_avr': 0.7773546685278415, 'ts_avr': 0.003925064743263483}\n",
      "{'ep_reward': 200.0, 'episode': 600, 'epsilon': 0.07692307692307693, 'ep_avr': 0.7784399416297674, 'ts_avr': 0.003929752873421004}\n",
      "{'ep_reward': 200.0, 'episode': 700, 'epsilon': 0.06666666666666667, 'ep_avr': 0.7821715644001961, 'ts_avr': 0.003932132780554908}\n",
      "{'ep_reward': 200.0, 'episode': 800, 'epsilon': 0.058823529411764705, 'ep_avr': 0.7802590641379357, 'ts_avr': 0.003919563784003498}\n",
      "{'ep_reward': 200.0, 'episode': 900, 'epsilon': 0.05263157894736842, 'ep_avr': 0.7824109511822462, 'ts_avr': 0.003911498427018523}\n",
      "{'ep_reward': 200.0, 'episode': 1000, 'epsilon': 0.05, 'ep_avr': 0.7834467121958733, 'ts_avr': 0.003916659349575639}\n",
      "{'ep_reward': 200.0, 'episode': 1100, 'epsilon': 0.05, 'ep_avr': 0.7876618459075689, 'ts_avr': 0.003937748462706804}\n",
      "{'ep_reward': 200.0, 'episode': 1200, 'epsilon': 0.05, 'ep_avr': 0.7883238604664803, 'ts_avr': 0.003941050317883492}\n",
      "{'ep_reward': 200.0, 'episode': 1300, 'epsilon': 0.05, 'ep_avr': 0.7870432315021754, 'ts_avr': 0.00393466755785048}\n",
      "{'ep_reward': 200.0, 'episode': 1400, 'epsilon': 0.05, 'ep_avr': 0.7889114271849393, 'ts_avr': 0.0039439955402165655}\n",
      "{'ep_reward': 200.0, 'episode': 1500, 'epsilon': 0.05, 'ep_avr': 0.7834593805670739, 'ts_avr': 0.003916728929802775}\n",
      "{'ep_reward': 200.0, 'episode': 1600, 'epsilon': 0.05, 'ep_avr': 0.7868527781963348, 'ts_avr': 0.003933705784380436}\n",
      "{'ep_reward': 200.0, 'episode': 1700, 'epsilon': 0.05, 'ep_avr': 0.7865054729580879, 'ts_avr': 0.003931962443888187}\n",
      "{'ep_reward': 200.0, 'episode': 1800, 'epsilon': 0.05, 'ep_avr': 0.7894453264027834, 'ts_avr': 0.003946663565188646}\n",
      "{'ep_reward': 200.0, 'episode': 1900, 'epsilon': 0.05, 'ep_avr': 0.7879589126259089, 'ts_avr': 0.003939235240593552}\n",
      "------ Training Finished ------\n"
     ]
    }
   ],
   "source": [
    "# Takes more time to train :)\n",
    "if not skip_training:\n",
    "    t.train(agent, cfg_path=Path().cwd()/'cfg'/'cartpole_rbf.yaml', cfg_args={}) # >= 60 mins"
   ]
  },
  {
   "cell_type": "markdown",
   "id": "8b602bfa",
   "metadata": {},
   "source": [
    "In order to get full points from the task make sure most of the test episodes give a reward of 200, given the seeds below (at least 50% of episodes)."
   ]
  },
  {
   "cell_type": "code",
   "execution_count": 19,
   "id": "88396eef-a80e-41dd-bdc7-c5cb67a2e75f",
   "metadata": {
    "tags": []
   },
   "outputs": [
    {
     "name": "stdout",
     "output_type": "stream",
     "text": [
      "Numpy/Torch/Random Seed:  436\n",
      "{'episode': 0, 'ep_reward': 200.0}\n",
      "{'episode': 1, 'ep_reward': 200.0}\n",
      "{'episode': 2, 'ep_reward': 200.0}\n",
      "{'episode': 3, 'ep_reward': 200.0}\n",
      "{'episode': 4, 'ep_reward': 200.0}\n",
      "{'episode': 5, 'ep_reward': 200.0}\n",
      "{'episode': 6, 'ep_reward': 200.0}\n",
      "{'episode': 7, 'ep_reward': 200.0}\n",
      "{'episode': 8, 'ep_reward': 200.0}\n",
      "{'episode': 9, 'ep_reward': 200.0}\n"
     ]
    }
   ],
   "source": [
    "if not skip_training:\n",
    "    t.test(agent, cfg_path=Path().cwd()/'cfg'/'cartpole_rbf.yaml', cfg_args=dict(save_video=True), seeds=[67, 23, 89, 12, 45, 78, 34, 90, 21, 56]) "
   ]
  },
  {
   "cell_type": "code",
   "execution_count": 20,
   "id": "4b5fd3b7-ee1d-46c7-830f-54b295ececa3",
   "metadata": {
    "tags": []
   },
   "outputs": [
    {
     "name": "stdout",
     "output_type": "stream",
     "text": [
      "Numpy/Torch/Random Seed:  436\n"
     ]
    },
    {
     "data": {
      "image/png": "[encoded data removed]",
      "text/plain": [
       "<Figure size 640x480 with 1 Axes>"
      ]
     },
     "metadata": {},
     "output_type": "display_data"
    }
   ],
   "source": [
    "if not skip_training:\n",
    "    t.plot(save_name='cartpole_rbf.png', cfg_path=Path().cwd()/'cfg'/'cartpole_rbf.yaml', cfg_args={}) # < 5 mins"
   ]
  },
  {
   "cell_type": "markdown",
   "id": "445eb823-f602-442f-b4b3-ed6806c18ffe",
   "metadata": {
    "tags": []
   },
   "source": [
    "The agent acting in the environment can be seen using the following command. Change the path to pick the episode you want to visualize. Bear in mind by default video saving for training is taken every 500 episodes"
   ]
  },
  {
   "cell_type": "code",
   "execution_count": 21,
   "id": "cd524780-6930-4de3-ae4b-9157e89760d7",
   "metadata": {
    "tags": []
   },
   "outputs": [
    {
     "data": {
      "text/html": [
       "<video loop autoplay  >\n",
       " <source src=\"data:video/mp4;base64,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\" type=\"video/mp4\">\n",
       " Your browser does not support the video tag.\n",
       " </video>"
      ],
      "text/plain": [
       "<IPython.core.display.Video object>"
      ]
     },
     "metadata": {},
     "output_type": "display_data"
    }
   ],
   "source": [
    "if not skip_training:\n",
    "    video = Video(Path().cwd()/'results'/'CartPole-v1'/'video'/'test'/'ex4_rbf-episode-0.mp4',\n",
    "    embed=True, html_attributes=\"loop autoplay\") # Set html_attributes=\"controls\" for video control\n",
    "    display(video)"
   ]
  },
  {
   "cell_type": "code",
   "execution_count": null,
   "id": "34862517",
   "metadata": {
    "deletable": false,
    "editable": false,
    "nbgrader": {
     "cell_type": "code",
     "checksum": "930235c2e6039ea417917618e7bfb84c",
     "grade": true,
     "grade_id": "cell-b8217caa685dddf5",
     "locked": true,
     "points": 20,
     "schema_version": 3,
     "solution": false,
     "task": false
    }
   },
   "outputs": [],
   "source": [
    "%%capture --no-stdout\n",
    "\"TEST\""
   ]
  },
  {
   "cell_type": "markdown",
   "id": "8f725b2e",
   "metadata": {},
   "source": [
    "<a id='Q1'></a>\n",
    "<div class=\" alert alert-warning\">\n",
    "    <h3><b>Student Question 1.1</b> Considering Linear Features (10 points) </h3> \n",
    "    \n",
    "**Hint:** directly return 'state' in function 'featurize'\n",
    "    \n",
    "🔝\t<a href='#TOC'><b>Table of Contents</b></a>\n",
    "</div>\n"
   ]
  },
  {
   "cell_type": "markdown",
   "id": "5635de8e-3bdb-4856-a21e-20381601edbe",
   "metadata": {},
   "source": [
    "### 1.1.1 Question (4 points):\n",
    "Which of the following best describes why linear approximation of Q-values in the Cartpole problem is inaccurate?\n",
    "\n",
    "**Select one:**\n",
    "\n",
    "1. The environment dynamics are non-linear\n",
    "2. The Q-function is inherently non-linear\n",
    "3. The state space is too large\n",
    "4. The action space is continuous\n"
   ]
  },
  {
   "cell_type": "code",
   "execution_count": 22,
   "id": "7903b02f-aae1-4b91-bd55-fee1f72129fa",
   "metadata": {
    "tags": []
   },
   "outputs": [],
   "source": [
    "sq_1_1_1 = 2 # Replace with the appropriate answer number"
   ]
  },
  {
   "cell_type": "markdown",
   "id": "f058dca0-e5d7-4890-a4e8-a26a1f3bea00",
   "metadata": {},
   "source": [
    "### 1.1.2 Question (2 points):\n",
    "What does the Q-function represent?\n",
    "\n",
    "**Select one:**\n",
    "\n",
    "1. The immediate reward for taking an action\n",
    "2. The probability of the pole falling\n",
    "3. The expected cumulative reward for taking an action and then following the optimal policy\n",
    "4. The linear transformation of the current state\n"
   ]
  },
  {
   "cell_type": "code",
   "execution_count": 23,
   "id": "7a93ee55-0e47-4a1a-b3d5-6d8e8dde720b",
   "metadata": {
    "tags": []
   },
   "outputs": [],
   "source": [
    "sq_1_1_2 = 3 # Replace with the appropriate answer number"
   ]
  },
  {
   "cell_type": "markdown",
   "id": "5a783f6e-c95b-445e-9f7f-27ba47eab902",
   "metadata": {},
   "source": [
    "### 1.1.3 Question (4 points):\n",
    "If the environment dynamics of Cartpole were perfectly linear, which statement would be true?\n",
    "\n",
    "**Select one:**\n",
    "\n",
    "1. The Q-function would also be linear\n",
    "2. Linear approximation of the Q-function would be accurate\n",
    "3. The Q-function could still be non-linear\n",
    "4. Reinforcement learning would not be necessary\n"
   ]
  },
  {
   "cell_type": "code",
   "execution_count": 24,
   "id": "223f8512-2231-4eb8-b8db-16cd6d62d420",
   "metadata": {
    "tags": []
   },
   "outputs": [],
   "source": [
    "sq_1_1_3 = 2 # Replace with the appropriate answer number"
   ]
  },
  {
   "cell_type": "markdown",
   "id": "5253364e-6e75-4729-8e00-cb606b48dae9",
   "metadata": {},
   "source": [
    "The following cells are used for grading"
   ]
  },
  {
   "cell_type": "code",
   "execution_count": null,
   "id": "2af865cb-688d-4e9a-b93d-44cb625bebcd",
   "metadata": {
    "deletable": false,
    "editable": false,
    "nbgrader": {
     "cell_type": "code",
     "checksum": "a1b5c33652bada8565e4ee5fb2c1175d",
     "grade": true,
     "grade_id": "cell-b4096a96472e5562",
     "locked": true,
     "points": 0,
     "schema_version": 3,
     "solution": false,
     "task": false
    },
    "tags": []
   },
   "outputs": [],
   "source": [
    "assert sq_1_1_1 in range(1, 5)\n",
    "assert sq_1_1_2 in range(1, 5)\n",
    "assert sq_1_1_3 in range(1, 5)"
   ]
  },
  {
   "cell_type": "code",
   "execution_count": null,
   "id": "4fd02bb8-7933-4647-9993-c19ab6518f54",
   "metadata": {
    "deletable": false,
    "editable": false,
    "nbgrader": {
     "cell_type": "code",
     "checksum": "39cdd7a5d517d956028c7800288c1eab",
     "grade": true,
     "grade_id": "cell-83357309429acbcd",
     "locked": true,
     "points": 4,
     "schema_version": 3,
     "solution": false,
     "task": false
    },
    "tags": []
   },
   "outputs": [],
   "source": []
  },
  {
   "cell_type": "code",
   "execution_count": null,
   "id": "cac21b47-cf94-4da5-bbeb-a39a7abdaca2",
   "metadata": {
    "deletable": false,
    "editable": false,
    "nbgrader": {
     "cell_type": "code",
     "checksum": "e8a92c0c561551cfe15d0aa2c1d00ae0",
     "grade": true,
     "grade_id": "cell-3ed323aa17884686",
     "locked": true,
     "points": 2,
     "schema_version": 3,
     "solution": false,
     "task": false
    },
    "tags": []
   },
   "outputs": [],
   "source": []
  },
  {
   "cell_type": "code",
   "execution_count": null,
   "id": "f9ab2f9f-aff6-4258-abe9-7e21c6270ba6",
   "metadata": {
    "deletable": false,
    "editable": false,
    "nbgrader": {
     "cell_type": "code",
     "checksum": "40a67f2521eabb810cf0e07e83a93bc7",
     "grade": true,
     "grade_id": "cell-4284778ad9d19593",
     "locked": true,
     "points": 4,
     "schema_version": 3,
     "solution": false,
     "task": false
    },
    "tags": []
   },
   "outputs": [],
   "source": []
  },
  {
   "cell_type": "markdown",
   "id": "c5a8edc7",
   "metadata": {},
   "source": [
    "<a id='Q2'></a>\n",
    "<div class=\" alert alert-warning\">\n",
    "    <h3><b>Student Question 1.2</b> Experience Replay Buffer (10 points) </h3> \n",
    "\n",
    "**Hint:** In machine learning, when training a model, we usually assume dataset includes i.i.d(independent and identically distributed) samples from a unknown distribution.\n",
    "    \n",
    "🔝\t<a href='#TOC'><b>Table of Contents</b></a>\n",
    "</div>\n"
   ]
  },
  {
   "cell_type": "markdown",
   "id": "d92584a0-e8d6-4a49-86bc-7d14d2c958d0",
   "metadata": {},
   "source": [
    "### 1.2.1 Question (5 points):\n",
    "Why do we use the experience replay buffer in reinforcement learning? Select two answers.\n",
    "\n",
    "**Select two:**\n",
    "\n",
    "1. To prioritize the most recent experiences over older ones\n",
    "2. To make the learning process faster by re-using previous data and improving sample efficiency\n",
    "3. To ensure that the agent only learns from highly rewarding experiences\n",
    "4. To prevent the agent from learning negative experiences\n",
    "5. To break the correlation between consecutive experiences"
   ]
  },
  {
   "cell_type": "code",
   "execution_count": 25,
   "id": "4bbf9062-d94b-40f2-a486-930af53ae3c6",
   "metadata": {
    "tags": []
   },
   "outputs": [],
   "source": [
    "sq_1_2_1 = [2, 5] # Write the appropriate answer number(s) inside the list"
   ]
  },
  {
   "cell_type": "markdown",
   "id": "78f7f3c6-c8f0-487c-bece-850f2fa9e087",
   "metadata": {},
   "source": [
    "### 1.2.2 Question (5 points):\n",
    "Which of the following best describes the benefit of randomly sampling mini-batches from the experience replay buffer?\n",
    "\n",
    "**Select one:**\n",
    "\n",
    "1. It helps the agent to focus on learning from consecutive experiences\n",
    "2. It creates a more diverse and less correlated set of training data, leading to more stable learning\n",
    "3. It allows the agent to forget irrelevant or outdated information more quickly\n",
    "4. It reduces the computational complexity of the learning algorithm\n",
    "5. It simulates exploration by introducing randomness into the learning process"
   ]
  },
  {
   "cell_type": "code",
   "execution_count": 26,
   "id": "f182a02a-15a0-4e09-ac15-f067203d64f7",
   "metadata": {
    "tags": []
   },
   "outputs": [],
   "source": [
    "sq_1_2_2 = 2 # Replace with the appropriate answer number"
   ]
  },
  {
   "cell_type": "markdown",
   "id": "5c53ffaa-6c4f-48b8-bfda-9af54c05b908",
   "metadata": {},
   "source": [
    "The following cells are used for grading"
   ]
  },
  {
   "cell_type": "code",
   "execution_count": null,
   "id": "f368aba2-5019-4950-aaa0-94a77e5395a1",
   "metadata": {
    "deletable": false,
    "editable": false,
    "nbgrader": {
     "cell_type": "code",
     "checksum": "982d06f1f15e6f7860fe56d3104b7ed1",
     "grade": true,
     "grade_id": "cell-f26d8fd34a084fd7",
     "locked": true,
     "points": 0,
     "schema_version": 3,
     "solution": false,
     "task": false
    },
    "tags": []
   },
   "outputs": [],
   "source": [
    "assert len(set(sq_1_2_1)) == 2\n",
    "assert set(sq_1_2_1) < set(range(1, 6))\n",
    "assert sq_1_2_2 in range(1, 6)"
   ]
  },
  {
   "cell_type": "code",
   "execution_count": null,
   "id": "5f9dab76-57dd-4d3a-b848-ee30279be4a4",
   "metadata": {
    "deletable": false,
    "editable": false,
    "nbgrader": {
     "cell_type": "code",
     "checksum": "f754b47cbd9544158e573e576826d00a",
     "grade": true,
     "grade_id": "cell-0b9fd7282d23eb21",
     "locked": true,
     "points": 5,
     "schema_version": 3,
     "solution": false,
     "task": false
    },
    "tags": []
   },
   "outputs": [],
   "source": []
  },
  {
   "cell_type": "code",
   "execution_count": null,
   "id": "f264ce3c-6958-4880-95d2-efa9aef31f11",
   "metadata": {
    "deletable": false,
    "editable": false,
    "nbgrader": {
     "cell_type": "code",
     "checksum": "d64fb124439dc4825762417ec6d95155",
     "grade": true,
     "grade_id": "cell-0c6e6e9c7d9037fa",
     "locked": true,
     "points": 5,
     "schema_version": 3,
     "solution": false,
     "task": false
    },
    "tags": []
   },
   "outputs": [],
   "source": []
  },
  {
   "cell_type": "markdown",
   "id": "2a4793b0",
   "metadata": {},
   "source": [
    "<a id='Q3'></a>\n",
    "<div class=\" alert alert-warning\">\n",
    "    <h3><b>Student Question 1.3</b> Grid-based vs Function Approximators (10 points) </h3> \n",
    "\n",
    "**Hint:** An algorithm is said to be sample-efficient when it requires less samples (data) to reach\n",
    "an optimal performance\n",
    "    \n",
    "🔝\t<a href='#TOC'><b>Table of Contents</b></a>\n",
    "</div>\n"
   ]
  },
  {
   "cell_type": "markdown",
   "id": "e88bdee4-990f-4af4-816d-0fc869e720fe",
   "metadata": {
    "tags": []
   },
   "source": [
    "### 1.3.1 Question (10 points):\n",
    "In Exercise 3, we used grid-based Q-learning to balance the Cartpole. Compared to RBF function approximation methods, grid-based methods are:\n",
    "\n",
    "**Select one:**\n",
    "\n",
    "1. More sample-efficient because they take similarities between states into account, making them highly efficient.\n",
    "\n",
    "2. Less sample-efficient because they don't take similarities between states into account and require exploration of all discretized states.\n",
    "\n",
    "3. More robust to noise in the environment and require discretization of continuous state spaces, leading to fewer states to explore.\n",
    "\n",
    "4. Better at generalizing to unseen states because they always simplify the state space, making them more efficient.\n",
    "\n",
    "5. Equally sample-efficient as RBF methods, but less flexible in handling non-uniform state distributions."
   ]
  },
  {
   "cell_type": "code",
   "execution_count": 27,
   "id": "5e40d8ca-e43a-48e8-8421-11a3c4c82374",
   "metadata": {
    "tags": []
   },
   "outputs": [],
   "source": [
    "sq_1_3_1 = 2 # Replace with the appropriate answer number"
   ]
  },
  {
   "cell_type": "markdown",
   "id": "e86df44e-111e-4879-9e61-6cf0ddfe0237",
   "metadata": {},
   "source": [
    "The following cells are used for grading"
   ]
  },
  {
   "cell_type": "code",
   "execution_count": null,
   "id": "1c91c3fe-5414-4a22-ace9-fd9d4dbbba25",
   "metadata": {
    "deletable": false,
    "editable": false,
    "nbgrader": {
     "cell_type": "code",
     "checksum": "8d0bf530ec49953542f230deb6eda721",
     "grade": true,
     "grade_id": "cell-e5a1f15f82928287",
     "locked": true,
     "points": 0,
     "schema_version": 3,
     "solution": false,
     "task": false
    },
    "tags": []
   },
   "outputs": [],
   "source": [
    "assert sq_1_3_1 in range(1, 6)"
   ]
  },
  {
   "cell_type": "code",
   "execution_count": null,
   "id": "901bf613-0613-4551-8d0d-d91d3b4c13f2",
   "metadata": {
    "deletable": false,
    "editable": false,
    "nbgrader": {
     "cell_type": "code",
     "checksum": "7ef41072134244695dccd85c5ef126f8",
     "grade": true,
     "grade_id": "cell-ac160ae349b95d4c",
     "locked": true,
     "points": 10,
     "schema_version": 3,
     "solution": false,
     "task": false
    },
    "tags": []
   },
   "outputs": [],
   "source": []
  },
  {
   "cell_type": "markdown",
   "id": "223b9e0c",
   "metadata": {},
   "source": [
    "<a id='T2'></a>\n",
    "<div class=\" alert alert-warning\">\n",
    "    <h3><b>Student Task 2.</b> Visualizing the Policy (10 points) </h3> \n",
    "\n",
    "Create a 2D plot of policy (best action in terms of state) learned with RBF in terms of $x$ and θ for $\\dot{x} = 0$ and $\\dot{\\theta} = 0$, such that θ is on the horizontal axis and $x$ is on the vertical axis. The plot will be visualized below.\n",
    "\n",
    "**Hint 1 :** You can fix $\\dot{x} = 0$ and $\\dot{\\theta} = 0$ and discretize the state-space for $x$ and $\\theta$.\n",
    "\n",
    "**Hint 2 :** You can directly use the code in ***excercise 1 Task 4*** to visualize the policy.\n",
    "    \n",
    "**Hint 3 :** For CartPole environment state specifications, find them here https://gymnasium.farama.org/environments/classic_control/cart_pole/\n",
    "    \n",
    "🔝\t<a href='#TOC'><b>Table of Contents</b></a>\n",
    "</div>\n"
   ]
  },
  {
   "cell_type": "code",
   "execution_count": 28,
   "id": "797754bd-2a91-4b68-ab12-84dab27f100a",
   "metadata": {
    "tags": []
   },
   "outputs": [
    {
     "data": {
      "image/png": "[encoded data removed]",
      "text/plain": [
       "<Figure size 1000x800 with 2 Axes>"
      ]
     },
     "metadata": {},
     "output_type": "display_data"
    }
   ],
   "source": [
    "import matplotlib.pyplot as plt\n",
    "import seaborn as sns\n",
    "\n",
    "# define and reload the RBF agent, which is trained with RBF feature!!!!\n",
    "with open(Path().cwd()/'cfg'/'cartpole_rbf.yaml', 'r') as f:\n",
    "    cfg = t.Struct(**yaml.safe_load(f))        \n",
    "agent = RBFAgent(n_actions=cfg.n_actions, gamma=cfg.gamma, batch_size=cfg.batch_size)\n",
    "agent.load(Path().cwd()/'results/CartPole-v1/model/')\n",
    "\n",
    "########## Your code starts here ##########\n",
    "# Define the state space ranges for x (cart position) and θ (pole angle)\n",
    "x_range = np.linspace(-4.8, 4.8, 100)  # Cart position range (-4.8 to 4.8 from CartPole environment)\n",
    "theta_range = np.linspace(-0.418, 0.418, 100)  # Pole angle range (-24 to 24 degrees, converted to radians)\n",
    "\n",
    "# Initialize the action array (best action for each state)\n",
    "actions = np.zeros((len(x_range), len(theta_range)))\n",
    "\n",
    "# Fix velocities: x_dot=0 and theta_dot=0\n",
    "x_dot = 0\n",
    "theta_dot = 0\n",
    "\n",
    "# Iterate over the grid to get the best action for each state (x, theta)\n",
    "for i, x in enumerate(x_range):\n",
    "    for j, theta in enumerate(theta_range):\n",
    "        # Create the state vector\n",
    "        state = np.array([x, x_dot, theta, theta_dot])\n",
    "        \n",
    "        # Get the best action from the agent's policy\n",
    "        action = agent.get_action(state, epsilon=0.0)  # Use epsilon=0.0 for greedy policy\n",
    "        actions[i, j] = action\n",
    "\n",
    "# Create the heatmap for the actions (policy)\n",
    "plt.figure(figsize=(10, 8))\n",
    "sns.heatmap(actions, cmap=\"coolwarm\", cbar=True)\n",
    "\n",
    "# set the xticks, yticks\n",
    "num_ticks = 10\n",
    "tick_skip = max(1, len(x_range) // num_ticks)\n",
    "tick_points = np.arange(len(x_range))[::tick_skip]\n",
    "plt.xticks(tick_points, np.round(theta_range[::tick_skip], 2), rotation=45)\n",
    "plt.yticks(tick_points, np.round(x_range[::tick_skip], 2), rotation=45)\n",
    "\n",
    "# Label the axes\n",
    "plt.xlabel(\"Pole Angle (theta) [radians]\")\n",
    "plt.ylabel(\"Cart Position (x) [m]\")\n",
    "\n",
    "# Title for the plot\n",
    "plt.title(\"Best Actions in CartPole Environment\")\n",
    "plt.show()\n",
    "\n",
    "########## Your code ends here #############\n",
    "\n"
   ]
  },
  {
   "cell_type": "markdown",
   "id": "25abcff7-fe09-4151-b343-f0e246725125",
   "metadata": {
    "deletable": false,
    "editable": false,
    "nbgrader": {
     "cell_type": "markdown",
     "checksum": "8b26591fe5462716bc0054bce44c792d",
     "grade": false,
     "grade_id": "cell-ff09aacaf4dcf0a0",
     "locked": true,
     "points": 10,
     "schema_version": 3,
     "solution": false,
     "task": true
    }
   },
   "source": [
    "Do not remove this cell as it is used for grading"
   ]
  },
  {
   "cell_type": "markdown",
   "id": "c88aa5e4-757d-49c8-9bec-3f23e7bc2f9f",
   "metadata": {
    "tags": []
   },
   "source": [
    "# 3. Submitting <a id='3.'></a>\n",
    "Ensure all tasks and questions (in ```ex4_dpn.ipynb``` and ```ex4_rbf.ipynb```) are answered and the necessary plots are saved in the appropriate locations. The relevant plots and files need to be included for this part of assignment are:\n",
    "\n",
    "\n",
    "- Training performance plots:\n",
    "  - `cartpole_hd.png`: Training performance of handcrafted feature plots in terms of episode and episodic reward\n",
    "  - `cartpole_rbf.png`: training performance of rbf feature plots in terms of episode and episodic reward \n",
    "<br>\n",
    "<br>\n",
    "\n",
    "  \n",
    "\n",
    "- Model files:\n",
    "  - `rbf.kpl`: Trained model\n",
    "\n",
    "\n",
    "Ensure the correct model files and plots are saved in paths:\n",
    "- ```results/CartPole-v1/cartpole_rbf.png``` Training result for Cartpole environment\n",
    "- ```results/CartPole-v1/cartpole_hd.png```  Training result for Cartpole environment\n",
    "- ```results/CartPole-v1/model/rbf.kpl``` Model for Cartpole environment\n",
    "\n",
    "\n",
    "<span style=\"color:red\"> **# IMPORTANT: DO NOT FORGET ANOTHER TASK IN ```ex4_dqn.ipynb```** </span>"
   ]
  },
  {
   "cell_type": "code",
   "execution_count": null,
   "id": "6fa5830a",
   "metadata": {
    "deletable": false,
    "editable": false,
    "nbgrader": {
     "cell_type": "code",
     "checksum": "0df485c3a518d54d556aa23bfd41b439",
     "grade": true,
     "grade_id": "cell-2c6ecd048a50b678",
     "locked": true,
     "points": 0,
     "schema_version": 3,
     "solution": false,
     "task": false
    }
   },
   "outputs": [],
   "source": [
    "# Make sure that skip training is set to True before submission\n",
    "assert skip_training == True"
   ]
  },
  {
   "cell_type": "markdown",
   "id": "7dbc83ca-dbb0-4024-868e-6718a83e9bb2",
   "metadata": {
    "tags": []
   },
   "source": [
    "## 3.1 Feedback <a id='3.1'></a>\n",
    "\n",
    "In order to help the staff of the course as well as the forthcoming students, it would be great if you could answer to the following questions in your submission:"
   ]
  },
  {
   "cell_type": "markdown",
   "id": "eee27da8-ac20-488b-9d05-c03ed1f0f837",
   "metadata": {},
   "source": [
    "1) How much time did you spend solving this exercise? (change the ```hrs``` variable below to a floating point number representing the number of hours taken e.g. 5.43)"
   ]
  },
  {
   "cell_type": "code",
   "execution_count": 30,
   "id": "f4a4e19d-39b6-466a-8fea-b63f91916cf5",
   "metadata": {
    "tags": []
   },
   "outputs": [],
   "source": [
    "hrs = 1.5"
   ]
  },
  {
   "cell_type": "markdown",
   "id": "dc128a60-a227-41b5-b6e0-531de2c3df1b",
   "metadata": {},
   "source": [
    "2) Difficulty of each task/question from 1-5 (int or float)"
   ]
  },
  {
   "cell_type": "code",
   "execution_count": 31,
   "id": "c797f06b-bf2d-4305-abe2-e2773c6fb3d8",
   "metadata": {
    "tags": []
   },
   "outputs": [],
   "source": [
    "T1_a = 3   # Implementing Hand feature \n",
    "T2_b = 3   # Implementing RBF feature \n",
    "Q1_1 = 2 # Question 1.1 Considering linear features (10 points)\n",
    "Q1_2 = 2 # Question 1.2 Experience replay (10 points)\n",
    "Q1_3 = 2 # Question 1.3 Grid vs Function (10 points)\n",
    "Q2 = 4 # Question 2 Policy visualization (10 points)"
   ]
  },
  {
   "cell_type": "markdown",
   "id": "e6612842-e130-4658-adef-181218023449",
   "metadata": {},
   "source": [
    "3) How well did you understand the content of the task/question from 1-5? (int or float)"
   ]
  },
  {
   "cell_type": "code",
   "execution_count": 32,
   "id": "5a5ea255-ca3f-4ee2-860c-147ff88373f7",
   "metadata": {
    "tags": []
   },
   "outputs": [],
   "source": [
    "T1_a = 3   # Implementing Hand feature \n",
    "T2_b = 3   # Implementing RBF feature \n",
    "Q1_1 = 4 # Question 1.1 Considering linear features (10 points)\n",
    "Q1_2 = 4 # Question 1.2 Experience replay (10 points)\n",
    "Q1_3 = 4 # Question 1.3 Grid vs Function (10 points)\n",
    "Q2 = 4 # Question 2 Policy visualization (10 points)"
   ]
  },
  {
   "cell_type": "markdown",
   "id": "77831fe1-f18d-4036-97a9-ad6d1adadfa2",
   "metadata": {},
   "source": [
    "4) General feedback. Consider questions like:\n",
    "\n",
    "    - Did the content of the lecture relate well with the assignment?\n",
    "    - To what extent did you find the material to be potentially useful for your research and studies?\n",
    "    \n",
    "Please share any additional feedback, suggestions, or comments you have about the lecture, assignment, or course content. Your input is valuable in helping us improve the learning experience."
   ]
  },
  {
   "cell_type": "markdown",
   "id": "6c8038fb-e038-4eac-87f3-ff28e0f94e9d",
   "metadata": {
    "tags": []
   },
   "source": [
    "DOUBLE CLICK HERE TO EDIT, CLEAR THIS TEXT AND ANSWER HERE"
   ]
  }
 ],
 "metadata": {
  "kernelspec": {
   "display_name": "Python 3",
   "language": "python",
   "name": "python3"
  },
  "language_info": {
   "codemirror_mode": {
    "name": "ipython",
    "version": 3
   },
   "file_extension": ".py",
   "mimetype": "text/x-python",
   "name": "python",
   "nbconvert_exporter": "python",
   "pygments_lexer": "ipython3",
   "version": "3.10.12"
  }
 },
 "nbformat": 4,
 "nbformat_minor": 5
}
