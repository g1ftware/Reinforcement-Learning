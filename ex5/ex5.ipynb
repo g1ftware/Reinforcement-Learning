{
 "cells": [
  {
   "cell_type": "markdown",
   "id": "e9b29c9b",
   "metadata": {
    "deletable": false,
    "editable": false,
    "nbgrader": {
     "cell_type": "markdown",
     "checksum": "24cdaedcd4b5dfe347328615bb32c2c1",
     "grade": false,
     "grade_id": "cell-afd59c116a3ed810",
     "locked": true,
     "schema_version": 3,
     "solution": false,
     "task": false
    }
   },
   "source": [
    "\n",
    "<div class=\"alert alert-block alert-info\">\n",
    "   <h2 align=\"center\"> <center><b> Reinforcement Learning Assignment 5 - Policy Gradient </b></center></h2>\n",
    "\n",
    "<br>\n",
    "<center><font size=\"3\">This notebook is a part of teaching material for ELEC-E8125</font></center>\n",
    "<center><font size=\"3\">Sep 4, 2024 - Nov 30, 2024</font></center>\n",
    "<center><font size=\"3\">Aalto University</font></center>\n",
    "</div>\n",
    "\n",
    "\n",
    "<a id='TOC'></a>\n",
    "\n",
    "<div class=\"alert alert-block alert-success\">\n",
    " \n",
    "# Table of contents\n",
    "* <a href='#1.'> 1. Introduction </a>\n",
    "* <a href='#1.1'> 1.1 Learning Objectives </a>\n",
    "* <a href='#1.2'> 1.2 Code Structure & Files </a>\n",
    "* <a href='#2.'> 2. Policy gradient with and without baseline</a>\n",
    "* <a href='#2.1'> 2.1 Training Loop</a>\n",
    "* <a href='#2.2'> 2.2 Policy with Fixed Variance </a>\n",
    "* <a href='#2.3'> 2.3 PG Objects</a>\n",
    "* <a href='#3.'> 3. Choosing the value of variance </a>\n",
    "* <a href='#3.1'> 3.1 Policy with Learned Variance </a>\n",
    "* <a href='#4.'> 4. PG and experience replay </a>\n",
    "* <a href='#5.'> 5. Real-world control problems </a>\n",
    "* <a href='#6.'> 6. Discrete action spaces </a>\n",
    "* <a href='#7.'> 7. Submitting </a>\n",
    "* <a href='#7.1'> 7.1 Feedback </a>\n",
    "* <a href='#8.'> References</a>\n",
    "\n",
    "<a href='#T1'><b>Student Task 1.</b> Implementing Reinforce PG algorithm </a>\\\n",
    "<a href='#T1a'><b>Student Task 1a.</b> Basic REINFORCE without baseline (15 points) </a>\\\n",
    "<a href='#T1b'><b>Student Task 1b.</b> REINFORCE with a constant baseline b = 20 (5 points) </a>\\\n",
    "<a href='#T1c'><b>Student Task 1c.</b> REINFORCE with discounted rewards normalized to zero mean and unit variance (5 points) </a>\\\n",
    "<a href='#Q1'><b>Student Question 1.1</b> A good baseline (15 points) </a>\\\n",
    "<a href='#T2'><b>Student Task 2.</b> Making Variance a Learnable Parameter (10 points) </a>\\\n",
    "<a href='#Q2'><b>Student Question 2.1</b> Constant vs Learnable Variance (5 points) </a>\\\n",
    "<a href='#Q3'><b>Student Question 2.2</b> Learnable Variance Initial Performance (5 points) </a> \\\n",
    "<a href='#Q4'><b>Student Question 3.</b> Considering a experience reply buffer (15 points)</a>\\\n",
    "<a href='#Q5'><b>Student Question 4.1</b> Considering an unbounded continuous action space part 1(5 points) </a>\\\n",
    "<a href='#Q6'><b>Student Question 4.2</b> Considering an unbounded continuous action space part 2 (10 points) </a>\\\n",
    "<a href='#Q7'><b>Student Question 5.</b> Considering discrete action spaces (10 points)</a>\n",
    "    \n",
    "**Total Points:** 100\n",
    "\n",
    "**Estimated runtime of all the cells:** 2 hours"
   ]
  },
  {
   "cell_type": "markdown",
   "id": "50c043fb",
   "metadata": {
    "deletable": false,
    "editable": false,
    "nbgrader": {
     "cell_type": "markdown",
     "checksum": "82ec0ae01bfbd06b245720b831476b14",
     "grade": false,
     "grade_id": "cell-ad52c038bf5d1c50",
     "locked": true,
     "schema_version": 3,
     "solution": false,
     "task": false
    }
   },
   "source": [
    "# 1. Introduction <a id='1.'></a>\n",
    "In this exercise, we will implement the REINFORCE policy gradient algorithm for [InvertedPendulum environment](https://gymnasium.farama.org/environments/mujoco/inverted_pendulum/). The InvertedPendulum is similar to the previously used CartPole environment, except it has a continuous action space: the action can now have values in a range of [−3,3]. The action value represents a numerical force applied to the cart, with magnitude representing the amount of force and sign representing the direction.\n",
    "\n",
    "## 1.2 Learning Objectives <a id='1.2'></a>\n",
    "- To understand how policy gradient works\n",
    "- To implement the REINFORCE policy gradient algorithm\n",
    "- To understand the limits and use cases of policy gradient\n",
    "\n",
    "## 1.3 Code Structure and Files <a id='1.3'></a>\n",
    "You don’t have to edit any other file other than ```ex5.ipynb``` to complete this exercise.\n",
    "\n",
    "```\n",
    "├───cfg                  # Config files for environments e.g. define the maximum number of steps in an episode.\n",
    "├───imgs                 # Images used in notebook\n",
    "├───results \n",
    "│   ├───logging          # Contains logged data\n",
    "│   ├───model            # Contains the policies learned\n",
    "│   └───video            # Contains videos for each environment\n",
    "│       └───InvertedPendulum-v4\n",
    "│       │  └───test      # Videos saved during testing\n",
    "│       │  └───train     # Videos saved during training\n",
    "│   ex5.ipynb            # Main assignment file containing tasks <---------\n",
    "│   setup.py             # Contains setup function\n",
    "│   utils.py             # Contains useful functions \n",
    "```\n",
    "---\n",
    "The foundational class, `PG`, stands as the base class for the Policy Gradient. Three additional classes - `PGNoBase(PG)`, `PGBase20(PG)`, and `PGGamma(PG)` - inherit from this base class. Each class corresponds to a different variant of the policy gradient:\n",
    "\n",
    "- `PGNoBase(PG)`: Implements the vanilla Policy Gradient without a baseline.\n",
    "- `PGBase20(PG)`: Utilizes a baseline of 20.\n",
    "- `PGGamma(PG)`: Employs PG gamma with discounted rewards normalized to zero mean and unit variance.\n",
    "\n",
    "# 2. Policy gradient with and without baseline <a id='2.'></a>"
   ]
  },
  {
   "cell_type": "markdown",
   "id": "298df828",
   "metadata": {
    "deletable": false,
    "editable": false,
    "nbgrader": {
     "cell_type": "markdown",
     "checksum": "8e9d507428e153788d3bffa9d165dc4e",
     "grade": false,
     "grade_id": "cell-46a132ec9dcfe4ac",
     "locked": true,
     "schema_version": 3,
     "solution": false,
     "task": false
    }
   },
   "source": [
    "## Warnings:\n",
    "\n",
    "- Don’t copy and paste cells within a notebook. This will mess up the tracking metadata and prevent autograding from working.\n",
    "- Only add new cells using the '+' button in the upper toolbar and do not split cells.\n",
    "- Be cautious about things such as copying the whole notebook to Colab to work on it. This has sometimes resulted in removing all notebook metadata, making autograding impossible."
   ]
  },
  {
   "cell_type": "markdown",
   "id": "7aabd7b5",
   "metadata": {
    "deletable": false,
    "editable": false,
    "nbgrader": {
     "cell_type": "markdown",
     "checksum": "46cf9e8cd6b3dfa2c69dcf9ebd86720f",
     "grade": false,
     "grade_id": "cell-f93aed21b4a0d27f",
     "locked": true,
     "schema_version": 3,
     "solution": false,
     "task": false
    },
    "tags": []
   },
   "source": [
    "<a id='T1'></a>\n",
    "<div class=\" alert alert-warning\">\n",
    "    <h3><b>Student Task 1.</b> Implementing Reinforce PG algorithm (25 points) </h3> \n",
    "\n",
    "Implement the REINFORCE policy gradient algorithm to balance the InvertedPendulum. \n",
    "<br> Use constant standard deviation $\\sigma = 1$ (i.e. $\\log(\\sigma) = 0$) for the output action distribution throughout the training. Implement:\n",
    "\n",
    "&nbsp;&nbsp;&nbsp;&nbsp;&nbsp;&nbsp; (a) basic REINFORCE without baseline (15 points),\n",
    "\n",
    "&nbsp;&nbsp;&nbsp;&nbsp;&nbsp;&nbsp; (b) REINFORCE with a constant baseline b = 20 (5 points),\n",
    "\n",
    "&nbsp;&nbsp;&nbsp;&nbsp;&nbsp;&nbsp; (c) REINFORCE with discounted rewards normalized to zero mean and unit variance (5 points),\n",
    "    \n",
    "**Complete the all the unfinished implementation in following cells (marked with ```TODOs```)**. \n",
    "    \n",
    "1. **Train Loop Function**: Finalize the `train_iteration(agent, env)` function to establish the training loop, similarly to how it was done in Exercise 1.\n",
    "2. **Policy Class with Fixed Variance**: Complete the `PolicyFixedVar(nn.Module)` class to generate a policy with a fixed variance.\n",
    "3. **Get Action Method**: Finish the `get_action(self, observation, evaluation=False)` method within the `PG` class, ensuring it can be inherited effectively.\n",
    "4. **Complete PG Classes**: Implepment the `PGNoBase(PG)`, `PGBase20(PG)`, and `PGGamma(PG)` classes, each tailored with a different baseline.\n",
    "\n",
    "**Hint:** The ```class PolicyFixedVar(nn.Module)```  contains a basic neural network structure. And we include reasonable\n",
    "hyperparameters in the ```cfg``` folder.\n",
    "\n",
    "**Hint:** Your policy should output a probability distribution over actions. A suitable and straightforward choice is to use a normal distribution (`from torch.distributions import Normal`). Compute log probabilities using the `log_prob` function of the distribution. We strongly recommend you to read the official PyTorch documentation to learn how to use the distributions and related functions.\n",
    "    \n",
    "🔝\t<a href='#TOC'><b>Table of Contents</b></a>\n",
    "</div>\n"
   ]
  },
  {
   "cell_type": "code",
   "execution_count": 70,
   "id": "0ca4ce4c",
   "metadata": {
    "tags": []
   },
   "outputs": [],
   "source": [
    "skip_training = True  # Set this flag to True before validation and submission"
   ]
  },
  {
   "cell_type": "code",
   "execution_count": null,
   "id": "9140b77c",
   "metadata": {
    "deletable": false,
    "editable": false,
    "nbgrader": {
     "cell_type": "code",
     "checksum": "414e47f15fa3b52031225c1d85f7c4ad",
     "grade": true,
     "grade_id": "cell-b087b63d5c88b12c",
     "locked": true,
     "points": 0,
     "schema_version": 3,
     "solution": false,
     "task": false
    }
   },
   "outputs": [],
   "source": []
  },
  {
   "cell_type": "code",
   "execution_count": 2,
   "id": "46471b1e-91d6-48bb-bb0d-f3de4be1aa79",
   "metadata": {
    "tags": []
   },
   "outputs": [],
   "source": [
    "# Importing system and path-related modules\n",
    "import sys\n",
    "import os\n",
    "sys.path.insert(0, os.path.abspath(\"..\"))\n",
    "\n",
    "# Importing PyTorch related modules\n",
    "import torch\n",
    "from torch import nn\n",
    "from torch.distributions import Normal\n",
    "import torch.nn.functional as F\n",
    "\n",
    "# Importing other third-party modules\n",
    "import numpy as np\n",
    "import yaml\n",
    "from pathlib import Path\n",
    "from IPython.display import Video  # to display videos\n",
    "\n",
    "# Importing local utility modules\n",
    "import utils as u\n",
    "from setup import setup\n",
    "\n",
    "# Setting the device for storing tensors/calculations\n",
    "device = 'cpu'"
   ]
  },
  {
   "cell_type": "markdown",
   "id": "a55e45ae",
   "metadata": {
    "tags": []
   },
   "source": [
    "## 2.1 Training Loop <a id='2.1'></a>\n",
    "\n",
    "In the subsequent cell, a foundational framework is provided for training a Reinforcement Learning (RL) agent employing the REINFORCE algorithm. It is constructed to efficiently monitor the agent's progress and performance throughout the training phase. Please complete the training loop, marked with `TODO`, to finalize the setup for the agent’s training process."
   ]
  },
  {
   "cell_type": "code",
   "execution_count": 3,
   "id": "428ff872",
   "metadata": {
    "tags": []
   },
   "outputs": [],
   "source": [
    "def to_numpy(tensor):\n",
    "    \"\"\"\n",
    "    Convert a PyTorch tensor to a NumPy array.\n",
    "\n",
    "    :param tensor: A PyTorch tensor.\n",
    "    :return: The converted NumPy array.\n",
    "    \"\"\"\n",
    "    # Squeeze the tensor, move it to CPU and convert to NumPy array\n",
    "    return tensor.squeeze(0).cpu().numpy()\n",
    "\n",
    "\n",
    "def train_iteration(agent, env):\n",
    "    # Policy training function\n",
    "\n",
    "    # Reset the environment and observe the initial state\n",
    "    reward_sum, timesteps, done = 0, 0, False\n",
    "    obs, _ = env.reset(seed=409)\n",
    "\n",
    "    while not done:\n",
    "        # TODO: Task 1: finish the train loop, including \n",
    "        # 1. Call agent.get_action to get action and log prob of the action\n",
    "        # 2. Call env.step with the action (note: you need to convert the action into a numpy array -- use the function to_numpy for this)\n",
    "        #   (Steps 1. and 2. you can also find from the 'test' function below)\n",
    "        # 3. Store the log prob of action and reward by calling agent.record\n",
    "        # 4. Update reward_sum by adding the reward received from env.step, and increase timesteps by one\n",
    "        # 5. Use the observation you receive from env.step to call agent.get_action for the next timestep \n",
    "        #   (Hint: ensure to use the `.copy()` method to avoid unexpected behavior due to aliasing.)\n",
    "\n",
    "        ########### Your code starts here ###########\n",
    "        # 1. Call agent.get_action to get action and log prob of the action\n",
    "        action, log_prob = agent.get_action(obs)\n",
    "\n",
    "        # 2. Call env.step with the action (note: you need to convert the action into a numpy array -- use the function to_numpy for this)\n",
    "        next_obs, reward, done, _, _ = env.step(to_numpy(action))\n",
    "\n",
    "        # 3. Store the log prob of action and reward by calling agent.record\n",
    "        agent.record(log_prob, reward)\n",
    "\n",
    "        # 4. Update reward_sum by adding the reward received from env.step, and increase timesteps by one\n",
    "        reward_sum += reward\n",
    "        timesteps += 1\n",
    "\n",
    "        # 5. Use the observation you receive from env.step to call agent.get_action for the next timestep\n",
    "        obs = next_obs.copy()\n",
    "\n",
    "        ########## Your codes ends here. ##########\n",
    "        if timesteps >= 1000:\n",
    "            done = True\n",
    "            \n",
    "    # Update the policy after one episode\n",
    "    info = agent.update()\n",
    "\n",
    "    # Return stats of training\n",
    "    info.update({'timesteps': timesteps,\n",
    "                'ep_reward': reward_sum,})\n",
    "    return info\n",
    "\n",
    "\n",
    "def train(agent_class, cfg_path, cfg_args={}):\n",
    "    env, cfg = setup(cfg_path, cfg_args=cfg_args)\n",
    "    performance_data = []\n",
    "    \n",
    "    if cfg.save_logging: \n",
    "        u.make_dir(Path().cwd()/'results'/cfg.env_name/\"logging\")\n",
    "        L = u.Logger() # create a simple logger to record stats\n",
    "        \n",
    "    # Get state and action dimensionality\n",
    "    state_dim = env.observation_space.shape[0]\n",
    "    action_dim = env.action_space.shape[0]\n",
    "\n",
    "    # Initialise the policy gradient agent\n",
    "    agent = agent_class(state_dim, action_dim, float(cfg.lr), float(cfg.gamma))\n",
    "    \n",
    "    for ep in range(cfg.train_episodes):\n",
    "        # collect data and update the policy\n",
    "        train_info = train_iteration(agent, env)\n",
    "        train_info.update({'episodes': ep})\n",
    "\n",
    "        if cfg.save_logging:\n",
    "            L.log(**train_info)\n",
    "        if (not cfg.silent) and (ep % 100 == 0):\n",
    "            print({\"ep\": ep, **train_info})\n",
    "\n",
    "        performance_data.append(train_info)\n",
    "        \n",
    "    u.plot_training_data(performance_data)\n",
    "    if cfg.save_model:\n",
    "        agent.save(cfg.model_path)\n",
    "    \n",
    "    print(\"Training complete!\")\n",
    "    \n",
    "\n",
    "# Function to test a trained policy\n",
    "@torch.no_grad()\n",
    "def test(agent_class, cfg_path, cfg_args={}, num_episodes=10, seeds=None):\n",
    "    env, cfg = setup(cfg_path, cfg_args=cfg_args)\n",
    "    \n",
    "    # Get state and action dimensionality\n",
    "    state_dim = env.observation_space.shape[0]\n",
    "    action_dim = env.action_space.shape[0]\n",
    "\n",
    "    # Initialise the policy gradient agent\n",
    "    agent = agent_class(state_dim, action_dim, float(cfg.lr), float(cfg.gamma))\n",
    "    \n",
    "    print(\"Loading model from\", cfg.model_path, \"...\")\n",
    "    agent.load(cfg.model_path)\n",
    "        \n",
    "    test_rewards = []\n",
    "    for ep in range(num_episodes):\n",
    "\n",
    "        if seeds != None:\n",
    "            test_seed = seeds[ep % len(seeds)]\n",
    "            print(\"Episode seed: \", test_seed)\n",
    "            (obs, _)  = env.reset(seed=test_seed)\n",
    "        else :\n",
    "            (obs, _)  = env.reset()\n",
    "        done=  False\n",
    "        test_reward = 0\n",
    "        timesteps = 0\n",
    "        \n",
    "        while not done:\n",
    "            # Similar to the training loop above -\n",
    "            # get the action, act on the environment, save total reward\n",
    "            # (evaluation=True makes the agent always return what it thinks to be\n",
    "            # the best action - there is no exploration at this point)\n",
    "            action, _ = agent.get_action(obs, evaluation=True)\n",
    "\n",
    "            \n",
    "            obs, reward, done, _, info = env.step(to_numpy(action))\n",
    "            timesteps += 1\n",
    "            test_reward += reward\n",
    "            \n",
    "            if timesteps >= 1000:\n",
    "                done = True\n",
    "        test_rewards.append(test_reward)\n",
    "\n",
    "        print(\"Test ep_reward:\", test_reward)\n",
    "\n",
    "    print(\"Median test reward:\", np.median(test_rewards))"
   ]
  },
  {
   "cell_type": "markdown",
   "id": "ac054ea1",
   "metadata": {},
   "source": [
    "## 2.2 Policy with Fixed Variance <a id='2.2'></a>\n",
    "\n",
    "This code is designed to establish a neural network policy where the variance is constant. The `PolicyFixedVar` class, which is a subclass of `nn.Module`, defines this policy. The policy uses a neural network to map states to actions, outputting a normal distribution with a mean and a standard deviation. \n",
    "\n",
    "#### Task:\n",
    "1. **Implementing actor_logstd:**\n",
    "   - Initialize `self.actor_logstd` as a torch tensor with zeros, ensuring to set the `device` parameter for appropriate storage.\n",
    "\n",
    "2. **Create and Return Distribution:**\n",
    "   - In the `forward` method, create a Normal distribution (`probs`) with the computed `action_mean` and `action_std`. This distribution represents the policy’s output given a state input."
   ]
  },
  {
   "cell_type": "code",
   "execution_count": 4,
   "id": "77a5cc6b",
   "metadata": {
    "tags": []
   },
   "outputs": [],
   "source": [
    "# Initialisation function for neural network layers\n",
    "def layer_init(layer, std=np.sqrt(2), bias_const=0.0):\n",
    "    torch.nn.init.orthogonal_(layer.weight, std)\n",
    "    torch.nn.init.constant_(layer.bias, bias_const)\n",
    "    return layer\n",
    "\n",
    "\n",
    "# This class defines the neural network policy\n",
    "class PolicyFixedVar(nn.Module):\n",
    "    def __init__(self, state_dim, action_dim):\n",
    "        super(PolicyFixedVar, self).__init__()\n",
    "\n",
    "        # Initialise a neural network with two hidden layers (64 neurons per layer)\n",
    "        self.actor_mean = nn.Sequential(\n",
    "            layer_init(nn.Linear(state_dim, 64)),\n",
    "            nn.Tanh(),\n",
    "            layer_init(nn.Linear(64, 64)),\n",
    "            nn.Tanh(),\n",
    "            layer_init(nn.Linear(64, action_dim), std=0.01),\n",
    "        )\n",
    "\n",
    "        # TODO: Task 1: Implement actor_logstd as a torch tensor. \n",
    "        # Hint: when creating the torch tensor, remember to set the parameter device=device \n",
    "        #       so the tensor is stored correctly on CUDA (if applicable) \n",
    "        ########## Your code starts here. ###########\n",
    "        self.actor_logstd = nn.Parameter(torch.zeros(action_dim, device=device))\n",
    "        ########## Your code ends here. ##########\n",
    "\n",
    "    # Do a forward pass to map state to action\n",
    "    def forward(self, state):\n",
    "        # Get mean of a Normal distribution (the output of the neural network)\n",
    "        action_mean = self.actor_mean(state)\n",
    "\n",
    "        # Make sure action_logstd matches dimension of action_mean\n",
    "        action_logstd = self.actor_logstd.expand_as(action_mean)\n",
    "\n",
    "        # Exponentiate the log std to get actual std\n",
    "        action_std = torch.exp(action_logstd)\n",
    "\n",
    "        # TODO: Task 1: Create a Normal distribution with mean of 'action_mean' and standard deviation of 'action_std', and return the distribution\n",
    "        # Use the torch.distributions class\n",
    "        ########## Your code starts here. ###########\n",
    "        probs = Normal(action_mean, action_std)\n",
    "        ########## Your code ends here. ##########\n",
    "        return probs"
   ]
  },
  {
   "cell_type": "code",
   "execution_count": 5,
   "id": "b677a295",
   "metadata": {
    "deletable": false,
    "editable": false,
    "nbgrader": {
     "cell_type": "code",
     "checksum": "e673d7a1cb02204c75f9b5ea389b7d84",
     "grade": true,
     "grade_id": "cell-8e7d3a4799495ca0",
     "locked": true,
     "points": 0,
     "schema_version": 3,
     "solution": false,
     "task": false
    },
    "tags": []
   },
   "outputs": [],
   "source": [
    "# Test Policy\n",
    "def test_return_class():\n",
    "    policy = PolicyFixedVar(4, 1)\n",
    "    x = torch.Tensor((1.,2.,3.,4.)).reshape((1,4))\n",
    "    assert isinstance( policy.forward(x),Normal)\n",
    "\n",
    "test_return_class()"
   ]
  },
  {
   "cell_type": "markdown",
   "id": "4de05f7e",
   "metadata": {},
   "source": [
    "## 2.3 PG Objects <a id='2.3'></a>\n",
    "\n",
    "The `PG` class is defined as the Policy Gradient base class. This class forms the foundation for implementing policy gradient algorithms, providing a structured format and placeholders for essential functions and variables used in these algorithms. The methods within this class will be used to interact with, update, and manage the policy used by the agent to make decisions in the environment.\n",
    "\n",
    "Task: Implementing the `get_action` Method."
   ]
  },
  {
   "cell_type": "code",
   "execution_count": 6,
   "id": "7e300959",
   "metadata": {
    "tags": []
   },
   "outputs": [],
   "source": [
    "# Class for the Policy Gradient algorithm\n",
    "class PG(object):\n",
    "    def __init__(self, state_dim, action_dim, lr, gamma):\n",
    "        # Define the neural network policy with fixed variance \n",
    "        self.policy = PolicyFixedVar(state_dim, action_dim).to(device)\n",
    "\n",
    "        # Create an optimizer\n",
    "        self.optimizer = torch.optim.Adam(self.policy.parameters(), lr=lr)\n",
    "\n",
    "        # Set discount factor value\n",
    "        self.gamma = gamma\n",
    "\n",
    "        # Simple buffers for action probabilities and rewards\n",
    "        self.action_probs = []\n",
    "        self.rewards = []\n",
    "\n",
    "    def update(self):\n",
    "        pass\n",
    "\n",
    "    def record(self, action_prob, reward):\n",
    "        \"\"\" Store agent's and env's outcomes to update the agent.\"\"\"\n",
    "        self.action_probs.append(action_prob)\n",
    "        self.rewards.append(torch.tensor([reward]))\n",
    "\n",
    "    def save(self, filepath):\n",
    "        torch.save(self.policy.state_dict(), filepath)\n",
    "\n",
    "    def load(self, filepath):\n",
    "        self.policy.load_state_dict(torch.load(filepath))\n",
    "    \n",
    "    def get_action(self, observation, evaluation=False):\n",
    "        \"\"\"Return action and logprob of this action.\"\"\"\n",
    "\n",
    "        # Add batch dimension if necessary\n",
    "        if observation.ndim == 1: \n",
    "            observation = observation[None]\n",
    "\n",
    "        # Convert observation to a torch tensor\n",
    "        x = torch.from_numpy(observation).float().to(device)\n",
    "\n",
    "        # TODO: Task 1: Calculate action and its log_prob\n",
    "        ########## Your code starts here. ###########\n",
    "        # Hint: \n",
    "        #   1. when evaluation=True, return mean, otherwise return samples from the distribution created in self.policy.forward() function.\n",
    "        #   2. notice the shape of action and act_logprob.\n",
    "        \n",
    "        # Pass state x through the policy network (T1)\n",
    "        action_distribution = self.policy.forward(x)\n",
    "        \n",
    "        # Return mean if evaluation, else sample from the distribution\n",
    "        if evaluation:\n",
    "            action = action_distribution.mean\n",
    "        else:\n",
    "            action = action_distribution.sample()\n",
    "        \n",
    "        # Calculate the log probability of the action (T1)\n",
    "        act_logprob = action_distribution.log_prob(action).sum(dim=-1)\n",
    "    \n",
    "        ########## Your code ends here. ##########\n",
    "        \n",
    "        if observation.ndim == 1: \n",
    "            action = action[0]\n",
    "\n",
    "        return action, act_logprob"
   ]
  },
  {
   "cell_type": "markdown",
   "id": "61981975",
   "metadata": {},
   "source": [
    "<a id='T1a'></a>\n",
    "<div class=\" alert alert-warning\">\n",
    "    <h3><b>Student Task 1a.</b> Basic REINFORCE without baseline (15 points) </h3> \n",
    "The training performance plot might look like Figure 1a. \n",
    "    <figure style=\"text-align: center\">\n",
    "    <img src=\"imgs/PGNoBase.svg\" width=\"600px\">\n",
    "    <figcaption style=\"text-align: center\"> Figure 1a: REINFORCE without baseline. </figcaption>\n",
    "    </figure>\n",
    "    \n",
    "🔝\t<a href='#TOC'><b>Table of Contents</b></a>\n",
    "</div>\n"
   ]
  },
  {
   "cell_type": "code",
   "execution_count": 11,
   "id": "e164da7c",
   "metadata": {
    "tags": []
   },
   "outputs": [],
   "source": [
    "class PGNoBase(PG):\n",
    "    def __init__(self, state_dim, action_dim, lr, gamma):\n",
    "        super().__init__(state_dim, action_dim, lr, gamma)\n",
    "\n",
    "    # TODO: Task 1: Implement the policy gradient\n",
    "    # Complete the following 2 functions\n",
    "    # Hints:\n",
    "    #   1. compute discounted rewards (use the discount_rewards function offered in common.helper)\n",
    "    #   2. compute the policy gradient loss\n",
    "    \n",
    "    # Compute discounted rewards \n",
    "    def calculate_discounted_rewards(self, rewards):\n",
    "        ########## Your code starts here. ##########\n",
    "         # Use tensor operations directly instead of list\n",
    "        discounted_rewards = torch.zeros_like(rewards, dtype=torch.float32).to(device)\n",
    "        cumulative_reward = 0\n",
    "\n",
    "        # Iterate from the end of the rewards tensor to the beginning\n",
    "        for t in reversed(range(rewards.size(0))):\n",
    "            cumulative_reward = rewards[t] + self.gamma * cumulative_reward\n",
    "            discounted_rewards[t] = cumulative_reward\n",
    "        ########## Your code ends here. ##########\n",
    "        return discounted_rewards\n",
    "\n",
    "    # Calculate the PG loss\n",
    "    def calculate_loss(self, action_probs, discounted_rewards):\n",
    "        ########## Your code starts here. ##########\n",
    "        # To calculate the loss, multiply the log probabilities by the discounted rewards and then take the mean.\n",
    "        # action_probs are already log probabilities, so multiply directly.\n",
    "        loss = -torch.mean(action_probs * discounted_rewards)\n",
    "        ########## Your code ends here. ##########\n",
    "        return loss\n",
    "    \n",
    "    def update(self):\n",
    "        # Prepare dataset used to update policy\n",
    "        action_probs = torch.stack(self.action_probs, dim=0).to(device).squeeze(-1) # shape: [batch_size,]\n",
    "        rewards = torch.stack(self.rewards, dim=0).to(device).squeeze(-1) # shape [batch_size,]\n",
    "        self.action_probs, self.rewards = [], [] # clean buffers\n",
    "        \n",
    "        # Task 1: Implement the policy gradient\n",
    "        \n",
    "        # Compute discounted rewards \n",
    "        discounted_rewards = self.calculate_discounted_rewards(rewards)\n",
    "\n",
    "        # Calculate the PG loss\n",
    "        loss = self.calculate_loss(action_probs, discounted_rewards)\n",
    "       \n",
    "        # Backprop gradients\n",
    "        loss.backward()  \n",
    "\n",
    "        # Do the optimizer step \n",
    "        self.optimizer.step() \n",
    "        self.optimizer.zero_grad() \n",
    "\n",
    "        # if you want to log something in wandb, you can put them inside the {}, otherwise, just leave it empty.\n",
    "        return {'logstd': self.policy.actor_logstd.cpu().detach().numpy()}"
   ]
  },
  {
   "cell_type": "code",
   "execution_count": 12,
   "id": "63656ac2",
   "metadata": {
    "deletable": false,
    "editable": false,
    "nbgrader": {
     "cell_type": "code",
     "checksum": "58227601cec76e5daee3bee9f5cb8f0c",
     "grade": true,
     "grade_id": "cell-170a359e31be5be6",
     "locked": true,
     "points": 0,
     "schema_version": 3,
     "solution": false,
     "task": false
    },
    "tags": []
   },
   "outputs": [
    {
     "name": "stdout",
     "output_type": "stream",
     "text": [
      "Numpy/Torch/Random Seed:  43\n"
     ]
    }
   ],
   "source": [
    "%%capture --no-stdout\n",
    "\"TEST CELL\"\n",
    "#Test get_action method\n",
    "def test_get_action_1():\n",
    "    cfg_path=Path().cwd()/'cfg'/'inverted_pendulum.yaml'\n",
    "    env, cfg = setup(cfg_path, cfg_args={\"model_name\":\"PG\",\"seed\": 43})\n",
    "    state_dim = env.observation_space.shape[0]\n",
    "    action_dim = env.action_space.shape[0]\n",
    "    agent = PG(state_dim, action_dim, float(cfg.lr), float(cfg.gamma))\n",
    "    obs = np.array( [0.00565713,  0.00385536, -0.09085017,  0.20961052] )\n",
    "    action = -0.0009746950818225741\n",
    "    assert np.allclose(agent.get_action(obs,True)[0].item(),action,0.001)\n",
    "    \n",
    "    agent2 = PG(state_dim, 3, float(cfg.lr), float(cfg.gamma))\n",
    "    assert tuple(agent2.get_action(obs,True)[1].shape) == (1,)\n",
    "\n",
    "test_get_action_1()"
   ]
  },
  {
   "cell_type": "code",
   "execution_count": 13,
   "id": "d27e7ee9",
   "metadata": {
    "deletable": false,
    "editable": false,
    "nbgrader": {
     "cell_type": "code",
     "checksum": "5e264785d47b98f7c755dac88b8a7a3d",
     "grade": true,
     "grade_id": "cell-01beb3c8be62ffc0",
     "locked": true,
     "points": 10,
     "schema_version": 3,
     "solution": false,
     "task": false
    },
    "tags": []
   },
   "outputs": [],
   "source": [
    "%%capture --no-stdout\n",
    "\"TEST CELL\""
   ]
  },
  {
   "cell_type": "code",
   "execution_count": 14,
   "id": "2f72fee2",
   "metadata": {
    "tags": []
   },
   "outputs": [
    {
     "name": "stdout",
     "output_type": "stream",
     "text": [
      "Numpy/Torch/Random Seed:  409\n",
      "{'ep': 0, 'logstd': array([0.002], dtype=float32), 'timesteps': 5, 'ep_reward': 5.0, 'episodes': 0}\n",
      "{'ep': 100, 'logstd': array([0.00444133], dtype=float32), 'timesteps': 22, 'ep_reward': 22.0, 'episodes': 100}\n",
      "{'ep': 200, 'logstd': array([0.0162301], dtype=float32), 'timesteps': 46, 'ep_reward': 46.0, 'episodes': 200}\n",
      "{'ep': 300, 'logstd': array([-0.015916], dtype=float32), 'timesteps': 73, 'ep_reward': 73.0, 'episodes': 300}\n",
      "{'ep': 400, 'logstd': array([-0.05132378], dtype=float32), 'timesteps': 99, 'ep_reward': 99.0, 'episodes': 400}\n",
      "{'ep': 500, 'logstd': array([-0.02591132], dtype=float32), 'timesteps': 294, 'ep_reward': 294.0, 'episodes': 500}\n",
      "{'ep': 600, 'logstd': array([-0.04172039], dtype=float32), 'timesteps': 37, 'ep_reward': 37.0, 'episodes': 600}\n",
      "{'ep': 700, 'logstd': array([-0.02856183], dtype=float32), 'timesteps': 32, 'ep_reward': 32.0, 'episodes': 700}\n",
      "{'ep': 800, 'logstd': array([-0.00042379], dtype=float32), 'timesteps': 34, 'ep_reward': 34.0, 'episodes': 800}\n",
      "{'ep': 900, 'logstd': array([-0.00471956], dtype=float32), 'timesteps': 38, 'ep_reward': 38.0, 'episodes': 900}\n"
     ]
    },
    {
     "data": {
      "image/png": "[encoded data removed]",
      "text/plain": [
       "<Figure size 450x350 with 1 Axes>"
      ]
     },
     "metadata": {},
     "output_type": "display_data"
    },
    {
     "name": "stdout",
     "output_type": "stream",
     "text": [
      "Training complete!\n"
     ]
    }
   ],
   "source": [
    "if not skip_training:\n",
    "    train(PGNoBase, cfg_path=Path().cwd() / 'cfg' / 'inverted_pendulum.yaml', cfg_args=dict(model_name=\"PGNoBase\")) # < 7 mins"
   ]
  },
  {
   "cell_type": "code",
   "execution_count": 15,
   "id": "09ab5a2e",
   "metadata": {
    "tags": []
   },
   "outputs": [
    {
     "name": "stdout",
     "output_type": "stream",
     "text": [
      "Numpy/Torch/Random Seed:  409\n",
      "Loading model from /notebooks/rl2024/ex5/results/InvertedPendulum-v4/model/PGNoBase_params.pt ...\n",
      "Test ep_reward: 28.0\n",
      "Test ep_reward: 30.0\n",
      "Test ep_reward: 37.0\n",
      "Test ep_reward: 35.0\n",
      "Test ep_reward: 12.0\n",
      "Test ep_reward: 20.0\n",
      "Test ep_reward: 27.0\n",
      "Test ep_reward: 9.0\n",
      "Test ep_reward: 27.0\n",
      "Test ep_reward: 14.0\n",
      "Median test reward: 27.0\n"
     ]
    }
   ],
   "source": [
    "if not skip_training:\n",
    "    test(PGNoBase, cfg_path=Path().cwd() / 'cfg' / 'inverted_pendulum.yaml', cfg_args=dict(model_name=\"PGNoBase\", save_video=True, testing=True)) "
   ]
  },
  {
   "cell_type": "code",
   "execution_count": null,
   "id": "2714f3db",
   "metadata": {
    "deletable": false,
    "editable": false,
    "nbgrader": {
     "cell_type": "code",
     "checksum": "6c2e40d8dc91bbf04c0c774bcec4807f",
     "grade": true,
     "grade_id": "cell-88ff36aa060ed0d0",
     "locked": true,
     "points": 1,
     "schema_version": 3,
     "solution": false,
     "task": false
    }
   },
   "outputs": [],
   "source": []
  },
  {
   "cell_type": "code",
   "execution_count": 16,
   "id": "e5178279",
   "metadata": {
    "deletable": false,
    "editable": false,
    "nbgrader": {
     "cell_type": "code",
     "checksum": "f1773f5d1773107777dffbcfb71019cf",
     "grade": true,
     "grade_id": "cell-9efc8886a62a7f68",
     "locked": true,
     "points": 2,
     "schema_version": 3,
     "solution": false,
     "task": false
    },
    "tags": []
   },
   "outputs": [
    {
     "name": "stdout",
     "output_type": "stream",
     "text": [
      "Numpy/Torch/Random Seed:  43\n"
     ]
    }
   ],
   "source": [
    "%%capture --no-stdout\n",
    "\"TEST CELL\"\n",
    "def test_pgnobase_update_1():\n",
    "    agent_class = PGNoBase\n",
    "    cfg_path=Path().cwd() / 'cfg' / 'inverted_pendulum.yaml'\n",
    "    cfg_args=dict(model_name=\"PGNoBase\", seed=43)\n",
    "    env, cfg = setup(cfg_path, cfg_args=cfg_args)\n",
    "\n",
    "    state_dim = env.observation_space.shape[0]\n",
    "    action_dim = env.action_space.shape[0]\n",
    "\n",
    "    agent = agent_class(state_dim, action_dim, float(cfg.lr), float(cfg.gamma))\n",
    "\n",
    "    test_reward = torch.Tensor([1., 1., 1., 1., 1., 1., 1., 1.])\n",
    "    test_action_prob = torch.Tensor([-2.4205, -2.1635, -1.2791, -1.2655, -0.9205, -0.9366, -4.9679, -2.1623])\n",
    "    test_discounted_reward = torch.Tensor([7.7255, 6.7935, 5.8520, 4.9010, 3.9404, 2.9701, 1.9900, 1.0000])\n",
    "\n",
    "    assert torch.allclose(agent.calculate_discounted_rewards(test_reward), test_discounted_reward, 0.001)\n",
    "    assert torch.allclose(agent.calculate_loss(test_action_prob, test_discounted_reward), torch.tensor(8.1928), 0.001)\n",
    "\n",
    "test_pgnobase_update_1()"
   ]
  },
  {
   "cell_type": "code",
   "execution_count": 17,
   "id": "3a39f4ea",
   "metadata": {
    "deletable": false,
    "editable": false,
    "nbgrader": {
     "cell_type": "code",
     "checksum": "a71971cc15d36173098a756d78fa1f2e",
     "grade": true,
     "grade_id": "cell-327283bf9249663a",
     "locked": true,
     "points": 2,
     "schema_version": 3,
     "solution": false,
     "task": false
    },
    "tags": []
   },
   "outputs": [],
   "source": [
    "%%capture --no-stdout\n",
    "\"TEST CELL\""
   ]
  },
  {
   "cell_type": "code",
   "execution_count": 18,
   "id": "8ff999fb",
   "metadata": {
    "tags": []
   },
   "outputs": [
    {
     "data": {
      "text/html": [
       "<video controls  >\n",
       " <source src=\"data:video/mp4;base64,AAAAIGZ0eXBpc29tAAACAGlzb21pc28yYXZjMW1wNDEAAAAIZnJlZQAABMhtZGF0AAACrwYF//+r3EXpvebZSLeWLNgg2SPu73gyNjQgLSBjb3JlIDE2NCByMzA5NSBiYWVlNDAwIC0gSC4yNjQvTVBFRy00IEFWQyBjb2RlYyAtIENvcHlsZWZ0IDIwMDMtMjAyMiAtIGh0dHA6Ly93d3cudmlkZW9sYW4ub3JnL3gyNjQuaHRtbCAtIG9wdGlvbnM6IGNhYmFjPTEgcmVmPTMgZGVibG9jaz0xOjA6MCBhbmFseXNlPTB4MzoweDExMyBtZT1oZXggc3VibWU9NyBwc3k9MSBwc3lfcmQ9MS4wMDowLjAwIG1peGVkX3JlZj0xIG1lX3JhbmdlPTE2IGNocm9tYV9tZT0xIHRyZWxsaXM9MSA4eDhkY3Q9MSBjcW09MCBkZWFkem9uZT0yMSwxMSBmYXN0X3Bza2lwPTEgY2hyb21hX3FwX29mZnNldD0tMiB0aHJlYWRzPTE1IGxvb2thaGVhZF90aHJlYWRzPTIgc2xpY2VkX3RocmVhZHM9MCBucj0wIGRlY2ltYXRlPTEgaW50ZXJsYWNlZD0wIGJsdXJheV9jb21wYXQ9MCBjb25zdHJhaW5lZF9pbnRyYT0wIGJmcmFtZXM9MyBiX3B5cmFtaWQ9MiBiX2FkYXB0PTEgYl9iaWFzPTAgZGlyZWN0PTEgd2VpZ2h0Yj0xIG9wZW5fZ29wPTAgd2VpZ2h0cD0yIGtleWludD0yNTAga2V5aW50X21pbj0yNSBzY2VuZWN1dD00MCBpbnRyYV9yZWZyZXNoPTAgcmNfbG9va2FoZWFkPTQwIHJjPWNyZiBtYnRyZWU9MSBjcmY9MjMuMCBxY29tcD0wLjYwIHFwbWluPTAgcXBtYXg9NjkgcXBzdGVwPTQgaXBfcmF0aW89MS40MCBhcT0xOjEuMDAAgAAAAFlliIQAO//+906/AptUwioDklcK9sqkJlm5UmsB8qYAAAMAAAMAOtqrOL24DZ8eoAACMAASwcZcUtW92MxUr1VPKXAAAAMAAAMAAAMAAAMAAAMAAAMAAAMD0wAAABFBmiRsQ7/+qZYAAAMAAAMBgwAAAA5BnkJ4hf8AAAMAAAMBxwAAAA4BnmF0Qr8AAAMAAAMCbgAAAA4BnmNqQr8AAAMAAAMCbwAAABdBmmhJqEFomUwId//+qZYAAAMAAAMBgwAAABBBnoZFESwv/wAAAwAAAwHHAAAADgGepXRCvwAAAwAAAwJvAAAADgGep2pCvwAAAwAAAwJuAAAAF0GarEmoQWyZTAhv//6nhAAAAwAAAwMCAAAAEEGeykUVLC//AAADAAADAccAAAAOAZ7pdEK/AAADAAADAm4AAAAOAZ7rakK/AAADAAADAm4AAAAXQZrwSahBbJlMCG///qeEAAADAAADAwMAAAAQQZ8ORRUsL/8AAAMAAAMBxwAAAA4Bny10Qr8AAAMAAAMCbwAAAA4Bny9qQr8AAAMAAAMCbgAAABZBmzRJqEFsmUwIX//+jLAAAAMAAAvIAAAAEEGfUkUVLC//AAADAAADAccAAAAOAZ9xdEK/AAADAAADAm4AAAAOAZ9zakK/AAADAAADAm4AAAAWQZt1SahBbJlMCFf//jhAAAADAAAtoQAABDJtb292AAAAbG12aGQAAAAAAAAAAAAAAAAAAAPoAAADcAABAAABAAAAAAAAAAAAAAAAAQAAAAAAAAAAAAAAAAAAAAEAAAAAAAAAAAAAAAAAAEAAAAAAAAAAAAAAAAAAAAAAAAAAAAAAAAAAAAAAAAACAAADXHRyYWsAAABcdGtoZAAAAAMAAAAAAAAAAAAAAAEAAAAAAAADcAAAAAAAAAAAAAAAAAAAAAAAAQAAAAAAAAAAAAAAAAAAAAEAAAAAAAAAAAAAAAAAAEAAAAAB4AAAAeAAAAAAACRlZHRzAAAAHGVsc3QAAAAAAAAAAQAAA3AAAAQAAAEAAAAAAtRtZGlhAAAAIG1kaGQAAAAAAAAAAAAAAAAAADIAAAAsAFXEAAAAAAAtaGRscgAAAAAAAAAAdmlkZQAAAAAAAAAAAAAAAFZpZGVvSGFuZGxlcgAAAAJ/bWluZgAAABR2bWhkAAAAAQAAAAAAAAAAAAAAJGRpbmYAAAAcZHJlZgAAAAAAAAABAAAADHVybCAAAAABAAACP3N0YmwAAACvc3RzZAAAAAAAAAABAAAAn2F2YzEAAAAAAAAAAQAAAAAAAAAAAAAAAAAAAAAB4AHgAEgAAABIAAAAAAAAAAEVTGF2YzYwLjMxLjEwMiBsaWJ4MjY0AAAAAAAAAAAAAAAY//8AAAA1YXZjQwFkAB7/4QAYZ2QAHqzZQeD2hAAAAwAEAAADAMg8WLZYAQAGaOvjyyLA/fj4AAAAABRidHJ0AAAAAAAAKy4AACsuAAAAGHN0dHMAAAAAAAAAAQAAABYAAAIAAAAAFHN0c3MAAAAAAAAAAQAAAAEAAADAY3R0cwAAAAAAAAAWAAAAAQAABAAAAAABAAAKAAAAAAEAAAQAAAAAAQAAAAAAAAABAAACAAAAAAEAAAoAAAAAAQAABAAAAAABAAAAAAAAAAEAAAIAAAAAAQAACgAAAAABAAAEAAAAAAEAAAAAAAAAAQAAAgAAAAABAAAKAAAAAAEAAAQAAAAAAQAAAAAAAAABAAACAAAAAAEAAAoAAAAAAQAABAAAAAABAAAAAAAAAAEAAAIAAAAAAQAABAAAAAAcc3RzYwAAAAAAAAABAAAAAQAAABYAAAABAAAAbHN0c3oAAAAAAAAAAAAAABYAAAMQAAAAFQAAABIAAAASAAAAEgAAABsAAAAUAAAAEgAAABIAAAAbAAAAFAAAABIAAAASAAAAGwAAABQAAAASAAAAEgAAABoAAAAUAAAAEgAAABIAAAAaAAAAFHN0Y28AAAAAAAAAAQAAADAAAABidWR0YQAAAFptZXRhAAAAAAAAACFoZGxyAAAAAAAAAABtZGlyYXBwbAAAAAAAAAAAAAAAAC1pbHN0AAAAJal0b28AAAAdZGF0YQAAAAEAAAAATGF2ZjYwLjE2LjEwMA==\" type=\"video/mp4\">\n",
       " Your browser does not support the video tag.\n",
       " </video>"
      ],
      "text/plain": [
       "<IPython.core.display.Video object>"
      ]
     },
     "metadata": {},
     "output_type": "display_data"
    }
   ],
   "source": [
    "if not skip_training:\n",
    "      video = Video(Path().cwd()/'results'/'InvertedPendulum-v4'/'video'/'test'/'ex5-episode-5.mp4',\n",
    "      embed=True, html_attributes=\"controls\") # Set html_attributes=\"controls\" for video control\n",
    "      display(video)"
   ]
  },
  {
   "cell_type": "code",
   "execution_count": 19,
   "id": "e39a2410-d8ea-4e1f-b10a-e112816124e7",
   "metadata": {
    "tags": []
   },
   "outputs": [
    {
     "data": {
      "text/html": [
       "<video controls  >\n",
       " <source src=\"data:video/mp4;base64,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\" type=\"video/mp4\">\n",
       " Your browser does not support the video tag.\n",
       " </video>"
      ],
      "text/plain": [
       "<IPython.core.display.Video object>"
      ]
     },
     "metadata": {},
     "output_type": "display_data"
    }
   ],
   "source": [
    "if not skip_training:\n",
    "      video = Video(Path().cwd()/'results'/'InvertedPendulum-v4'/'video'/'test'/'ex5-episode-0.mp4',\n",
    "      embed=True, html_attributes=\"controls\") # Set html_attributes=\"controls\" for video control\n",
    "      display(video)"
   ]
  },
  {
   "cell_type": "markdown",
   "id": "ea079dc7",
   "metadata": {},
   "source": [
    "<a id='T1b'></a>\n",
    "<div class=\" alert alert-warning\">\n",
    "    <h3><b>Student Task 1b.</b> REINFORCE with a constant baseline b = 20 (5 points) </h3> \n",
    "    The training performance plot might look like Figure 1b.\n",
    "    <figure style=\"text-align: center\" id=\"figure-1b\">\n",
    "        <img src=\"imgs/PGBase20.svg\" width=\"600px\">\n",
    "        <figcaption style=\"text-align: center\"> Figure 1b: REINFORCE with a constant baseline 20. </figcaption>\n",
    "    </figure>\n",
    "    \n",
    "🔝 <a href='#TOC'><b>Table of Contents</b></a>\n",
    "</div>\n",
    "\n"
   ]
  },
  {
   "cell_type": "code",
   "execution_count": 20,
   "id": "3c57e167",
   "metadata": {
    "tags": []
   },
   "outputs": [],
   "source": [
    "class PGBase20(PG):\n",
    "    def __init__(self, state_dim, action_dim, lr, gamma):\n",
    "        super().__init__(state_dim, action_dim, lr, gamma)\n",
    "\n",
    "    # TODO: Task 1: Implement the policy gradient\n",
    "    # Complete the following 2 functions\n",
    "    # Hints:\n",
    "    #   1. compute discounted rewards (use the discount_rewards function offered in common.helper)\n",
    "    #   2. compute the policy gradient loss with the baseline\n",
    "    \n",
    "    # Compute discounted rewards \n",
    "    def calculate_discounted_rewards(self, rewards):\n",
    "        ########## Your code starts here. ##########\n",
    "        # Use tensor operations directly instead of list\n",
    "        discounted_rewards = torch.zeros_like(rewards, dtype=torch.float32).to(device)\n",
    "        cumulative_reward = 0\n",
    "\n",
    "        # Iterate from the end of the rewards tensor to the beginning\n",
    "        for t in reversed(range(rewards.size(0))):\n",
    "            cumulative_reward = rewards[t] + self.gamma * cumulative_reward\n",
    "            discounted_rewards[t] = cumulative_reward\n",
    "        ########## Your code ends here. ##########\n",
    "        return discounted_rewards\n",
    "\n",
    "    # Calculate the PG loss with the baseline\n",
    "    def calculate_loss(self, action_probs, discounted_rewards):\n",
    "        ########## Your code starts here. ##########\n",
    "        self.baseline = 20\n",
    "        baseline_adjusted_rewards = discounted_rewards - self.baseline\n",
    "\n",
    "        # To calculate the loss, multiply the log probabilities by the baseline-adjusted rewards\n",
    "        loss = -torch.mean(action_probs * baseline_adjusted_rewards)\n",
    "        ########## Your code ends here. ##########\n",
    "        return loss\n",
    "\n",
    "    def update(self):\n",
    "        # Prepare dataset used to update policy\n",
    "        action_probs = torch.stack(self.action_probs, dim=0).to(device).squeeze(-1) # shape: [batch_size,]\n",
    "        rewards = torch.stack(self.rewards, dim=0).to(device).squeeze(-1) # shape [batch_size,]\n",
    "        self.action_probs, self.rewards = [], [] # clean buffers\n",
    "        \n",
    "        # TODO: Task 1: Implement the policy gradient\n",
    "\n",
    "        # Compute discounted rewards \n",
    "        discounted_rewards = self.calculate_discounted_rewards(rewards)\n",
    "        # Calculate the PG loss with the baseline\n",
    "        loss = self.calculate_loss(action_probs, discounted_rewards)\n",
    "        # Backprop gradients\n",
    "        loss.backward()\n",
    "        # Do the optimizer step\n",
    "        self.optimizer.step()\n",
    "        self.optimizer.zero_grad()\n",
    "\n",
    "        # if you want to log something in wandb, you can put them inside the {}, otherwise, just leave it empty.\n",
    "        return {'logstd': self.policy.actor_logstd.cpu().detach().numpy()}"
   ]
  },
  {
   "cell_type": "code",
   "execution_count": 21,
   "id": "8aa4d283",
   "metadata": {
    "tags": []
   },
   "outputs": [
    {
     "name": "stdout",
     "output_type": "stream",
     "text": [
      "Numpy/Torch/Random Seed:  409\n",
      "{'ep': 0, 'logstd': array([-0.002], dtype=float32), 'timesteps': 5, 'ep_reward': 5.0, 'episodes': 0}\n",
      "{'ep': 100, 'logstd': array([-0.04255055], dtype=float32), 'timesteps': 42, 'ep_reward': 42.0, 'episodes': 100}\n",
      "{'ep': 200, 'logstd': array([-0.05727619], dtype=float32), 'timesteps': 96, 'ep_reward': 96.0, 'episodes': 200}\n",
      "{'ep': 300, 'logstd': array([-0.07104073], dtype=float32), 'timesteps': 1000, 'ep_reward': 1000.0, 'episodes': 300}\n",
      "{'ep': 400, 'logstd': array([-0.07153063], dtype=float32), 'timesteps': 1000, 'ep_reward': 1000.0, 'episodes': 400}\n",
      "{'ep': 500, 'logstd': array([-0.08300491], dtype=float32), 'timesteps': 1000, 'ep_reward': 1000.0, 'episodes': 500}\n",
      "{'ep': 600, 'logstd': array([-0.07254706], dtype=float32), 'timesteps': 1000, 'ep_reward': 1000.0, 'episodes': 600}\n",
      "{'ep': 700, 'logstd': array([-0.09019212], dtype=float32), 'timesteps': 1000, 'ep_reward': 1000.0, 'episodes': 700}\n",
      "{'ep': 800, 'logstd': array([-0.09719329], dtype=float32), 'timesteps': 1000, 'ep_reward': 1000.0, 'episodes': 800}\n",
      "{'ep': 900, 'logstd': array([-0.12082215], dtype=float32), 'timesteps': 1000, 'ep_reward': 1000.0, 'episodes': 900}\n"
     ]
    },
    {
     "data": {
      "image/png": "[encoded data removed]",
      "text/plain": [
       "<Figure size 450x350 with 1 Axes>"
      ]
     },
     "metadata": {},
     "output_type": "display_data"
    },
    {
     "name": "stdout",
     "output_type": "stream",
     "text": [
      "Training complete!\n"
     ]
    }
   ],
   "source": [
    "if not skip_training:\n",
    "    train(PGBase20, cfg_path=Path().cwd() / 'cfg' / 'inverted_pendulum.yaml', cfg_args=dict(model_name=\"PGBase20\")) # < 7 mins"
   ]
  },
  {
   "cell_type": "code",
   "execution_count": 22,
   "id": "48f26f40-49c9-48f3-8543-cae81be8185f",
   "metadata": {
    "tags": []
   },
   "outputs": [
    {
     "name": "stdout",
     "output_type": "stream",
     "text": [
      "Numpy/Torch/Random Seed:  409\n",
      "Loading model from /notebooks/rl2024/ex5/results/InvertedPendulum-v4/model/PGBase20_params.pt ...\n",
      "Test ep_reward: 1000.0\n",
      "Test ep_reward: 1000.0\n",
      "Test ep_reward: 1000.0\n",
      "Test ep_reward: 1000.0\n",
      "Test ep_reward: 1000.0\n",
      "Test ep_reward: 1000.0\n",
      "Test ep_reward: 1000.0\n",
      "Test ep_reward: 1000.0\n",
      "Test ep_reward: 1000.0\n",
      "Test ep_reward: 1000.0\n",
      "Median test reward: 1000.0\n"
     ]
    }
   ],
   "source": [
    "if not skip_training:\n",
    "    test(PGBase20, cfg_path=Path().cwd() / 'cfg' / 'inverted_pendulum.yaml', cfg_args=dict(model_name=\"PGBase20\", save_video=True, testing=True)) "
   ]
  },
  {
   "cell_type": "code",
   "execution_count": null,
   "id": "af4ac907",
   "metadata": {
    "deletable": false,
    "editable": false,
    "nbgrader": {
     "cell_type": "code",
     "checksum": "e67902311730193101e4741111bbf0b2",
     "grade": true,
     "grade_id": "cell-62d1b98f11dcd94b",
     "locked": true,
     "points": 1,
     "schema_version": 3,
     "solution": false,
     "task": false
    }
   },
   "outputs": [],
   "source": []
  },
  {
   "cell_type": "code",
   "execution_count": 23,
   "id": "6074d987",
   "metadata": {
    "deletable": false,
    "editable": false,
    "nbgrader": {
     "cell_type": "code",
     "checksum": "11f6f2b5baa3638d6d0deedc0eee29fe",
     "grade": true,
     "grade_id": "cell-3bcb1eace5908e1d",
     "locked": true,
     "points": 2,
     "schema_version": 3,
     "solution": false,
     "task": false
    },
    "tags": []
   },
   "outputs": [
    {
     "name": "stdout",
     "output_type": "stream",
     "text": [
      "Numpy/Torch/Random Seed:  43\n"
     ]
    }
   ],
   "source": [
    "%%capture --no-stdout\n",
    "\"TEST CELL\"\n",
    "def test_pgbase20_update_1():\n",
    "    \n",
    "    agent_class = PGBase20\n",
    "    cfg_path=Path().cwd() / 'cfg' / 'inverted_pendulum.yaml'\n",
    "    cfg_args=dict(model_name=\"PGBase20\", seed=43)\n",
    "    env, cfg = setup(cfg_path, cfg_args=cfg_args)\n",
    "\n",
    "    state_dim = env.observation_space.shape[0]\n",
    "    action_dim = env.action_space.shape[0]\n",
    "\n",
    "    agent = agent_class(state_dim, action_dim, float(cfg.lr), float(cfg.gamma))\n",
    "\n",
    "    test_reward = torch.Tensor([1., 1., 1., 1., 1., 1., 1., 1.])\n",
    "    test_action_prob = torch.Tensor([-2.4205, -2.1635, -1.2791, -1.2655, -0.9205, -0.9366, -4.9679, -2.1623])\n",
    "    test_discounted_reward = torch.Tensor([7.7255, 6.7935, 5.8520, 4.9010, 3.9404, 2.9701, 1.9900, 1.0000])\n",
    "\n",
    "    assert torch.allclose(agent.calculate_discounted_rewards(test_reward), test_discounted_reward, 0.001)\n",
    "    assert torch.allclose(agent.calculate_loss(test_action_prob, test_discounted_reward), torch.tensor(-32.0970), 0.001)\n",
    "\n",
    "test_pgbase20_update_1()"
   ]
  },
  {
   "cell_type": "code",
   "execution_count": 24,
   "id": "42de046f",
   "metadata": {
    "deletable": false,
    "editable": false,
    "nbgrader": {
     "cell_type": "code",
     "checksum": "bd3eaf1021b2d35e4bac9eb0a6515439",
     "grade": true,
     "grade_id": "cell-7c3853783c05c900",
     "locked": true,
     "points": 2,
     "schema_version": 3,
     "solution": false,
     "task": false
    },
    "tags": []
   },
   "outputs": [],
   "source": [
    "%%capture --no-stdout\n",
    "\"TEST CELL\""
   ]
  },
  {
   "cell_type": "code",
   "execution_count": 26,
   "id": "a434d9ef-523c-482a-a2e8-441ac66e15e5",
   "metadata": {
    "tags": []
   },
   "outputs": [
    {
     "data": {
      "text/html": [
       "<video controls  >\n",
       " <source src=\"data:video/mp4;base64,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\" type=\"video/mp4\">\n",
       " Your browser does not support the video tag.\n",
       " </video>"
      ],
      "text/plain": [
       "<IPython.core.display.Video object>"
      ]
     },
     "metadata": {},
     "output_type": "display_data"
    }
   ],
   "source": [
    "if not skip_training:\n",
    "      video = Video(Path().cwd() / 'results' / 'InvertedPendulum-v4' / 'video' / 'test' / 'ex5-episode-0.mp4',\n",
    "      embed=True, html_attributes=\"controls\") # Set html_attributes=\"controls\" for video control\n",
    "      display(video)"
   ]
  },
  {
   "cell_type": "markdown",
   "id": "e31c7d2e",
   "metadata": {
    "tags": []
   },
   "source": [
    "<a id='T1c'></a>\n",
    "<div class=\" alert alert-warning\">\n",
    "    <h3><b>Student Task 1c.</b> REINFORCE with discounted rewards normalized to zero mean and unit variance (5 points) </h3> \n",
    "    The training performance plot might look like Figure 1c. \n",
    "    <figure style=\"text-align: center\" id=\"figure-1c\">\n",
    "        <img src=\"imgs/PGGamma.svg\" width=\"600px\">\n",
    "        <figcaption style=\"text-align: center\"> Figure 1c: REINFORCE with discounted rewards normalized to zero mean and unit variance. </figcaption>\n",
    "    </figure>\n",
    "    \n",
    "🔝 <a href='#TOC'><b>Table of Contents</b></a>\n",
    "</div>\n",
    "\n"
   ]
  },
  {
   "cell_type": "code",
   "execution_count": 68,
   "id": "d76bcc3c",
   "metadata": {
    "tags": []
   },
   "outputs": [],
   "source": [
    "class PGNormalized(PG):\n",
    "    def __init__(self, state_dim, action_dim, lr, gamma):\n",
    "        super().__init__(state_dim, action_dim, lr, gamma)\n",
    "\n",
    "    # TODO: Task 1: Implement the policy gradient\n",
    "    # Complete the following 2 functions\n",
    "    # Hints:\n",
    "    #   1. compute discounted rewards (use the discount_rewards function offered in utils.py)\n",
    "    #   2. compute the policy gradient loss\n",
    "    \n",
    "    # Compute discounted rewards \n",
    "    def calculate_discounted_rewards(self, rewards):\n",
    "        ########## Your code starts here. ##########\n",
    "        # Initialize the tensor for discounted rewards\n",
    "        discounted_rewards = torch.zeros_like(rewards, dtype=torch.float32).to(device)\n",
    "        cumulative_reward = 0\n",
    "\n",
    "        # Iterate from the end of the rewards tensor to the beginning\n",
    "        for t in reversed(range(rewards.size(0))):\n",
    "            cumulative_reward = rewards[t] + self.gamma * cumulative_reward\n",
    "            discounted_rewards[t] = cumulative_reward\n",
    "\n",
    "       # Normalize the discounted rewards to have zero mean and unit variance\n",
    "        discounted_mean = discounted_rewards.mean()\n",
    "        discounted_std = discounted_rewards.std() + 1e-8  # Prevent division by zero\n",
    "        discounted_rewards = (discounted_rewards - discounted_mean) / discounted_std\n",
    "        ########## Your code ends here. ##########\n",
    "        return discounted_rewards\n",
    "\n",
    "    # Calculate the PG loss with the baseline\n",
    "    def calculate_loss(self, action_probs, discounted_rewards):\n",
    "        ########## Your code starts here. ##########\n",
    "        # Calculate the loss (negative log probability * normalized rewards)\n",
    "        loss = -torch.mean(action_probs * discounted_rewards)\n",
    "        ########## Your code ends here. ##########\n",
    "        return loss\n",
    "\n",
    "\n",
    "\n",
    "    def update(self):\n",
    "        # Prepare dataset used to update policy\n",
    "        action_probs = torch.stack(self.action_probs, dim=0).to(device).squeeze(-1) # shape: [batch_size,]\n",
    "        rewards = torch.stack(self.rewards, dim=0).to(device).squeeze(-1) # shape [batch_size,]\n",
    "        self.action_probs, self.rewards = [], [] # clean buffers\n",
    "        \n",
    "        # TODO: Task 1: Implement the policy gradient\n",
    "        \n",
    "        # Compute discounted rewards and normalize them\n",
    "        discounted_rewards = self.calculate_discounted_rewards(rewards)\n",
    "        # Calculate the PG loss\n",
    "        loss = self.calculate_loss(action_probs, discounted_rewards)\n",
    "        # Backprop gradients\n",
    "        loss.backward()\n",
    "        # Do the optimizer step\n",
    "        self.optimizer.step()\n",
    "        self.optimizer.zero_grad()    \n",
    "\n",
    "        # if you want to log something in wandb, you can put them inside the {}, otherwise, just leave it empty.\n",
    "        return {'logstd': self.policy.actor_logstd.cpu().detach().numpy()}"
   ]
  },
  {
   "cell_type": "code",
   "execution_count": 71,
   "id": "8e236519-8afb-4ec7-ba87-3181bf822576",
   "metadata": {
    "tags": []
   },
   "outputs": [
    {
     "name": "stdout",
     "output_type": "stream",
     "text": [
      "Numpy/Torch/Random Seed:  409\n",
      "{'ep': 0, 'logstd': array([0.002], dtype=float32), 'timesteps': 5, 'ep_reward': 5.0, 'episodes': 0}\n",
      "{'ep': 100, 'logstd': array([-0.01474722], dtype=float32), 'timesteps': 71, 'ep_reward': 71.0, 'episodes': 100}\n",
      "{'ep': 200, 'logstd': array([-0.02039494], dtype=float32), 'timesteps': 114, 'ep_reward': 114.0, 'episodes': 200}\n",
      "{'ep': 300, 'logstd': array([-0.0313948], dtype=float32), 'timesteps': 1000, 'ep_reward': 1000.0, 'episodes': 300}\n",
      "{'ep': 400, 'logstd': array([-0.03918573], dtype=float32), 'timesteps': 1000, 'ep_reward': 1000.0, 'episodes': 400}\n",
      "{'ep': 500, 'logstd': array([-0.04658749], dtype=float32), 'timesteps': 1000, 'ep_reward': 1000.0, 'episodes': 500}\n",
      "{'ep': 600, 'logstd': array([-0.04956395], dtype=float32), 'timesteps': 1000, 'ep_reward': 1000.0, 'episodes': 600}\n",
      "{'ep': 700, 'logstd': array([-0.04956738], dtype=float32), 'timesteps': 1000, 'ep_reward': 1000.0, 'episodes': 700}\n",
      "{'ep': 800, 'logstd': array([-0.04998542], dtype=float32), 'timesteps': 1000, 'ep_reward': 1000.0, 'episodes': 800}\n",
      "{'ep': 900, 'logstd': array([-0.05129833], dtype=float32), 'timesteps': 1000, 'ep_reward': 1000.0, 'episodes': 900}\n"
     ]
    },
    {
     "data": {
      "image/png": "[encoded data removed]",
      "text/plain": [
       "<Figure size 450x350 with 1 Axes>"
      ]
     },
     "metadata": {},
     "output_type": "display_data"
    },
    {
     "name": "stdout",
     "output_type": "stream",
     "text": [
      "Training complete!\n"
     ]
    }
   ],
   "source": [
    "if not skip_training:\n",
    "    train(PGNormalized, cfg_path=Path().cwd() / 'cfg' / 'inverted_pendulum.yaml', cfg_args=dict(model_name=\"PGNormalized\")) # < 10 mins"
   ]
  },
  {
   "cell_type": "code",
   "execution_count": 72,
   "id": "9aab775f-bc7e-475f-ac41-7bbf0227bc1a",
   "metadata": {
    "tags": []
   },
   "outputs": [
    {
     "name": "stdout",
     "output_type": "stream",
     "text": [
      "Numpy/Torch/Random Seed:  409\n",
      "Loading model from /notebooks/rl2024/ex5/results/InvertedPendulum-v4/model/PGNormalized_params.pt ...\n",
      "Test ep_reward: 1000.0\n",
      "Test ep_reward: 1000.0\n",
      "Test ep_reward: 1000.0\n",
      "Test ep_reward: 1000.0\n",
      "Test ep_reward: 1000.0\n",
      "Test ep_reward: 1000.0\n",
      "Test ep_reward: 1000.0\n",
      "Test ep_reward: 1000.0\n",
      "Test ep_reward: 1000.0\n",
      "Test ep_reward: 1000.0\n",
      "Median test reward: 1000.0\n"
     ]
    }
   ],
   "source": [
    "if not skip_training:\n",
    "    test(PGNormalized, cfg_path=Path().cwd() / 'cfg' / 'inverted_pendulum.yaml', cfg_args=dict(model_name=\"PGNormalized\", save_video=True, testing=True))"
   ]
  },
  {
   "cell_type": "code",
   "execution_count": null,
   "id": "fc850792",
   "metadata": {
    "deletable": false,
    "editable": false,
    "nbgrader": {
     "cell_type": "code",
     "checksum": "c2419c79f89c4ca692b669552b27e124",
     "grade": true,
     "grade_id": "cell-03e739e487933e6e",
     "locked": true,
     "points": 1,
     "schema_version": 3,
     "solution": false,
     "task": false
    }
   },
   "outputs": [],
   "source": []
  },
  {
   "cell_type": "code",
   "execution_count": 51,
   "id": "ef8fb1c0",
   "metadata": {
    "deletable": false,
    "editable": false,
    "nbgrader": {
     "cell_type": "code",
     "checksum": "106d897f0caa69b7eb88435c2b1b3043",
     "grade": true,
     "grade_id": "cell-a90ba2f2bac40f9c",
     "locked": true,
     "points": 2,
     "schema_version": 3,
     "solution": false,
     "task": false
    },
    "tags": []
   },
   "outputs": [
    {
     "name": "stdout",
     "output_type": "stream",
     "text": [
      "Numpy/Torch/Random Seed:  43\n"
     ]
    },
    {
     "ename": "AssertionError",
     "evalue": "",
     "output_type": "error",
     "traceback": [
      "\u001b[0;31m---------------------------------------------------------------------------\u001b[0m",
      "\u001b[0;31mAssertionError\u001b[0m                            Traceback (most recent call last)",
      "Cell \u001b[0;32mIn[51], line 21\u001b[0m\n\u001b[1;32m     18\u001b[0m     \u001b[38;5;28;01massert\u001b[39;00m torch\u001b[38;5;241m.\u001b[39mallclose(agent\u001b[38;5;241m.\u001b[39mcalculate_discounted_rewards(test_reward), test_discounted_reward, \u001b[38;5;241m0.001\u001b[39m)\n\u001b[1;32m     19\u001b[0m     \u001b[38;5;28;01massert\u001b[39;00m torch\u001b[38;5;241m.\u001b[39mallclose(agent\u001b[38;5;241m.\u001b[39mcalculate_loss(test_action_prob, test_discounted_reward), torch\u001b[38;5;241m.\u001b[39mtensor(\u001b[38;5;241m-\u001b[39m\u001b[38;5;241m0.2822\u001b[39m), \u001b[38;5;241m0.001\u001b[39m)\n\u001b[0;32m---> 21\u001b[0m \u001b[43mtest_pgnormalized_update_1\u001b[49m\u001b[43m(\u001b[49m\u001b[43m)\u001b[49m\n",
      "Cell \u001b[0;32mIn[51], line 18\u001b[0m, in \u001b[0;36mtest_pgnormalized_update_1\u001b[0;34m()\u001b[0m\n\u001b[1;32m     15\u001b[0m test_action_prob \u001b[38;5;241m=\u001b[39m torch\u001b[38;5;241m.\u001b[39mTensor([\u001b[38;5;241m-\u001b[39m\u001b[38;5;241m2.4205\u001b[39m, \u001b[38;5;241m-\u001b[39m\u001b[38;5;241m2.1635\u001b[39m, \u001b[38;5;241m-\u001b[39m\u001b[38;5;241m1.2791\u001b[39m, \u001b[38;5;241m-\u001b[39m\u001b[38;5;241m1.2655\u001b[39m, \u001b[38;5;241m-\u001b[39m\u001b[38;5;241m0.9205\u001b[39m, \u001b[38;5;241m-\u001b[39m\u001b[38;5;241m0.9366\u001b[39m, \u001b[38;5;241m-\u001b[39m\u001b[38;5;241m4.9679\u001b[39m, \u001b[38;5;241m-\u001b[39m\u001b[38;5;241m2.1623\u001b[39m])\n\u001b[1;32m     16\u001b[0m test_discounted_reward \u001b[38;5;241m=\u001b[39m torch\u001b[38;5;241m.\u001b[39mTensor([\u001b[38;5;241m7.7255\u001b[39m, \u001b[38;5;241m6.7935\u001b[39m, \u001b[38;5;241m5.8520\u001b[39m, \u001b[38;5;241m4.9010\u001b[39m, \u001b[38;5;241m3.9404\u001b[39m, \u001b[38;5;241m2.9701\u001b[39m, \u001b[38;5;241m1.9900\u001b[39m, \u001b[38;5;241m1.0000\u001b[39m])\n\u001b[0;32m---> 18\u001b[0m \u001b[38;5;28;01massert\u001b[39;00m torch\u001b[38;5;241m.\u001b[39mallclose(agent\u001b[38;5;241m.\u001b[39mcalculate_discounted_rewards(test_reward), test_discounted_reward, \u001b[38;5;241m0.001\u001b[39m)\n\u001b[1;32m     19\u001b[0m \u001b[38;5;28;01massert\u001b[39;00m torch\u001b[38;5;241m.\u001b[39mallclose(agent\u001b[38;5;241m.\u001b[39mcalculate_loss(test_action_prob, test_discounted_reward), torch\u001b[38;5;241m.\u001b[39mtensor(\u001b[38;5;241m-\u001b[39m\u001b[38;5;241m0.2822\u001b[39m), \u001b[38;5;241m0.001\u001b[39m)\n",
      "\u001b[0;31mAssertionError\u001b[0m: "
     ]
    }
   ],
   "source": [
    "%%capture --no-stdout\n",
    "\"TEST CELL\"\n",
    "def test_pgnormalized_update_1():\n",
    "    \n",
    "    agent_class = PGNormalized\n",
    "    cfg_path=Path().cwd() / 'cfg' / 'inverted_pendulum.yaml'\n",
    "    cfg_args=dict(model_name=\"PGNormalized\", seed=43)\n",
    "    env, cfg = setup(cfg_path, cfg_args=cfg_args)\n",
    "\n",
    "    state_dim = env.observation_space.shape[0]\n",
    "    action_dim = env.action_space.shape[0]\n",
    "\n",
    "    agent = agent_class(state_dim, action_dim, float(cfg.lr), float(cfg.gamma))\n",
    "\n",
    "    test_reward = torch.Tensor([1., 1., 1., 1., 1., 1., 1., 1.])\n",
    "    test_action_prob = torch.Tensor([-2.4205, -2.1635, -1.2791, -1.2655, -0.9205, -0.9366, -4.9679, -2.1623])\n",
    "    test_discounted_reward = torch.Tensor([7.7255, 6.7935, 5.8520, 4.9010, 3.9404, 2.9701, 1.9900, 1.0000])\n",
    "\n",
    "    assert torch.allclose(agent.calculate_discounted_rewards(test_reward), test_discounted_reward, 0.001)\n",
    "    assert torch.allclose(agent.calculate_loss(test_action_prob, test_discounted_reward), torch.tensor(-0.2822), 0.001)\n",
    "\n",
    "test_pgnormalized_update_1()"
   ]
  },
  {
   "cell_type": "code",
   "execution_count": 52,
   "id": "b36fae08",
   "metadata": {
    "deletable": false,
    "editable": false,
    "nbgrader": {
     "cell_type": "code",
     "checksum": "8d2fb6c9e677aa86435b3c7b06302512",
     "grade": true,
     "grade_id": "cell-a4862f110550460f",
     "locked": true,
     "points": 2,
     "schema_version": 3,
     "solution": false,
     "task": false
    },
    "tags": []
   },
   "outputs": [],
   "source": [
    "%%capture --no-stdout\n",
    "\"TEST CELL\""
   ]
  },
  {
   "cell_type": "code",
   "execution_count": 54,
   "id": "9e3bbe30-5d8f-426d-9a76-806e6586a23b",
   "metadata": {
    "tags": []
   },
   "outputs": [
    {
     "data": {
      "text/html": [
       "<video controls  >\n",
       " <source src=\"data:video/mp4;base64,AAAAIGZ0eXBpc29tAAACAGlzb21pc28yYXZjMW1wNDEAAAAIZnJlZQAAmS9tZGF0AAACrwYF//+r3EXpvebZSLeWLNgg2SPu73gyNjQgLSBjb3JlIDE2NCByMzA5NSBiYWVlNDAwIC0gSC4yNjQvTVBFRy00IEFWQyBjb2RlYyAtIENvcHlsZWZ0IDIwMDMtMjAyMiAtIGh0dHA6Ly93d3cudmlkZW9sYW4ub3JnL3gyNjQuaHRtbCAtIG9wdGlvbnM6IGNhYmFjPTEgcmVmPTMgZGVibG9jaz0xOjA6MCBhbmFseXNlPTB4MzoweDExMyBtZT1oZXggc3VibWU9NyBwc3k9MSBwc3lfcmQ9MS4wMDowLjAwIG1peGVkX3JlZj0xIG1lX3JhbmdlPTE2IGNocm9tYV9tZT0xIHRyZWxsaXM9MSA4eDhkY3Q9MSBjcW09MCBkZWFkem9uZT0yMSwxMSBmYXN0X3Bza2lwPTEgY2hyb21hX3FwX29mZnNldD0tMiB0aHJlYWRzPTE1IGxvb2thaGVhZF90aHJlYWRzPTIgc2xpY2VkX3RocmVhZHM9MCBucj0wIGRlY2ltYXRlPTEgaW50ZXJsYWNlZD0wIGJsdXJheV9jb21wYXQ9MCBjb25zdHJhaW5lZF9pbnRyYT0wIGJmcmFtZXM9MyBiX3B5cmFtaWQ9MiBiX2FkYXB0PTEgYl9iaWFzPTAgZGlyZWN0PTEgd2VpZ2h0Yj0xIG9wZW5fZ29wPTAgd2VpZ2h0cD0yIGtleWludD0yNTAga2V5aW50X21pbj0yNSBzY2VuZWN1dD00MCBpbnRyYV9yZWZyZXNoPTAgcmNfbG9va2FoZWFkPTQwIHJjPWNyZiBtYnRyZWU9MSBjcmY9MjMuMCBxY29tcD0wLjYwIHFwbWluPTAgcXBtYXg9NjkgcXBzdGVwPTQgaXBfcmF0aW89MS40MCBhcT0xOjEuMDAAgAAABKxliIQAL//+9q78yyt0fpUuHVl7s1Hy6Ely/YgwfWgAStCgAABZA6R8FinnePAAAAMCSgAa8pPgHhfVjw6Gaj2768mTCkvNma3jK7+wT0Abg8fDbL2L95FWown8t5RRkBUv06fb8FdjO4g5faVG6fnFEoDVYJJVKAF2rv+V1Wwjp+ZoX8eez2esF9lJA2PJ/KkZGOGHi4nfkchwPvpXb7B1DAADez96M0iQgMXH/Z4mpjFJlnB+e3CP3RM82ken3QMY2txQ0YfVHQdNhESJEG8vdFuXz74dgDKQ3ZHifnCnzceWYExnRHWXs9Yq/EJ9fjIdoZrpD/++SsS7MOqB3lcaYlzywaj+btYX1bcPCvzegM+7zJ+9/Kg54kZvkV0NcLrR7nLQ35bYR+cl5Q+B2lQyYPeuVT4SIr3w/LkFdNYf3IgKMatmCI3vHQPfQ+jPgYSEVE8XPhcmaXknnynLhLn/O2jBAHkUnw8tlUWe1cEuXCYC+GCfY3UriKvTzx/Mnss6WGaTWDVXDXLX3zoNowD/+RkS7+cBlBGvJ6x/zTVHIPO//T/bZsKSw8QljuXbSTgXXwqtoW9bqKU0sqK5MceDEgnzHuY+dC1vOC75fb1xkgvZdlXt9Ji5t2u9wfZH0uGgs/bSMXDPLKW3OvsWlRVIPMXAJZKHs/Mq3Z0JHxVikUDvP6XJeYHsu1G7ygTB57PlrnkbNYvVwpnEBRjYrRSqs8dY64SfurcwC4qZS/xNvCbqSI+i8A54+hGio+qAAsA5sedbJXJzVnm3fvnCplTGFM0JgIBMF0t9H2kXo7B0VLvb0cQcbsQIdMe2f6cR9BN7kR6m1jZnhN05Qh7H7y2PTZVPPgknI8YFBj7b16Jv+mXNhAKbXYCrttYMA/Nqt+LSkbUdzWXR1tCAgsnTZ5HF95jRBmW6gDmO4JTI4hJOl4NqCxKwaBl7t4GNO+Dl0Q8Pc+EpStrfPbAkRMqvPfYEI7P6TS+QQMGZCL7ZhkAxCOj+DmGr9d5i7sYPSLDtDgOTac2I4IvFhKX9wBn3w9s9bGxRNpjwWlvirfkO6O5MPLyow+/NkKFViswkvwUV9y+HxA262z6dHVpbBGx/jQOY2b2AJo9KlvE4PneGQCX/Zitz3h0kHpNJZdoASBzJMXaixl+Z7PB/zIpp78ecel+XS1+6UhnyDdR8BWNAAwQ2wpOY9s5YYOr1eC/SX+lYnre8VD10J9clRJoozQxBHeXuOyUZ2+pTK6tZKjix+ODbpL7g7U19uIA7QdepdB1P1JEAB6+S1fkSvIAOIFNF3+FUEymQlQxamun/tVJwLG9RoGy6aoKpMoitZ9dHxoUnA8dvlgo2aYGj6RXNjrGsmu3IuyVK3vPls6ECwVBDwYMbqzf7JrpkS9qH1776AsmRNULxAWvvMpNOStesGZ70452yAXpce9cdb4bZ/YyoakyApGY0agslEspuB+OVtAJWKg30/DyUr6mEj2vmJh5CeMb1CEWwKQpyGzS36JShmn75GtN2viFwv9E+JdVZRA/7xJXCs7C0nAAA+Ey2xvp/gAAAAwAAAwAAAwAAAwAAAwAAAwAAAwAAAwAAAwADywAAALRBmiRsQv/+jLAA9MMc7AKdattXIjzjLn3fYqQ38b0JZ7TFN62FfnPTEw0rKFQg4IHUlFU7dkailw45Xq/yr2mEW1IN/zJ6X0Qv5V1eLhVZcv984DAYdJmCNfCOo7L3GzkhdTjbRfDKtWiDslxuVUC9/iCHivw8tfDBqUSIFbkLjdZ0bbeZD5I5kRIOldwO74B6gxokWdL1OV26Wv1NbRcVOZjdiYVu4+I/WUqpWU3vqBiB6wUAAABBQZ5CeIX/ACSymAoZWcL7mSzqrM2QR5A8b7E4oihSjsTB1wyAxPqsQAJnZa92FaoWDYSBbP3CSOWK5iVciRXAakEAAAA1AZ5hdEK/ADOKXpO7WyTWgI6YdlbeEd7MCVeMXMwBhOhIAAZhuVrpHTWYL2gMGthKVkP0AR8AAAAgAZ5jakK/ABYmoOM3Ppqw7IoblefW2UCQJWi/zGHYASMAAACBQZpoSahBaJlMCF///oywAPQsMFMUdEGVjtjUPk36ABjtdXhNQlerPJyhKudB4aWI5dzWHQ5Mo1y0906PG/5dI3LNJSeYbv8z8AdfIxdqWUxrIt1euzDxyhr3qVXU3907mfRjPtsNAyKTOOasQlDztmup8n4vFXbr5LA9bUhApJeBAAAAPkGehkURLC//ACW26QCaRg/kKcng5LYd7r35/D3eXZUgAyH9w7CKR7/qqDuyYHWG6JvkUgdvFpfZ+O2NgA/xAAAAGwGepXRCvwAxEEw31J5NVlaT7Ss4yccRSFABUwAAADgBnqdqQr8ACxLSem+1Sz8Z5lTvbM/a291Gr8udVQaZAvhGATQzGu4pPplSdKcvsvOZzqlQnYAOOAAAAI1BmqxJqEFsmUwIX//+jLAA8/GjlC+P21xASP8mdkVLMv7vMu0JuAbBxZj3A914fUCs9MWNmg9FgaDoyE/jVbp/0DLhXocJnCrr3pkEuFyYrDzCkl0N+bx/p+GVPx0NassjoYUbutsU01fO95hRkE+AyVGCRvDgUXJmNWNw+3Guy06Z9ijnMlkKjbTDZ64AAAA+QZ7KRRUsL/8AJbkCpFot1gWnznx1kIlCDAjtRoNa59DR8V6foHNtfH8/qg8d+1VJqHSNF3yW2tZgbyQAM+EAAAA3AZ7pdEK/ADN+iBhaitXG73cLSFh/fqShZwmCUNHVEf3LsE9KSeUhyYLdFisNKKret3NHNugDegAAAD0BnutqQr8AM4FlqoXx+tdymMYqiexoVF7WdzEvf8X5yQrisZ3nWDD3hwyfwSM/EEkRP8C3ZeKfCeDYALyAAAAAt0Ga8EmoQWyZTAh3//6plgAfNohw+D6CNvuZcYoPAyyhSEy9QCqfGnXPHatWw+wLLP0q8SRTEqSsmWbcHKUrxS95SoGS5x6jfNxhov/+lfT3sFgs0WWdFnDxEkA5YdK9J1jBno7RXpDQXdz/PW+V0lYSgf/Ulj2tgqinrDay44dJOfnBojyd+HsVoS8ay01yCgqy08wrWnFU86i0w2q61m8faxCk3ue942we6y3Cp6psCspkQhI2wQAAAExBnw5FFSwv/wAlsa3gZkHYMUBn7gPNLgw6KBcjNBvsM7M6MlHp2UgaH92qAKX8pG4meVbthxSh7ZIkLGo+mmw+mgBuuQ79GcWlYAD/AAAAPwGfLXRCvwAzflJINERd+AGc6iJQn9ApJP5Tj/RXS7EE173HYIRKwt2XNWMLLl4ED2V1NWmdZuCv8IO/8AAfkQAAADYBny9qQr8AM4EJH04jVSRZu5Hm249YRAH4qZp6lXrt0bYgPI7eFc9Vg+ECH5fvRZNu9vQAKKAAAACUQZs0SahBbJlMCHf//qmWACAsQtF1TaQiECyxaAhVMNXIGuekpIYvvkJFD5bEhBl/ypCWhpU9004eTJQrOJ85gTNWPaQA4Fo3t8+Bsapvixnz0YjgpRTX+ppOnONDBbKIuLOBQ+pU9gG4Hzfcd0hoFpv80Wl8LJXqqWavuFwE535TsnqHda8kI8O0lLqX9xs4a+E6HAAAAERBn1JFFSwv/wAmuNUi7q/29ZLnRmYGccNTMSjwBkaUAWP+ZQPdumPt0WR1Rqs9gO5H5cbwj2jyaVqQSq5CjlZyOZwDgwAAADUBn3F0Qr8ANL2sbZ7Pq9R3SQJT15+tUBaU/pYiDwIZMjuUOg/iLRtL2PoKqc31wpCixvABFwAAADgBn3NqQr8ANMzuJJjll3/0xHYt7J7puWBCeYZmYX8PHT+ukEz0RLMKYDuADRLOQt6h01ozjxAGBAAAAKVBm3hJqEFsmUwIb//+p4QAP2DfHpAAlZvC3Ll/0OCcJBX/iL7KsBLIj7F1pL809mOmimWrKbBfLLuEizCwMszjhT7oHWmHWcEFYtcuCrkzb7jLmjOJZY4CyCK/+81IuuncNeot2rocT49I0MKzHWIil2+KRW5+yDeA4unJu1W40r3rTHG4irhAKs3zfNj23ducf7YRg9nGrvessr5wCQg2IQ+pX4EAAABKQZ+WRRUsL/8AVCeWKhTu8KKqdATtp3NaeEGncCYaDLKF570GtEIhzx9YlLDoyP12A1FOQqnuD+DWKy1Jv9q1h3Qv0X0GS6+ACLgAAAA2AZ+1dEK/ADTOhJWQ4DS8V5EsUF/aecWPsCRa3dGuIl/6amV8kfltyWYQnNHKJHPvwpDN6wHdAAAAPQGft2pCvwBxWUfOwvaoDz1JnyMi7m+fcG6rQ0b0XRLJiir79b7ktTx1V+nVeVFKIl+Yt5Swm6SPGdGAHpEAAAEBQZu8SahBbJlMCG///qeEAEFHscck0TFTKBVrkLwQFE9GyjKNV8clyjsznlxdQTNEaSOwwHH7NacjOIyYzBS1Hw3pYVtS3hwEpdCl5VgVL6VgzCvTSgr3tFoWVtZz0/L1bUbzTj3v7I0Go81E9PlyZhShyL7Q+mRD6AuinuCZi6YIVbKioXyvXBUWn5/gCH77WhJ8+kdf6iAyKGgGY6H8yaPdYKjEqfaoWGeVb6PxoisR22nLFcuk5QmYL+8RitNNid0u2Z0CLYRAimFKgNnqiZzPoZLvTb8RFDT5IZuaWuzVT1Scok18GarpZrF9R0b9S2uh0UYRbtACKCsgmnHFSTAAAAA+QZ/aRRUsL/8AVDIwuq+9kc/ZJ+JBo3xxInCj29LWYIPFWRrYQGGCB/Jug4LjzGAXrxmR14i70aLpa7QAGjEAAABIAZ/5dEK/AHE4EWDyxK06NNUQPMUgn3/RadyqALEHTO+FkRrQrRJCcyGRoNspfDDNhw+hhJxD8DBQ5WQoomf7VpXdr57IACDgAAAANAGf+2pCvwBxWVFpBE/suNkjuNfRHSWJMTzgPetJSlfS9JJHME96AticXlPRk6g9BoMAk4EAAADAQZvgSahBbJlMCF///oywAQhCvMtGoha8AHMfuRXeRRprnEO9rYG1IWs7GqISLkTobkwcfdHS+M25mfLR9CyLceql/TBSp4gTPKVK6Z+PW4Q0Hg0CZX3Pf8uT6PXnFXgL7Kzi9cKc4gKQOBYoeWN9pZ5YYZjEsgOURLmTsknfpvZ3hFIoqqszJCbFvkSMaydEDcjSjsI2KOYJxoKNN4t/jRs+AI0rCZsxrt98QP0zKS0vYI72a4afM0e93Ex8rQUtAAAAQkGeHkUVLC//AFZnhZVXUQ6w4dTUMTkzeKbKSl0IOoAtAeP8qil0J3UfsLUNkiE60UOz8sybO/i57cnyANT3xV4BAwAAADgBnj10Qr8AcTgRYPe6gL+MuSuMmAJt5rrjJFMVYpEubX4TCNogUqgyw6uAWjSlX/rUnsgZyUwOmAAAADkBnj9qQr8AdBklYoKsIvoC7gP161T15b59KWv+xD3YBocovjmGL+xyYtaRKbVQxP3JG/YFqKgAAWUAAACjQZokSahBbJlMCF///oywAQgGhThEgORUQyS42cBomH3W7KApbxQlTFKIjuzev9owMZzW1HIp5eOLUl+Vva8lABD3vAJNv9UdYjxS9KcqosvgqEb+WRhtqpP422oNP1xF1zp06zcGSqjOTUp2GYiLdw/lIoNjMcpi8h9rbKsgFTOkPxkDneZzp0h9yoEkeHJHB9/V6T1v+qgxVp4L7DfQCgGr+AAAAD1BnkJFFSwv/wBWciffeiU7ya4Ipg5P8OSP98yU1RYHPgiP9JAcCIM9LIXduhvSiPjvOH+o3P457lf7mAPnAAAAPQGeYXRCvwBz99XdbLLseknm/333Z/1WL8JGMoGJWzVAws4I9QYF95S3mDW70LsZS/GiB1IFNuEEF8ZA2YAAAAA0AZ5jakK/AHQZJWJ82kgwDPa8jKQuCa8z1gurSqQA2ftmMhpWGczqGdZ6am075rLnaZwB3QAAAOtBmmhJqEFsmUwIX//+jLABEAZEtL+1HrPM3MZDAHz1bYsK3u5hWzQ9PFaJZ2HSRuXopi08zjhW3TyyQuWWcQamytImO/e3rGNbFltRIV4jlyZnPryAb3NrSnKrfqvYZKfkzjTtCxa0wMAvQdcR+n1MnPDdR3k43FtzycWtZfCnKw7NdEuXdydD8yVCudXikFRObSTq9Ld8syKNs+gxMb+rRgfldi6XGObYukWxFcYAbVnPo0ECv8tC9bmxdcSgXk/OEY6qgnLqxnTSvNRTLoOVEjdYdWZd8CDTXQn5qAWNGLCx2D1cDi3iGs7BAAAAVEGehkUVLC//AFZyJ9+Dg4JnWmR7GNTW98OhexZsZXo8PSbM6+fx9qOVTkFgxsrhSz1C/Au5RE2TtiA3O46aKwP+r+2Bj0s3YUD6wNED6j8aqACygQAAADoBnqV0Qr8Ac/fV3Wyy7H+S1cLCSazqWaD40Q84cYrkc4O7wnPCjic6tGhlCs9CMlZk1kmUXOVnMAFbAAAAPQGep2pCvwB0GSVizNnxUx57eEDUD/m0fP4miFrmqzk7pQkp8riKiDHPZ667uwh1gN78JV2I6OSei24A+YAAAADgQZqsSahBbJlMCF///oywARAF9MTPz6Gg9GeYAHFkV09UFLD6Py6i9zlJaAaKpsa4x1fEbeVnApoy9OAdr7j3QL/xzMtB7Y3aniP0xRJSvtfinH1e8n75LH5U7jM09bJUXB9iehZGlz6SvhsyKizXWzk27lrQQJXPGoVfhNS0Za6rqEdvG/jn90ipj0b8QrLmAq5GS025VHUZRzOB92pQOzskEuejD8YLW1YbXQLNFumRNMOX7dOf+GLUc2Yck1tpJSoDuKAcoT1f50TgSTDaa5lkKzBY98GXLBWh6XfMuhQAAABIQZ7KRRUsL/8AVnIn34NyzxEWFm8ZBpzzhVcUqeReqHINf+8hr6mmG2Dv/4V4xajI3PEnZVqjqOYuyJ9xhcnwW4JAjF3QZAPTAAAARwGe6XRCvwBz99Xd4H784AQm0Zcdpzp16quxKuJMrOO0R3iUbOX0C8a2ABk9R5SD59YG2Prng1j2Sby+/S7o7Ld9YeOGDAQcAAAAQQGe62pCvwB0GSVizPdYXkgVb7BOVFgUSW5OCTo5ZI+gLa2lZfbHGO2Tcj2/OKtspCWvMJWhwLbDKYfX/+r9XAGBAAAA1UGa8EmoQWyZTAhf//6MsAEQQqFc+AzqtuYfazYgUy9ig+1M1AlP88jdJK89EHbsm+fZpME4dzdmzsyWgoi4tUxFRmxN4FRHuVCS8RebKFrHGnxR6DX+pCPGRXQduhnwjFvY8p7dh6ZZReN9FBHEq0tn92HF+IRqJyFwECjXcblLVBvpwvTHcpKQiRMxExR7BrQ2zRTgaFpqhG5nWwywRsorjZmYEaTBh7FcWHaWrlTtwtlSlEBCe24ffT2R02Adkkm6yKS99yTy0qOYahi2cgKzFYsYpQAAAEJBnw5FFSwv/wBWciffgv15GOvmIRrXlzA0TMDJ4rrABR/7UlnhrUYDcrOF6EAebLQKRXxht8pBMZnhiOJj7ZrAk4EAAAA6AZ8tdEK/AHP31d3gjtugS1WgFWvcKf2agdnrG7eKzupe/5AhgAt+UAPIOhIuglA7P2lT19eOxbgk4QAAAC4Bny9qQr8AdBklYs0fI1jGVO3NkPYuZNZTUyeQE2dURpcbDW8bLjBhp/1iuoGNAAAA0kGbNEmoQWyZTAhf//6MsAEZWGP8NNt2z5THeDcLpBEAiBIsCDi42JuxcHhEieW5uKU3Pm8LR6bWg83NCMw1IHO6AKxkSBVwVAF+fwGcWph+kAysD13YqXw5TaYIsMkh7vP9MICSvQGV3KpTPQH/VTGoZRQ/iI3+Kn4TOPPx7jDImRF4FsepFZ9ccEebE701letptrHPcMoMsTpr7CENeBrIHEmvQg2CqOueGDQm3VyrMa8vKq5wpG2razfDJt0Lu0wZurmIHhTk5KbrnffA3JpUfwAAAEpBn1JFFSwv/wBa57fyX0pSt9mtlH9L6m6utmrecQJFPs+MMggJHcrjUBeI+6WK236Z6zfPBzIIe/xWnu6mCtWjxPjR71LMMH+B0wAAADcBn3F0Qr8Ac/fV3m5x8h60/9Cejm42lPnvpS0DB9Zh7AElihXAb/9OZ1rV5IFWyonP3KyiwAf4AAAAMgGfc2pCvwB5mX4lwivnLAyPHCFoAYZicsvXEH3E0taTTYCHprfDk1bUJgjP1TUJwAJeAAAA9EGbeEmoQWyZTAhf//6MsAEZWCOABmRfSF2yWgGM8vofAnXxQfZ8fC7e9601xJmKZ++gZMZdSWZwlgMs5VlVbyxYBwXv8ILay58kC29+bzPSj5WdHIpfwUwjbr9sXS05Y8XjoPyVjofFYJzuO0edQEOn/2Wpu7paQ3J82DRj72uStlneKzx1Sa8/VuVHr4PH3IZluuolKsqJFnj2W3PtemOGmy9pA0B8yjhcIl1GmDs12SxaKiJp+5NUU3mf8DdNXIv8L0xiuvZkr5glg73Zxi0OsawPClu23xIHQmqO8lCRD55pczPJP2M8xcPECMJ9QPkykL8AAAA/QZ+WRRUsL/8AWvI5tyY9bRbBOnuBo4Ykpd9pePx3EnHAxI+AF+SKRAVxedtuOHC6iDsQaTYSXNR2swLI48G9AAAAPQGftXRCvwB5eD3Ad9y1l3jqUY9fDcvkRmcv1K1Px4oNTsLKc9CeBs/r5n+C48LFRN9KEOOHsFAeJm8AJuEAAAAyAZ+3akK/AHmZfiXCLNeS9Kl39p1oT8mDsdAtb9h0MG+gJDopdikdSHYldlEQza4AFbEAAACXQZu8SahBbJlMCF///oywARgDGJEI4q/0c5iOgacN/vViTIxsjeWPg1nTW00mptce7zUXo2n4ZDLcW9ryj5MGMZLxxZ8ckTZxt4/MOFgwTDm5cTgm+QWAwJVCzYmlSLm9t+ufE0wvy+gxltZU0Pv4ZA5sdR1N9pkK6PLESJjukBcr14Exi9nt41715wEfGJpkwZj9ulbp8AAAAD9Bn9pFFSwv/wBa8jm3Jj1vWSdHz1L4qvY2yQVNITdW0qLOH4CK9Y+Z7fhn4+745k4B7788dnlSFAzW/B/CAS8AAAA0AZ/5dEK/AHl4PcB3mg+AEZME3Z2INro4l+qik6uuN8c/dkkXL+c+9VoCyiwkazT5rEAK2AAAACcBn/tqQr8AeZl+JbuFSiwkLezjvSMMhlsDCElTs4dQ8SXJyy8gDbkAAACvQZvgSahBbJlMCHf//qmWACQLv336gHsboiiD/sR4AslhRWRE0xeSkdlTedmQ42vKVIlg6nGVyfkV7Z/XvDzsEf5+ZVM4ycZZ5ctObZczaJtEpxFG1Yg7gLI1hfrEiM0icWdmIBl/0iaTUaGvSvTsiiWBAZtR/zqvRd0SLXNOPxKfUu6DqAsR85mzG7F9wxYvjzBfcdjHC+kHsQ5+N+3reufmr69BD172CJTs89nInQAAAEhBnh5FFSwv/wBa8jm3JjwZL7g0UFnPWlt4SYnwLLuVbk4QogmUBibTn6ewU7pIYJP31w4CHxJAOk7uLL+Jo3RCHpXFKRQA4IAAAAAgAZ49dEK/AHl4PcB33dOVAynzgAqeprU6lhbS9sVAAcEAAAAfAZ4/akK/AHmZfiXCLwSx+I2vBOKLGWuoSsDn6AAu4QAAAJ5BmiRJqEFsmUwIb//+p4QAR0ibeA8NTyUwiAdnwYlACKIxaRPcjDlzUiELUpDVWTbLGqZnOavcOphlFNXC9UlSL4cemhq5FTYUisJaqhXFCOM/JLbE9x3tLllnWGUkQq29mYjmyPUWvty5xqJv3Vtk3MzCZ1ChU4th0mZqPkIyH6gvLIc2drLiPAeM4AYbOXCEIQdsVgo9Inzzv0CFoAAAADZBnkJFFSwv/wBa8jm3Jj165OE/Tdr5dDJWYmWPcngnVfRSy4GSQqzeeDOQTJoRCYxBhLtAAZ8AAAAfAZ5hdEK/AHl4PcB1SCRuhLUFsEZw1O0UpFXiRAArYAAAABgBnmNqQr8AeZl+Jb0PKd75OamzubwABH0AAACWQZpoSahBbJlMCG///qeEAEeUOtBUlk9AtwoaUA9vKoEwpJPNywp/UgPgSpSqNW1r/Vanx7o62QzbEglYVUOfj71eeJ0W32MsUfIugXxLqAEqwFbBLluOfyo2OaSCEnCMnQb7WQCinT9sYwWDQlgz52jZpK1OFl1/JfgQI4EeRdBuvP+V8ms/dBa3pK19ffOw92YugKGBAAAAJUGehkUVLC//AFryObcl9sDDK61fNqHuazQChx7ZkiLKfeMAD7kAAAAnAZ6ldEK/AHl4PcBwHvPCWiMk+B3Hf+mQBAzMy+jHT3qT+80wgAu5AAAAGgGep2pCvwB5mX4lvQ8quf4ENNXI8RQOoAJOAAAALUGarEmoQWyZTAhf//6MsAEYHcECzbSoiafG7YlGB6oJix6UNq1C2h0n99AI+AAAAB1BnspFFSwv/wBa8jm3JfbAwnpSzJRRxghD9AADpwAAABgBnul0Qr8AeXg9wHAe83l76OH9Z1oACggAAAAaAZ7rakK/AHmZfiW9Dyne9tfmwehYZ0sACygAAAB4QZrwSahBbJlMCF///oywARkAFqEC+AzKkQsFk86sT3InrZNL7rwJuazQYhPXWzbrGkIl3hxKBzGpXBhqQT1FA1SRHoVGNqQyt3YrDIGEhuuuU/lH/oabeqdx5NaptwgJRYtqDaey3e6OuyftbaIbVxyBBSKiVwFxAAAAHUGfDkUVLC//AFryObcl9sDCcK58NLlD/FgkAAi5AAAAHAGfLXRCvwB5eD3AcB7zeg8v6YAx/BB9MB5ABB0AAAAfAZ8vakK/AHmZfiW9DypAcm3fH7JxxTRm7LFv48AKaAAAAKJBmzRJqEFsmUwIX//+jLABGYaTKFLUa55UEeUtqcjil5CcJYa1+Kxcbs2iqLlsm7/ByjokTLRH+vhM3UcqbhQtgXBf0iHSp0UyLfN8QWFkRdrwm44Nljy5POn/GpOml6rCTCtwrvpWK4Od3jFGuGLGHQWTrJ8y46u1toIKr2Y4y5s5mUYvaPkDp8+2pNqJBUezneItW+KNoRQ/PipZATS/T4AAAAArQZ9SRRUsL/8AWvI5tyX2wMJ73I4vcH+SO07Jg2IAiFo98DesUfMCkQACzwAAABsBn3F0Qr8AeXg9wHAe7X5SJv0a7RErgjsABWwAAAAfAZ9zakK/AHmZfiW9DyoKajwhBMhDRQSICqn6qqAB6QAAAIhBm3hJqEFsmUwIX//+jLABGLvW6uIDoUwd9qZ8EB9GHp2pBI+63YvYblFtda5fzofD0d3sOUGPy/Tz5YVX4rKL8VLPKp+40zxUqVp3IRArUghILY3KgaPrqqHXzvpgP6EcEYB6yhdVLVD5TJncf5jlmFDoZgEcPPxcM7isfDXEg/q9Nyamq1mxAAAAKEGflkUVLC//AFryObcl9sDF6tAeqfhBNDAtupEktt9iUj+6NcWADAgAAAAcAZ+1dEK/AHl4PcBwHvN1wGSzvWDtYeYQaAA0IQAAABwBn7dqQr8AeZl+Jb0PKrUQ/5/s1sBuzUCfAAg5AAAAr0GbvEmoQWyZTAhf//6MsAEZWn0rn/QJu06glxxcKzgAO/N1IgihDax0YWVpQYKQqWgawoc0aacOSPBe51qxyq6omptU5fzPZpv85GW+H/Q2ugabyrTT6Y/ORsSOYrjHmNfG03EBul+T//z0wEt16g0alg7cB5j0H/yBIIo6/61Ff6g/PKRSgzPDQDacW0ZNNIiAZbC7dX1uC8HjXQ6/7vjz0SK/oBoaQVWd9YrEiUQAAAAlQZ/aRRUsL/8AWvI5tyX2wMLFAP8ipIY2KvSGS7rXBIDyDBQBHwAAAB0Bn/l0Qr8AeXg9wHAe84Ib5tLpdgz4oIW+sIAJGAAAABoBn/tqQr8AeZl+Jb0PKdxLG6Jp+ie5lEAH3QAAAMBBm+BJqEFsmUwIX//+jLABGEP2QZZAst+2M0lB5mJY6bL2YScqX0Q9rze1AGijBQXprLGnVLYalGYJp4Zp6LpCCEQIyhYv+++LsVl73t7ejsFve5B1MYvgNJcsW0v3USOl6CIfMTA6a9jg0s0KzLyG0I5/SlhgFxb3ZcS5dmJxCcOM0OQ3Piy6pk5cO+4L8q/OltXjd6xjI0RMkN15isnLinZwejNrFJe2VC4OF6f967pqL2rzMWIzpHSQN7AjBz0AAAAnQZ4eRRUsL/8AWvIpEkn1c4cOt3sAWNtGjX/DoUc4KsKQUTjk2AE3AAAAHQGePXRCvwB5eD3AcB7zdb32JxOtQLHcuJNAgAkYAAAAHwGeP2pCvwB5mSV/Ft0BOYJMrlkpyC9oJfCSr7cAP8EAAACcQZokSahBbJlMCF///oywARgRybyEAFmo3+XnILmN4nLLT6Nc4UxB0rhxU1clxJjl2dSsVF7AM3lTCOYIspLAqnSnOg5Il880gDu6K6wx3ZIvWSzFTcggM6LGhMzaAi+9sgfBs9Ly3juTBzxSzcBL9HcUOk3UO7tubbcDBFG8vG1zoo3iEsLJLOiAmctUH4T2Bjjx87F9iO+lyQ5AAAAAL0GeQkUVLC//AFryJ+JJ9W6+Jc6Aii5o0zkarE9hXYHPZPT15O3ckX9FVVW6wAbNAAAAHAGeYXRCvwB5d9YEdYxJJ/l35xt1mW+8Bh3ABFwAAAAiAZ5jakK/AHmZJX8W3Qt6G71nKQGYYwAWTB8ClQ1SLgA6YQAAAK1BmmhJqEFsmUwIX//+jLABGN9WgeYEHLb0TuZd6CibEM1U6r5TOUhabmjNbyqyZclrR6Gbp51mrA4kw6uuAFqxhpmUNEdq3a/sBtses9HpTQVZy2QypOkgUzxtVihsK67CAExRiZVq32oAADUmkQze9ivpGEMv8Ig6W+waWnqJ4NZtsmd8xeHYgDHacTaGIyUkue2782kbEe8/evdB6dqsyQqATSn48bO2O/6zywAAACFBnoZFFSwv/wBa8ifiSfVrxjHZlc3UTVVnDtOXiyoANSEAAAAkAZ6ldEK/AHl31gR1kjMHyA1xbRzA6bt4Okpr22aMsSoU0AeNAAAAGAGep2pCvwB5mSV/Ft0AmMDi6nLbgABqQAAAAJ5BmqxJqEFsmUwIX//+jLABGWXUFCqQsJJY/1AEj4xNby8bFJU5+fgH4HPJTClzAQuBLQxX2RILMxEnVCDHs1iNfEG/FsAWXE5nRclf4uRt0chDd5ih5Rd+hjVBVUdkTE/VbBPZKl8rBtukRbbEjgVTeqtyMNyYbvhxmJZ7NmH7byI6sum1B3znzqkFmggbxh1NPXOkGBcyEuoOmG2vyAAAAB5BnspFFSwv/wBa8ifiSfVrxjHHj19mqlidEt5ACPkAAAAXAZ7pdEK/AHl31gR1i4D39X7HipcAA/wAAAAZAZ7rakK/AHmZJX8W3QCYwRu86VfLK4ACqgAAANNBmvBJqEFsmUwIX//+jLABGaRBrjUJAIto06jsaT7gCdXuJsGHc0DHPMYAwgzdpKat8iK1R6WvwKcSvqIVYpDU8iP1Tt4eHwZfg131pYY3SJ9tAGMDcMibJ68CvamParY5BilsLxRRCzfzapbaoXJTc8PKjN3Z0buMKuRD9PNqsmZwz5T3wcDV14jKYJKw9knOPCzZyfbBZ5o2pMF9j67pLSQZOJkuvmMy4E+iHEMYdsPKSmR86a21f3pYH+gUBQppk4ASLpOy6F+EK9SkUWbUWAVVAAAAI0GfDkUVLC//AFryJ+JJ9Wy+E5uoBW9sAJl4LBJNrZUIyAHdAAAAHQGfLXRCvwB5d9YEdZIyx/e8WTJe7csaMGXW4A/xAAAAGAGfL2pCvwB5mSV/Ft4IwHPP7+yPUAAGBAAAAKJBmzRJqEFsmUwId//+qZYAJAO8hAeDPAXQyhGAiaIEF00/M9jOObi2xnIrAAgI/F6zoPZS28onDo886ZnDttyESjUg0eH+ea85pTRMBQvAvTPv/RQ3rhgzcf5XM6sKhsIKmy5RUbsNm3D2r/ALUoD9RQyr/GX1wAK27/1NtPNcjQI+JKuNOD0Dy3YWKWYGWkMOLZtkuE1VHyoyKl69dl5p58gAAAAhQZ9SRRUsL/8AWvIn4kn1a8+lsm5TI+aQKSPdvnyIAKqBAAAAGgGfcXRCvwB5d9YEdYuodSY62no0kL5UABIwAAAAFwGfc2pCvwB5mSV/Ft4JgWMMimS8AAOOAAAAi0GbeEmoQWyZTAh3//6plgAkBfugA7AjyuAULt2lQstKIc/FpU3opVVzeEqvh9va6ryX8xNwa0yO8aE5DSMIFV8J27E4zt06VZOD5FYg+243/idYJfwolNZb1S/i+u6drlYaeg7LSuNECmfl5aUcoEChKDaR/yFRJvRdcl+zAdCueysiij9jKe8AHpEAAAApQZ+WRRUsL/8AWvIn4kn1N7A4zvtWnNUhouVrNnttoDwqVXS3WXHAKmAAAAAXAZ+1dEK/AHl31gR1i4ktlarxhBwAAzMAAAAcAZ+3akK/AHmZJX8W3QEZgnskrKxizpJ5KABJwQAAAKNBm7xJqEFsmUwId//+qZYAIiz134gPDhLCCO33oUleK2VTEy651oKus2fXAgwO/SFtxTbnaWDAKNEpqfBmzgL4v7JUYUpLxWGiEB/BMOgal3fGXvnd7ljHJKAlvNR8vwfSf79b67Y94ILZY/V2fmjl79LCHW5ZpLqlEFQkO3UtdOrIt0TmqazHp5XN34MK+v23bRksYzt/BjSaVoceXkOAADFgAAAAJ0Gf2kUVLC//AFryJ+JJ9Wth6n3Eg6y6x3uTGCElYKO12vB1WcAZUQAAABoBn/l0Qr8AeXfWBHWLlGXZsk09AvrTQcADugAAABcBn/tqQr8AeZklfxbdDGCUyY+CDgABxwAAAI9Bm+BJqEFsmUwId//+qZYAJAO8hAek397wqmhD2g9tLtJ1g0Bs+pOoKLoBOkEJDcsZlNPjl0CC6QGJS26y9eHjflpFPl+mOPkCjVPe4uz4PIb71SVcnMOgYKOf9jSNkfb8GsTn/8qQMzUPkEFf0bZjn93cVgTMMZUpp4Io8+zHDCvl2OZfoVNwEPWpgqYGLQAAACZBnh5FFSwv/wBa8ifiSfVr1QliUBn0UaZbFJNCa6QAZLqcMCACJgAAABoBnj10Qr8AeXfWBHWLqPArCNtq6yVnNcABWwAAABoBnj9qQr8AeZklfxbdGMEo2Y13UkKusQAE3QAAAFNBmiRJqEFsmUwId//+qZYAJAAvD+ff+y59ls4jgAoaSGn/d1sfrTmOVQ93ibp+c+UMsLECo9oZ0c9cuq2ECKvLypR21ae0jdj0DhvqB4g+E7ABiwAAAB5BnkJFFSwv/wBa8ifiSfVrBMcCimwAwRGqFXNgBA0AAAAWAZ5hdEK/AHl31gR1i4D39Th9L0DpgAAAABYBnmNqQr8AeZklfxbdAJjAuiRR4IeBAAAATUGaaEmoQWyZTAh3//6plgAkA8/icXUBAnel3O366lBWtJViojS+EUJdPWrVy0NBDf3Kmkg0EpcdiTXDRteUXaxnR10pgpEUwc+MAC2hAAAAHUGehkUVLC//AFryJ+JJ9WsExv5v66EHN/JYAJeBAAAAFgGepXRCvwB5d9YEdYuA9/U4fS9A6YEAAAAWAZ6nakK/AHmZJX8W3QCYwLokUeCHgAAAAExBmqxJqEFsmUwId//+qZYAEAM9KBPIcvrE3mDK9zd6+cbN17g/+Q/IeKz5qxVOjR7/PYBI2n04N+LiA7njQzvTZcYTtZNKXyeeABdwAAAAHkGeykUVLC//AFryJ+JJ9WvPpbJuYMrtm6RJ+9ADuwAAABYBnul0Qr8AeXfWBHWLgPf1OH0vQOmAAAAAGAGe62pCvwB5mSV/Ft0AmMDESMKwrbBjQAAAABpBmvBJqEFsmUwId//+qZYAAAMAymORu8Am4QAAAB1Bnw5FFSwv/wBa8ifiSfVrBMb+b+uhBzfyWACXgQAAABcBny10Qr8AeXfWBHWLgPf1SZJTvrbBjQAAABgBny9qQr8AeZklfxbdAJjAxEjCsK2wY0AAAAAmQZs0SahBbJlMCHf//qmWAAAISz1ptgJ8xMyv58+o9Tb69pcAI+AAAAAeQZ9SRRUsL/8AWvIn4kn1awTHAo6YAcWAEupngATtAAAAFwGfcXRCvwB5d9YEdYuA9/VJklO+tsGNAAAAGQGfc2pCvwB5mSV/Ft0AmMIuLVNvllcABVQAAAA6QZt4SahBbJlMCHf//qmWAAAnCPIyK/Y391OgIVaUhcWVwT1rfoZc8DkmotuZAYc7jZegFyOIFdwE3QAAACBBn5ZFFSwv/wBa8ifiSfVrBMcCimxnrWDjUqFJhgAGZAAAABkBn7V0Qr8AeXfWBHWLgPf3w/Gm31y6AAu5AAAAGQGft2pCvwB5mSV/Ft0AmMIuLVNvllcABVUAAABEQZu8SahBbJlMCHf//qmWAAdJNsVgKp5yQOubTsA+IumGS8yAaiZmLTaijPBTBqhaty1IpgLrT+fIOv132Ww5WeGAA2YAAAAeQZ/aRRUsL/8AWvIn4kn1awTHAopsAMERqhVzYAQNAAAAGQGf+XRCvwB5d9YEdYuA9/fD8abfXLoAC7gAAAAbAZ/7akK/AHmZJX8W3QCYwshCfiZuki6OADMhAAAAT0Gb4EmoQWyZTAh3//6plgAkAr6oC/q88V/1TbO0lPXUZnw1RCxSCqhdoedjVEwHTq8FnYf4A5zooUTmN9e0Fl/S91h04NnYhcLZxAhQAu8AAAAjQZ4eRRUsL/8AWvIn4kn1a8WlsvVPt4UQrlXH1fqqqhsAQMAAAAAZAZ49dEK/AHl31gR1i4D398Pxpt9cugALuAAAABkBnj9qQr8AeZklfxbdAJjCLi1Tb5ZXAAVVAAAAR0GaJEmoQWyZTAh3//6plgAPp4mYQEwIBgpwSXSCC5aKESvwbgT6RhETJF22oNSkCmIN2w3twDGgGPurK/fxjbBaYOGVAB8wAAAAIEGeQkUVLC//AFryJ+JJ9W6oJGwubIGWGKMpXLXCAFBBAAAAGQGeYXRCvwB5d9YEdYuA9/fD8abfXLoAC7gAAAAZAZ5jakK/AHmZJX8W3QCYwi4tU2+WVwAFVQAAAGFBmmhJqEFsmUwId//+qZYAEIP+0QEvcTw+Qswm9fp6RJRYk6sKTsJyAuQfwvIMpJIeJce2UA1OnaUesgAlw2+z2fWB8hWozOZn409ksUAX/zmWtgEZdMJSLsYBY8CXu4FTAAAAJEGehkUVLC//AFryJ+JJ9W6UqFU+aLU159vI6jKTd0m9czAB3QAAABkBnqV0Qr8AeXfWBHWLgPf3w/Gm31y6AAu5AAAAGwGep2pCvwB5mSV/Ft0MYJTJkvetabOG7AAf4AAAAGNBmqxJqEFsmUwId//+qZYAI/+brlq3ItiVr8BI0dy2q2ZoIFQ7SgiRZao43vu+Ov03J+4ERirOWgkY4EAb3Hm0gpSB0Sn4POTfxGdVeAm9ABT3+tVPuwdiScXaOUCNyu6gAW0AAAAjQZ7KRRUsL/8AWvIn4kn1bpSoVTEa4aSTXlgHuc2KtMiAD7kAAAAaAZ7pdEK/AHl31gR1i5Rl15pI3t7gnDx4AP8AAAAbAZ7rakK/AHmZJX8W3QxglMmS961ps4bsAB/gAAAAVEGa8EmoQWyZTAh3//6plgABqKuDe5nG4qSV5SQLUYpJDiIqwE2LPNrJlJ5pjrJKLT99XVo/zYHTQqP4m9d8HfjWh53cscMR1VO/t4XP4oINogD1gQAAACNBnw5FFSwv/wBa8ifiSfVulKhVMRrhpJNeWAe5zYq0yIAPuQAAABoBny10Qr8AeXfWBHWLlGXXmkje3uCcPHgA/wAAABsBny9qQr8AeZklfxbdDGCUyZL3rWmzhuwAH+AAAAAtQZs0SahBbJlMCHf//qmWABCWskdr2NAVaMpmuRE5eN38ZjhT5htXrACdoD0gAAAAI0GfUkUVLC//AFryJ+JJ9W6UqFUxGuGkk15YB7nNirTIgA+5AAAAGgGfcXRCvwB5d9YEdYuUZdeaSN7e4Jw8eAD/AAAAGwGfc2pCvwB5mSV/Ft0MYJTJkvetabOG7AAf4AAAAEBBm3hJqEFsmUwId//+qZYAEH+vEykWFQbnnc94zi7KT8h/oDSjP98x5ZR8UoghmyO/GZU6TwrpGOP2yu9JAAEHAAAAI0GflkUVLC//AFryJ+JJ9W6UqFUxGuGkk15YB7nNirTIgA+4AAAAGgGftXRCvwB5d9YEdYuUZdeaSN7e4Jw8eAD/AAAAGwGft2pCvwB5mSV/Ft0MYJTJkvetabOG7AAf4QAAAFFBm7xJqEFsmUwId//+qZYAEIM9KAeNR46cb6D1UcZXfuftDsV+1r9nOCusvjBtIk1unQDop5Zj1PkKF2rjA9+uPl0RuV+KAk6Cb/TY0NdAfMAAAAAlQZ/aRRUsL/8AWvIn4kn1bpSoVTDnQK6Mi09F1oI3nIguoAAQsQAAABoBn/l0Qr8AeXfWBHWLlGXXmkje3uCcPHgA/wAAABsBn/tqQr8AeZklfxbdDGCUyZL3rWmzhuwAH+EAAABTQZvgSahBbJlMCHf//qmWABCDPSgHfXsSYY2bGM1Skm9ognDGayWSyYN2XP02BuzWJrk/ljpd7tf0moZ0Frwg0a79UPiz9tbW5aKXwbTIso9gV8EAAAAkQZ4eRRUsL/8AWvIn4kn1bpSoVTEbRw2BtEjc6NXkFvAyAAMqAAAAGgGePXRCvwB5d9YEdYuUZdeaSN7e4Jw8eAD/AAAAGwGeP2pCvwB5mSV/Ft0MYJTJkvetabOG7AAf4QAAACtBmiRJqEFsmUwId//+qZYAEI0nSRdYfV+z+tfZU9itoFBmzO74Z358wD0gAAAAJ0GeQkUVLC//AFryJ+JJ9XKtT8qIdvYpPhLeRcaNbhese4OHPQA+YQAAABoBnmF0Qr8AeXfWBHWLlGXXmkje3uCcPHgA/wAAABsBnmNqQr8AeZklfxbdDGCUyZL3rWmzhuwAH+EAAABHQZpoSahBbJlMCHf//qmWAAdPyhtMAXfFt6u4kJJ+wRhcUOpJQx8AgF0m+gKSCZ6TK5HFFXM6y+rD2eG2Km5Bwdwv6/KADpkAAAAmQZ6GRRUsL/8AWvIn4kn1c04JjSOmgaYSQi4dmrqCXIiwhbKgBTUAAAAaAZ6ldEK/AHl31gR1i5Rl15pI3t7gnDx4AP8AAAAbAZ6nakK/AHmZJX8W3QxglMmS961ps4bsAB/gAAAAH0GarEmoQWyZTAh3//6plgAPqBid0RZausgX24kATcAAAAAnQZ7KRRUsL/8AWvIn4kn1c04JjSOmgaYSQi4dmrqCXI3mQkrxABnxAAAAGgGe6XRCvwB5d9YEdYuUZdeaSN7e4Jw8eAD/AAAAGwGe62pCvwB5mSV/Ft0MYJTJkvetabOG7AAf4AAAABxBmvBJqEFsmUwId//+qZYAB6EdxIDwj7vAAAPnAAAAJkGfDkUVLC//AFryJ+JJ9XKtT8qIdvYpPhLeRcaCN83dBnKgAEDBAAAAGgGfLXRCvwB5d9YEdYuUZdeaSN7e4Jw8eAD/AAAAGwGfL2pCvwB5mSV/Ft0MYJTJkvetabOG7AAf4AAAABxBmzRJqEFsmUwId//+qZYAB6C3wgO4au8AAA+YAAAAJkGfUkUVLC//AFryJ+JJ9XKtT8qIdvYpPhLeRcaCN83dBnKgAEDBAAAAGgGfcXRCvwB5d9YEdYuUZdeaSN7e4Jw8eAD/AAAAGwGfc2pCvwB5mSV/Ft0MYJTJkvetabOG7AAf4AAAACdBm3hJqEFsmUwId//+qZYAA4+gkuAGAWF8K9QI7M/fY3fbh3pAHdEAAAAmQZ+WRRUsL/8AWvIn4kn1cq1Pyoh29ik+Et5FxoI3zd0GcqAAQMAAAAAaAZ+1dEK/AHl31gR1i5Rl15pI3t7gnDx4AP8AAAAbAZ+3akK/AHmZJX8W3QxglMmS961ps4bsAB/hAAAAH0GbvEmoQWyZTAh3//6plgAAAwO6W+EC+9s/fsykBQQAAAAlQZ/aRRUsL/8AWvIn4kn1cq1Pyoh29ik+Et5FxoI3oZwmpAAQsQAAABoBn/l0Qr8AeXfWBHWLlGXXmkje3uCcPHgA/wAAABsBn/tqQr8AeZklfxbdDGCUyZL3rWmzhuwAH+EAAAAcQZvgSahBbJlMCHf//qmWAAADA7pb4QLz4ogBKwAAACVBnh5FFSwv/wBa8ifiSfVyrU/KiHb2KT4S3kXGgjehnCakABCwAAAAGgGePXRCvwB5d9YEdYuUZdeaSN7e4Jw8eAD/AAAAGwGeP2pCvwB5mSV/Ft0MYJTJkvetabOG7AAf4QAAACZBmiRJqEFsmUwId//+qZYAAAMD0FvhAcj6MnjsVEOU0Gg8WAA44AAAACVBnkJFFSwv/wBa8ifiSfVyrU/KiHb2KT4S3kXGgjehnCakABCxAAAAGgGeYXRCvwB5d9YEdYuUZdeaSN7e4Jw8eAD/AAAAGwGeY2pCvwB5mSV/Ft0MYJTJkvetabOG7AAf4QAAACFBmmhJqEFsmUwId//+qZYAAAMDufpOgUGdriVTsi7AELEAAAAlQZ6GRRUsL/8AWvIn4kn1cq1Pyoh29ik+Et5FxoI3oZwmpAAQsQAAABoBnqV0Qr8AeXfWBHWLlGXXmkje3uCcPHgA/wAAABsBnqdqQr8AeZklfxbdDGCUyZL3rWmzhuwAH+AAAAAcQZqsSahBbJlMCHf//qmWAAADA7pb4QLz4ogBKwAAACVBnspFFSwv/wBa8ifiSfVyrU/KiHb2KT4S3kXGgjehnCakABCxAAAAGgGe6XRCvwB5d9YEdYuUZdeaSN7e4Jw8eAD/AAAAGwGe62pCvwB5mSV/Ft0MYJTJkvetabOG7AAf4AAAAClBmvBJqEFsmUwId//+qZYAAAlBnpQJ+Cta99krfMr6pRIzvY+mTUARcQAAACVBnw5FFSwv/wBa8ifiSfVyrU/KiHb2KT4S3kXGgjehnCakABCxAAAAGgGfLXRCvwB5d9YEdYuUZdeaSN7e4Jw8eAD/AAAAGwGfL2pCvwB5mSV/Ft0MYJTJkvetabOG7AAf4AAAACJBmzRJqEFsmUwId//+qZYAB6C3wgPCPu8mpvg/yYEYSAKCAAAAJUGfUkUVLC//AFryJ+JJ9XKtT8qIdvYpPhLeRcaCN6GcJqQAELEAAAAaAZ9xdEK/AHl31gR1i5Rl15pI3t7gnDx4AP8AAAAbAZ9zakK/AHmZJX8W3QxglMmS961ps4bsAB/gAAAAJEGbeEmoQWyZTAh3//6plgAACUGelAoSe1ruGSvLI9aW24gCtwAAACVBn5ZFFSwv/wBa8ifiSfVyrU/KiHb2KT4S3kXGgjehnCakABCwAAAAGgGftXRCvwB5d9YEdYuUZdeaSN7e4Jw8eAD/AAAAGwGft2pCvwB5mSV/Ft0MYJTJkvetabOG7AAf4QAAABZBm7lJqEFsmUwIV//+OEAAAAMAAC2gAAAHoGWIggAEf/73iB8yy2+catdyEeetLq0fUO5GcV6kvf4gAAADAAA9hYRO+pfVHWE/AABDAAG9JVoX8M0l0YF55QOdq24zmWhooUTr+R4pZvFXWEt6ejnh7jGiN+L8YRnlcXBELf/E1DbRxgQXSUJNek9oWR0d7UHkqbsjsZJ77Ho5tPoYrqjAwacXGYZXrqztZgu++WoYddbEOXuS8zX3UayGOvPLLxWQNhNG7k2IjfU8B8cMDbjmNbs0JMXCQKBC+H9gdcAnlgYz984mlRtFGjf7vCbjyVdWABh3iQgpYc4JgHpMt9oo4DpPoVgQl1lXozAhbOnjDt8SxlELKdYacFMzUsOzMpzujdZDRdTGpy4KQxR17ItyqXcACANew2C4XSnj6cIsjx5T8Kp/gOchKxNM1FHkc6P/G6jON1NxQ/5Lk5+mEihk2OjP3WiVw3Pcn7Ger1skwQ6ERzI1pRHBu1DIuzPa84arvG4tR52NW1w4MxSt3Nt4P15QElfHWm1L7s4EQus6Is4AjMxLHHMa9tFVkypi/6TR5PS64ppFDqdoXS/HT0FcTsw+vj7LvalkHxYyABsGxgKvDgGjK5YviqvRFM5+4LthXCnBWS0IYT8y7Uu9sUlaDUb9H70/Pnsd0ffRFea5DTrCPsdgcwZ4nX+Y4XG+PMMdIi+dzRF8rNfNvG7HrIvGS5bszO6JpZlpiTFF7wvRxPrkl9OMRaX998mBJa/FSNU6zadt5elqmWybzAUdKtw888mjQhAPZlmmwPE5gWU1cbFUNNXc21Rv1a+WuaWYGHZ3rx4jUX6xvp55+o4c1TOacKJPEvp36k+2g2HMkfSBWHeQkEkStscqSrcKPaQcVelGg6RbLyrNgu1Xdal8Wq6Z2ztDEmqAZTcXik/FRU6f7LtlADWtRZw4UYaC8N0vJuiJGMKZhhxHsvBNvXnLwOMOfcb7rGhHN+MMIZwXQSsZCRBxZmw1kc977KuJnTzeM7cMlbSFUQvarLvqzLULcFvnLO15daSwyE4hQv1JSLUBBJWcJ67XJ15gMG6tILVOqbWZTjuijh1yZ9ivy19woIkW+mQx3kyQ6J8y08Il116yk3BUpvfLyurN9fm0yHJpJZtE7yemaMJOP8o9hqOdddZ31hEjX6ZYaLLiv0K/G9H4G5BsqRMzWP+wtBY5zEyQxhQYH4syE6y6/rL3bQ1H92y16wQPG096bE+gvIPqZKlJULDybtrDLENEozjRgg/ul0SSXd9F/4K86oOiGE99/hNegcPFIUqsPMenY8qhxP1NMcSsc6vfVbxB3YJ2LIwVtbLd65k4UIeTwAqIxRQ0oxjiq/vU1DPbkmO5x26RKyJe2v+5WgY+rHnWey7e3Dx0NRyhHdqp/9Gtg9tDJ/pLCAG3lCmJ9jpBRPJ8XzaU2brV/LyTYElFiejro2dqSxJnSSjx/aBsejRxZCLmj/3WTd3lpuMu7/zTjMVnIFTZBpk3e5lyc+RILUYn5k5+y1cmGQZct3/vmv298iHHg/BkiNSLPPCSZZ8d0Qtq887618GIhnE566JIufuXxZEAJ6Hfxviksqm07SbcvX4Rl0jkbn3YQduJvNA0DJx9E0NZN8HV6cAsXKZqm1WLjSJtPWDaintvFbr/4PvHZcjpKMlfsEbMFl2M2zIqyTy364alhkFlvo26tvakamnoZfXokd3nLcU3VIrS/wKWZBZethPRy/wKjPUcwCnf14PocGk97CgE7YrnLqbhz50B70ua+m2kWoI1tQoRemmfZrvJxXyifNuTXYZm3ZUGjFpQqKhcU1kF5aFA4wIuEuSRa8BFivuJevjC5jg4ZWz/XwR6TUbaq3P203IuNiFWN+PsxQoBfjIHeUmi00Fa1nH3d4zy3zbPoO9DOmCc/USAb2qBZWjYTjyo+R/cP44dT1Kh9OjUgpV/SgMeY8xRlFRRyLVhWUrXhojkJv98ZJV0XFVxLlvAddpyWQjGZFr/8cOguMCCY4y9uUKXvZ46OceBkGIgAryBH+RzAsaW2uO7EQs90n8ThHXdhIm6Dd2PKcKdql6zvsJ1v2+5f+iKgrv1fQ3WgVIp8vldeq6FwMBeaqQTQp+8fBY5qdvGJ6YYeP1Ve5lO0oSnAK3VUZTrcKNdXrEzH5oNdw39wj49OReiOuf+YxHfQekKSbMedB5+MVP+huupd3wZbcNdp9s6nycGn5+D9WSUjPJ+bN8zPMZNKeapukHPdJH3FmXdYxmMuAro1cE5KT1IpXIAmYYC0zj54gklWlOH3ZHvGTjUuBwI2w+wKt+2nOFqVWTdd6Z+ry0g6hZ5wg2YV7kPm14dHhSEsqc6ODqJTPyblcUSfyrRN+F+yjK2Utpgrd5VqBWl1518ghYufCc1bJfOBJWXUXQp6dZpnT7/MN+t94LKTu78tPU/ynr7c3HUNm2XuPPP9N7e289ecFX/gXT6oxU5SaYv9Nb5U5cSYAqk17iUajozgRz8PvbtSvjGHJrbUNaJYf9uXvpI+3LurDh+vMJzz7PH94KCnakMW2o+hBADqWDaBxvJQ9S50TGeOTb3t6bBOY5DJOn9UKLAW0AN9imAAAADAAADAAADAAADAAADAAADAATFAAAAG0GaJGxDv/6plgAiCnSgML2otmhvBp6zUD4CNgAAAA5BnkJ4hf8AAAMAAAMBxwAAAA4BnmF0Qr8AAAMAAAMCbwAAAA4BnmNqQr8AAAMAAAMCbgAAABdBmmhJqEFomUwId//+qZYAAAMAAAMBgwAAABBBnoZFESwv/wAAAwAAAwHHAAAADgGepXRCvwAAAwAAAwJuAAAADgGep2pCvwAAAwAAAwJvAAAAF0GarEmoQWyZTAh3//6plgAAAwAAAwGDAAAAEEGeykUVLC//AAADAAADAccAAAAOAZ7pdEK/AAADAAADAm8AAAAOAZ7rakK/AAADAAADAm8AAAAXQZrwSahBbJlMCHf//qmWAAADAAADAYMAAAAQQZ8ORRUsL/8AAAMAAAMBxwAAAA4Bny10Qr8AAAMAAAMCbgAAAA4Bny9qQr8AAAMAAAMCbwAAABdBmzRJqEFsmUwId//+qZYAAAMAAAMBgwAAABBBn1JFFSwv/wAAAwAAAwHHAAAADgGfcXRCvwAAAwAAAwJvAAAADgGfc2pCvwAAAwAAAwJvAAAAF0GbeEmoQWyZTAh3//6plgAAAwAAAwGDAAAAEEGflkUVLC//AAADAAADAccAAAAOAZ+1dEK/AAADAAADAm4AAAAOAZ+3akK/AAADAAADAm8AAAAXQZu8SahBbJlMCHf//qmWAAADAAADAYMAAAAQQZ/aRRUsL/8AAAMAAAMBxwAAAA4Bn/l0Qr8AAAMAAAMCbwAAAA4Bn/tqQr8AAAMAAAMCbgAAABdBm+BJqEFsmUwId//+qZYAAAMAAAMBgwAAABBBnh5FFSwv/wAAAwAAAwHHAAAADgGePXRCvwAAAwAAAwJuAAAADgGeP2pCvwAAAwAAAwJvAAAAF0GaJEmoQWyZTAh3//6plgAAAwAAAwGDAAAAEEGeQkUVLC//AAADAAADAccAAAAOAZ5hdEK/AAADAAADAm8AAAAOAZ5jakK/AAADAAADAm4AAAAXQZpoSahBbJlMCHf//qmWAAADAAADAYMAAAAQQZ6GRRUsL/8AAAMAAAMBxwAAAA4BnqV0Qr8AAAMAAAMCbgAAAA4BnqdqQr8AAAMAAAMCbwAAABdBmqxJqEFsmUwId//+qZYAAAMAAAMBgwAAABBBnspFFSwv/wAAAwAAAwHHAAAADgGe6XRCvwAAAwAAAwJvAAAADgGe62pCvwAAAwAAAwJvAAAAF0Ga8EmoQWyZTAh3//6plgAAAwAAAwGDAAAAEEGfDkUVLC//AAADAAADAccAAAAOAZ8tdEK/AAADAAADAm4AAAAOAZ8vakK/AAADAAADAm8AAAAXQZs0SahBbJlMCHf//qmWAAADAAADAYMAAAAQQZ9SRRUsL/8AAAMAAAMBxwAAAA4Bn3F0Qr8AAAMAAAMCbwAAAA4Bn3NqQr8AAAMAAAMCbwAAABdBm3hJqEFsmUwId//+qZYAAAMAAAMBgwAAABBBn5ZFFSwv/wAAAwAAAwHHAAAADgGftXRCvwAAAwAAAwJuAAAADgGft2pCvwAAAwAAAwJvAAAAF0GbvEmoQWyZTAh3//6plgAAAwAAAwGDAAAAEEGf2kUVLC//AAADAAADAccAAAAOAZ/5dEK/AAADAAADAm8AAAAOAZ/7akK/AAADAAADAm4AAAAXQZvgSahBbJlMCHf//qmWAAADAAADAYMAAAAQQZ4eRRUsL/8AAAMAAAMBxwAAAA4Bnj10Qr8AAAMAAAMCbgAAAA4Bnj9qQr8AAAMAAAMCbwAAABdBmiRJqEFsmUwId//+qZYAAAMAAAMBgwAAABBBnkJFFSwv/wAAAwAAAwHHAAAADgGeYXRCvwAAAwAAAwJvAAAADgGeY2pCvwAAAwAAAwJuAAAAF0GaaEmoQWyZTAh3//6plgAAAwAAAwGDAAAAEEGehkUVLC//AAADAAADAccAAAAOAZ6ldEK/AAADAAADAm4AAAAOAZ6nakK/AAADAAADAm8AAAAXQZqsSahBbJlMCHf//qmWAAADAAADAYMAAAAQQZ7KRRUsL/8AAAMAAAMBxwAAAA4Bnul0Qr8AAAMAAAMCbwAAAA4BnutqQr8AAAMAAAMCbwAAABdBmvBJqEFsmUwId//+qZYAAAMAAAMBgwAAABBBnw5FFSwv/wAAAwAAAwHHAAAADgGfLXRCvwAAAwAAAwJuAAAADgGfL2pCvwAAAwAAAwJvAAAAF0GbNEmoQWyZTAh3//6plgAAAwAAAwGDAAAAEEGfUkUVLC//AAADAAADAccAAAAOAZ9xdEK/AAADAAADAm8AAAAOAZ9zakK/AAADAAADAm8AAAAXQZt4SahBbJlMCHf//qmWAAADAAADAYMAAAAQQZ+WRRUsL/8AAAMAAAMBxwAAAA4Bn7V0Qr8AAAMAAAMCbgAAAA4Bn7dqQr8AAAMAAAMCbwAAABdBm7xJqEFsmUwId//+qZYAAAMAAAMBgwAAABBBn9pFFSwv/wAAAwAAAwHHAAAADgGf+XRCvwAAAwAAAwJvAAAADgGf+2pCvwAAAwAAAwJuAAAAF0Gb4EmoQWyZTAh3//6plgAAAwAAAwGDAAAAEEGeHkUVLC//AAADAAADAccAAAAOAZ49dEK/AAADAAADAm4AAAAOAZ4/akK/AAADAAADAm8AAAAXQZokSahBbJlMCHf//qmWAAADAAADAYMAAAAQQZ5CRRUsL/8AAAMAAAMBxwAAAA4BnmF0Qr8AAAMAAAMCbwAAAA4BnmNqQr8AAAMAAAMCbgAAABdBmmhJqEFsmUwId//+qZYAAAMAAAMBgwAAABBBnoZFFSwv/wAAAwAAAwHHAAAADgGepXRCvwAAAwAAAwJuAAAADgGep2pCvwAAAwAAAwJvAAAAF0GarEmoQWyZTAh3//6plgAAAwAAAwGDAAAAEEGeykUVLC//AAADAAADAccAAAAOAZ7pdEK/AAADAAADAm8AAAAOAZ7rakK/AAADAAADAm8AAAAXQZrwSahBbJlMCHf//qmWAAADAAADAYMAAAAQQZ8ORRUsL/8AAAMAAAMBxwAAAA4Bny10Qr8AAAMAAAMCbgAAAA4Bny9qQr8AAAMAAAMCbwAAABdBmzRJqEFsmUwId//+qZYAAAMAAAMBgwAAABBBn1JFFSwv/wAAAwAAAwHHAAAADgGfcXRCvwAAAwAAAwJvAAAADgGfc2pCvwAAAwAAAwJvAAAAF0GbeEmoQWyZTAh3//6plgAAAwAAAwGDAAAAEEGflkUVLC//AAADAAADAccAAAAOAZ+1dEK/AAADAAADAm4AAAAOAZ+3akK/AAADAAADAm8AAAAXQZu8SahBbJlMCHf//qmWAAADAAADAYMAAAAQQZ/aRRUsL/8AAAMAAAMBxwAAAA4Bn/l0Qr8AAAMAAAMCbwAAAA4Bn/tqQr8AAAMAAAMCbgAAABdBm+BJqEFsmUwId//+qZYAAAMAAAMBgwAAABBBnh5FFSwv/wAAAwAAAwHHAAAADgGePXRCvwAAAwAAAwJuAAAADgGeP2pCvwAAAwAAAwJvAAAAF0GaJEmoQWyZTAh3//6plgAAAwAAAwGDAAAAEEGeQkUVLC//AAADAAADAccAAAAOAZ5hdEK/AAADAAADAm8AAAAOAZ5jakK/AAADAAADAm4AAAAXQZpoSahBbJlMCHf//qmWAAADAAADAYMAAAAQQZ6GRRUsL/8AAAMAAAMBxwAAAA4BnqV0Qr8AAAMAAAMCbgAAAA4BnqdqQr8AAAMAAAMCbwAAABdBmqxJqEFsmUwId//+qZYAAAMAAAMBgwAAABBBnspFFSwv/wAAAwAAAwHHAAAADgGe6XRCvwAAAwAAAwJvAAAADgGe62pCvwAAAwAAAwJvAAAAF0Ga8EmoQWyZTAh3//6plgAAAwAAAwGDAAAAEEGfDkUVLC//AAADAAADAccAAAAOAZ8tdEK/AAADAAADAm4AAAAOAZ8vakK/AAADAAADAm8AAAAXQZs0SahBbJlMCHf//qmWAAADAAADAYMAAAAQQZ9SRRUsL/8AAAMAAAMBxwAAAA4Bn3F0Qr8AAAMAAAMCbwAAAA4Bn3NqQr8AAAMAAAMCbwAAABdBm3hJqEFsmUwId//+qZYAAAMAAAMBgwAAABBBn5ZFFSwv/wAAAwAAAwHHAAAADgGftXRCvwAAAwAAAwJuAAAADgGft2pCvwAAAwAAAwJvAAAAF0GbvEmoQWyZTAh3//6plgAAAwAAAwGDAAAAEEGf2kUVLC//AAADAAADAccAAAAOAZ/5dEK/AAADAAADAm8AAAAOAZ/7akK/AAADAAADAm4AAAAXQZvgSahBbJlMCHf//qmWAAADAAADAYMAAAAQQZ4eRRUsL/8AAAMAAAMBxwAAAA4Bnj10Qr8AAAMAAAMCbgAAAA4Bnj9qQr8AAAMAAAMCbwAAABdBmiRJqEFsmUwId//+qZYAAAMAAAMBgwAAABBBnkJFFSwv/wAAAwAAAwHHAAAADgGeYXRCvwAAAwAAAwJvAAAADgGeY2pCvwAAAwAAAwJuAAAAF0GaaEmoQWyZTAh3//6plgAAAwAAAwGDAAAAEEGehkUVLC//AAADAAADAccAAAAOAZ6ldEK/AAADAAADAm4AAAAOAZ6nakK/AAADAAADAm8AAAAXQZqsSahBbJlMCHf//qmWAAADAAADAYMAAAAQQZ7KRRUsL/8AAAMAAAMBxwAAAA4Bnul0Qr8AAAMAAAMCbwAAAA4BnutqQr8AAAMAAAMCbwAAABdBmvBJqEFsmUwId//+qZYAAAMAAAMBgwAAABBBnw5FFSwv/wAAAwAAAwHHAAAADgGfLXRCvwAAAwAAAwJuAAAADgGfL2pCvwAAAwAAAwJvAAAAF0GbNEmoQWyZTAh3//6plgAAAwAAAwGDAAAAEEGfUkUVLC//AAADAAADAccAAAAOAZ9xdEK/AAADAAADAm8AAAAOAZ9zakK/AAADAAADAm8AAAAXQZt4SahBbJlMCHf//qmWAAADAAADAYMAAAAQQZ+WRRUsL/8AAAMAAAMBxwAAAA4Bn7V0Qr8AAAMAAAMCbgAAAA4Bn7dqQr8AAAMAAAMCbwAAABdBm7xJqEFsmUwId//+qZYAAAMAAAMBgwAAABBBn9pFFSwv/wAAAwAAAwHHAAAADgGf+XRCvwAAAwAAAwJvAAAADgGf+2pCvwAAAwAAAwJuAAAAF0Gb4EmoQWyZTAh3//6plgAAAwAAAwGDAAAAEEGeHkUVLC//AAADAAADAccAAAAOAZ49dEK/AAADAAADAm4AAAAOAZ4/akK/AAADAAADAm8AAAAXQZokSahBbJlMCHf//qmWAAADAAADAYMAAAAQQZ5CRRUsL/8AAAMAAAMBxwAAAA4BnmF0Qr8AAAMAAAMCbwAAAA4BnmNqQr8AAAMAAAMCbgAAABdBmmhJqEFsmUwId//+qZYAAAMAAAMBgwAAABBBnoZFFSwv/wAAAwAAAwHHAAAADgGepXRCvwAAAwAAAwJuAAAADgGep2pCvwAAAwAAAwJvAAAAF0GarEmoQWyZTAh3//6plgAAAwAAAwGDAAAAEEGeykUVLC//AAADAAADAccAAAAOAZ7pdEK/AAADAAADAm8AAAAOAZ7rakK/AAADAAADAm8AAAAXQZrwSahBbJlMCHf//qmWAAADAAADAYMAAAAQQZ8ORRUsL/8AAAMAAAMBxwAAAA4Bny10Qr8AAAMAAAMCbgAAAA4Bny9qQr8AAAMAAAMCbwAAABdBmzRJqEFsmUwId//+qZYAAAMAAAMBgwAAABBBn1JFFSwv/wAAAwAAAwHHAAAADgGfcXRCvwAAAwAAAwJvAAAADgGfc2pCvwAAAwAAAwJvAAAAF0GbeEmoQWyZTAh3//6plgAAAwAAAwGDAAAAEEGflkUVLC//AAADAAADAccAAAAOAZ+1dEK/AAADAAADAm4AAAAOAZ+3akK/AAADAAADAm8AAAAXQZu8SahBbJlMCHf//qmWAAADAAADAYMAAAAQQZ/aRRUsL/8AAAMAAAMBxwAAAA4Bn/l0Qr8AAAMAAAMCbwAAAA4Bn/tqQr8AAAMAAAMCbgAAABdBm+BJqEFsmUwId//+qZYAAAMAAAMBgwAAABBBnh5FFSwv/wAAAwAAAwHHAAAADgGePXRCvwAAAwAAAwJuAAAADgGeP2pCvwAAAwAAAwJvAAAAF0GaJEmoQWyZTAh3//6plgAAAwAAAwGDAAAAEEGeQkUVLC//AAADAAADAccAAAAOAZ5hdEK/AAADAAADAm8AAAAOAZ5jakK/AAADAAADAm4AAAAXQZpoSahBbJlMCHf//qmWAAADAAADAYMAAAAQQZ6GRRUsL/8AAAMAAAMBxwAAAA4BnqV0Qr8AAAMAAAMCbgAAAA4BnqdqQr8AAAMAAAMCbwAAABdBmqxJqEFsmUwId//+qZYAAAMAAAMBgwAAABBBnspFFSwv/wAAAwAAAwHHAAAADgGe6XRCvwAAAwAAAwJvAAAADgGe62pCvwAAAwAAAwJvAAAAF0Ga8EmoQWyZTAh3//6plgAAAwAAAwGDAAAAEEGfDkUVLC//AAADAAADAccAAAAOAZ8tdEK/AAADAAADAm4AAAAOAZ8vakK/AAADAAADAm8AAAAXQZs0SahBbJlMCHf//qmWAAADAAADAYMAAAAQQZ9SRRUsL/8AAAMAAAMBxwAAAA4Bn3F0Qr8AAAMAAAMCbwAAAA4Bn3NqQr8AAAMAAAMCbwAAABdBm3hJqEFsmUwId//+qZYAAAMAAAMBgwAAABBBn5ZFFSwv/wAAAwAAAwHHAAAADgGftXRCvwAAAwAAAwJuAAAADgGft2pCvwAAAwAAAwJvAAAAFkGbuUmoQWyZTAhX//44QAAAAwAALaAAAAegZYiEABH//veIHzLLb5xq13IR560urR9Q7kZxXqS9/iAAAAMAAD2FhE76l9UdYT8AAEMAAb0lWhfwzSXRgXnlA52rbjOZaGihROv5Hilm8VdYS3p6OeHuMaI34vxhGeVxcEQt/8TUNtHGBBdJQk16T2hZHR3tQeSpuyOxknvsejm0+hiuqMDBpxcZhleurO1mC775ahh11sQ5e5LzNfdRrIY688svFZA2E0buTYiN9TwHxwwNuOY1uzQkxcJAoEL4f2B1wCeWBjP3ziaVG0UaN/u8JuPJV1YAGHeJCClhzgmAeky32ijgOk+hYOrj171Km2dPGHb4ljKIWU6w04KZmpYdmZTndG6yGi6mNTlwUhijr2RblUu4AEAa9hsFwulPH04RZHjyn4VT/Ac5CViaZqKPI50f+N1Gcbqbih/yvK29aiie//6KtpzUD03NMj6eID6E1Ks5Y39i9d5iOZGtKI4N2Yrr/ShBpdLTnp0Ejzsat29qVvlJudIIklalASV8dbQ0+lBLoQI3qCiAIH8++dglSBHNlMJacOiaPJ6WPIhHkdUtBOsdSkOkXbTY/XCuNSx0UY+qApX8mIABGT3B1IGAKWHR/HL+LthXLnBUzcwYTjdC0vJMgJK8KXEQPqUdhZyY45izsPZDALK2GjWxZFUOpDxqYU67TdhNmIFFp90LNEiGvVgDMWReLybcHqbZ6GmDDvHACPvfumj65GZZ0hkSlfvJQX+LYvphetzs7bH+smjq10LOrk1q3DydvWUVwFByEMmC2Y2GEhH4pH0yfh9lFrEqRu1h6pU6oWdVyrOhF3nrwiTixvAp6ThOIVKXVFkkyGWPfHafO+HVltFjrSHaAdFOhFw5vk+igOXSLWE10H8I+UiyCW5k2WpzmtQyGKg4VGC91OUIYrQWCvKqNdiWn8X1l4pDsbZvcb+8KaTeeMC11a+syYCZHx6ErPKd9qERJ1NONun+jegJM8zp35Tf6beIp4MRZZeOU8bOkp4yrjKQdqdFkFOjn0vO/zM8a8ZY+D/Eu4jriqxIwBtd4tGLzB3Bu13LlfcbKhGwkuX+wkzmQkRHdNrQ7V41xAwtAwaBuD20veHnm1+OjaZGdrO3ee1JWcwAP6StoxF+3vT9U0WiRARYTUXxqUenKmnHqG+B51yl9C9Zu9XGJl7kCuR9uczVRGTRDMuUEC0R6CfcPHyIfnip3DHXP4idJ0MHgT8hCBhl5z1/DhIQvRn35p5cV4T8fiAovuR8odvKX/551Cvp2fFwDXaR79ugd3h81YupFuRRbS+AMSqZlikWmKOKr6wYKx0bjPwwmE1LV6e7+LS3ynUS9W0T+jyZKsMoAP/ZdrDdWOrgNUSBZvAeC1Gg4VqgeyHCIjHCfMUF2ihHsoqgu+KGaQFgCd1FHeWxF9JcxxkosjOmy0Lo0teTGnhWU/Lg3gHKDABafDDY5nUw5Y3VsMitofrjWUexUET6wfZfcl2rpdvRPrlWF+d1GHJ0bKqv/rK/bB0c7fRlUExAaA2oWcv18S0VtG9iGds67EcJKaHfqf19X57CYb+swnVuPfxM0upNj8Yrce8xMrslPrz7K5aokh4n7rI6rCQ7Vfk74MmavNggbqPwWM9qsGdTjimZkE7d7+QuxV5ZdWjejQdRzxmbg20xyjs1UPHGwrv0jjvpLAUUVz4skvb3irX22cfTdUj5KMr4fodWvVY01rd4vyhEc8PWwq0fkvtz1P/QahfunZ0d3TNDvelzX3uv9+qPWCGpzcnyh3JXVY0rFvaS2xnzNWMF9CYgxgNmwXRlp3SZn1ic5lORwG88PvOnLjL4wulU8bkxw78FPXkHSt0eFlVQWXa90PXErSRoJstYzxSk0UMe6wDVfYMWLcicP3Wz/WRrigvpHw8SqQiIT6tQSiMojL4l7j4vuzpPOgL/JVL/ZpWtacHG64TJF4Y8GjGX8w3Fr/K4V/2zkxPQH6PXAnQ8Vn398KMLDVrdCjkv9ZzlA1L6eZRpFmEc97cklQ6KrIEIaXtpjwxRfFjz/5OX6EQ/2TJ31C/eRfSmmwd5Jhhkg0PFqQpXqaD3zelwc/ue4/B8HY0GArSNJhSw2BK+hKK6x66O28Pckv+OZTHqwc4PxFU6oMUVxNSaMjjHfQ6XN/RKR2NYSHr/o3/jVDwg6VDhM2uKq/GCDIQKpe4gHj5d7XbnxuPa8JojKQTUXujfp2LH00q2MHcqG6zH0GzGaVWaMmtRyJmYYT8IxiZEngfpveBtVANq+D6CkzeJ/0mjTvREkT9qhzJQIsBrAcvXJh4hEEoyDPUyrbj0X4aEO1Gj4MRA03Ly87t2abd2e1Ft/jyTutt8LPu5FL5/ffpWK9Xd6Qdhual15VtucSZW/HHv7pwJJdyh0rnRuo1UJ7FZ7zm/PlMQHhuWmX5MFn1LHXrigzSiBT+QzO9y+KNsFqVi/V/3UfXojU9Mgax6MeKX1IwLZQAK7Q3bf3Hw793PtRiAsgtT4w+/7m/UiV3wS57pTSrJWRTn7bpkBLdF3ShRSuOD2JS9Wzo09StPknunxvyHC7fjtLAOD97st5GP9AE8ACDmGgAAAwAAAwAAAwAAAwAAAwAAAwAAB3wAAAAbQZokbEO//qmWACIKdKAwvaqTGr0JDUzT2AFbAAAADkGeQniF/wAAAwAAAwHHAAAADgGeYXRCvwAAAwAAAwJvAAAADgGeY2pCvwAAAwAAAwJvAAAAF0GaaEmoQWiZTAh3//6plgAAAwAAAwGDAAAAEEGehkURLC//AAADAAADAccAAAAOAZ6ldEK/AAADAAADAm4AAAAOAZ6nakK/AAADAAADAm8AAAAXQZqsSahBbJlMCHf//qmWAAADAAADAYMAAAAQQZ7KRRUsL/8AAAMAAAMBxwAAAA4Bnul0Qr8AAAMAAAMCbgAAAA4BnutqQr8AAAMAAAMCbwAAABdBmvBJqEFsmUwId//+qZYAAAMAAAMBgwAAABBBnw5FFSwv/wAAAwAAAwHHAAAADgGfLXRCvwAAAwAAAwJuAAAADgGfL2pCvwAAAwAAAwJvAAAAF0GbNEmoQWyZTAh3//6plgAAAwAAAwGDAAAAEEGfUkUVLC//AAADAAADAccAAAAOAZ9xdEK/AAADAAADAm8AAAAOAZ9zakK/AAADAAADAm4AAAAXQZt4SahBbJlMCHf//qmWAAADAAADAYMAAAAQQZ+WRRUsL/8AAAMAAAMBxwAAAA4Bn7V0Qr8AAAMAAAMCbgAAAA4Bn7dqQr8AAAMAAAMCbgAAABdBm7xJqEFsmUwId//+qZYAAAMAAAMBgwAAABBBn9pFFSwv/wAAAwAAAwHHAAAADgGf+XRCvwAAAwAAAwJvAAAADgGf+2pCvwAAAwAAAwJuAAAAF0Gb4EmoQWyZTAh3//6plgAAAwAAAwGDAAAAEEGeHkUVLC//AAADAAADAccAAAAOAZ49dEK/AAADAAADAm4AAAAOAZ4/akK/AAADAAADAm4AAAAXQZokSahBbJlMCHf//qmWAAADAAADAYMAAAAQQZ5CRRUsL/8AAAMAAAMBxwAAAA4BnmF0Qr8AAAMAAAMCbwAAAA4BnmNqQr8AAAMAAAMCbwAAABdBmmhJqEFsmUwId//+qZYAAAMAAAMBgwAAABBBnoZFFSwv/wAAAwAAAwHHAAAADgGepXRCvwAAAwAAAwJuAAAADgGep2pCvwAAAwAAAwJvAAAAF0GarEmoQWyZTAh3//6plgAAAwAAAwGDAAAAEEGeykUVLC//AAADAAADAccAAAAOAZ7pdEK/AAADAAADAm4AAAAOAZ7rakK/AAADAAADAm8AAAAXQZrwSahBbJlMCHf//qmWAAADAAADAYMAAAAQQZ8ORRUsL/8AAAMAAAMBxwAAAA4Bny10Qr8AAAMAAAMCbgAAAA4Bny9qQr8AAAMAAAMCbwAAABdBmzRJqEFsmUwId//+qZYAAAMAAAMBgwAAABBBn1JFFSwv/wAAAwAAAwHHAAAADgGfcXRCvwAAAwAAAwJvAAAADgGfc2pCvwAAAwAAAwJuAAAAF0GbeEmoQWyZTAh3//6plgAAAwAAAwGDAAAAEEGflkUVLC//AAADAAADAccAAAAOAZ+1dEK/AAADAAADAm4AAAAOAZ+3akK/AAADAAADAm4AAAAXQZu8SahBbJlMCHf//qmWAAADAAADAYMAAAAQQZ/aRRUsL/8AAAMAAAMBxwAAAA4Bn/l0Qr8AAAMAAAMCbwAAAA4Bn/tqQr8AAAMAAAMCbgAAABdBm+BJqEFsmUwId//+qZYAAAMAAAMBgwAAABBBnh5FFSwv/wAAAwAAAwHHAAAADgGePXRCvwAAAwAAAwJuAAAADgGeP2pCvwAAAwAAAwJuAAAAF0GaJEmoQWyZTAh3//6plgAAAwAAAwGDAAAAEEGeQkUVLC//AAADAAADAccAAAAOAZ5hdEK/AAADAAADAm8AAAAOAZ5jakK/AAADAAADAm8AAAAXQZpoSahBbJlMCHf//qmWAAADAAADAYMAAAAQQZ6GRRUsL/8AAAMAAAMBxwAAAA4BnqV0Qr8AAAMAAAMCbgAAAA4BnqdqQr8AAAMAAAMCbwAAABdBmqxJqEFsmUwId//+qZYAAAMAAAMBgwAAABBBnspFFSwv/wAAAwAAAwHHAAAADgGe6XRCvwAAAwAAAwJuAAAADgGe62pCvwAAAwAAAwJvAAAAF0Ga8EmoQWyZTAh3//6plgAAAwAAAwGDAAAAEEGfDkUVLC//AAADAAADAccAAAAOAZ8tdEK/AAADAAADAm4AAAAOAZ8vakK/AAADAAADAm8AAAAXQZs0SahBbJlMCHf//qmWAAADAAADAYMAAAAQQZ9SRRUsL/8AAAMAAAMBxwAAAA4Bn3F0Qr8AAAMAAAMCbwAAAA4Bn3NqQr8AAAMAAAMCbgAAABdBm3hJqEFsmUwId//+qZYAAAMAAAMBgwAAABBBn5ZFFSwv/wAAAwAAAwHHAAAADgGftXRCvwAAAwAAAwJuAAAADgGft2pCvwAAAwAAAwJuAAAAF0GbvEmoQWyZTAh3//6plgAAAwAAAwGDAAAAEEGf2kUVLC//AAADAAADAccAAAAOAZ/5dEK/AAADAAADAm8AAAAOAZ/7akK/AAADAAADAm4AAAAXQZvgSahBbJlMCHf//qmWAAADAAADAYMAAAAQQZ4eRRUsL/8AAAMAAAMBxwAAAA4Bnj10Qr8AAAMAAAMCbgAAAA4Bnj9qQr8AAAMAAAMCbgAAABdBmiRJqEFsmUwId//+qZYAAAMAAAMBgwAAABBBnkJFFSwv/wAAAwAAAwHHAAAADgGeYXRCvwAAAwAAAwJvAAAADgGeY2pCvwAAAwAAAwJvAAAAF0GaaEmoQWyZTAh3//6plgAAAwAAAwGDAAAAEEGehkUVLC//AAADAAADAccAAAAOAZ6ldEK/AAADAAADAm4AAAAOAZ6nakK/AAADAAADAm8AAAAXQZqsSahBbJlMCHf//qmWAAADAAADAYMAAAAQQZ7KRRUsL/8AAAMAAAMBxwAAAA4Bnul0Qr8AAAMAAAMCbgAAAA4BnutqQr8AAAMAAAMCbwAAABdBmvBJqEFsmUwId//+qZYAAAMAAAMBgwAAABBBnw5FFSwv/wAAAwAAAwHHAAAADgGfLXRCvwAAAwAAAwJuAAAADgGfL2pCvwAAAwAAAwJvAAAAF0GbNEmoQWyZTAh3//6plgAAAwAAAwGDAAAAEEGfUkUVLC//AAADAAADAccAAAAOAZ9xdEK/AAADAAADAm8AAAAOAZ9zakK/AAADAAADAm4AAAAXQZt4SahBbJlMCHf//qmWAAADAAADAYMAAAAQQZ+WRRUsL/8AAAMAAAMBxwAAAA4Bn7V0Qr8AAAMAAAMCbgAAAA4Bn7dqQr8AAAMAAAMCbgAAABdBm7xJqEFsmUwId//+qZYAAAMAAAMBgwAAABBBn9pFFSwv/wAAAwAAAwHHAAAADgGf+XRCvwAAAwAAAwJvAAAADgGf+2pCvwAAAwAAAwJuAAAAF0Gb4EmoQWyZTAh3//6plgAAAwAAAwGDAAAAEEGeHkUVLC//AAADAAADAccAAAAOAZ49dEK/AAADAAADAm4AAAAOAZ4/akK/AAADAAADAm4AAAAXQZokSahBbJlMCHf//qmWAAADAAADAYMAAAAQQZ5CRRUsL/8AAAMAAAMBxwAAAA4BnmF0Qr8AAAMAAAMCbwAAAA4BnmNqQr8AAAMAAAMCbwAAABdBmmhJqEFsmUwId//+qZYAAAMAAAMBgwAAABBBnoZFFSwv/wAAAwAAAwHHAAAADgGepXRCvwAAAwAAAwJuAAAADgGep2pCvwAAAwAAAwJvAAAAF0GarEmoQWyZTAh3//6plgAAAwAAAwGDAAAAEEGeykUVLC//AAADAAADAccAAAAOAZ7pdEK/AAADAAADAm4AAAAOAZ7rakK/AAADAAADAm8AAAAXQZrwSahBbJlMCHf//qmWAAADAAADAYMAAAAQQZ8ORRUsL/8AAAMAAAMBxwAAAA4Bny10Qr8AAAMAAAMCbgAAAA4Bny9qQr8AAAMAAAMCbwAAABdBmzRJqEFsmUwId//+qZYAAAMAAAMBgwAAABBBn1JFFSwv/wAAAwAAAwHHAAAADgGfcXRCvwAAAwAAAwJvAAAADgGfc2pCvwAAAwAAAwJuAAAAF0GbeEmoQWyZTAh3//6plgAAAwAAAwGDAAAAEEGflkUVLC//AAADAAADAccAAAAOAZ+1dEK/AAADAAADAm4AAAAOAZ+3akK/AAADAAADAm4AAAAXQZu8SahBbJlMCHf//qmWAAADAAADAYMAAAAQQZ/aRRUsL/8AAAMAAAMBxwAAAA4Bn/l0Qr8AAAMAAAMCbwAAAA4Bn/tqQr8AAAMAAAMCbgAAABdBm+BJqEFsmUwId//+qZYAAAMAAAMBgwAAABBBnh5FFSwv/wAAAwAAAwHHAAAADgGePXRCvwAAAwAAAwJuAAAADgGeP2pCvwAAAwAAAwJuAAAAF0GaJEmoQWyZTAh3//6plgAAAwAAAwGDAAAAEEGeQkUVLC//AAADAAADAccAAAAOAZ5hdEK/AAADAAADAm8AAAAOAZ5jakK/AAADAAADAm8AAAAXQZpoSahBbJlMCHf//qmWAAADAAADAYMAAAAQQZ6GRRUsL/8AAAMAAAMBxwAAAA4BnqV0Qr8AAAMAAAMCbgAAAA4BnqdqQr8AAAMAAAMCbwAAABdBmqxJqEFsmUwId//+qZYAAAMAAAMBgwAAABBBnspFFSwv/wAAAwAAAwHHAAAADgGe6XRCvwAAAwAAAwJuAAAADgGe62pCvwAAAwAAAwJvAAAAF0Ga8EmoQWyZTAh3//6plgAAAwAAAwGDAAAAEEGfDkUVLC//AAADAAADAccAAAAOAZ8tdEK/AAADAAADAm4AAAAOAZ8vakK/AAADAAADAm8AAAAXQZs0SahBbJlMCHf//qmWAAADAAADAYMAAAAQQZ9SRRUsL/8AAAMAAAMBxwAAAA4Bn3F0Qr8AAAMAAAMCbwAAAA4Bn3NqQr8AAAMAAAMCbgAAABdBm3hJqEFsmUwId//+qZYAAAMAAAMBgwAAABBBn5ZFFSwv/wAAAwAAAwHHAAAADgGftXRCvwAAAwAAAwJuAAAADgGft2pCvwAAAwAAAwJuAAAAF0GbvEmoQWyZTAh3//6plgAAAwAAAwGDAAAAEEGf2kUVLC//AAADAAADAccAAAAOAZ/5dEK/AAADAAADAm8AAAAOAZ/7akK/AAADAAADAm4AAAAXQZvgSahBbJlMCHf//qmWAAADAAADAYMAAAAQQZ4eRRUsL/8AAAMAAAMBxwAAAA4Bnj10Qr8AAAMAAAMCbgAAAA4Bnj9qQr8AAAMAAAMCbgAAABdBmiRJqEFsmUwId//+qZYAAAMAAAMBgwAAABBBnkJFFSwv/wAAAwAAAwHHAAAADgGeYXRCvwAAAwAAAwJvAAAADgGeY2pCvwAAAwAAAwJvAAAAF0GaaEmoQWyZTAh3//6plgAAAwAAAwGDAAAAEEGehkUVLC//AAADAAADAccAAAAOAZ6ldEK/AAADAAADAm4AAAAOAZ6nakK/AAADAAADAm8AAAAXQZqsSahBbJlMCHf//qmWAAADAAADAYMAAAAQQZ7KRRUsL/8AAAMAAAMBxwAAAA4Bnul0Qr8AAAMAAAMCbgAAAA4BnutqQr8AAAMAAAMCbwAAABdBmvBJqEFsmUwId//+qZYAAAMAAAMBgwAAABBBnw5FFSwv/wAAAwAAAwHHAAAADgGfLXRCvwAAAwAAAwJuAAAADgGfL2pCvwAAAwAAAwJvAAAAF0GbNEmoQWyZTAh3//6plgAAAwAAAwGDAAAAEEGfUkUVLC//AAADAAADAccAAAAOAZ9xdEK/AAADAAADAm8AAAAOAZ9zakK/AAADAAADAm4AAAAXQZt4SahBbJlMCHf//qmWAAADAAADAYMAAAAQQZ+WRRUsL/8AAAMAAAMBxwAAAA4Bn7V0Qr8AAAMAAAMCbgAAAA4Bn7dqQr8AAAMAAAMCbgAAABdBm7xJqEFsmUwId//+qZYAAAMAAAMBgwAAABBBn9pFFSwv/wAAAwAAAwHHAAAADgGf+XRCvwAAAwAAAwJvAAAADgGf+2pCvwAAAwAAAwJuAAAAF0Gb4EmoQWyZTAh3//6plgAAAwAAAwGDAAAAEEGeHkUVLC//AAADAAADAccAAAAOAZ49dEK/AAADAAADAm4AAAAOAZ4/akK/AAADAAADAm4AAAAXQZokSahBbJlMCHf//qmWAAADAAADAYMAAAAQQZ5CRRUsL/8AAAMAAAMBxwAAAA4BnmF0Qr8AAAMAAAMCbwAAAA4BnmNqQr8AAAMAAAMCbwAAABdBmmhJqEFsmUwId//+qZYAAAMAAAMBgwAAABBBnoZFFSwv/wAAAwAAAwHHAAAADgGepXRCvwAAAwAAAwJuAAAADgGep2pCvwAAAwAAAwJvAAAAF0GarEmoQWyZTAh3//6plgAAAwAAAwGDAAAAEEGeykUVLC//AAADAAADAccAAAAOAZ7pdEK/AAADAAADAm4AAAAOAZ7rakK/AAADAAADAm8AAAAXQZrwSahBbJlMCHf//qmWAAADAAADAYMAAAAQQZ8ORRUsL/8AAAMAAAMBxwAAAA4Bny10Qr8AAAMAAAMCbgAAAA4Bny9qQr8AAAMAAAMCbwAAABdBmzRJqEFsmUwId//+qZYAAAMAAAMBgwAAABBBn1JFFSwv/wAAAwAAAwHHAAAADgGfcXRCvwAAAwAAAwJvAAAADgGfc2pCvwAAAwAAAwJuAAAAF0GbeEmoQWyZTAh3//6plgAAAwAAAwGDAAAAEEGflkUVLC//AAADAAADAccAAAAOAZ+1dEK/AAADAAADAm4AAAAOAZ+3akK/AAADAAADAm4AAAAWQZu5SahBbJlMCFf//jhAAAADAAAtoQAAB6BliIIABH/+94gfMstvnGrXchHnrS6tH1DuRnFepL3+IAAAAwAAPYWETvqX1R1hPwAAQwABvSVaF/DNJdGBeeUDnatuM5loaKFE6/keKWbxV1hLeno54e4xojfi/GEZ5XFwRC3/xNQ20cYEF0lCTXpPaFkdHe1B5Km7I7GSe+x6ObT6GK6owMGnFxmGV66s7WYLvvlqGHXWxDl7kvM191Gshjrzyy8VkDYTRu5NiI31PAfHDA245jW7NCTFwkCgQvh/YHXAJ5YGM/fOJpUbRRo3+7wm48lXVgAYd4kIKWHOCYB6TLfaKOA6T6Fg6uPXvUqbZ08YdviWMohZTrDTgpmalh2ZlOd0brIaLqY1OXBSGKOvZFuVS7gAQBr2GwXC6U8fThFkePKfhVP8BzkJWJpmoo8jnR/43UZxupuKH/K8rb1qKJ7//oq2nNQPTc0yPp4gPoTUqzljf2L13mI5ka0ojg3Ziuv9KEGl0tOenQSPOxq3b2pW+Um50giSVqUBJXx1tDT6UEuhAjeoKIAgfz752CVIEc2Uwlpw6Jo8npY8iEeR1S0E6x1KQ6RdtNj9cK41LHRRj6oClfyYgAEZPcHUgYApYdH8cv4u2FcucFTNzBhON0LS8kyAkrwpcRA+pR2FnJjjmLOw9kMAsrYaNbFkVQ6kPGphTrtN2E2YgUWn3Qs0SIa9WAMxZF4vJtweptnoaYMO8cAI+9+6aPrkZlnSGRKV+8lBf4ti+mF63Oztsf6yaOrXQs6uTWrcPJ29ZRXAUHIQyYLZjYYSEfikfTJ+H2UWsSpG7WHqlTqhZ1XKs6EXeevCJOLG8CnpOE4hUpdUWSTIZY98dp874dWW0WOtIdoB0U6EXDm+T6KA5dItYTXQfwj5SLIJbmTZanOa1DIYqDhUYL3U5QhitBYK8qo12JafxfWXikOxtm9xv7wppN54wLXVr6zJgJkfHoSs8p32oREnU0426f6N6AkzzOnflN/pt4ingxFll45Txs6SnjKuMpB2p0WQU6OfS87/Mzxrxlj4P8S7iOuKrEjAG13i0YvMHcG7XcuV9xsqEbCS5f7CTOZCREd02tDtXjXEDC0DBoG4PbS94eebX46NpkZ2s7d57UlZzAA/pK2jEX7e9P1TRaJEBFhNRfGpR6cqaceob4HnXKX0L1m71cYmXuQK5H25zNVEZNEMy5QQLRHoJ9w8fIh+eKncMdc/iJ0nQweBPyEIGGXnPX8OEhC9GffmnlxXhPx+ICi+5Hyh28pf/nnUK+nZ8XANdpHv26B3eHzVi6kW5FFtL4AxKpmWKRaYo4qvrBgrHRuM/DCYTUtXp7v4tLfKdRL1bRP6PJkqwygA/9l2sN1Y6uA1RIFm8B4LUaDhWqB7IcIiMcJ8xQXaKEeyiqC74oZpAWAJ3UUd5bEX0lzHGSiyM6bLQujS15MaeFZT8uDeAcoMAFp8MNjmdTDljdWwyK2h+uNZR7FQRPrB9l9yXaul29E+uVYX53UYcnRsqq/+sr9sHRzt9GVQTEBoDahZy/XxLRW0b2IZ2zrsRwkpod+p/X1fnsJhv6zCdW49/EzS6k2Pxitx7zEyuyU+vPsrlqiSHifusjqsJDtV+TvgyZq82CBuo/BYz2qwZ1OOKZmQTt3v5C7FXll1aN6NB1HPGZuDbTHKOzVQ8cbCu/SOO+ksBRRXPiyS9veKtfbZx9N1SPkoyvh+h1a9VjTWt3i/KERzw9bCrR+S+3PU/9BqF+6dnR3dM0O96XNfe6/36o9YIanNyfKHcldVjSsW9pLbGfM1YwX0JiDGA2bBdGWndJmfWJzmU5HAbzw+86cuMvjC6VTxuTHDvwU9eQdK3R4WVVBZdr3Q9cStJGgmy1jPFKTRQx7rANV9gxYtyJw/dbP9ZGuKC+kfDxKpCIhPq1BKIyiMviXuPi+7Ok86Av8lUv9mla1pwcbrhMkXhjwaMZfzDcWv8rhX/bOTE9Afo9cCdDxWff3wowsNWt0KOS/1nOUDUvp5lGkWYRz3tySVDoqsgQhpe2mPDFF8WPP/k5foRD/ZMnfUL95F9KabB3kmGGSDQ8WpClepoPfN6XBz+57j8HwdjQYCtI0mFLDYEr6EorrHro7bw9yS/45lMerBzg/EVTqgxRXE1JoyOMd9Dpc39EpHY1hIev+jf+NUPCDpUOEza4qr8YIMhAql7iAePl3tdufG49rwmiMpBNRe6N+nYsfTSrYwdyobrMfQbMZpVZoya1HImZhhPwjGJkSeB+m94G1UA2r4PoKTN4n/SaNO9ESRP2qHMlAiwGsBy9cmHiEQSjIM9TKtuPRfhoQ7UaPgxEDTcvLzu3Zpt3Z7UW3+PJO623ws+7kUvn99+lYr1d3pB2G5qXXlW25xJlb8ce/unAkl3KHSudG6jVQnsVnvOb8+UxAeG5aZfkwWfUsdeuKDNKIFP5DM73L4o2wWpWL9X/dR9eiNT0yBrHox4pfUjAtlAArtDdt/cfDv3c+1GICyC1PjD7/ub9SJXfBLnulNKslZFOftumQEt0XdKFFK44PYlL1bOjT1K0+Se6fG/IcLt+O0sA4P3uy3kY/0ATwAIOYaAAADAAADAAADAAADAAADAAADAAAHfQAAABtBmiRsQ7/+qZYAIgp0oDC9qpMavQkNTNPYAVsAAAAOQZ5CeIX/AAADAAADAccAAAAOAZ5hdEK/AAADAAADAm4AAAAOAZ5jakK/AAADAAADAm8AAAAXQZpoSahBaJlMCHf//qmWAAADAAADAYMAAAAQQZ6GRREsL/8AAAMAAAMBxwAAAA4BnqV0Qr8AAAMAAAMCbwAAAA4BnqdqQr8AAAMAAAMCbgAAABdBmqxJqEFsmUwId//+qZYAAAMAAAMBgwAAABBBnspFFSwv/wAAAwAAAwHHAAAADgGe6XRCvwAAAwAAAwJuAAAADgGe62pCvwAAAwAAAwJvAAAAF0Ga8EmoQWyZTAh3//6plgAAAwAAAwGDAAAAEEGfDkUVLC//AAADAAADAccAAAAOAZ8tdEK/AAADAAADAm8AAAAOAZ8vakK/AAADAAADAm4AAAAXQZs0SahBbJlMCHf//qmWAAADAAADAYMAAAAQQZ9SRRUsL/8AAAMAAAMBxwAAAA4Bn3F0Qr8AAAMAAAMCbgAAAA4Bn3NqQr8AAAMAAAMCbwAAABdBm3hJqEFsmUwId//+qZYAAAMAAAMBgwAAABBBn5ZFFSwv/wAAAwAAAwHHAAAADgGftXRCvwAAAwAAAwJvAAAADgGft2pCvwAAAwAAAwJvAAAAF0GbvEmoQWyZTAh3//6plgAAAwAAAwGDAAAAEEGf2kUVLC//AAADAAADAccAAAAOAZ/5dEK/AAADAAADAm4AAAAOAZ/7akK/AAADAAADAm8AAAAXQZvgSahBbJlMCHf//qmWAAADAAADAYMAAAAQQZ4eRRUsL/8AAAMAAAMBxwAAAA4Bnj10Qr8AAAMAAAMCbwAAAA4Bnj9qQr8AAAMAAAMCbwAAABdBmiRJqEFsmUwId//+qZYAAAMAAAMBgwAAABBBnkJFFSwv/wAAAwAAAwHHAAAADgGeYXRCvwAAAwAAAwJuAAAADgGeY2pCvwAAAwAAAwJvAAAAF0GaaEmoQWyZTAh3//6plgAAAwAAAwGDAAAAEEGehkUVLC//AAADAAADAccAAAAOAZ6ldEK/AAADAAADAm8AAAAOAZ6nakK/AAADAAADAm4AAAAXQZqsSahBbJlMCHf//qmWAAADAAADAYMAAAAQQZ7KRRUsL/8AAAMAAAMBxwAAAA4Bnul0Qr8AAAMAAAMCbgAAAA4BnutqQr8AAAMAAAMCbwAAABdBmvBJqEFsmUwId//+qZYAAAMAAAMBgwAAABBBnw5FFSwv/wAAAwAAAwHHAAAADgGfLXRCvwAAAwAAAwJvAAAADgGfL2pCvwAAAwAAAwJuAAAAF0GbNEmoQWyZTAh3//6plgAAAwAAAwGDAAAAEEGfUkUVLC//AAADAAADAccAAAAOAZ9xdEK/AAADAAADAm4AAAAOAZ9zakK/AAADAAADAm8AAAAXQZt4SahBbJlMCHf//qmWAAADAAADAYMAAAAQQZ+WRRUsL/8AAAMAAAMBxwAAAA4Bn7V0Qr8AAAMAAAMCbwAAAA4Bn7dqQr8AAAMAAAMCbwAAABdBm7xJqEFsmUwId//+qZYAAAMAAAMBgwAAABBBn9pFFSwv/wAAAwAAAwHHAAAADgGf+XRCvwAAAwAAAwJuAAAADgGf+2pCvwAAAwAAAwJvAAAAF0Gb4EmoQWyZTAh3//6plgAAAwAAAwGDAAAAEEGeHkUVLC//AAADAAADAccAAAAOAZ49dEK/AAADAAADAm8AAAAOAZ4/akK/AAADAAADAm8AAAAXQZokSahBbJlMCHf//qmWAAADAAADAYMAAAAQQZ5CRRUsL/8AAAMAAAMBxwAAAA4BnmF0Qr8AAAMAAAMCbgAAAA4BnmNqQr8AAAMAAAMCbwAAABdBmmhJqEFsmUwId//+qZYAAAMAAAMBgwAAABBBnoZFFSwv/wAAAwAAAwHHAAAADgGepXRCvwAAAwAAAwJvAAAADgGep2pCvwAAAwAAAwJuAAAAF0GarEmoQWyZTAh3//6plgAAAwAAAwGDAAAAEEGeykUVLC//AAADAAADAccAAAAOAZ7pdEK/AAADAAADAm4AAAAOAZ7rakK/AAADAAADAm8AAAAXQZrwSahBbJlMCHf//qmWAAADAAADAYMAAAAQQZ8ORRUsL/8AAAMAAAMBxwAAAA4Bny10Qr8AAAMAAAMCbwAAAA4Bny9qQr8AAAMAAAMCbgAAABdBmzRJqEFsmUwId//+qZYAAAMAAAMBgwAAABBBn1JFFSwv/wAAAwAAAwHHAAAADgGfcXRCvwAAAwAAAwJuAAAADgGfc2pCvwAAAwAAAwJvAAAAF0GbeEmoQWyZTAh3//6plgAAAwAAAwGDAAAAEEGflkUVLC//AAADAAADAccAAAAOAZ+1dEK/AAADAAADAm8AAAAOAZ+3akK/AAADAAADAm8AAAAXQZu8SahBbJlMCHf//qmWAAADAAADAYMAAAAQQZ/aRRUsL/8AAAMAAAMBxwAAAA4Bn/l0Qr8AAAMAAAMCbgAAAA4Bn/tqQr8AAAMAAAMCbwAAABdBm+BJqEFsmUwId//+qZYAAAMAAAMBgwAAABBBnh5FFSwv/wAAAwAAAwHHAAAADgGePXRCvwAAAwAAAwJvAAAADgGeP2pCvwAAAwAAAwJvAAAAF0GaJEmoQWyZTAh3//6plgAAAwAAAwGDAAAAEEGeQkUVLC//AAADAAADAccAAAAOAZ5hdEK/AAADAAADAm4AAAAOAZ5jakK/AAADAAADAm8AAAAXQZpoSahBbJlMCHf//qmWAAADAAADAYMAAAAQQZ6GRRUsL/8AAAMAAAMBxwAAAA4BnqV0Qr8AAAMAAAMCbwAAAA4BnqdqQr8AAAMAAAMCbgAAABdBmqxJqEFsmUwId//+qZYAAAMAAAMBgwAAABBBnspFFSwv/wAAAwAAAwHHAAAADgGe6XRCvwAAAwAAAwJuAAAADgGe62pCvwAAAwAAAwJvAAAAF0Ga8EmoQWyZTAh3//6plgAAAwAAAwGDAAAAEEGfDkUVLC//AAADAAADAccAAAAOAZ8tdEK/AAADAAADAm8AAAAOAZ8vakK/AAADAAADAm4AAAAXQZs0SahBbJlMCHf//qmWAAADAAADAYMAAAAQQZ9SRRUsL/8AAAMAAAMBxwAAAA4Bn3F0Qr8AAAMAAAMCbgAAAA4Bn3NqQr8AAAMAAAMCbwAAABdBm3hJqEFsmUwId//+qZYAAAMAAAMBgwAAABBBn5ZFFSwv/wAAAwAAAwHHAAAADgGftXRCvwAAAwAAAwJvAAAADgGft2pCvwAAAwAAAwJvAAAAF0GbvEmoQWyZTAh3//6plgAAAwAAAwGDAAAAEEGf2kUVLC//AAADAAADAccAAAAOAZ/5dEK/AAADAAADAm4AAAAOAZ/7akK/AAADAAADAm8AAAAXQZvgSahBbJlMCHf//qmWAAADAAADAYMAAAAQQZ4eRRUsL/8AAAMAAAMBxwAAAA4Bnj10Qr8AAAMAAAMCbwAAAA4Bnj9qQr8AAAMAAAMCbwAAABdBmiRJqEFsmUwId//+qZYAAAMAAAMBgwAAABBBnkJFFSwv/wAAAwAAAwHHAAAADgGeYXRCvwAAAwAAAwJuAAAADgGeY2pCvwAAAwAAAwJvAAAAF0GaaEmoQWyZTAh3//6plgAAAwAAAwGDAAAAEEGehkUVLC//AAADAAADAccAAAAOAZ6ldEK/AAADAAADAm8AAAAOAZ6nakK/AAADAAADAm4AAAAXQZqsSahBbJlMCHf//qmWAAADAAADAYMAAAAQQZ7KRRUsL/8AAAMAAAMBxwAAAA4Bnul0Qr8AAAMAAAMCbgAAAA4BnutqQr8AAAMAAAMCbwAAABdBmvBJqEFsmUwId//+qZYAAAMAAAMBgwAAABBBnw5FFSwv/wAAAwAAAwHHAAAADgGfLXRCvwAAAwAAAwJvAAAADgGfL2pCvwAAAwAAAwJuAAAAF0GbNEmoQWyZTAh3//6plgAAAwAAAwGDAAAAEEGfUkUVLC//AAADAAADAccAAAAOAZ9xdEK/AAADAAADAm4AAAAOAZ9zakK/AAADAAADAm8AAAAXQZt4SahBbJlMCHf//qmWAAADAAADAYMAAAAQQZ+WRRUsL/8AAAMAAAMBxwAAAA4Bn7V0Qr8AAAMAAAMCbwAAAA4Bn7dqQr8AAAMAAAMCbwAAABdBm7xJqEFsmUwId//+qZYAAAMAAAMBgwAAABBBn9pFFSwv/wAAAwAAAwHHAAAADgGf+XRCvwAAAwAAAwJuAAAADgGf+2pCvwAAAwAAAwJvAAAAF0Gb4EmoQWyZTAh3//6plgAAAwAAAwGDAAAAEEGeHkUVLC//AAADAAADAccAAAAOAZ49dEK/AAADAAADAm8AAAAOAZ4/akK/AAADAAADAm8AAAAXQZokSahBbJlMCHf//qmWAAADAAADAYMAAAAQQZ5CRRUsL/8AAAMAAAMBxwAAAA4BnmF0Qr8AAAMAAAMCbgAAAA4BnmNqQr8AAAMAAAMCbwAAABdBmmhJqEFsmUwId//+qZYAAAMAAAMBgwAAABBBnoZFFSwv/wAAAwAAAwHHAAAADgGepXRCvwAAAwAAAwJvAAAADgGep2pCvwAAAwAAAwJuAAAAF0GarEmoQWyZTAh3//6plgAAAwAAAwGDAAAAEEGeykUVLC//AAADAAADAccAAAAOAZ7pdEK/AAADAAADAm4AAAAOAZ7rakK/AAADAAADAm8AAAAXQZrwSahBbJlMCHf//qmWAAADAAADAYMAAAAQQZ8ORRUsL/8AAAMAAAMBxwAAAA4Bny10Qr8AAAMAAAMCbwAAAA4Bny9qQr8AAAMAAAMCbgAAABdBmzRJqEFsmUwId//+qZYAAAMAAAMBgwAAABBBn1JFFSwv/wAAAwAAAwHHAAAADgGfcXRCvwAAAwAAAwJuAAAADgGfc2pCvwAAAwAAAwJvAAAAF0GbeEmoQWyZTAh3//6plgAAAwAAAwGDAAAAEEGflkUVLC//AAADAAADAccAAAAOAZ+1dEK/AAADAAADAm8AAAAOAZ+3akK/AAADAAADAm8AAAAXQZu8SahBbJlMCHf//qmWAAADAAADAYMAAAAQQZ/aRRUsL/8AAAMAAAMBxwAAAA4Bn/l0Qr8AAAMAAAMCbgAAAA4Bn/tqQr8AAAMAAAMCbwAAABdBm+BJqEFsmUwId//+qZYAAAMAAAMBgwAAABBBnh5FFSwv/wAAAwAAAwHHAAAADgGePXRCvwAAAwAAAwJvAAAADgGeP2pCvwAAAwAAAwJvAAAAF0GaJEmoQWyZTAh3//6plgAAAwAAAwGDAAAAEEGeQkUVLC//AAADAAADAccAAAAOAZ5hdEK/AAADAAADAm4AAAAOAZ5jakK/AAADAAADAm8AAAAXQZpoSahBbJlMCHf//qmWAAADAAADAYMAAAAQQZ6GRRUsL/8AAAMAAAMBxwAAAA4BnqV0Qr8AAAMAAAMCbwAAAA4BnqdqQr8AAAMAAAMCbgAAABdBmqxJqEFsmUwId//+qZYAAAMAAAMBgwAAABBBnspFFSwv/wAAAwAAAwHHAAAADgGe6XRCvwAAAwAAAwJuAAAADgGe62pCvwAAAwAAAwJvAAAAF0Ga8EmoQWyZTAh3//6plgAAAwAAAwGDAAAAEEGfDkUVLC//AAADAAADAccAAAAOAZ8tdEK/AAADAAADAm8AAAAOAZ8vakK/AAADAAADAm4AAAAXQZs0SahBbJlMCHf//qmWAAADAAADAYMAAAAQQZ9SRRUsL/8AAAMAAAMBxwAAAA4Bn3F0Qr8AAAMAAAMCbgAAAA4Bn3NqQr8AAAMAAAMCbwAAABdBm3hJqEFsmUwId//+qZYAAAMAAAMBgwAAABBBn5ZFFSwv/wAAAwAAAwHHAAAADgGftXRCvwAAAwAAAwJvAAAADgGft2pCvwAAAwAAAwJvAAAAF0GbvEmoQWyZTAh3//6plgAAAwAAAwGDAAAAEEGf2kUVLC//AAADAAADAccAAAAOAZ/5dEK/AAADAAADAm4AAAAOAZ/7akK/AAADAAADAm8AAAAXQZvgSahBbJlMCHf//qmWAAADAAADAYMAAAAQQZ4eRRUsL/8AAAMAAAMBxwAAAA4Bnj10Qr8AAAMAAAMCbwAAAA4Bnj9qQr8AAAMAAAMCbwAAABdBmiRJqEFsmUwId//+qZYAAAMAAAMBgwAAABBBnkJFFSwv/wAAAwAAAwHHAAAADgGeYXRCvwAAAwAAAwJuAAAADgGeY2pCvwAAAwAAAwJvAAAAF0GaaEmoQWyZTAh3//6plgAAAwAAAwGDAAAAEEGehkUVLC//AAADAAADAccAAAAOAZ6ldEK/AAADAAADAm8AAAAOAZ6nakK/AAADAAADAm4AAAAXQZqsSahBbJlMCHf//qmWAAADAAADAYMAAAAQQZ7KRRUsL/8AAAMAAAMBxwAAAA4Bnul0Qr8AAAMAAAMCbgAAAA4BnutqQr8AAAMAAAMCbwAAABdBmvBJqEFsmUwIb//+p4QAAAMAAAMDAgAAABBBnw5FFSwv/wAAAwAAAwHHAAAADgGfLXRCvwAAAwAAAwJvAAAADgGfL2pCvwAAAwAAAwJuAAAAF0GbNEmoQWyZTAhv//6nhAAAAwAAAwMCAAAAEEGfUkUVLC//AAADAAADAccAAAAOAZ9xdEK/AAADAAADAm4AAAAOAZ9zakK/AAADAAADAm8AAAAWQZt4SahBbJlMCGf//p4QAAADAAALuAAAABBBn5ZFFSwv/wAAAwAAAwHHAAAADgGftXRCvwAAAwAAAwJvAAAADgGft2pCvwAAAwAAAwJvAAAAFkGbuUmoQWyZTAhX//44QAAAAwAALaEAAAOrZYiEADf//vbw/gU2VgRQlxHN6J0zH78VuLo0N73OAAADAAADAK66RphJ89zcPAAABVAAMQSClPg9/GUgCGDYTlM3gcl9A3bejS938tJV2EgEy5dX4A+qQ1K7fUxdZ3YmtjjKN6gSzoFlO0uUvK3HDKKOYBj3VTyx8UO60wgB2RH3uifi2ylKAAzRnZ3jV7n+aMqewarDnQEqSm8KbJpmIaFkrNFzVBMpfCPDKB5pj+yaPzMVd44Ev054DTe3fcxaCD2tY5zygputKXdXnc4UlqMFXIMYUH9SJFU0wcHtUv5bJkTen22/7Bo4hFeNcyWi8WXM50Nsdp02e1PxO3ojdXlF+YnJGDkSV3BXIGullEaTz/TKwjVrYOSncdj1N/az8UrP3GrBBRmUREZ7KcN7tTYi2SbdPbJNPcczKpvhtFzoon8Mx0LMdpgy3AmdGwtRy/hVd9grvoX3B8MPtVgBQjC5+lYwSXPGOMIAA12bqiD4T5c8Qpvl+MDX2X/xNAg++6fNrMZetAF4AxgSl6fxr9QXegyaRugwKiWotXXGqyFrSCF8VJ0WkMzjj8URnNBdRoETA1DuC+W129AGEPw/9hm5Q3hM1ed//e4mVUetGdmvfmp6U5quxSEEv+0i4WjnzrjPLUcFW4+k7LG1HOKCEQCYWn0RPZrnEmJO78QxuF/MimDdIDPHHTNprP/6z3J45hWoFTkvx5yK89w6XQAKDForwPf+edZZoC5/rUE+K6Kr1/Qa76ULgvYqwCxp+uk116yh/zrxoyVIlZuYFeSaPM4KkwchP49Mbqao/Hlvxu3puDBXsy/kKMdtmi6vxJdg8g/YaIIRNUZmuaFPwhKyuVzRa58qA1CzulCdVk/ogO6WTVepDwD4RD7fedRnKN/ZHhN6H/07zakzDZI1GBEUo63OdFhjPTdE4FaN6AlwktklTBysRGF4SPjwSQJmLT0O4NWnhGFt2ybPxwEOoMUkA8h9XWa2DumHc6yHjVbfwQwSljHVNWWDraQgoM16s2UlbSicjUK0Dly5T7YhAOMkUJom+nAIdb//6q/b86E5fw5ints+qJL+s+NESOOkVwEy6u/gCcLKqXPLxrI08FW0MzJRMekuk5GKElUk1wDmD+sUVkD8BzCEVv4+9llsTHE1PJugwbqjVZZTWq3al5hDjW2xjVwJTL85b2VBXNWlAALI0JhI+TkT/aJ1MR1QZgDsyby8WK1gAAADAAADAAADAAADAAADAAADAAFnAAAyBm1vb3YAAABsbXZoZAAAAAAAAAAAAAAAAAAAA+gAAJxoAAEAAAEAAAAAAAAAAAAAAAABAAAAAAAAAAAAAAAAAAAAAQAAAAAAAAAAAAAAAAAAQAAAAAAAAAAAAAAAAAAAAAAAAAAAAAAAAAAAAAAAAAIAADEwdHJhawAAAFx0a2hkAAAAAwAAAAAAAAAAAAAAAQAAAAAAAJxoAAAAAAAAAAAAAAAAAAAAAAABAAAAAAAAAAAAAAAAAAAAAQAAAAAAAAAAAAAAAAAAQAAAAAHgAAAB4AAAAAAAJGVkdHMAAAAcZWxzdAAAAAAAAAABAACcaAAABAAAAQAAAAAwqG1kaWEAAAAgbWRoZAAAAAAAAAAAAAAAAAAAMgAAB9IAVcQAAAAAAC1oZGxyAAAAAAAAAAB2aWRlAAAAAAAAAAAAAAAAVmlkZW9IYW5kbGVyAAAAMFNtaW5mAAAAFHZtaGQAAAABAAAAAAAAAAAAAAAkZGluZgAAABxkcmVmAAAAAAAAAAEAAAAMdXJsIAAAAAEAADATc3RibAAAAK9zdHNkAAAAAAAAAAEAAACfYXZjMQAAAAAAAAABAAAAAAAAAAAAAAAAAAAAAAHgAeAASAAAAEgAAAAAAAAAARVMYXZjNjAuMzEuMTAyIGxpYngyNjQAAAAAAAAAAAAAABj//wAAADVhdmNDAWQAHv/hABhnZAAerNlB4PaEAAADAAQAAAMAyDxYtlgBAAZo6+PLIsD9+PgAAAAAFGJ0cnQAAAAAAAAemQAAHpkAAAAYc3R0cwAAAAAAAAABAAAD6QAAAgAAAAAkc3RzcwAAAAAAAAAFAAAAAQAAAPsAAAH1AAAC7wAAA+kAAB84Y3R0cwAAAAAAAAPlAAAAAQAABAAAAAABAAAKAAAAAAEAAAQAAAAAAQAAAAAAAAABAAACAAAAAAEAAAoAAAAAAQAABAAAAAABAAAAAAAAAAEAAAIAAAAAAQAACgAAAAABAAAEAAAAAAEAAAAAAAAAAQAAAgAAAAABAAAKAAAAAAEAAAQAAAAAAQAAAAAAAAABAAACAAAAAAEAAAoAAAAAAQAABAAAAAABAAAAAAAAAAEAAAIAAAAAAQAACgAAAAABAAAEAAAAAAEAAAAAAAAAAQAAAgAAAAABAAAKAAAAAAEAAAQAAAAAAQAAAAAAAAABAAACAAAAAAEAAAoAAAAAAQAABAAAAAABAAAAAAAAAAEAAAIAAAAAAQAACgAAAAABAAAEAAAAAAEAAAAAAAAAAQAAAgAAAAABAAAKAAAAAAEAAAQAAAAAAQAAAAAAAAABAAACAAAAAAEAAAoAAAAAAQAABAAAAAABAAAAAAAAAAEAAAIAAAAAAQAACgAAAAABAAAEAAAAAAEAAAAAAAAAAQAAAgAAAAABAAAKAAAAAAEAAAQAAAAAAQAAAAAAAAABAAACAAAAAAEAAAoAAAAAAQAABAAAAAABAAAAAAAAAAEAAAIAAAAAAQAACgAAAAABAAAEAAAAAAEAAAAAAAAAAQAAAgAAAAABAAAKAAAAAAEAAAQAAAAAAQAAAAAAAAABAAACAAAAAAEAAAoAAAAAAQAABAAAAAABAAAAAAAAAAEAAAIAAAAAAQAACgAAAAABAAAEAAAAAAEAAAAAAAAAAQAAAgAAAAABAAAKAAAAAAEAAAQAAAAAAQAAAAAAAAABAAACAAAAAAEAAAoAAAAAAQAABAAAAAABAAAAAAAAAAEAAAIAAAAAAQAACgAAAAABAAAEAAAAAAEAAAAAAAAAAQAAAgAAAAABAAAKAAAAAAEAAAQAAAAAAQAAAAAAAAABAAACAAAAAAEAAAoAAAAAAQAABAAAAAABAAAAAAAAAAEAAAIAAAAAAQAACgAAAAABAAAEAAAAAAEAAAAAAAAAAQAAAgAAAAABAAAKAAAAAAEAAAQAAAAAAQAAAAAAAAABAAACAAAAAAEAAAoAAAAAAQAABAAAAAABAAAAAAAAAAEAAAIAAAAAAQAACgAAAAABAAAEAAAAAAEAAAAAAAAAAQAAAgAAAAABAAAKAAAAAAEAAAQAAAAAAQAAAAAAAAABAAACAAAAAAEAAAoAAAAAAQAABAAAAAABAAAAAAAAAAEAAAIAAAAAAQAACgAAAAABAAAEAAAAAAEAAAAAAAAAAQAAAgAAAAABAAAKAAAAAAEAAAQAAAAAAQAAAAAAAAABAAACAAAAAAEAAAoAAAAAAQAABAAAAAABAAAAAAAAAAEAAAIAAAAAAQAACgAAAAABAAAEAAAAAAEAAAAAAAAAAQAAAgAAAAABAAAKAAAAAAEAAAQAAAAAAQAAAAAAAAABAAACAAAAAAEAAAoAAAAAAQAABAAAAAABAAAAAAAAAAEAAAIAAAAAAQAACgAAAAABAAAEAAAAAAEAAAAAAAAAAQAAAgAAAAABAAAKAAAAAAEAAAQAAAAAAQAAAAAAAAABAAACAAAAAAEAAAoAAAAAAQAABAAAAAABAAAAAAAAAAEAAAIAAAAAAQAACgAAAAABAAAEAAAAAAEAAAAAAAAAAQAAAgAAAAABAAAKAAAAAAEAAAQAAAAAAQAAAAAAAAABAAACAAAAAAEAAAoAAAAAAQAABAAAAAABAAAAAAAAAAEAAAIAAAAAAQAACgAAAAABAAAEAAAAAAEAAAAAAAAAAQAAAgAAAAABAAAKAAAAAAEAAAQAAAAAAQAAAAAAAAABAAACAAAAAAEAAAoAAAAAAQAABAAAAAABAAAAAAAAAAEAAAIAAAAAAQAACgAAAAABAAAEAAAAAAEAAAAAAAAAAQAAAgAAAAABAAAKAAAAAAEAAAQAAAAAAQAAAAAAAAABAAACAAAAAAEAAAoAAAAAAQAABAAAAAABAAAAAAAAAAEAAAIAAAAAAQAACgAAAAABAAAEAAAAAAEAAAAAAAAAAQAAAgAAAAABAAAKAAAAAAEAAAQAAAAAAQAAAAAAAAABAAACAAAAAAEAAAoAAAAAAQAABAAAAAABAAAAAAAAAAEAAAIAAAAAAQAACgAAAAABAAAEAAAAAAEAAAAAAAAAAQAAAgAAAAABAAAKAAAAAAEAAAQAAAAAAQAAAAAAAAABAAACAAAAAAEAAAoAAAAAAQAABAAAAAABAAAAAAAAAAEAAAIAAAAAAQAACgAAAAABAAAEAAAAAAEAAAAAAAAAAQAAAgAAAAABAAAKAAAAAAEAAAQAAAAAAQAAAAAAAAABAAACAAAAAAEAAAoAAAAAAQAABAAAAAABAAAAAAAAAAEAAAIAAAAAAQAACgAAAAABAAAEAAAAAAEAAAAAAAAAAQAAAgAAAAABAAAKAAAAAAEAAAQAAAAAAQAAAAAAAAABAAACAAAAAAEAAAoAAAAAAQAABAAAAAABAAAAAAAAAAEAAAIAAAAAAQAACgAAAAABAAAEAAAAAAEAAAAAAAAAAQAAAgAAAAABAAAKAAAAAAEAAAQAAAAAAQAAAAAAAAABAAACAAAAAAEAAAoAAAAAAQAABAAAAAABAAAAAAAAAAEAAAIAAAAAAgAABAAAAAABAAAKAAAAAAEAAAQAAAAAAQAAAAAAAAABAAACAAAAAAEAAAoAAAAAAQAABAAAAAABAAAAAAAAAAEAAAIAAAAAAQAACgAAAAABAAAEAAAAAAEAAAAAAAAAAQAAAgAAAAABAAAKAAAAAAEAAAQAAAAAAQAAAAAAAAABAAACAAAAAAEAAAoAAAAAAQAABAAAAAABAAAAAAAAAAEAAAIAAAAAAQAACgAAAAABAAAEAAAAAAEAAAAAAAAAAQAAAgAAAAABAAAKAAAAAAEAAAQAAAAAAQAAAAAAAAABAAACAAAAAAEAAAoAAAAAAQAABAAAAAABAAAAAAAAAAEAAAIAAAAAAQAACgAAAAABAAAEAAAAAAEAAAAAAAAAAQAAAgAAAAABAAAKAAAAAAEAAAQAAAAAAQAAAAAAAAABAAACAAAAAAEAAAoAAAAAAQAABAAAAAABAAAAAAAAAAEAAAIAAAAAAQAACgAAAAABAAAEAAAAAAEAAAAAAAAAAQAAAgAAAAABAAAKAAAAAAEAAAQAAAAAAQAAAAAAAAABAAACAAAAAAEAAAoAAAAAAQAABAAAAAABAAAAAAAAAAEAAAIAAAAAAQAACgAAAAABAAAEAAAAAAEAAAAAAAAAAQAAAgAAAAABAAAKAAAAAAEAAAQAAAAAAQAAAAAAAAABAAACAAAAAAEAAAoAAAAAAQAABAAAAAABAAAAAAAAAAEAAAIAAAAAAQAACgAAAAABAAAEAAAAAAEAAAAAAAAAAQAAAgAAAAABAAAKAAAAAAEAAAQAAAAAAQAAAAAAAAABAAACAAAAAAEAAAoAAAAAAQAABAAAAAABAAAAAAAAAAEAAAIAAAAAAQAACgAAAAABAAAEAAAAAAEAAAAAAAAAAQAAAgAAAAABAAAKAAAAAAEAAAQAAAAAAQAAAAAAAAABAAACAAAAAAEAAAoAAAAAAQAABAAAAAABAAAAAAAAAAEAAAIAAAAAAQAACgAAAAABAAAEAAAAAAEAAAAAAAAAAQAAAgAAAAABAAAKAAAAAAEAAAQAAAAAAQAAAAAAAAABAAACAAAAAAEAAAoAAAAAAQAABAAAAAABAAAAAAAAAAEAAAIAAAAAAQAACgAAAAABAAAEAAAAAAEAAAAAAAAAAQAAAgAAAAABAAAKAAAAAAEAAAQAAAAAAQAAAAAAAAABAAACAAAAAAEAAAoAAAAAAQAABAAAAAABAAAAAAAAAAEAAAIAAAAAAQAACgAAAAABAAAEAAAAAAEAAAAAAAAAAQAAAgAAAAABAAAKAAAAAAEAAAQAAAAAAQAAAAAAAAABAAACAAAAAAEAAAoAAAAAAQAABAAAAAABAAAAAAAAAAEAAAIAAAAAAQAACgAAAAABAAAEAAAAAAEAAAAAAAAAAQAAAgAAAAABAAAKAAAAAAEAAAQAAAAAAQAAAAAAAAABAAACAAAAAAEAAAoAAAAAAQAABAAAAAABAAAAAAAAAAEAAAIAAAAAAQAACgAAAAABAAAEAAAAAAEAAAAAAAAAAQAAAgAAAAABAAAKAAAAAAEAAAQAAAAAAQAAAAAAAAABAAACAAAAAAEAAAoAAAAAAQAABAAAAAABAAAAAAAAAAEAAAIAAAAAAQAACgAAAAABAAAEAAAAAAEAAAAAAAAAAQAAAgAAAAABAAAKAAAAAAEAAAQAAAAAAQAAAAAAAAABAAACAAAAAAEAAAoAAAAAAQAABAAAAAABAAAAAAAAAAEAAAIAAAAAAQAACgAAAAABAAAEAAAAAAEAAAAAAAAAAQAAAgAAAAABAAAKAAAAAAEAAAQAAAAAAQAAAAAAAAABAAACAAAAAAEAAAoAAAAAAQAABAAAAAABAAAAAAAAAAEAAAIAAAAAAQAACgAAAAABAAAEAAAAAAEAAAAAAAAAAQAAAgAAAAABAAAKAAAAAAEAAAQAAAAAAQAAAAAAAAABAAACAAAAAAEAAAoAAAAAAQAABAAAAAABAAAAAAAAAAEAAAIAAAAAAQAACgAAAAABAAAEAAAAAAEAAAAAAAAAAQAAAgAAAAABAAAKAAAAAAEAAAQAAAAAAQAAAAAAAAABAAACAAAAAAEAAAoAAAAAAQAABAAAAAABAAAAAAAAAAEAAAIAAAAAAQAACgAAAAABAAAEAAAAAAEAAAAAAAAAAQAAAgAAAAABAAAKAAAAAAEAAAQAAAAAAQAAAAAAAAABAAACAAAAAAEAAAoAAAAAAQAABAAAAAABAAAAAAAAAAEAAAIAAAAAAQAACgAAAAABAAAEAAAAAAEAAAAAAAAAAQAAAgAAAAABAAAKAAAAAAEAAAQAAAAAAQAAAAAAAAABAAACAAAAAAEAAAoAAAAAAQAABAAAAAABAAAAAAAAAAEAAAIAAAAAAQAACgAAAAABAAAEAAAAAAEAAAAAAAAAAQAAAgAAAAABAAAKAAAAAAEAAAQAAAAAAQAAAAAAAAABAAACAAAAAAEAAAoAAAAAAQAABAAAAAABAAAAAAAAAAEAAAIAAAAAAQAACgAAAAABAAAEAAAAAAEAAAAAAAAAAQAAAgAAAAABAAAKAAAAAAEAAAQAAAAAAQAAAAAAAAABAAACAAAAAAEAAAoAAAAAAQAABAAAAAABAAAAAAAAAAEAAAIAAAAAAgAABAAAAAABAAAKAAAAAAEAAAQAAAAAAQAAAAAAAAABAAACAAAAAAEAAAoAAAAAAQAABAAAAAABAAAAAAAAAAEAAAIAAAAAAQAACgAAAAABAAAEAAAAAAEAAAAAAAAAAQAAAgAAAAABAAAKAAAAAAEAAAQAAAAAAQAAAAAAAAABAAACAAAAAAEAAAoAAAAAAQAABAAAAAABAAAAAAAAAAEAAAIAAAAAAQAACgAAAAABAAAEAAAAAAEAAAAAAAAAAQAAAgAAAAABAAAKAAAAAAEAAAQAAAAAAQAAAAAAAAABAAACAAAAAAEAAAoAAAAAAQAABAAAAAABAAAAAAAAAAEAAAIAAAAAAQAACgAAAAABAAAEAAAAAAEAAAAAAAAAAQAAAgAAAAABAAAKAAAAAAEAAAQAAAAAAQAAAAAAAAABAAACAAAAAAEAAAoAAAAAAQAABAAAAAABAAAAAAAAAAEAAAIAAAAAAQAACgAAAAABAAAEAAAAAAEAAAAAAAAAAQAAAgAAAAABAAAKAAAAAAEAAAQAAAAAAQAAAAAAAAABAAACAAAAAAEAAAoAAAAAAQAABAAAAAABAAAAAAAAAAEAAAIAAAAAAQAACgAAAAABAAAEAAAAAAEAAAAAAAAAAQAAAgAAAAABAAAKAAAAAAEAAAQAAAAAAQAAAAAAAAABAAACAAAAAAEAAAoAAAAAAQAABAAAAAABAAAAAAAAAAEAAAIAAAAAAQAACgAAAAABAAAEAAAAAAEAAAAAAAAAAQAAAgAAAAABAAAKAAAAAAEAAAQAAAAAAQAAAAAAAAABAAACAAAAAAEAAAoAAAAAAQAABAAAAAABAAAAAAAAAAEAAAIAAAAAAQAACgAAAAABAAAEAAAAAAEAAAAAAAAAAQAAAgAAAAABAAAKAAAAAAEAAAQAAAAAAQAAAAAAAAABAAACAAAAAAEAAAoAAAAAAQAABAAAAAABAAAAAAAAAAEAAAIAAAAAAQAACgAAAAABAAAEAAAAAAEAAAAAAAAAAQAAAgAAAAABAAAKAAAAAAEAAAQAAAAAAQAAAAAAAAABAAACAAAAAAEAAAoAAAAAAQAABAAAAAABAAAAAAAAAAEAAAIAAAAAAQAACgAAAAABAAAEAAAAAAEAAAAAAAAAAQAAAgAAAAABAAAKAAAAAAEAAAQAAAAAAQAAAAAAAAABAAACAAAAAAEAAAoAAAAAAQAABAAAAAABAAAAAAAAAAEAAAIAAAAAAQAACgAAAAABAAAEAAAAAAEAAAAAAAAAAQAAAgAAAAABAAAKAAAAAAEAAAQAAAAAAQAAAAAAAAABAAACAAAAAAEAAAoAAAAAAQAABAAAAAABAAAAAAAAAAEAAAIAAAAAAQAACgAAAAABAAAEAAAAAAEAAAAAAAAAAQAAAgAAAAABAAAKAAAAAAEAAAQAAAAAAQAAAAAAAAABAAACAAAAAAEAAAoAAAAAAQAABAAAAAABAAAAAAAAAAEAAAIAAAAAAQAACgAAAAABAAAEAAAAAAEAAAAAAAAAAQAAAgAAAAABAAAKAAAAAAEAAAQAAAAAAQAAAAAAAAABAAACAAAAAAEAAAoAAAAAAQAABAAAAAABAAAAAAAAAAEAAAIAAAAAAQAACgAAAAABAAAEAAAAAAEAAAAAAAAAAQAAAgAAAAABAAAKAAAAAAEAAAQAAAAAAQAAAAAAAAABAAACAAAAAAEAAAoAAAAAAQAABAAAAAABAAAAAAAAAAEAAAIAAAAAAQAACgAAAAABAAAEAAAAAAEAAAAAAAAAAQAAAgAAAAABAAAKAAAAAAEAAAQAAAAAAQAAAAAAAAABAAACAAAAAAEAAAoAAAAAAQAABAAAAAABAAAAAAAAAAEAAAIAAAAAAQAACgAAAAABAAAEAAAAAAEAAAAAAAAAAQAAAgAAAAABAAAKAAAAAAEAAAQAAAAAAQAAAAAAAAABAAACAAAAAAEAAAoAAAAAAQAABAAAAAABAAAAAAAAAAEAAAIAAAAAAQAACgAAAAABAAAEAAAAAAEAAAAAAAAAAQAAAgAAAAABAAAKAAAAAAEAAAQAAAAAAQAAAAAAAAABAAACAAAAAAEAAAoAAAAAAQAABAAAAAABAAAAAAAAAAEAAAIAAAAAAQAACgAAAAABAAAEAAAAAAEAAAAAAAAAAQAAAgAAAAABAAAKAAAAAAEAAAQAAAAAAQAAAAAAAAABAAACAAAAAAEAAAoAAAAAAQAABAAAAAABAAAAAAAAAAEAAAIAAAAAAQAACgAAAAABAAAEAAAAAAEAAAAAAAAAAQAAAgAAAAABAAAKAAAAAAEAAAQAAAAAAQAAAAAAAAABAAACAAAAAAEAAAoAAAAAAQAABAAAAAABAAAAAAAAAAEAAAIAAAAAAQAACgAAAAABAAAEAAAAAAEAAAAAAAAAAQAAAgAAAAABAAAKAAAAAAEAAAQAAAAAAQAAAAAAAAABAAACAAAAAAEAAAoAAAAAAQAABAAAAAABAAAAAAAAAAEAAAIAAAAAAQAACgAAAAABAAAEAAAAAAEAAAAAAAAAAQAAAgAAAAABAAAKAAAAAAEAAAQAAAAAAQAAAAAAAAABAAACAAAAAAEAAAoAAAAAAQAABAAAAAABAAAAAAAAAAEAAAIAAAAAAgAABAAAAAABAAAKAAAAAAEAAAQAAAAAAQAAAAAAAAABAAACAAAAAAEAAAoAAAAAAQAABAAAAAABAAAAAAAAAAEAAAIAAAAAAQAACgAAAAABAAAEAAAAAAEAAAAAAAAAAQAAAgAAAAABAAAKAAAAAAEAAAQAAAAAAQAAAAAAAAABAAACAAAAAAEAAAoAAAAAAQAABAAAAAABAAAAAAAAAAEAAAIAAAAAAQAACgAAAAABAAAEAAAAAAEAAAAAAAAAAQAAAgAAAAABAAAKAAAAAAEAAAQAAAAAAQAAAAAAAAABAAACAAAAAAEAAAoAAAAAAQAABAAAAAABAAAAAAAAAAEAAAIAAAAAAQAACgAAAAABAAAEAAAAAAEAAAAAAAAAAQAAAgAAAAABAAAKAAAAAAEAAAQAAAAAAQAAAAAAAAABAAACAAAAAAEAAAoAAAAAAQAABAAAAAABAAAAAAAAAAEAAAIAAAAAAQAACgAAAAABAAAEAAAAAAEAAAAAAAAAAQAAAgAAAAABAAAKAAAAAAEAAAQAAAAAAQAAAAAAAAABAAACAAAAAAEAAAoAAAAAAQAABAAAAAABAAAAAAAAAAEAAAIAAAAAAQAACgAAAAABAAAEAAAAAAEAAAAAAAAAAQAAAgAAAAABAAAKAAAAAAEAAAQAAAAAAQAAAAAAAAABAAACAAAAAAEAAAoAAAAAAQAABAAAAAABAAAAAAAAAAEAAAIAAAAAAQAACgAAAAABAAAEAAAAAAEAAAAAAAAAAQAAAgAAAAABAAAKAAAAAAEAAAQAAAAAAQAAAAAAAAABAAACAAAAAAEAAAoAAAAAAQAABAAAAAABAAAAAAAAAAEAAAIAAAAAAQAACgAAAAABAAAEAAAAAAEAAAAAAAAAAQAAAgAAAAABAAAKAAAAAAEAAAQAAAAAAQAAAAAAAAABAAACAAAAAAEAAAoAAAAAAQAABAAAAAABAAAAAAAAAAEAAAIAAAAAAQAACgAAAAABAAAEAAAAAAEAAAAAAAAAAQAAAgAAAAABAAAKAAAAAAEAAAQAAAAAAQAAAAAAAAABAAACAAAAAAEAAAoAAAAAAQAABAAAAAABAAAAAAAAAAEAAAIAAAAAAQAACgAAAAABAAAEAAAAAAEAAAAAAAAAAQAAAgAAAAABAAAKAAAAAAEAAAQAAAAAAQAAAAAAAAABAAACAAAAAAEAAAoAAAAAAQAABAAAAAABAAAAAAAAAAEAAAIAAAAAAQAACgAAAAABAAAEAAAAAAEAAAAAAAAAAQAAAgAAAAABAAAKAAAAAAEAAAQAAAAAAQAAAAAAAAABAAACAAAAAAEAAAoAAAAAAQAABAAAAAABAAAAAAAAAAEAAAIAAAAAAQAACgAAAAABAAAEAAAAAAEAAAAAAAAAAQAAAgAAAAABAAAKAAAAAAEAAAQAAAAAAQAAAAAAAAABAAACAAAAAAEAAAoAAAAAAQAABAAAAAABAAAAAAAAAAEAAAIAAAAAAQAACgAAAAABAAAEAAAAAAEAAAAAAAAAAQAAAgAAAAABAAAKAAAAAAEAAAQAAAAAAQAAAAAAAAABAAACAAAAAAEAAAoAAAAAAQAABAAAAAABAAAAAAAAAAEAAAIAAAAAAQAACgAAAAABAAAEAAAAAAEAAAAAAAAAAQAAAgAAAAABAAAKAAAAAAEAAAQAAAAAAQAAAAAAAAABAAACAAAAAAEAAAoAAAAAAQAABAAAAAABAAAAAAAAAAEAAAIAAAAAAQAACgAAAAABAAAEAAAAAAEAAAAAAAAAAQAAAgAAAAABAAAKAAAAAAEAAAQAAAAAAQAAAAAAAAABAAACAAAAAAEAAAoAAAAAAQAABAAAAAABAAAAAAAAAAEAAAIAAAAAAQAACgAAAAABAAAEAAAAAAEAAAAAAAAAAQAAAgAAAAABAAAKAAAAAAEAAAQAAAAAAQAAAAAAAAABAAACAAAAAAEAAAoAAAAAAQAABAAAAAABAAAAAAAAAAEAAAIAAAAAAQAACgAAAAABAAAEAAAAAAEAAAAAAAAAAQAAAgAAAAABAAAKAAAAAAEAAAQAAAAAAQAAAAAAAAABAAACAAAAAAEAAAoAAAAAAQAABAAAAAABAAAAAAAAAAEAAAIAAAAAAQAACgAAAAABAAAEAAAAAAEAAAAAAAAAAQAAAgAAAAABAAAKAAAAAAEAAAQAAAAAAQAAAAAAAAABAAACAAAAAAEAAAoAAAAAAQAABAAAAAABAAAAAAAAAAEAAAIAAAAAAQAACgAAAAABAAAEAAAAAAEAAAAAAAAAAQAAAgAAAAABAAAKAAAAAAEAAAQAAAAAAQAAAAAAAAABAAACAAAAAAEAAAoAAAAAAQAABAAAAAABAAAAAAAAAAEAAAIAAAAAAQAACgAAAAABAAAEAAAAAAEAAAAAAAAAAQAAAgAAAAABAAAKAAAAAAEAAAQAAAAAAQAAAAAAAAABAAACAAAAAAEAAAoAAAAAAQAABAAAAAABAAAAAAAAAAEAAAIAAAAAAQAACgAAAAABAAAEAAAAAAEAAAAAAAAAAQAAAgAAAAABAAAKAAAAAAEAAAQAAAAAAQAAAAAAAAABAAACAAAAAAEAAAoAAAAAAQAABAAAAAABAAAAAAAAAAEAAAIAAAAAAgAABAAAAAAcc3RzYwAAAAAAAAABAAAAAQAAA+kAAAABAAAPuHN0c3oAAAAAAAAAAAAAA+kAAAdjAAAAuAAAAEUAAAA5AAAAJAAAAIUAAABCAAAAHwAAADwAAACRAAAAQgAAADsAAABBAAAAuwAAAFAAAABDAAAAOgAAAJgAAABIAAAAOQAAADwAAACpAAAATgAAADoAAABBAAABBQAAAEIAAABMAAAAOAAAAMQAAABGAAAAPAAAAD0AAACnAAAAQQAAAEEAAAA4AAAA7wAAAFgAAAA+AAAAQQAAAOQAAABMAAAASwAAAEUAAADZAAAARgAAAD4AAAAyAAAA1gAAAE4AAAA7AAAANgAAAPgAAABDAAAAQQAAADYAAACbAAAAQwAAADgAAAArAAAAswAAAEwAAAAkAAAAIwAAAKIAAAA6AAAAIwAAABwAAACaAAAAKQAAACsAAAAeAAAAMQAAACEAAAAcAAAAHgAAAHwAAAAhAAAAIAAAACMAAACmAAAALwAAAB8AAAAjAAAAjAAAACwAAAAgAAAAIAAAALMAAAApAAAAIQAAAB4AAADEAAAAKwAAACEAAAAjAAAAoAAAADMAAAAgAAAAJgAAALEAAAAlAAAAKAAAABwAAACiAAAAIgAAABsAAAAdAAAA1wAAACcAAAAhAAAAHAAAAKYAAAAlAAAAHgAAABsAAACPAAAALQAAABsAAAAgAAAApwAAACsAAAAeAAAAGwAAAJMAAAAqAAAAHgAAAB4AAABXAAAAIgAAABoAAAAaAAAAUQAAACEAAAAaAAAAGgAAAFAAAAAiAAAAGgAAABwAAAAeAAAAIQAAABsAAAAcAAAAKgAAACIAAAAbAAAAHQAAAD4AAAAkAAAAHQAAAB0AAABIAAAAIgAAAB0AAAAfAAAAUwAAACcAAAAdAAAAHQAAAEsAAAAkAAAAHQAAAB0AAABlAAAAKAAAAB0AAAAfAAAAZwAAACcAAAAeAAAAHwAAAFgAAAAnAAAAHgAAAB8AAAAxAAAAJwAAAB4AAAAfAAAARAAAACcAAAAeAAAAHwAAAFUAAAApAAAAHgAAAB8AAABXAAAAKAAAAB4AAAAfAAAALwAAACsAAAAeAAAAHwAAAEsAAAAqAAAAHgAAAB8AAAAjAAAAKwAAAB4AAAAfAAAAIAAAACoAAAAeAAAAHwAAACAAAAAqAAAAHgAAAB8AAAArAAAAKgAAAB4AAAAfAAAAIwAAACkAAAAeAAAAHwAAACAAAAApAAAAHgAAAB8AAAAqAAAAKQAAAB4AAAAfAAAAJQAAACkAAAAeAAAAHwAAACAAAAApAAAAHgAAAB8AAAAtAAAAKQAAAB4AAAAfAAAAJgAAACkAAAAeAAAAHwAAACgAAAApAAAAHgAAAB8AAAAaAAAHpAAAAB8AAAASAAAAEgAAABIAAAAbAAAAFAAAABIAAAASAAAAGwAAABQAAAASAAAAEgAAABsAAAAUAAAAEgAAABIAAAAbAAAAFAAAABIAAAASAAAAGwAAABQAAAASAAAAEgAAABsAAAAUAAAAEgAAABIAAAAbAAAAFAAAABIAAAASAAAAGwAAABQAAAASAAAAEgAAABsAAAAUAAAAEgAAABIAAAAbAAAAFAAAABIAAAASAAAAGwAAABQAAAASAAAAEgAAABsAAAAUAAAAEgAAABIAAAAbAAAAFAAAABIAAAASAAAAGwAAABQAAAASAAAAEgAAABsAAAAUAAAAEgAAABIAAAAbAAAAFAAAABIAAAASAAAAGwAAABQAAAASAAAAEgAAABsAAAAUAAAAEgAAABIAAAAbAAAAFAAAABIAAAASAAAAGwAAABQAAAASAAAAEgAAABsAAAAUAAAAEgAAABIAAAAbAAAAFAAAABIAAAASAAAAGwAAABQAAAASAAAAEgAAABsAAAAUAAAAEgAAABIAAAAbAAAAFAAAABIAAAASAAAAGwAAABQAAAASAAAAEgAAABsAAAAUAAAAEgAAABIAAAAbAAAAFAAAABIAAAASAAAAGwAAABQAAAASAAAAEgAAABsAAAAUAAAAEgAAABIAAAAbAAAAFAAAABIAAAASAAAAGwAAABQAAAASAAAAEgAAABsAAAAUAAAAEgAAABIAAAAbAAAAFAAAABIAAAASAAAAGwAAABQAAAASAAAAEgAAABsAAAAUAAAAEgAAABIAAAAbAAAAFAAAABIAAAASAAAAGwAAABQAAAASAAAAEgAAABsAAAAUAAAAEgAAABIAAAAbAAAAFAAAABIAAAASAAAAGwAAABQAAAASAAAAEgAAABsAAAAUAAAAEgAAABIAAAAbAAAAFAAAABIAAAASAAAAGwAAABQAAAASAAAAEgAAABsAAAAUAAAAEgAAABIAAAAbAAAAFAAAABIAAAASAAAAGwAAABQAAAASAAAAEgAAABsAAAAUAAAAEgAAABIAAAAbAAAAFAAAABIAAAASAAAAGwAAABQAAAASAAAAEgAAABsAAAAUAAAAEgAAABIAAAAbAAAAFAAAABIAAAASAAAAGwAAABQAAAASAAAAEgAAABsAAAAUAAAAEgAAABIAAAAbAAAAFAAAABIAAAASAAAAGwAAABQAAAASAAAAEgAAABsAAAAUAAAAEgAAABIAAAAbAAAAFAAAABIAAAASAAAAGwAAABQAAAASAAAAEgAAABsAAAAUAAAAEgAAABIAAAAbAAAAFAAAABIAAAASAAAAGgAAB6QAAAAfAAAAEgAAABIAAAASAAAAGwAAABQAAAASAAAAEgAAABsAAAAUAAAAEgAAABIAAAAbAAAAFAAAABIAAAASAAAAGwAAABQAAAASAAAAEgAAABsAAAAUAAAAEgAAABIAAAAbAAAAFAAAABIAAAASAAAAGwAAABQAAAASAAAAEgAAABsAAAAUAAAAEgAAABIAAAAbAAAAFAAAABIAAAASAAAAGwAAABQAAAASAAAAEgAAABsAAAAUAAAAEgAAABIAAAAbAAAAFAAAABIAAAASAAAAGwAAABQAAAASAAAAEgAAABsAAAAUAAAAEgAAABIAAAAbAAAAFAAAABIAAAASAAAAGwAAABQAAAASAAAAEgAAABsAAAAUAAAAEgAAABIAAAAbAAAAFAAAABIAAAASAAAAGwAAABQAAAASAAAAEgAAABsAAAAUAAAAEgAAABIAAAAbAAAAFAAAABIAAAASAAAAGwAAABQAAAASAAAAEgAAABsAAAAUAAAAEgAAABIAAAAbAAAAFAAAABIAAAASAAAAGwAAABQAAAASAAAAEgAAABsAAAAUAAAAEgAAABIAAAAbAAAAFAAAABIAAAASAAAAGwAAABQAAAASAAAAEgAAABsAAAAUAAAAEgAAABIAAAAbAAAAFAAAABIAAAASAAAAGwAAABQAAAASAAAAEgAAABsAAAAUAAAAEgAAABIAAAAbAAAAFAAAABIAAAASAAAAGwAAABQAAAASAAAAEgAAABsAAAAUAAAAEgAAABIAAAAbAAAAFAAAABIAAAASAAAAGwAAABQAAAASAAAAEgAAABsAAAAUAAAAEgAAABIAAAAbAAAAFAAAABIAAAASAAAAGwAAABQAAAASAAAAEgAAABsAAAAUAAAAEgAAABIAAAAbAAAAFAAAABIAAAASAAAAGwAAABQAAAASAAAAEgAAABsAAAAUAAAAEgAAABIAAAAbAAAAFAAAABIAAAASAAAAGwAAABQAAAASAAAAEgAAABsAAAAUAAAAEgAAABIAAAAbAAAAFAAAABIAAAASAAAAGwAAABQAAAASAAAAEgAAABsAAAAUAAAAEgAAABIAAAAbAAAAFAAAABIAAAASAAAAGwAAABQAAAASAAAAEgAAABsAAAAUAAAAEgAAABIAAAAbAAAAFAAAABIAAAASAAAAGwAAABQAAAASAAAAEgAAABsAAAAUAAAAEgAAABIAAAAbAAAAFAAAABIAAAASAAAAGwAAABQAAAASAAAAEgAAABsAAAAUAAAAEgAAABIAAAAbAAAAFAAAABIAAAASAAAAGwAAABQAAAASAAAAEgAAABoAAAekAAAAHwAAABIAAAASAAAAEgAAABsAAAAUAAAAEgAAABIAAAAbAAAAFAAAABIAAAASAAAAGwAAABQAAAASAAAAEgAAABsAAAAUAAAAEgAAABIAAAAbAAAAFAAAABIAAAASAAAAGwAAABQAAAASAAAAEgAAABsAAAAUAAAAEgAAABIAAAAbAAAAFAAAABIAAAASAAAAGwAAABQAAAASAAAAEgAAABsAAAAUAAAAEgAAABIAAAAbAAAAFAAAABIAAAASAAAAGwAAABQAAAASAAAAEgAAABsAAAAUAAAAEgAAABIAAAAbAAAAFAAAABIAAAASAAAAGwAAABQAAAASAAAAEgAAABsAAAAUAAAAEgAAABIAAAAbAAAAFAAAABIAAAASAAAAGwAAABQAAAASAAAAEgAAABsAAAAUAAAAEgAAABIAAAAbAAAAFAAAABIAAAASAAAAGwAAABQAAAASAAAAEgAAABsAAAAUAAAAEgAAABIAAAAbAAAAFAAAABIAAAASAAAAGwAAABQAAAASAAAAEgAAABsAAAAUAAAAEgAAABIAAAAbAAAAFAAAABIAAAASAAAAGwAAABQAAAASAAAAEgAAABsAAAAUAAAAEgAAABIAAAAbAAAAFAAAABIAAAASAAAAGwAAABQAAAASAAAAEgAAABsAAAAUAAAAEgAAABIAAAAbAAAAFAAAABIAAAASAAAAGwAAABQAAAASAAAAEgAAABsAAAAUAAAAEgAAABIAAAAbAAAAFAAAABIAAAASAAAAGwAAABQAAAASAAAAEgAAABsAAAAUAAAAEgAAABIAAAAbAAAAFAAAABIAAAASAAAAGwAAABQAAAASAAAAEgAAABsAAAAUAAAAEgAAABIAAAAbAAAAFAAAABIAAAASAAAAGwAAABQAAAASAAAAEgAAABsAAAAUAAAAEgAAABIAAAAbAAAAFAAAABIAAAASAAAAGwAAABQAAAASAAAAEgAAABsAAAAUAAAAEgAAABIAAAAbAAAAFAAAABIAAAASAAAAGwAAABQAAAASAAAAEgAAABsAAAAUAAAAEgAAABIAAAAbAAAAFAAAABIAAAASAAAAGwAAABQAAAASAAAAEgAAABsAAAAUAAAAEgAAABIAAAAbAAAAFAAAABIAAAASAAAAGwAAABQAAAASAAAAEgAAABsAAAAUAAAAEgAAABIAAAAbAAAAFAAAABIAAAASAAAAGwAAABQAAAASAAAAEgAAABsAAAAUAAAAEgAAABIAAAAbAAAAFAAAABIAAAASAAAAGwAAABQAAAASAAAAEgAAABoAAAAUAAAAEgAAABIAAAAaAAADrwAAABRzdGNvAAAAAAAAAAEAAAAwAAAAYnVkdGEAAABabWV0YQAAAAAAAAAhaGRscgAAAAAAAAAAbWRpcmFwcGwAAAAAAAAAAAAAAAAtaWxzdAAAACWpdG9vAAAAHWRhdGEAAAABAAAAAExhdmY2MC4xNi4xMDA=\" type=\"video/mp4\">\n",
       " Your browser does not support the video tag.\n",
       " </video>"
      ],
      "text/plain": [
       "<IPython.core.display.Video object>"
      ]
     },
     "metadata": {},
     "output_type": "display_data"
    }
   ],
   "source": [
    "if not skip_training:\n",
    "      video = Video(Path().cwd() / 'results' / 'InvertedPendulum-v4' / 'video' / 'test' / 'ex5-episode-0.mp4',\n",
    "      embed=True, html_attributes=\"controls\") # Set html_attributes=\"controls\" for video control\n",
    "      display(video)"
   ]
  },
  {
   "cell_type": "markdown",
   "id": "f856d17c",
   "metadata": {
    "deletable": false,
    "editable": false,
    "nbgrader": {
     "cell_type": "markdown",
     "checksum": "5344618e774be27b6e56107827fe9e38",
     "grade": false,
     "grade_id": "cell-970e68431aa3a7cd",
     "locked": true,
     "schema_version": 3,
     "solution": false,
     "task": false
    }
   },
   "source": [
    "<a id='Q1'></a>\n",
    "<div class=\" alert alert-warning\">\n",
    "    <h3><b>Student Question 1.1</b> A good baseline (15 points) </h3> \n",
    "\n",
    "Which of the following statements correctly describe how to choose a good baseline and why it makes training more stable? **Select 5 options.**\n",
    "            \n",
    "🔝\t<a href='#TOC'><b>Table of Contents</b></a>\n",
    "</div>"
   ]
  },
  {
   "cell_type": "markdown",
   "id": "0c46c994-d93c-4188-adef-ef82dabe437c",
   "metadata": {
    "deletable": false,
    "editable": false,
    "nbgrader": {
     "cell_type": "markdown",
     "checksum": "b1eed5810b36c7aaf8e100f5b08c77b2",
     "grade": false,
     "grade_id": "cell-cfe2a992cab77b22",
     "locked": true,
     "schema_version": 3,
     "solution": false,
     "task": false
    },
    "tags": []
   },
   "source": [
    "Options:\n",
    "\n",
    "1. A good baseline doesn't affect the expectation (doesn't introduce bias) but reduces variance of the estimated gradients. \n",
    "2. The baseline should be dependent on both the state and the action to provide the most accurate estimates.\n",
    "3. The optimal baseline can be theoretically derived, but it is too expensive to calculate in practice. \n",
    "4.  A good baseline should be a constant value to ensure consistency across all states. \n",
    "5.  The lower variance estimates lead to more stable training. \n",
    "6.  A good choice of baseline is an estimate of the state value, or the empirical mean (when doing Monte Carlo roll-outs). \n",
    "7.  The idea with both is that we increase the probability of actions that lead to higher returns than what our current estimate of the expected return is. \n",
    "8.  A proper baseline eliminates the need for exploration in reinforcement learning algorithms. \n",
    "9.  The choice of baseline has no impact on the convergence speed of the algorithm.\n"
   ]
  },
  {
   "cell_type": "code",
   "execution_count": 55,
   "id": "d71bb55e-e23e-48ee-b9d5-da004df72b27",
   "metadata": {
    "tags": []
   },
   "outputs": [],
   "source": [
    "# Answer question 1.1 with appropriate option numbers\n",
    "sq1_1 = [1, 3, 5, 6, 7] "
   ]
  },
  {
   "cell_type": "markdown",
   "id": "89b0074d-e8b9-4106-9155-bcc44fafd967",
   "metadata": {},
   "source": [
    "The following cells are used for grading."
   ]
  },
  {
   "cell_type": "code",
   "execution_count": null,
   "id": "7c1438ee-92e4-4123-99ae-bd989bfe1b81",
   "metadata": {
    "deletable": false,
    "editable": false,
    "nbgrader": {
     "cell_type": "code",
     "checksum": "068bab37656d0f1f76a988a2d372cdbe",
     "grade": true,
     "grade_id": "cell-4710481b388d34ce",
     "locked": true,
     "points": 3,
     "schema_version": 3,
     "solution": false,
     "task": false
    },
    "tags": []
   },
   "outputs": [],
   "source": []
  },
  {
   "cell_type": "code",
   "execution_count": null,
   "id": "c385229f-7736-4fb2-92d4-c2c62d7ae1ac",
   "metadata": {
    "deletable": false,
    "editable": false,
    "nbgrader": {
     "cell_type": "code",
     "checksum": "5fcbf26c4ff358b5eaf69cab8b563bc5",
     "grade": true,
     "grade_id": "cell-fdd8262ca17746aa",
     "locked": true,
     "points": 3,
     "schema_version": 3,
     "solution": false,
     "task": false
    },
    "tags": []
   },
   "outputs": [],
   "source": []
  },
  {
   "cell_type": "code",
   "execution_count": null,
   "id": "431586b5-619b-43e8-9045-ad0f3f828b05",
   "metadata": {
    "deletable": false,
    "editable": false,
    "nbgrader": {
     "cell_type": "code",
     "checksum": "5c2bba5cef04af5c1c243114c256376d",
     "grade": true,
     "grade_id": "cell-a0a1d58190a1e0f1",
     "locked": true,
     "points": 3,
     "schema_version": 3,
     "solution": false,
     "task": false
    },
    "tags": []
   },
   "outputs": [],
   "source": []
  },
  {
   "cell_type": "code",
   "execution_count": null,
   "id": "6e1699f5-73ef-4eac-9a5a-17708c1d6ccd",
   "metadata": {
    "deletable": false,
    "editable": false,
    "nbgrader": {
     "cell_type": "code",
     "checksum": "c576e4932e49fe2c4cf243edd4035915",
     "grade": true,
     "grade_id": "cell-3343cc12855e6f15",
     "locked": true,
     "points": 3,
     "schema_version": 3,
     "solution": false,
     "task": false
    },
    "tags": []
   },
   "outputs": [],
   "source": []
  },
  {
   "cell_type": "code",
   "execution_count": null,
   "id": "3d789840-2b3e-4a5b-ba87-f9cc01adb538",
   "metadata": {
    "deletable": false,
    "editable": false,
    "nbgrader": {
     "cell_type": "code",
     "checksum": "1414b678f26986c875a98c0184021ba9",
     "grade": true,
     "grade_id": "cell-86090270df654ed6",
     "locked": true,
     "points": 3,
     "schema_version": 3,
     "solution": false,
     "task": false
    },
    "tags": []
   },
   "outputs": [],
   "source": []
  },
  {
   "cell_type": "markdown",
   "id": "bda4d734",
   "metadata": {},
   "source": [
    "# 3. Choosing the value of variance <a id='3.'></a>"
   ]
  },
  {
   "cell_type": "markdown",
   "id": "c34d6f9d",
   "metadata": {},
   "source": [
    "<a id='T2'></a>\n",
    "<div class=\" alert alert-warning\">\n",
    "    <h3><b>Student Task 2.</b> Making Variance a Learnable Parameter (10 points) </h3> \n",
    "\n",
    "Implement the policy’s variance as a learnable parameter of the network and update it during training. Set the initial value $\\sigma_0^2$ to 1. REINFORCE with normalized discounted returns is used for this task.\n",
    "\n",
    "**Complete the unfinished implementation in ```PolicyLearnedVar(nn.Module)``` class (marked with ```TODOs```)**. \n",
    "    \n",
    "    \n",
    "**Hint:** To make your learned variance automatically updated by the optimizer, declare your variable inside the ```__init__``` function of the model using ```torch.nn.Parameter(some_tensor)```. \n",
    "    \n",
    "🔝\t<a href='#TOC'><b>Table of Contents</b></a>\n",
    "</div>\n"
   ]
  },
  {
   "cell_type": "markdown",
   "id": "bbc8f47f",
   "metadata": {},
   "source": [
    "## 3.1 Policy with Learned Variance <a id='3.1'></a>"
   ]
  },
  {
   "cell_type": "code",
   "execution_count": 56,
   "id": "5f38d70b",
   "metadata": {
    "tags": []
   },
   "outputs": [],
   "source": [
    "# Initialisation function for neural network layers\n",
    "def layer_init(layer, std=np.sqrt(2), bias_const=0.0):\n",
    "    torch.nn.init.orthogonal_(layer.weight, std)\n",
    "    torch.nn.init.constant_(layer.bias, bias_const)\n",
    "    return layer\n",
    "\n",
    "\n",
    "# This class defines the neural network policy with learned variance\n",
    "class PolicyLearnedVar(nn.Module):\n",
    "    def __init__(self, state_dim, action_dim):\n",
    "        super(PolicyLearnedVar, self).__init__()\n",
    "\n",
    "        # Initialise a neural network with two hidden layers (64 neurons per layer)\n",
    "        self.actor_mean = nn.Sequential(\n",
    "            layer_init(nn.Linear(state_dim, 64)),\n",
    "            nn.Tanh(),\n",
    "            layer_init(nn.Linear(64, 64)),\n",
    "            nn.Tanh(),\n",
    "            layer_init(nn.Linear(64, action_dim), std=0.01),\n",
    "        )\n",
    "\n",
    "        # TODO: Task 2: Implement actor_logstd as a learnable parameter\n",
    "        # Use log of std to make sure std doesn't become negative during training\n",
    "        ########## Your code starts here. ###########    \n",
    "        # Initialize the log standard deviation as a learnable parameter.\n",
    "        # Start with an initial value of 0 (log(std)=0 -> std=exp(0)=1).\n",
    "        self.actor_logstd = nn.Parameter(torch.zeros(1, action_dim))  # std starts at 1 (log(1) = 0)\n",
    "        ########## Your code ends here. ##########\n",
    "        \n",
    "    # Do a forward pass to map state to action\n",
    "    def forward(self, state):\n",
    "        # Get mean of a Normal distribution (the output of the neural network)\n",
    "        action_mean = self.actor_mean(state)\n",
    "\n",
    "        # Make sure action_logstd matches dimension of action_mean\n",
    "        action_logstd = self.actor_logstd.expand_as(action_mean)\n",
    "\n",
    "        # Exponentiate the log std to get actual std\n",
    "        action_std = torch.exp(action_logstd)\n",
    "\n",
    "        # TODO: Task 1: Create a Normal distribution with mean of 'action_mean' and standard deviation of 'action_std', and return the distribution\n",
    "        ########## Your code starts here. ###########\n",
    "        # Create a normal distribution parameterized by the mean and standard deviation\n",
    "        probs = torch.distributions.Normal(action_mean, action_std)\n",
    "        ########## Your code ends here. ##########\n",
    "        return probs"
   ]
  },
  {
   "cell_type": "markdown",
   "id": "cbe99408-3caa-43d6-aa52-652c9e1b88fe",
   "metadata": {},
   "source": [
    "Initialize the `PG` class to construct the neural network policy. Continue to employ the `get_action` function, as outlined in Task 1."
   ]
  },
  {
   "cell_type": "code",
   "execution_count": 57,
   "id": "304d7def-5ad3-461e-a2c6-216157833223",
   "metadata": {
    "tags": []
   },
   "outputs": [],
   "source": [
    "# Class for the Policy Gradient algorithm\n",
    "class PGLearnedVar(PGNormalized):\n",
    "    def __init__(self, state_dim, action_dim, lr, gamma):\n",
    "        super().__init__(state_dim, action_dim, lr, gamma)\n",
    "        \n",
    "        # TODO: Task 2: Define the neural network policy (self.policy) with learned variance.\n",
    "        self.policy = None\n",
    "        ########## Your code starts here. ###########  \n",
    "        # Define the policy network with learned variance using the PolicyLearnedVar class\n",
    "        self.policy = PolicyLearnedVar(state_dim, action_dim)\n",
    "        ########## Your code ends here. ##########\n",
    "\n",
    "        # Create an optimizer\n",
    "        self.optimizer = torch.optim.Adam(self.policy.parameters(), lr=lr)"
   ]
  },
  {
   "cell_type": "code",
   "execution_count": 58,
   "id": "6b7c5cac-1e2f-4224-a503-bc1e27871a09",
   "metadata": {
    "tags": []
   },
   "outputs": [
    {
     "name": "stdout",
     "output_type": "stream",
     "text": [
      "Numpy/Torch/Random Seed:  409\n",
      "{'ep': 0, 'logstd': array([[0.002]], dtype=float32), 'timesteps': 4, 'ep_reward': 4.0, 'episodes': 0}\n",
      "{'ep': 100, 'logstd': array([[-0.02779322]], dtype=float32), 'timesteps': 58, 'ep_reward': 58.0, 'episodes': 100}\n",
      "{'ep': 200, 'logstd': array([[-0.05860812]], dtype=float32), 'timesteps': 170, 'ep_reward': 170.0, 'episodes': 200}\n",
      "{'ep': 300, 'logstd': array([[-0.05996877]], dtype=float32), 'timesteps': 1000, 'ep_reward': 1000.0, 'episodes': 300}\n",
      "{'ep': 400, 'logstd': array([[-0.07605836]], dtype=float32), 'timesteps': 1000, 'ep_reward': 1000.0, 'episodes': 400}\n",
      "{'ep': 500, 'logstd': array([[-0.08930102]], dtype=float32), 'timesteps': 1000, 'ep_reward': 1000.0, 'episodes': 500}\n",
      "{'ep': 600, 'logstd': array([[-0.09271491]], dtype=float32), 'timesteps': 1000, 'ep_reward': 1000.0, 'episodes': 600}\n",
      "{'ep': 700, 'logstd': array([[-0.09491418]], dtype=float32), 'timesteps': 1000, 'ep_reward': 1000.0, 'episodes': 700}\n",
      "{'ep': 800, 'logstd': array([[-0.09654371]], dtype=float32), 'timesteps': 1000, 'ep_reward': 1000.0, 'episodes': 800}\n",
      "{'ep': 900, 'logstd': array([[-0.08450681]], dtype=float32), 'timesteps': 1000, 'ep_reward': 1000.0, 'episodes': 900}\n"
     ]
    },
    {
     "data": {
      "image/png": "[encoded data removed]",
      "text/plain": [
       "<Figure size 450x350 with 1 Axes>"
      ]
     },
     "metadata": {},
     "output_type": "display_data"
    },
    {
     "name": "stdout",
     "output_type": "stream",
     "text": [
      "Training complete!\n"
     ]
    }
   ],
   "source": [
    "if not skip_training:\n",
    "    train(PGLearnedVar, cfg_path=Path().cwd() / 'cfg' / 'inverted_pendulum.yaml', cfg_args=dict(model_name=\"PGLearnedVar\")) # < 10 mins"
   ]
  },
  {
   "cell_type": "code",
   "execution_count": 59,
   "id": "6b3d4bbd-9d79-4e23-a92a-d593a192a2c7",
   "metadata": {
    "tags": []
   },
   "outputs": [
    {
     "name": "stdout",
     "output_type": "stream",
     "text": [
      "Numpy/Torch/Random Seed:  409\n",
      "Loading model from /notebooks/rl2024/ex5/results/InvertedPendulum-v4/model/PGLearnedVar_params.pt ...\n",
      "Test ep_reward: 1000.0\n",
      "Test ep_reward: 1000.0\n",
      "Test ep_reward: 1000.0\n",
      "Test ep_reward: 1000.0\n",
      "Test ep_reward: 1000.0\n",
      "Test ep_reward: 1000.0\n",
      "Test ep_reward: 1000.0\n",
      "Test ep_reward: 1000.0\n",
      "Test ep_reward: 1000.0\n",
      "Test ep_reward: 1000.0\n",
      "Median test reward: 1000.0\n"
     ]
    }
   ],
   "source": [
    "if not skip_training:\n",
    "    test(PGLearnedVar, cfg_path=Path().cwd() / 'cfg' / 'inverted_pendulum.yaml', cfg_args=dict(model_name=\"PGLearnedVar\", save_video=True, testing=True))"
   ]
  },
  {
   "cell_type": "code",
   "execution_count": null,
   "id": "1afce7ed",
   "metadata": {
    "deletable": false,
    "editable": false,
    "nbgrader": {
     "cell_type": "code",
     "checksum": "488b0594c6a0bc7114212e08886456da",
     "grade": true,
     "grade_id": "cell-b30e0b4e722242a6",
     "locked": true,
     "points": 2,
     "schema_version": 3,
     "solution": false,
     "task": false
    }
   },
   "outputs": [],
   "source": []
  },
  {
   "cell_type": "code",
   "execution_count": null,
   "id": "c765232f",
   "metadata": {
    "deletable": false,
    "editable": false,
    "nbgrader": {
     "cell_type": "code",
     "checksum": "3ab5d3ddd4f03fbc59870f78a083f9bf",
     "grade": true,
     "grade_id": "cell-cfe147d31b546e45",
     "locked": true,
     "points": 8,
     "schema_version": 3,
     "solution": false,
     "task": false
    }
   },
   "outputs": [],
   "source": []
  },
  {
   "cell_type": "code",
   "execution_count": 61,
   "id": "da748d77-46d5-4597-b2f9-d9885ca24e6a",
   "metadata": {
    "tags": []
   },
   "outputs": [
    {
     "data": {
      "text/html": [
       "<video controls  >\n",
       " <source src=\"data:video/mp4;base64,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\" type=\"video/mp4\">\n",
       " Your browser does not support the video tag.\n",
       " </video>"
      ],
      "text/plain": [
       "<IPython.core.display.Video object>"
      ]
     },
     "metadata": {},
     "output_type": "display_data"
    }
   ],
   "source": [
    "if not skip_training:\n",
    "    video = Video(Path().cwd() / 'results' / 'InvertedPendulum-v4' / 'video' / 'test' / 'ex5-episode-0.mp4',\n",
    "    embed=True, html_attributes=\"controls\") # Set html_attributes=\"controls\" for video control\n",
    "    display(video)"
   ]
  },
  {
   "cell_type": "markdown",
   "id": "6b3294a4",
   "metadata": {
    "deletable": false,
    "editable": false,
    "nbgrader": {
     "cell_type": "markdown",
     "checksum": "fab39c6fa2607a23e24d1db8c8081c5a",
     "grade": false,
     "grade_id": "cell-f5cbd8946325f4b7",
     "locked": true,
     "schema_version": 3,
     "solution": false,
     "task": false
    }
   },
   "source": [
    "<a id='Q2'></a>\n",
    "<div class=\" alert alert-warning\">\n",
    "    <h3><b>Student Question 2.1</b> Constant vs Learnable Variance (5 points) </h3> \n",
    "\n",
    "Which of the following statements accurately describe the strengths and weaknesses of using constant variance vs. learning the variance during training? **Select 5 options.**      \n",
    "🔝\t<a href='#TOC'><b>Table of Contents</b></a>\n",
    "</div>"
   ]
  },
  {
   "cell_type": "markdown",
   "id": "ebc0af92-69e2-4092-8e09-d070351e2fde",
   "metadata": {
    "deletable": false,
    "editable": false,
    "nbgrader": {
     "cell_type": "markdown",
     "checksum": "9f9b59308ffd6714780a24779a21a972",
     "grade": false,
     "grade_id": "cell-5e9bfdef15f9a0fb",
     "locked": true,
     "schema_version": 3,
     "solution": false,
     "task": false
    },
    "tags": []
   },
   "source": [
    "Options:\n",
    "\n",
    "1. Variance is directly tied to exploration, with greater variance leading to more random actions and more exploration. \n",
    "2.  Learned variance always leads to better results than constant variance. \n",
    "3.  Constant variance is a simple solution that guarantees a certain level of exploration throughout training. \n",
    "4.  If constant variance is set too low, it can result in faster convergence to the optimal policy. \n",
    "5.  If the constant variance is set too high, it can handle very challenging environments by seeing through the randomness in selected actions.\n",
    "6.  Learning the variance allows the agent to adapt its exploration needs throughout training. \n",
    "7. Constant variance makes it possible for the agent to explore more at the beginning and less as the policy improves. \n",
    "8. Learning the variance can potentially reduce variance when actions are good and increase it when actions are bad. \n",
    "9. Understanding how learned variance behaves during optimization can be challenging.\n",
    "10. Constant variance is computationally more expensive than learned variance.\n"
   ]
  },
  {
   "cell_type": "code",
   "execution_count": 62,
   "id": "43eb71f9-232a-4ab7-97e3-31972a7cb343",
   "metadata": {
    "tags": []
   },
   "outputs": [],
   "source": [
    "# Answer question 2.1 with appropriate option numbers\n",
    "sq2_1 = [1, 3, 6, 8, 9] "
   ]
  },
  {
   "cell_type": "markdown",
   "id": "296320f9-3b14-4edc-b5f2-597a094e171d",
   "metadata": {
    "deletable": false,
    "editable": false,
    "nbgrader": {
     "cell_type": "markdown",
     "checksum": "d13eefd0d63d1ff18a00323cef460153",
     "grade": false,
     "grade_id": "cell-4cf801eac92a3b19",
     "locked": true,
     "schema_version": 3,
     "solution": false,
     "task": false
    },
    "tags": []
   },
   "source": [
    "The following cells are used for grading."
   ]
  },
  {
   "cell_type": "code",
   "execution_count": null,
   "id": "c2333a4c-697c-4875-9885-e63284af3f2c",
   "metadata": {
    "deletable": false,
    "editable": false,
    "nbgrader": {
     "cell_type": "code",
     "checksum": "683b1f0671b478fec843b6e7163a15ca",
     "grade": true,
     "grade_id": "cell-ae37e0b98565323f",
     "locked": true,
     "points": 1,
     "schema_version": 3,
     "solution": false,
     "task": false
    },
    "tags": []
   },
   "outputs": [],
   "source": []
  },
  {
   "cell_type": "code",
   "execution_count": null,
   "id": "2d053c6e-6e65-4aec-ae9d-45ddb4cc3f13",
   "metadata": {
    "deletable": false,
    "editable": false,
    "nbgrader": {
     "cell_type": "code",
     "checksum": "ae84c5dba0956a86e0f1a806c86e0af1",
     "grade": true,
     "grade_id": "cell-a72089ecec4f5632",
     "locked": true,
     "points": 1,
     "schema_version": 3,
     "solution": false,
     "task": false
    },
    "tags": []
   },
   "outputs": [],
   "source": []
  },
  {
   "cell_type": "code",
   "execution_count": null,
   "id": "71edfd5d-e17f-4eda-a717-9e44120af0e1",
   "metadata": {
    "deletable": false,
    "editable": false,
    "nbgrader": {
     "cell_type": "code",
     "checksum": "c189d5b475c6cced735a5314611c4f21",
     "grade": true,
     "grade_id": "cell-9e5f8847acea74a7",
     "locked": true,
     "points": 1,
     "schema_version": 3,
     "solution": false,
     "task": false
    },
    "tags": []
   },
   "outputs": [],
   "source": []
  },
  {
   "cell_type": "code",
   "execution_count": null,
   "id": "e55b5584-6503-4fdb-8114-cc405a144043",
   "metadata": {
    "deletable": false,
    "editable": false,
    "nbgrader": {
     "cell_type": "code",
     "checksum": "115d571744e4b698680e42ef44a6a9f1",
     "grade": true,
     "grade_id": "cell-2be5408389da2f22",
     "locked": true,
     "points": 1,
     "schema_version": 3,
     "solution": false,
     "task": false
    },
    "tags": []
   },
   "outputs": [],
   "source": []
  },
  {
   "cell_type": "code",
   "execution_count": null,
   "id": "be5d5f33-0196-4a05-ab15-c14611e24329",
   "metadata": {
    "deletable": false,
    "editable": false,
    "nbgrader": {
     "cell_type": "code",
     "checksum": "bff3925d27a08b1abb8436e8f9a2087a",
     "grade": true,
     "grade_id": "cell-e990636f285b1fc3",
     "locked": true,
     "points": 1,
     "schema_version": 3,
     "solution": false,
     "task": false
    },
    "tags": []
   },
   "outputs": [],
   "source": []
  },
  {
   "cell_type": "markdown",
   "id": "0f701ff9",
   "metadata": {
    "deletable": false,
    "editable": false,
    "nbgrader": {
     "cell_type": "markdown",
     "checksum": "c782d710199b9b152f240bc37bc10069",
     "grade": false,
     "grade_id": "cell-e68f1d1241b5f955",
     "locked": true,
     "schema_version": 3,
     "solution": false,
     "task": false
    }
   },
   "source": [
    "<a id='Q3'></a>\n",
    "<div class=\" alert alert-warning\">\n",
    "    <h3><b>Student Question 2.2</b> Learnable Variance Initial Performance (5 points) </h3> \n",
    "\n",
    "In the case of learned variance, what are the impacts of initialization on the training performance? **Select 4 options.**\n",
    "\n",
    "🔝\t<a href='#TOC'><b>Table of Contents</b></a>\n",
    "</div>"
   ]
  },
  {
   "cell_type": "markdown",
   "id": "80ffb191-91ed-411a-84db-cdba261fabb1",
   "metadata": {
    "deletable": false,
    "editable": false,
    "nbgrader": {
     "cell_type": "markdown",
     "checksum": "c5d5279967303ed7150ab5b034687350",
     "grade": false,
     "grade_id": "cell-0b76bf2aa4735495",
     "locked": true,
     "schema_version": 3,
     "solution": false,
     "task": false
    },
    "tags": []
   },
   "source": [
    "Options:\n",
    "    \n",
    "1. A larger initial value allows for more exploration at the beginning of training. \n",
    "2. A lower initial value tends to favor exploitation over exploration initially. \n",
    "3. The initial variance value has no impact on the final performance of the trained policy. \n",
    "4. If the initial value is too low or too high, training can be slower and may require more data. \n",
    "5. A high initial variance leads to better final performance regardless of the task. \n",
    "6. The impact of the initial variance diminishes as training progresses and the variance is learned. \n",
    "7. The optimal initial variance can be theoretically calculated for any given task. \n",
    "8. If the variance decreases too rapidly, the optimizer might become trapped in a local minimum.\n",
    "9. Changing the initial variance is equivalent to adjusting the learning rate of the optimizer. \n",
    "10. The initial variance affects only the beginning of training.\n"
   ]
  },
  {
   "cell_type": "code",
   "execution_count": 63,
   "id": "1ffebac0-8432-44a4-bfde-7b985e21fec2",
   "metadata": {
    "tags": []
   },
   "outputs": [],
   "source": [
    "# Answer question 2.2 with appropriate option numbers\n",
    "sq2_2 = [1, 2, 4, 6] "
   ]
  },
  {
   "cell_type": "markdown",
   "id": "4be1c98b-8e1a-45a0-988d-d9b386a24f39",
   "metadata": {
    "deletable": false,
    "editable": false,
    "nbgrader": {
     "cell_type": "markdown",
     "checksum": "d825ca8e2bb7a90eac70fa0a503f7cb4",
     "grade": false,
     "grade_id": "cell-76f57b4b47186121",
     "locked": true,
     "schema_version": 3,
     "solution": false,
     "task": false
    },
    "tags": []
   },
   "source": [
    "The following cells are used for grading."
   ]
  },
  {
   "cell_type": "code",
   "execution_count": null,
   "id": "52fc11d0-fd01-463d-8283-5af574797c1d",
   "metadata": {
    "deletable": false,
    "editable": false,
    "nbgrader": {
     "cell_type": "code",
     "checksum": "f38b6c0f01a00ce34763c3d48b24ca73",
     "grade": true,
     "grade_id": "cell-09b718ecfbe32325",
     "locked": true,
     "points": 1,
     "schema_version": 3,
     "solution": false,
     "task": false
    },
    "tags": []
   },
   "outputs": [],
   "source": []
  },
  {
   "cell_type": "code",
   "execution_count": null,
   "id": "2709dfb7-56be-495d-803e-852110f47093",
   "metadata": {
    "deletable": false,
    "editable": false,
    "nbgrader": {
     "cell_type": "code",
     "checksum": "2a50c0ba4f2bf587aa935a79073d06e1",
     "grade": true,
     "grade_id": "cell-763f34edc660252e",
     "locked": true,
     "points": 1,
     "schema_version": 3,
     "solution": false,
     "task": false
    },
    "tags": []
   },
   "outputs": [],
   "source": []
  },
  {
   "cell_type": "code",
   "execution_count": null,
   "id": "bff6107a-023d-461e-968d-1e17449f64d7",
   "metadata": {
    "deletable": false,
    "editable": false,
    "nbgrader": {
     "cell_type": "code",
     "checksum": "32452fdda00d718cc0baaa7fb394651e",
     "grade": true,
     "grade_id": "cell-98c29f8b68e66232",
     "locked": true,
     "points": 1,
     "schema_version": 3,
     "solution": false,
     "task": false
    },
    "tags": []
   },
   "outputs": [],
   "source": []
  },
  {
   "cell_type": "code",
   "execution_count": null,
   "id": "25bbc19b-e340-42d0-a7ee-ab05a2ad92b8",
   "metadata": {
    "deletable": false,
    "editable": false,
    "nbgrader": {
     "cell_type": "code",
     "checksum": "5785645c12767d416dc6ddfed99efa21",
     "grade": true,
     "grade_id": "cell-9c9e78138da8d51d",
     "locked": true,
     "points": 2,
     "schema_version": 3,
     "solution": false,
     "task": false
    },
    "tags": []
   },
   "outputs": [],
   "source": []
  },
  {
   "cell_type": "markdown",
   "id": "e341103b",
   "metadata": {},
   "source": [
    "# 4. PG and experience replay <a id='4.'></a>"
   ]
  },
  {
   "cell_type": "markdown",
   "id": "6112bc95",
   "metadata": {
    "deletable": false,
    "editable": false,
    "nbgrader": {
     "cell_type": "markdown",
     "checksum": "6a68688c7ef8e04344930af37d7c63f2",
     "grade": false,
     "grade_id": "cell-6cb5eeda51f1d4eb",
     "locked": true,
     "schema_version": 3,
     "solution": false,
     "task": false
    },
    "tags": []
   },
   "source": [
    "<a id='Q4'></a>\n",
    "<div class=\" alert alert-warning\">\n",
    "    <h3><b>Student Question 3.</b> Considering an experience replay buffer (15 points) </h3> \n",
    "\n",
    "Why can't the REINFORCE method implemented in this exercise be directly used with experience replay? Which steps of the algorithm would be problematic, and how could these issues potentially be resolved? **Select 4 options.**\n",
    "\n",
    "🔝\t<a href='#TOC'><b>Table of Contents</b></a>\n",
    "</div>"
   ]
  },
  {
   "cell_type": "markdown",
   "id": "ea0ea7f0-69a6-47f8-a46a-bb010300d0e1",
   "metadata": {
    "deletable": false,
    "editable": false,
    "nbgrader": {
     "cell_type": "markdown",
     "checksum": "698fb1e0819100c4f301814e570244df",
     "grade": false,
     "grade_id": "cell-adb8f569068522a3",
     "locked": true,
     "schema_version": 3,
     "solution": false,
     "task": false
    },
    "tags": []
   },
   "source": [
    "Options:\n",
    "\n",
    "1.  REINFORCE is inherently off-policy and can be directly used with experience replay without modifications. \n",
    "2.  REINFORCE is an on-policy method, making it incompatible with off-policy data from a replay buffer. \n",
    "3. The problematic step is in the policy evaluation process, as the stored rewards may not reflect the current policy's performance.\n",
    "4.  The problem can be mitigated by frequently updating the replay buffer with experiences from more recent policies.\n",
    "5.  The expectation of the gradient must be calculated over the current policy in REINFORCE. \n",
    "6.  REINFORCE requires sequential data, which is disrupted by the random sampling in experience replay. \n",
    "7.  Computing the expectation term is difficult with experiences from policies other than the current one. \n",
    "8.  There is no way to use REINFORCE with experience replay under any circumstances.\n",
    "9.  Importance sampling can be used to estimate the gradients and potentially resolve the issue. \n"
   ]
  },
  {
   "cell_type": "code",
   "execution_count": 64,
   "id": "00d2bf15-930e-4689-898b-d6a529174d21",
   "metadata": {
    "tags": []
   },
   "outputs": [],
   "source": [
    "# Answer question 3 with appropriate option numbers\n",
    "sq3 = [2, 3, 5, 9] "
   ]
  },
  {
   "cell_type": "markdown",
   "id": "5c820539-91be-40c3-9721-f3aecf0d7c71",
   "metadata": {
    "deletable": false,
    "editable": false,
    "nbgrader": {
     "cell_type": "markdown",
     "checksum": "3f9f72a20005df02b60eacdf9cd800a1",
     "grade": false,
     "grade_id": "cell-a7b8cbb0c7ee79bf",
     "locked": true,
     "schema_version": 3,
     "solution": false,
     "task": false
    },
    "tags": []
   },
   "source": [
    "The following cells are used for grading."
   ]
  },
  {
   "cell_type": "code",
   "execution_count": null,
   "id": "a395615e-0977-42fc-97b2-0067d9daf743",
   "metadata": {
    "deletable": false,
    "editable": false,
    "nbgrader": {
     "cell_type": "code",
     "checksum": "4413fbf9a4117123de48bdff40d8edb5",
     "grade": true,
     "grade_id": "cell-888f793f50035df5",
     "locked": true,
     "points": 4,
     "schema_version": 3,
     "solution": false,
     "task": false
    },
    "tags": []
   },
   "outputs": [],
   "source": []
  },
  {
   "cell_type": "code",
   "execution_count": null,
   "id": "62f6467d-1b3e-4990-8d6b-5710d8f43cd4",
   "metadata": {
    "deletable": false,
    "editable": false,
    "nbgrader": {
     "cell_type": "code",
     "checksum": "82a27507e21e239487f9dbc71b70113f",
     "grade": true,
     "grade_id": "cell-c1e5b1ebabd15135",
     "locked": true,
     "points": 4,
     "schema_version": 3,
     "solution": false,
     "task": false
    },
    "tags": []
   },
   "outputs": [],
   "source": []
  },
  {
   "cell_type": "code",
   "execution_count": null,
   "id": "7f2e6daf-15bb-44b9-8613-ad1c420f248a",
   "metadata": {
    "deletable": false,
    "editable": false,
    "nbgrader": {
     "cell_type": "code",
     "checksum": "3151594ac1e83351cd877b808e0b3c67",
     "grade": true,
     "grade_id": "cell-a4e0e03a88560f44",
     "locked": true,
     "points": 4,
     "schema_version": 3,
     "solution": false,
     "task": false
    },
    "tags": []
   },
   "outputs": [],
   "source": []
  },
  {
   "cell_type": "code",
   "execution_count": null,
   "id": "ac8de0c6-3e96-477f-a6f2-f14ba043f29d",
   "metadata": {
    "deletable": false,
    "editable": false,
    "nbgrader": {
     "cell_type": "code",
     "checksum": "fb61e4be1d3786c02d82e25aa17d5550",
     "grade": true,
     "grade_id": "cell-89819ab91b6882b0",
     "locked": true,
     "points": 3,
     "schema_version": 3,
     "solution": false,
     "task": false
    },
    "tags": []
   },
   "outputs": [],
   "source": []
  },
  {
   "cell_type": "markdown",
   "id": "a7b67d36",
   "metadata": {},
   "source": [
    "# 5. Real-world control problems <a id='5.'></a>"
   ]
  },
  {
   "cell_type": "markdown",
   "id": "3731e57a",
   "metadata": {
    "deletable": false,
    "editable": false,
    "nbgrader": {
     "cell_type": "markdown",
     "checksum": "b0ba52a4c04c3e5a61b1b086f6e08642",
     "grade": false,
     "grade_id": "cell-4cf495dce20c4b84",
     "locked": true,
     "schema_version": 3,
     "solution": false,
     "task": false
    }
   },
   "source": [
    "<a id='Q5'></a>\n",
    "<div class=\" alert alert-warning\">\n",
    "    <h3><b>Student Question 4.1</b> Considering an unbounded continuous action space part 1 (5 points) </h3> \n",
    "\n",
    "What could go wrong when a model with an **unbounded** continuous action space and a reward function like the one used here (+1 for survival) were to be used with a physical system? **Select 5 options.**\n",
    "\n",
    "\n",
    "🔝\t<a href='#TOC'><b>Table of Contents</b></a>\n",
    "</div>"
   ]
  },
  {
   "cell_type": "markdown",
   "id": "490748e0-4af6-46c7-8c1f-bd49b17b4988",
   "metadata": {
    "deletable": false,
    "editable": false,
    "nbgrader": {
     "cell_type": "markdown",
     "checksum": "55f365842c25299d768ad29135696fc7",
     "grade": false,
     "grade_id": "cell-bd5793f602cb1128",
     "locked": true,
     "schema_version": 3,
     "solution": false,
     "task": false
    },
    "tags": []
   },
   "source": [
    "Options:\n",
    "    \n",
    "1. The agent would always converge to the most energy-efficient actions to ensure long-term survival. \n",
    "2. The agent might take extreme actions that could damage the physical hardware. \n",
    "3. The simple reward function would lead to slow learning but no physical dangers. \n",
    "4.  The model would naturally avoid extreme actions due to the survival instinct encoded in the reward. \n",
    "5.  The model could apply unrealistically large inputs (e.g., voltages) to system components. \n",
    "6.  The main issue would be the computational cost of handling unlimited actions, not physical dangers.\n",
    "7.  The agent might cause damage to the surroundings of the physical system. \n",
    "8.  The unbounded action space could lead to unsafe operating conditions for the system. \n",
    "9.  The model might learn to exploit the reward function by finding unintended shortcuts to survival. \n",
    "10.  Unbounded continuous action spaces guarantee optimal performance in physical systems. \n"
   ]
  },
  {
   "cell_type": "code",
   "execution_count": 65,
   "id": "097190c7-adc7-4ffa-9acb-600981bdfe4a",
   "metadata": {
    "tags": []
   },
   "outputs": [],
   "source": [
    "# Answer question 4.1 with appropriate option numbers\n",
    "sq4_1 = [2, 5, 7, 8, 9] "
   ]
  },
  {
   "cell_type": "markdown",
   "id": "d1502a88-ef13-4b1b-b258-b8f79173b5f2",
   "metadata": {
    "deletable": false,
    "editable": false,
    "nbgrader": {
     "cell_type": "markdown",
     "checksum": "638469d35f910bd89d7923f1d4d54b79",
     "grade": false,
     "grade_id": "cell-b43da332879b800b",
     "locked": true,
     "schema_version": 3,
     "solution": false,
     "task": false
    },
    "tags": []
   },
   "source": [
    "The following cells are used for grading."
   ]
  },
  {
   "cell_type": "code",
   "execution_count": null,
   "id": "db8826d1-9986-46e4-85e5-cf27196e83e3",
   "metadata": {
    "deletable": false,
    "editable": false,
    "nbgrader": {
     "cell_type": "code",
     "checksum": "546aecc1550081b14b1522050105c6bf",
     "grade": true,
     "grade_id": "cell-d5a8ec81fd0d66b1",
     "locked": true,
     "points": 1,
     "schema_version": 3,
     "solution": false,
     "task": false
    },
    "tags": []
   },
   "outputs": [],
   "source": []
  },
  {
   "cell_type": "code",
   "execution_count": null,
   "id": "e479588a-4204-4439-a472-3f42e28a074c",
   "metadata": {
    "deletable": false,
    "editable": false,
    "nbgrader": {
     "cell_type": "code",
     "checksum": "4aa68a722fdde09a0f14b1cc2beca952",
     "grade": true,
     "grade_id": "cell-dd21e01105b76141",
     "locked": true,
     "points": 1,
     "schema_version": 3,
     "solution": false,
     "task": false
    },
    "tags": []
   },
   "outputs": [],
   "source": []
  },
  {
   "cell_type": "code",
   "execution_count": null,
   "id": "d1ddda5c-62d7-4972-8499-b366c33180d9",
   "metadata": {
    "deletable": false,
    "editable": false,
    "nbgrader": {
     "cell_type": "code",
     "checksum": "86c6d11ddefd70ca91ca251f95336b79",
     "grade": true,
     "grade_id": "cell-1fcee280857bec9d",
     "locked": true,
     "points": 1,
     "schema_version": 3,
     "solution": false,
     "task": false
    },
    "tags": []
   },
   "outputs": [],
   "source": []
  },
  {
   "cell_type": "code",
   "execution_count": null,
   "id": "be07e454-ef17-49f7-9bb6-bc8cea0f33b1",
   "metadata": {
    "deletable": false,
    "editable": false,
    "nbgrader": {
     "cell_type": "code",
     "checksum": "4c33a96b244d47f6d295480d7c250f1e",
     "grade": true,
     "grade_id": "cell-8047c00c583ed0b5",
     "locked": true,
     "points": 1,
     "schema_version": 3,
     "solution": false,
     "task": false
    },
    "tags": []
   },
   "outputs": [],
   "source": []
  },
  {
   "cell_type": "code",
   "execution_count": null,
   "id": "11aa6875-27b5-4493-9bbc-947210f76997",
   "metadata": {
    "deletable": false,
    "editable": false,
    "nbgrader": {
     "cell_type": "code",
     "checksum": "3568917e141d50f586181ced3a278c15",
     "grade": true,
     "grade_id": "cell-bd91fc42a27e31c6",
     "locked": true,
     "points": 1,
     "schema_version": 3,
     "solution": false,
     "task": false
    },
    "tags": []
   },
   "outputs": [],
   "source": []
  },
  {
   "cell_type": "markdown",
   "id": "fb45baf8",
   "metadata": {
    "deletable": false,
    "editable": false,
    "nbgrader": {
     "cell_type": "markdown",
     "checksum": "67b760375ed0a6a2b94dfb07ea65d28e",
     "grade": false,
     "grade_id": "cell-7efb2faf02c622ca",
     "locked": true,
     "schema_version": 3,
     "solution": false,
     "task": false
    }
   },
   "source": [
    "<a id='Q6'></a>\n",
    "<div class=\" alert alert-warning\">\n",
    "    <h3><b>Student Question 4.2</b> Considering an unbounded continuous action space part 2 (10 points) </h3> \n",
    "\n",
    "How could the problems appearing in Question 4.1 be mitigated without putting a hard limit on the actions? **Select 3 options.**\n",
    "\n",
    "🔝\t<a href='#TOC'><b>Table of Contents</b></a>\n",
    "</div>"
   ]
  },
  {
   "cell_type": "markdown",
   "id": "0fd8de8b-0921-4e92-99a7-bf716b05d958",
   "metadata": {
    "deletable": false,
    "editable": false,
    "nbgrader": {
     "cell_type": "markdown",
     "checksum": "27fc63402758fa9596a3e25808be10f6",
     "grade": false,
     "grade_id": "cell-aa619f6370139c43",
     "locked": true,
     "schema_version": 3,
     "solution": false,
     "task": false
    },
    "tags": []
   },
   "source": [
    "Options:\n",
    "    \n",
    "1. Only need to add a cost for constraining the state-space of the system\n",
    "2. Implement a reward function with a cost on extreme actions. \n",
    "3. Increase the frequency of agent updates to react more quickly to potential dangers.\n",
    "4.  Penalize actions that lead to unsafe states in the reward function. \n",
    "5.  Train the agent for more episodes to ensure it learns to avoid dangerous actions.\n",
    "6.  Modify the reward function to encourage safer behavior. \n",
    "7.  Increase the exploration rate to ensure the agent finds safe actions more quickly.\n",
    "8. Use a larger neural network to better approximate the optimal policy.\n"
   ]
  },
  {
   "cell_type": "code",
   "execution_count": 66,
   "id": "8c7a8af1-1828-430d-8c93-b066c8c06290",
   "metadata": {
    "tags": []
   },
   "outputs": [],
   "source": [
    "# Answer question 4.2 with appropriate option numbers\n",
    "sq4_2 = [2, 4, 6] "
   ]
  },
  {
   "cell_type": "markdown",
   "id": "7180cb44-e7f8-46c3-a998-82b8ca735e52",
   "metadata": {
    "deletable": false,
    "editable": false,
    "nbgrader": {
     "cell_type": "markdown",
     "checksum": "a6805e89aea5be8794bf596d54fa3a4b",
     "grade": false,
     "grade_id": "cell-3b450e8fc52b5fde",
     "locked": true,
     "schema_version": 3,
     "solution": false,
     "task": false
    },
    "tags": []
   },
   "source": [
    "The following cells are used for grading."
   ]
  },
  {
   "cell_type": "code",
   "execution_count": null,
   "id": "b91768e7-c369-4f8b-8775-05b643ca6a18",
   "metadata": {
    "deletable": false,
    "editable": false,
    "nbgrader": {
     "cell_type": "code",
     "checksum": "3652e018ac01e53271b7629acbc23b13",
     "grade": true,
     "grade_id": "cell-f9c4479f99666417",
     "locked": true,
     "points": 3,
     "schema_version": 3,
     "solution": false,
     "task": false
    },
    "tags": []
   },
   "outputs": [],
   "source": []
  },
  {
   "cell_type": "code",
   "execution_count": null,
   "id": "00ebbea3-f23d-401e-8aeb-66509850c935",
   "metadata": {
    "deletable": false,
    "editable": false,
    "nbgrader": {
     "cell_type": "code",
     "checksum": "2e999e719e7e4b1c084cb7824d3d757a",
     "grade": true,
     "grade_id": "cell-25d8dcd46c0a0aad",
     "locked": true,
     "points": 3,
     "schema_version": 3,
     "solution": false,
     "task": false
    },
    "tags": []
   },
   "outputs": [],
   "source": []
  },
  {
   "cell_type": "code",
   "execution_count": null,
   "id": "4c207fd7-f8ad-4faf-a3e6-bae40bce0ae0",
   "metadata": {
    "deletable": false,
    "editable": false,
    "nbgrader": {
     "cell_type": "code",
     "checksum": "d8f37ba4a5b559d2961d11bccb39f025",
     "grade": true,
     "grade_id": "cell-ad280a1aceb1fe48",
     "locked": true,
     "points": 4,
     "schema_version": 3,
     "solution": false,
     "task": false
    },
    "tags": []
   },
   "outputs": [],
   "source": []
  },
  {
   "cell_type": "markdown",
   "id": "0eacb159",
   "metadata": {},
   "source": [
    "# 6. Discrete action spaces <a id='6.'></a>"
   ]
  },
  {
   "cell_type": "markdown",
   "id": "078ceb81",
   "metadata": {
    "deletable": false,
    "editable": false,
    "nbgrader": {
     "cell_type": "markdown",
     "checksum": "66dcd9987ec7c4e5ebda97a81438d820",
     "grade": false,
     "grade_id": "cell-ef7074d497b36665",
     "locked": true,
     "schema_version": 3,
     "solution": false,
     "task": false
    },
    "tags": []
   },
   "source": [
    "<a id='Q7'></a>\n",
    "<div class=\" alert alert-warning\">\n",
    "    <h3><b>Student Question 5.</b> Considering discrete action spaces (10 points) </h3> \n",
    "\n",
    "Can policy gradient methods be used with discrete action spaces? If so, how would they be implemented? **Select 5 options.**\n",
    "    \n",
    "🔝\t<a href='#TOC'><b>Table of Contents</b></a>\n",
    "</div>"
   ]
  },
  {
   "cell_type": "markdown",
   "id": "c9d9c3ec-d223-452d-8a47-4f8073e3066a",
   "metadata": {
    "deletable": false,
    "editable": false,
    "nbgrader": {
     "cell_type": "markdown",
     "checksum": "26f3c4738d927b2de66b599a486ba532",
     "grade": false,
     "grade_id": "cell-7f1aac4a2b0a31e4",
     "locked": true,
     "schema_version": 3,
     "solution": false,
     "task": false
    },
    "tags": []
   },
   "source": [
    "Options:\n",
    "    \n",
    "1. Yes, policy gradient methods can be used with discrete action spaces. \n",
    "2. The gradient can still be computed and used to update the policy in discrete action spaces. \n",
    "3. Policy gradient methods are fundamentally incompatible with discrete action spaces. \n",
    "4. In discrete action spaces, the policy network would output probabilities for each action instead of means and variances. \n",
    "5. No changes to the algorithm are needed; it works identically for continuous and discrete spaces. \n",
    "6. A categorical (softmax) distribution is typically used for the policy in discrete action spaces. \n",
    "7. In discrete spaces, the policy gradient is computed using the log-probability of the chosen action. \n",
    "8. Discrete action spaces require a completely different class of algorithms and cannot use policy gradients. \n",
    "9. The main challenge is in defining a continuous approximation of the discrete action space. \n"
   ]
  },
  {
   "cell_type": "code",
   "execution_count": 67,
   "id": "97cd5abb-dd0a-43ea-b413-d2ce26fdab5d",
   "metadata": {
    "tags": []
   },
   "outputs": [],
   "source": [
    "# Answer question 5 with appropriate option numbers\n",
    "sq5 = [1, 2, 4, 6, 7] "
   ]
  },
  {
   "cell_type": "markdown",
   "id": "a457fc65-a43e-4bc2-ac20-6f5304cf9dfa",
   "metadata": {
    "deletable": false,
    "editable": false,
    "nbgrader": {
     "cell_type": "markdown",
     "checksum": "dce09cff7bd5d1047689ababaef90649",
     "grade": false,
     "grade_id": "cell-93982c40108e75aa",
     "locked": true,
     "schema_version": 3,
     "solution": false,
     "task": false
    },
    "tags": []
   },
   "source": [
    "The following cells are used for grading."
   ]
  },
  {
   "cell_type": "code",
   "execution_count": null,
   "id": "eae4646c-26ee-456b-a791-ffdaf1dea484",
   "metadata": {
    "deletable": false,
    "editable": false,
    "nbgrader": {
     "cell_type": "code",
     "checksum": "ae1a9141639c916b8df9810c7041bb4b",
     "grade": true,
     "grade_id": "cell-455629eb8ff429fc",
     "locked": true,
     "points": 2,
     "schema_version": 3,
     "solution": false,
     "task": false
    },
    "tags": []
   },
   "outputs": [],
   "source": []
  },
  {
   "cell_type": "code",
   "execution_count": null,
   "id": "c15dc545-4698-489b-a49c-3413cf70a548",
   "metadata": {
    "deletable": false,
    "editable": false,
    "nbgrader": {
     "cell_type": "code",
     "checksum": "b21d5d93a5b584d204404eb34b889116",
     "grade": true,
     "grade_id": "cell-ccd64746d61c21fe",
     "locked": true,
     "points": 2,
     "schema_version": 3,
     "solution": false,
     "task": false
    },
    "tags": []
   },
   "outputs": [],
   "source": []
  },
  {
   "cell_type": "code",
   "execution_count": null,
   "id": "1aa9a214-e0c3-42c8-bba9-28898f3a9758",
   "metadata": {
    "deletable": false,
    "editable": false,
    "nbgrader": {
     "cell_type": "code",
     "checksum": "4b411904077d2218347dba63d31cc773",
     "grade": true,
     "grade_id": "cell-3b1379631af22fbe",
     "locked": true,
     "points": 2,
     "schema_version": 3,
     "solution": false,
     "task": false
    },
    "tags": []
   },
   "outputs": [],
   "source": []
  },
  {
   "cell_type": "code",
   "execution_count": null,
   "id": "00222dd3-06b1-436c-93f4-f6b60147bb2a",
   "metadata": {
    "deletable": false,
    "editable": false,
    "nbgrader": {
     "cell_type": "code",
     "checksum": "86b3c8b0c452ce715cc376a7b4172974",
     "grade": true,
     "grade_id": "cell-a58c487d6d744df5",
     "locked": true,
     "points": 2,
     "schema_version": 3,
     "solution": false,
     "task": false
    },
    "tags": []
   },
   "outputs": [],
   "source": []
  },
  {
   "cell_type": "code",
   "execution_count": null,
   "id": "82c97890-ddd1-4824-bb2b-2e5be84291f4",
   "metadata": {
    "deletable": false,
    "editable": false,
    "nbgrader": {
     "cell_type": "code",
     "checksum": "8ed761b8c0d3a85b2b576a6e3ca8296a",
     "grade": true,
     "grade_id": "cell-6f7c8a46592ca476",
     "locked": true,
     "points": 2,
     "schema_version": 3,
     "solution": false,
     "task": false
    },
    "tags": []
   },
   "outputs": [],
   "source": []
  },
  {
   "cell_type": "markdown",
   "id": "4c50da4d",
   "metadata": {
    "deletable": false,
    "editable": false,
    "nbgrader": {
     "cell_type": "markdown",
     "checksum": "9965fc6e7758f8a420963a52b936f443",
     "grade": false,
     "grade_id": "cell-8d4be4c9092a091c",
     "locked": true,
     "schema_version": 3,
     "solution": false,
     "task": false
    },
    "tags": []
   },
   "source": [
    "# 7. Submitting <a id='7.'></a>\n",
    "\n",
    "Ensure all tasks and questions in `ex5.ipynb` are thoroughly answered and that all the relevant plots are displayed correctly (there is no need to save the plots in the results folder). \n",
    "\n",
    "The training performance plots are as follows:\n",
    "\n",
    "- **Task 1a, REINFORCE without baseline**: Ensure the implementation is correct and the plot is similar to the expected plot shown in the task description. Refer to [Figure 1a](#figure-1a).\n",
    "  \n",
    "- **Task 1b, REINFORCE with constant baseline b = 20**: Properly implement the algorithm with a constant baseline and plot the training performance. Refer to [Figure 1b](#figure-1b).\n",
    "  \n",
    "- **Task 1c, REINFORCE with discounted rewards normalized to zero mean and unit variance**: Implement and plot the performance ensuring the rewards are normalized correctly. Refer to [Figure 1c](#figure-1c).\n",
    "  \n",
    "- **Task 2, REINFORCE with learned variance**: Ensure that the variance is being learned and adjusted during training, and plot the training performance.\n",
    "\n",
    "No model files need to be saved for this assignment.\n",
    "\n",
    "🔝 [Back to Table of Contents](#TOC)\n"
   ]
  },
  {
   "cell_type": "code",
   "execution_count": null,
   "id": "ed2a8428",
   "metadata": {
    "deletable": false,
    "editable": false,
    "nbgrader": {
     "cell_type": "code",
     "checksum": "0f2a35dca22d4e6a91f7259550809999",
     "grade": true,
     "grade_id": "cell-26f0fb23212021f6",
     "locked": true,
     "points": 0,
     "schema_version": 3,
     "solution": false,
     "task": false
    }
   },
   "outputs": [],
   "source": [
    "# Make sure that skip training is set to True before submission\n",
    "assert skip_training == True"
   ]
  },
  {
   "cell_type": "markdown",
   "id": "ad098b5f",
   "metadata": {},
   "source": [
    "## 7.1 Feedback <a id='7.1'></a>\n",
    "\n",
    "In order to help the staff of the course as well as the forthcoming students, it would be great if you could answer to the following questions in your submission:"
   ]
  },
  {
   "cell_type": "markdown",
   "id": "5ed5c6d1-c83a-4d62-9b4f-5ed33f0f6aea",
   "metadata": {},
   "source": [
    "1) How much time did you spend solving this exercise? (change the ```hrs``` variable below to a floating point number representing the number of hours taken e.g. 5.43)\n",
    "\n"
   ]
  },
  {
   "cell_type": "code",
   "execution_count": null,
   "id": "216bc97b-e49b-4c18-8c41-1c45711b90cd",
   "metadata": {},
   "outputs": [],
   "source": [
    "hrs = 6"
   ]
  },
  {
   "cell_type": "markdown",
   "id": "0d26d7a7-acc4-48db-84a8-e366ea68a709",
   "metadata": {},
   "source": [
    "2) Difficulty of each task/question from 1-5 (int or float)"
   ]
  },
  {
   "cell_type": "code",
   "execution_count": null,
   "id": "5eeb90fa-9f33-49c1-aca3-55f9a9a00d6a",
   "metadata": {},
   "outputs": [],
   "source": [
    "T1a = 4   # Task 1a. basic REINFORCE without baseline (15 points)\n",
    "T1b = 4   # Task 1b. REINFORCE with a constant baseline b = 20 (5 points)\n",
    "T1c = 5   # Task 1c. REINFORCE with discounted rewards normalized to zero mean and unit variance (5 points)\n",
    "Q1_1 = 4  # Question 1.1 A good baseline (15 points)\n",
    "T2 = 4    # Task 2. Making Variance a Learnable Parameter (10 points)\n",
    "Q2_1 = 3  # Question 2.1 Constant vs Learnable Variance (5 points)\n",
    "Q2_2 = 3  # Question 2.2 Learnable Variance Initial Performance (5 points)\n",
    "Q3 = 5    # Question 3. Considering a experience reply buffer (15 points)\n",
    "Q4_1 = 3  # Question 4.1 Considering an unbounded continuous action space part 1 (5 points)\n",
    "Q4_2 = 4  # Question 4.2 Considering an unbounded continuous action space part 2 (10 points)\n",
    "Q5 = 4    # Question 5. Considering discrete action spaces (10 points)"
   ]
  },
  {
   "cell_type": "markdown",
   "id": "fe9387c6-00de-4414-86eb-801485a59ec7",
   "metadata": {},
   "source": [
    "3) How well did you understand the content of the task/question from 1-5? (int or float)"
   ]
  },
  {
   "cell_type": "code",
   "execution_count": null,
   "id": "d5a53120-fcf2-4dbf-b6ad-87e5aff7dee0",
   "metadata": {},
   "outputs": [],
   "source": [
    "T1a = 4   # Task 1a. basic REINFORCE without baseline (15 points)\n",
    "T1b = 4   # Task 1b. REINFORCE with a constant baseline b = 20 (5 points)\n",
    "T1c = 1   # Task 1c. REINFORCE with discounted rewards normalized to zero mean and unit variance (5 points)\n",
    "Q1_1 = 3  # Question 1.1 A good baseline (15 points)\n",
    "T2 = 4    # Task 2. Making Variance a Learnable Parameter (10 points)\n",
    "Q2_1 = None  # Question 2.1 Constant vs Learnable Variance (5 points)\n",
    "Q2_2 = None  # Question 2.2 Learnable Variance Initial Performance (5 points)\n",
    "Q3 = None    # Question 3. Considering a experience reply buffer (15 points)\n",
    "Q4_1 = None  # Question 4.1 Considering an unbounded continuous action space part 1 (5 points)\n",
    "Q4_2 = None  # Question 4.2 Considering an unbounded continuous action space part 2 (10 points)\n",
    "Q5 = None    # Question 5. Considering discrete action spaces (10 points)"
   ]
  },
  {
   "cell_type": "markdown",
   "id": "7595057e-8666-486a-bd8c-788b4de828a7",
   "metadata": {},
   "source": [
    "4) General feedback. Consider questions like:\n",
    "\n",
    "    - Did the content of the lecture relate well with the assignment?\n",
    "    - To what extent did you find the material to be potentially useful for your research and studies?\n",
    "    \n",
    "And other feedback you think is worth including. Type in the box below"
   ]
  },
  {
   "cell_type": "code",
   "execution_count": null,
   "id": "6e53a93d-a13e-4ced-bf49-2c5b406b8653",
   "metadata": {},
   "outputs": [],
   "source": [
    "DOUBLE CLICK HERE TO EDIT, CLEAR THIS TEXT AND ANSWER HERE"
   ]
  },
  {
   "cell_type": "markdown",
   "id": "e3f5f8d4",
   "metadata": {
    "tags": []
   },
   "source": [
    "\n",
    "# References <a id='8.'></a>"
   ]
  }
 ],
 "metadata": {
  "kernelspec": {
   "display_name": "Python 3",
   "language": "python",
   "name": "python3"
  },
  "language_info": {
   "codemirror_mode": {
    "name": "ipython",
    "version": 3
   },
   "file_extension": ".py",
   "mimetype": "text/x-python",
   "name": "python",
   "nbconvert_exporter": "python",
   "pygments_lexer": "ipython3",
   "version": "3.10.12"
  }
 },
 "nbformat": 4,
 "nbformat_minor": 5
}
