{
 "cells": [
  {
   "cell_type": "markdown",
   "id": "53274fb5",
   "metadata": {
    "deletable": false,
    "editable": false,
    "nbgrader": {
     "cell_type": "markdown",
     "checksum": "7554c3b58a5e75c64308c40a838d6b33",
     "grade": false,
     "grade_id": "cell-36af2f1e65d7b244",
     "locked": true,
     "schema_version": 3,
     "solution": false,
     "task": false
    }
   },
   "source": [
    "\n",
    "<div class=\"alert alert-block alert-info\">\n",
    "   <h2 align=\"center\"> <center><b> Reinforcement Learning Assignment 1 - The Reinforcement Learning Framework</b></center></h2>\n",
    "\n",
    "<br>\n",
    "<center><font size=\"3\">This notebook is a part of teaching material for ELEC-E8125</font></center>\n",
    "<center><font size=\"3\">Sep 4, 2024 - Nov 30, 2024</font></center>\n",
    "<center><font size=\"3\">Aalto University</font></center>\n",
    "</div>\n",
    "\n",
    "\n",
    "<a id='TOC'></a>\n",
    "\n",
    "<div class=\"alert alert-block alert-success\">\n",
    "    \n",
    "# Table of contents\n",
    "* <a href='#1.'> 1. Introduction </a>\n",
    "* <a href='#1.1'> 1.1 Learning Objectives </a>\n",
    "* <a href='#1.2'> 1.2 Code Structure & Files </a>\n",
    "* <a href='#2.'> 2. Cartpole</a>\n",
    "* <a href='#3.'> 3. Reacher</a>\n",
    "* <a href='#4.'> 4. Submitting </a>\n",
    "* <a href='#4.1'> 4.1 Feedback </a>\n",
    "* <a href='#5.'> References</a>\n",
    "\n",
    "<a href='#T1'><b>Student Task 1.</b> Training a Model for Simple Cartpole Environment (10 points)</a>\\\n",
    "<a href='#Q1'><b>Student Question 1.1</b> Learning (10 points)</a>\\\n",
    "<a href='#T2'><b>Student Task 2.</b> Investigating Training Performance (10 points) </a>\\\n",
    "<a href='#Q2'><b>Student Question 2.1</b> Analysis of Training Performance (15 points) </a>\\\n",
    "<a href='#Q3'><b>Student Question 2.2</b> Stochasticity (10 points) </a>\\\n",
    "<a href='#T3'><b>Student Task 3.</b> Reward Functions (20 points) </a>\\\n",
    "<a href='#T4'><b>Student Task 4.</b> Visualizing Behavior (10 points) </a>\\\n",
    "<a href='#Q4'><b>Student Question 4.1</b> Achieved Peformance (5 points)\\\n",
    "<a href='#Q5'><b>Student Question 4.2</b> Analysis of Behaviour (10 points)</a>\n",
    "    \n",
    "**Total Points:** 100\n",
    "\n",
    "**Estimated runtime of all the cells:** 30 minutes "
   ]
  },
  {
   "cell_type": "markdown",
   "id": "44ab28e9",
   "metadata": {
    "deletable": false,
    "editable": false,
    "nbgrader": {
     "cell_type": "markdown",
     "checksum": "ecb4bed28908246a16850b56315b8e8e",
     "grade": false,
     "grade_id": "cell-afbabf910b8ed9fd",
     "locked": true,
     "schema_version": 3,
     "solution": false,
     "task": false
    },
    "tags": []
   },
   "source": [
    "# 1. Introduction <a id='1.'></a>\n",
    "In this exercise we will take a first look at a reinforcement learning environment, its components and modify the reward function of a simple agent.\n",
    "\n",
    "In this notebook two environments are used: Cartpole and Reacher. The cartpole environment is taken from [OpenAI's Gym library](https://www.gymlibrary.dev/). The reacher environment is custom made (and defined in ```reacher.py```) but utilizes the Gym API.\n",
    "\n",
    "## 1.1 Learning Objectives: <a id='1.1'></a>\n",
    "- To become familiar with assignment structure and the agent-environment relationshp\n",
    "- To understand the effects of stochasticity\n",
    "- To understand and explore the effects of task definition\n",
    "\n",
    "## 1.2 Code Structure & Files <a id='1.2'></a>\n",
    "\n",
    "The ```train.py``` file instantiates the environment and the RL agent that acts in it. The ```agent.py``` file contains the implementation of a simple reinforcement learning agent; for the sake of this exercise, you can assume it to be a black box (you don’t need to understand how it works, although you are encouraged to study it in more detail). You don’t have to edit any other file other than ```ex1.ipynb``` to complete this exercise.\n",
    "```\n",
    "├───cfg                  # Config files for environments e.g. define the maximum number of steps in an episode.\n",
    "├───imgs                 # Images used in notebook\n",
    "├───results \n",
    "│   ├───logging          # Contains logged data\n",
    "│   ├───model            # Contains the policies learned\n",
    "│   └───video            # Contains videos for each environment\n",
    "│       └───CartPole-v0\n",
    "│       │  └───test      # Videos saved during testing\n",
    "│       │  └───train     # Videos saved during training\n",
    "│       └───SpinningReacher-v0\n",
    "│           └───test\n",
    "│           └───train\n",
    "│   ex1.ipynb            # Main assignment file containing tasks <---------\n",
    "│   feedback.ipynb       # Please give feedback in here\n",
    "│   README.ipynb         # This file\n",
    "│   agent.py             # Contains functions that govern the policy\n",
    "│   reacher.py           # Defines the reacher environment\n",
    "│   train.py             # Contains training and testing functions\n",
    "│   utils.py             # Contains useful functions \n",
    "```"
   ]
  },
  {
   "cell_type": "markdown",
   "id": "100c1cfb",
   "metadata": {},
   "source": [
    "Please consult ```README.md``` for more details the assignments."
   ]
  },
  {
   "cell_type": "markdown",
   "id": "28556beb",
   "metadata": {},
   "source": [
    "## Warnings:\n",
    "\n",
    "- Don’t copy and paste cells within a notebook. This will mess up the tracking metadata and prevent autograding from working.\n",
    "- Only add new cells using the '+' button in the upper toolbar and do not split cells.\n",
    "- Be cautious about things such as copying the whole notebook to Colab to work on it. This has sometimes resulted in removing all notebook metadata, making autograding impossible."
   ]
  },
  {
   "cell_type": "code",
   "execution_count": 41,
   "id": "f097ab74",
   "metadata": {
    "tags": []
   },
   "outputs": [],
   "source": [
    "skip_training = True  # Set this flag to True before validation and submission"
   ]
  },
  {
   "cell_type": "code",
   "execution_count": null,
   "id": "cc004e57",
   "metadata": {
    "deletable": false,
    "editable": false,
    "nbgrader": {
     "cell_type": "code",
     "checksum": "ecf78d754d0b1f6eb047222f9e14a0e4",
     "grade": true,
     "grade_id": "cell-8fb587d5abdec975",
     "locked": true,
     "points": 0,
     "schema_version": 3,
     "solution": false,
     "task": false
    }
   },
   "outputs": [],
   "source": []
  },
  {
   "cell_type": "code",
   "execution_count": 2,
   "id": "c8cb8a88",
   "metadata": {
    "tags": []
   },
   "outputs": [],
   "source": [
    "from pathlib import Path # to find directory\n",
    "work_dir = Path().cwd()/'results'\n",
    "import os\n",
    "\n",
    "import train as t # for training\n",
    "import utils as u # helper functions\n",
    "\n",
    "import numpy as np # The numpy library can be used for math functions\n",
    "import torch # Used to manage policy and learning\n",
    "from IPython.display import Video, display, HTML # to display videos"
   ]
  },
  {
   "cell_type": "markdown",
   "id": "f5e36a57",
   "metadata": {
    "deletable": false,
    "editable": false,
    "nbgrader": {
     "cell_type": "markdown",
     "checksum": "6468fd86adbbe289e7e8853d2b1cdf8b",
     "grade": false,
     "grade_id": "cell-56c1faa5635120ab",
     "locked": true,
     "schema_version": 3,
     "solution": false,
     "task": false
    }
   },
   "source": [
    "# 2. Cartpole <a id='2.'></a>\n",
    "\n",
    "The Cartpole environment consists of a cart and a pole mounted on top of it, as shown in Figure 1. The cart can move either to the left or to the right. The goal is to balance the pole in a vertical position in order to prevent it from falling down. The cart should also stay within limited distance from the center (trying to move outside screen boundaries is considered a failure).\n",
    "\n",
    "<figure>\n",
    "<img src=\"imgs/cartpole.png\" width=\"400px\">\n",
    "<figcaption style=\"text-align: center\"> Figure 1: The Cartpole environment  </figcaption>\n",
    "</figure>\n",
    "\n",
    "The state and the observation are four element vectors:\n",
    "\n",
    "$$\n",
    "o=s=\\left(\\begin{array}{c}\n",
    "x \\\\\n",
    "\\dot{x} \\\\\n",
    "\\theta \\\\\n",
    "\\dot{\\theta}\n",
    "\\end{array}\\right) \\text {, }\n",
    "$$\n",
    "\n",
    "where $x$ is the position of the cart, $\\dot{x}$ is its velocity, $\\theta$ is the angle of the pole w.r.t. the vertical axis, and $\\dot{\\theta}$ is the angular velocity of the pole.\n",
    "\n",
    "In the standard formulation, a reward of 1 is given for every timestep the pole remains balanced. Upon failing (the pole falls) or completing the task, an episode is finished.\n",
    "\n",
    "The training script will record videos of the agent’s learning progress during training, and the recorded videos are saved to ```results/video/CartPole-v0/train```. By default, the training information is saved to ```results/logging/CartPole-v0_{seed}.csv```. When the training is finished, the models are saved to ```results/model/Cartpole-v0_params.pt```. Videos of the agent’s behaviour during testing are saved to ```results/video/CartPole-v0/test```."
   ]
  },
  {
   "cell_type": "markdown",
   "id": "6d5bb7ba",
   "metadata": {
    "deletable": false,
    "editable": false,
    "nbgrader": {
     "cell_type": "markdown",
     "checksum": "a1c02d0e9b975ce9813ef40bd06998d0",
     "grade": false,
     "grade_id": "cell-4902974772926f28",
     "locked": true,
     "schema_version": 3,
     "solution": false,
     "task": false
    },
    "tags": []
   },
   "source": [
    "<a id='T1'></a>\n",
    "<div class=\" alert alert-warning\">\n",
    "    <h3><b>Student Task 1.</b> Training a Model for Simple Cartpole Environment (10 points) </h3> \n",
    "\n",
    "This task requires you to train a model for the cartpole environment with 100 timesteps per episode. Then test the model for 500 timesteps and report average reward. To do this, you can simply run the code in the cells below. \n",
    "\n",
    "To see a full list of options that can be passed through ```cfg_args``` consult the configuation file found in ```cfg/```.\n",
    "\n",
    "- **1st** Run training over 100 steps per episode by using ```t.train``` function. See the cell below. The training will run for 500 episodes automatically.\n",
    "- **2nd:** Export the training plot ```episodesep_reward``` from logged data (.csv format).\n",
    "- **3rd:** Run testing over 500 steps by using ```t.test``` function. See the cell below. See the cell below. Notice ```max_episode_steps``` parameter. \n",
    "- **4th:** **Manually** report the average reward after the cells have completed execution.\n",
    "    \n",
    "🔝\t<a href='#TOC'><b>Table of Contents</b></a>\n",
    "</div>\n"
   ]
  },
  {
   "cell_type": "code",
   "execution_count": 3,
   "id": "e0481176",
   "metadata": {
    "tags": []
   },
   "outputs": [
    {
     "name": "stdout",
     "output_type": "stream",
     "text": [
      "Numpy/Torch/Random Seed:  1\n",
      "Configuration Settings: {'exp_name': 'ex1', 'seed': 1, 'env_name': 'CartPole-v1', 'model_name': 'CartPole-v1', 'max_episode_steps': 100, 'train_episodes': 500, 'batch_size': 64, 'min_update_samples': 2000, 'testing': False, 'model_path': 'default', 'save_video': True, 'save_model': True, 'save_logging': True, 'silent': False, 'use_wandb': True, 'run_suffix': 0}\n",
      "Training device: cpu\n",
      "Observation space dimensions: 4\n",
      "Action space dimensions: 2\n",
      "\n",
      "Episode 0 finished. Total reward: 14.0 (14 timesteps)\n",
      "Episode 5 finished. Total reward: 38.0 (38 timesteps)\n",
      "Episode 10 finished. Total reward: 14.0 (14 timesteps)\n",
      "Episode 15 finished. Total reward: 83.0 (83 timesteps)\n",
      "Episode 20 finished. Total reward: 12.0 (12 timesteps)\n",
      "Episode 25 finished. Total reward: 18.0 (18 timesteps)\n",
      "Episode 30 finished. Total reward: 36.0 (36 timesteps)\n",
      "Episode 35 finished. Total reward: 16.0 (16 timesteps)\n",
      "Episode 40 finished. Total reward: 29.0 (29 timesteps)\n",
      "Episode 45 finished. Total reward: 15.0 (15 timesteps)\n",
      "Episode 50 finished. Total reward: 15.0 (15 timesteps)\n",
      "Episode 55 finished. Total reward: 27.0 (27 timesteps)\n",
      "Episode 60 finished. Total reward: 33.0 (33 timesteps)\n",
      "Episode 65 finished. Total reward: 11.0 (11 timesteps)\n",
      "Episode 70 finished. Total reward: 27.0 (27 timesteps)\n",
      "Episode 75 finished. Total reward: 13.0 (13 timesteps)\n",
      "Episode 80 finished. Total reward: 9.0 (9 timesteps)\n",
      "Episode 85 finished. Total reward: 19.0 (19 timesteps)\n",
      "Updating the policy...\n",
      "Updating finished!\n",
      "Episode 90 finished. Total reward: 58.0 (58 timesteps)\n",
      "Episode 95 finished. Total reward: 13.0 (13 timesteps)\n",
      "Episode 100 finished. Total reward: 17.0 (17 timesteps)\n",
      "Episode 105 finished. Total reward: 17.0 (17 timesteps)\n",
      "Episode 110 finished. Total reward: 27.0 (27 timesteps)\n",
      "Episode 115 finished. Total reward: 9.0 (9 timesteps)\n",
      "Episode 120 finished. Total reward: 17.0 (17 timesteps)\n",
      "Episode 125 finished. Total reward: 13.0 (13 timesteps)\n",
      "Episode 130 finished. Total reward: 26.0 (26 timesteps)\n",
      "Episode 135 finished. Total reward: 9.0 (9 timesteps)\n",
      "Episode 140 finished. Total reward: 89.0 (89 timesteps)\n",
      "Episode 145 finished. Total reward: 14.0 (14 timesteps)\n",
      "Episode 150 finished. Total reward: 30.0 (30 timesteps)\n",
      "Episode 155 finished. Total reward: 27.0 (27 timesteps)\n",
      "Episode 160 finished. Total reward: 23.0 (23 timesteps)\n",
      "Updating the policy...\n",
      "Updating finished!\n",
      "Episode 165 finished. Total reward: 24.0 (24 timesteps)\n",
      "Episode 170 finished. Total reward: 28.0 (28 timesteps)\n",
      "Episode 175 finished. Total reward: 32.0 (32 timesteps)\n",
      "Episode 180 finished. Total reward: 27.0 (27 timesteps)\n",
      "Episode 185 finished. Total reward: 65.0 (65 timesteps)\n",
      "Episode 190 finished. Total reward: 99.0 (99 timesteps)\n",
      "Episode 195 finished. Total reward: 30.0 (30 timesteps)\n",
      "Episode 200 finished. Total reward: 25.0 (25 timesteps)\n",
      "Episode 205 finished. Total reward: 29.0 (29 timesteps)\n",
      "Episode 210 finished. Total reward: 27.0 (27 timesteps)\n",
      "Updating the policy...\n",
      "Updating finished!\n",
      "Episode 215 finished. Total reward: 100.0 (100 timesteps)\n",
      "Episode 220 finished. Total reward: 100.0 (100 timesteps)\n",
      "Episode 225 finished. Total reward: 59.0 (59 timesteps)\n",
      "Episode 230 finished. Total reward: 74.0 (74 timesteps)\n",
      "Episode 235 finished. Total reward: 49.0 (49 timesteps)\n",
      "Episode 240 finished. Total reward: 96.0 (96 timesteps)\n",
      "Episode 245 finished. Total reward: 73.0 (73 timesteps)\n",
      "Updating the policy...\n",
      "Updating finished!\n",
      "Episode 250 finished. Total reward: 100.0 (100 timesteps)\n",
      "Episode 255 finished. Total reward: 100.0 (100 timesteps)\n",
      "Episode 260 finished. Total reward: 52.0 (52 timesteps)\n",
      "Episode 265 finished. Total reward: 100.0 (100 timesteps)\n",
      "Episode 270 finished. Total reward: 18.0 (18 timesteps)\n",
      "Updating the policy...\n",
      "Updating finished!\n",
      "Episode 275 finished. Total reward: 100.0 (100 timesteps)\n",
      "Episode 280 finished. Total reward: 92.0 (92 timesteps)\n",
      "Episode 285 finished. Total reward: 100.0 (100 timesteps)\n",
      "Episode 290 finished. Total reward: 100.0 (100 timesteps)\n",
      "Updating the policy...\n",
      "Updating finished!\n",
      "Episode 295 finished. Total reward: 100.0 (100 timesteps)\n",
      "Episode 300 finished. Total reward: 100.0 (100 timesteps)\n",
      "Episode 305 finished. Total reward: 100.0 (100 timesteps)\n",
      "Episode 310 finished. Total reward: 100.0 (100 timesteps)\n",
      "Updating the policy...\n",
      "Updating finished!\n",
      "Episode 315 finished. Total reward: 97.0 (97 timesteps)\n",
      "Episode 320 finished. Total reward: 100.0 (100 timesteps)\n",
      "Episode 325 finished. Total reward: 100.0 (100 timesteps)\n",
      "Episode 330 finished. Total reward: 100.0 (100 timesteps)\n",
      "Episode 335 finished. Total reward: 100.0 (100 timesteps)\n",
      "Updating the policy...\n",
      "Updating finished!\n",
      "Episode 340 finished. Total reward: 100.0 (100 timesteps)\n",
      "Episode 345 finished. Total reward: 100.0 (100 timesteps)\n",
      "Episode 350 finished. Total reward: 95.0 (95 timesteps)\n",
      "Episode 355 finished. Total reward: 100.0 (100 timesteps)\n",
      "Updating the policy...\n",
      "Updating finished!\n",
      "Episode 360 finished. Total reward: 100.0 (100 timesteps)\n",
      "Episode 365 finished. Total reward: 100.0 (100 timesteps)\n",
      "Episode 370 finished. Total reward: 100.0 (100 timesteps)\n",
      "Episode 375 finished. Total reward: 100.0 (100 timesteps)\n",
      "Updating the policy...\n",
      "Updating finished!\n",
      "Episode 380 finished. Total reward: 100.0 (100 timesteps)\n",
      "Episode 385 finished. Total reward: 100.0 (100 timesteps)\n",
      "Episode 390 finished. Total reward: 100.0 (100 timesteps)\n",
      "Episode 395 finished. Total reward: 100.0 (100 timesteps)\n",
      "Updating the policy...\n",
      "Updating finished!\n",
      "Episode 400 finished. Total reward: 85.0 (85 timesteps)\n",
      "Episode 405 finished. Total reward: 100.0 (100 timesteps)\n",
      "Episode 410 finished. Total reward: 100.0 (100 timesteps)\n",
      "Episode 415 finished. Total reward: 100.0 (100 timesteps)\n",
      "Episode 420 finished. Total reward: 100.0 (100 timesteps)\n",
      "Updating the policy...\n",
      "Updating finished!\n",
      "Episode 425 finished. Total reward: 100.0 (100 timesteps)\n",
      "Episode 430 finished. Total reward: 100.0 (100 timesteps)\n",
      "Episode 435 finished. Total reward: 100.0 (100 timesteps)\n",
      "Episode 440 finished. Total reward: 100.0 (100 timesteps)\n",
      "Updating the policy...\n",
      "Updating finished!\n",
      "Episode 445 finished. Total reward: 100.0 (100 timesteps)\n",
      "Episode 450 finished. Total reward: 100.0 (100 timesteps)\n",
      "Episode 455 finished. Total reward: 100.0 (100 timesteps)\n",
      "Episode 460 finished. Total reward: 100.0 (100 timesteps)\n",
      "Updating the policy...\n",
      "Updating finished!\n",
      "Episode 465 finished. Total reward: 100.0 (100 timesteps)\n",
      "Episode 470 finished. Total reward: 100.0 (100 timesteps)\n",
      "Episode 475 finished. Total reward: 100.0 (100 timesteps)\n",
      "Episode 480 finished. Total reward: 100.0 (100 timesteps)\n",
      "Updating the policy...\n",
      "Updating finished!\n",
      "Episode 485 finished. Total reward: 100.0 (100 timesteps)\n",
      "Episode 490 finished. Total reward: 100.0 (100 timesteps)\n",
      "Episode 495 finished. Total reward: 100.0 (100 timesteps)\n",
      "Episode 500 finished. Total reward: 100.0 (100 timesteps)\n",
      "Model saved to /notebooks/rl2024/ex1/results/model/CartPole-v1_params.pt\n",
      "------Training finished.------\n"
     ]
    }
   ],
   "source": [
    "if not skip_training:\n",
    "    t.train(cfg_path=Path().cwd()/'cfg'/'cartpole_v1.yaml', cfg_args=dict(seed=1, max_episode_steps=100, model_name=\"CartPole-v1\")) # < 5 mins"
   ]
  },
  {
   "cell_type": "code",
   "execution_count": 4,
   "id": "1f8cd415-c26a-44cf-9f76-f80237cdd918",
   "metadata": {
    "tags": []
   },
   "outputs": [
    {
     "data": {
      "image/png": "[encoded data removed]",
      "text/plain": [
       "<Figure size 450x300 with 1 Axes>"
      ]
     },
     "metadata": {},
     "output_type": "display_data"
    }
   ],
   "source": [
    "if not skip_training:\n",
    "    u.plot_reward(Path().cwd()/'results'/'logging'/'CartPole-v1_1.csv', 'CartPole')"
   ]
  },
  {
   "cell_type": "markdown",
   "id": "b0230ba0",
   "metadata": {
    "deletable": false,
    "editable": false,
    "nbgrader": {
     "cell_type": "markdown",
     "checksum": "4b2dc935e91cccb3f0345d4c423e7190",
     "grade": false,
     "grade_id": "cell-64fbeb2b60de708a",
     "locked": true,
     "schema_version": 3,
     "solution": false,
     "task": false
    }
   },
   "source": [
    "The command below will evaluate the trained model in 10 episodes and report the average reward (and episode length) for these 10 episodes. Do not delete the cell below as it is used for grading."
   ]
  },
  {
   "cell_type": "code",
   "execution_count": 5,
   "id": "95418d8d",
   "metadata": {
    "deletable": false,
    "editable": false,
    "nbgrader": {
     "cell_type": "code",
     "checksum": "8b492043c94a6382f5ff92b768d1cc89",
     "grade": true,
     "grade_id": "cell-8b1bd0d092f865b7",
     "locked": true,
     "points": 10,
     "schema_version": 3,
     "solution": false,
     "task": false
    },
    "tags": []
   },
   "outputs": [
    {
     "name": "stdout",
     "output_type": "stream",
     "text": [
      "Numpy/Torch/Random Seed:  688\n",
      "Loading model from /notebooks/rl2024/ex1/results/model/CartPole-v1_params.pt ...\n",
      "Testing...\n",
      "Test ep reward: 123.0 seed: 434\n",
      "Test ep reward: 144.0 seed: 308\n",
      "Test ep reward: 128.0 seed: 922\n",
      "Test ep reward: 127.0 seed: 231\n",
      "Test ep reward: 121.0 seed: 961\n",
      "Test ep reward: 140.0 seed: 363\n",
      "Test ep reward: 128.0 seed: 626\n",
      "Test ep reward: 130.0 seed: 905\n",
      "Test ep reward: 137.0 seed: 497\n",
      "Test ep reward: 134.0 seed: 816\n",
      "Average test reward: 131.2 episode length: 131.2\n"
     ]
    }
   ],
   "source": [
    "%%capture --no-stdout\n",
    "assert t.test(episodes=10, cfg_path=Path().cwd()/'cfg'/'cartpole_v1.yaml', \n",
    "        cfg_args=dict(testing=True, save_video=(not skip_training), save_model=False, seed=None, max_episode_steps=500,model_name=\"CartPole-v1\")) > 100"
   ]
  },
  {
   "cell_type": "markdown",
   "id": "7829f371",
   "metadata": {},
   "source": [
    "Report below the average reward after testing the model"
   ]
  },
  {
   "cell_type": "markdown",
   "id": "18da8596",
   "metadata": {
    "deletable": false,
    "nbgrader": {
     "cell_type": "markdown",
     "checksum": "e556373c147e8173d8451bd1c237691e",
     "grade": true,
     "grade_id": "cell-24f7f8d91599a232",
     "locked": false,
     "points": 0,
     "schema_version": 3,
     "solution": true,
     "task": false
    }
   },
   "source": [
    "131.2"
   ]
  },
  {
   "cell_type": "markdown",
   "id": "65a689b7",
   "metadata": {
    "deletable": false,
    "editable": false,
    "nbgrader": {
     "cell_type": "markdown",
     "checksum": "9f2c06a70d499a71cbcb437b5400a3c1",
     "grade": false,
     "grade_id": "cell-17b4eb8d711f2770",
     "locked": true,
     "schema_version": 3,
     "solution": false,
     "task": false
    }
   },
   "source": [
    "The agent acting in the environment can be seen using the following command. Change the ```path``` to pick the episode you want to visualize. Bear in mind by default video saving for training is taken every 50 episodes."
   ]
  },
  {
   "cell_type": "code",
   "execution_count": 6,
   "id": "ee7bc0ff",
   "metadata": {
    "tags": []
   },
   "outputs": [
    {
     "name": "stdout",
     "output_type": "stream",
     "text": [
      "test/ ex1-episode-0.mp4\n"
     ]
    },
    {
     "data": {
      "text/html": [
       "<div style=\"width: 200px; height: 100px;; border: 1px solid #FF5733;\"><video loop autoplay  width=\"200\"  height=\"100\">\n",
       " <source src=\"data:video/mp4;base64,AAAAIGZ0eXBpc29tAAACAGlzb21pc28yYXZjMW1wNDEAAAAIZnJlZQAACmttZGF0AAACrwYF//+r3EXpvebZSLeWLNgg2SPu73gyNjQgLSBjb3JlIDE2NCByMzA5NSBiYWVlNDAwIC0gSC4yNjQvTVBFRy00IEFWQyBjb2RlYyAtIENvcHlsZWZ0IDIwMDMtMjAyMiAtIGh0dHA6Ly93d3cudmlkZW9sYW4ub3JnL3gyNjQuaHRtbCAtIG9wdGlvbnM6IGNhYmFjPTEgcmVmPTMgZGVibG9jaz0xOjA6MCBhbmFseXNlPTB4MzoweDExMyBtZT1oZXggc3VibWU9NyBwc3k9MSBwc3lfcmQ9MS4wMDowLjAwIG1peGVkX3JlZj0xIG1lX3JhbmdlPTE2IGNocm9tYV9tZT0xIHRyZWxsaXM9MSA4eDhkY3Q9MSBjcW09MCBkZWFkem9uZT0yMSwxMSBmYXN0X3Bza2lwPTEgY2hyb21hX3FwX29mZnNldD0tMiB0aHJlYWRzPTEyIGxvb2thaGVhZF90aHJlYWRzPTIgc2xpY2VkX3RocmVhZHM9MCBucj0wIGRlY2ltYXRlPTEgaW50ZXJsYWNlZD0wIGJsdXJheV9jb21wYXQ9MCBjb25zdHJhaW5lZF9pbnRyYT0wIGJmcmFtZXM9MyBiX3B5cmFtaWQ9MiBiX2FkYXB0PTEgYl9iaWFzPTAgZGlyZWN0PTEgd2VpZ2h0Yj0xIG9wZW5fZ29wPTAgd2VpZ2h0cD0yIGtleWludD0yNTAga2V5aW50X21pbj0yNSBzY2VuZWN1dD00MCBpbnRyYV9yZWZyZXNoPTAgcmNfbG9va2FoZWFkPTQwIHJjPWNyZiBtYnRyZWU9MSBjcmY9MjMuMCBxY29tcD0wLjYwIHFwbWluPTAgcXBtYXg9NjkgcXBzdGVwPTQgaXBfcmF0aW89MS40MCBhcT0xOjEuMDAAgAAAAgpliIQAJ//+9bF8CmrJ84oM6DIu4Zckya62IuJtAMAAJUAAAAMAAEsmUJbMgHJl3QAAAwBMgA4ofQZQeYiYqxUCWDCxXeLdyVROpjf6Fm97hgr7jHjiNRfE9rr2v9rING8eMeeXdoBNNSXlgpX9IjZqZtfCL/3YC6VXJyq7JQV4Q/D/421h9NlvPp/RMUXcTNew1TWHosqqne3kBURiuqTTvTXxA8WQ0SdYF5LYmsxgdGKE0QxQbTjIPpoUZxu9UljlahJJ4AjGLeBlJba35oaXaLAC+wUanCIuguQGVLD1xyVSObptsuypH+lLiB1xQkxxM4CNrj+K65xzmtHuhc5wlsrW1WleBNB9y1R5s4LQk3vf39Qu7bfSXSDE+Yt3Vo9/n1YosQmBtiDT9n4WzHUsH09e/8AHRqgRAOWTbspc8Wi7blg2OXe7MdEGt89xbu+mk177GjVbKe/tbCHPSzxFwQbOk/vOyIFET2/pL8+S+v19cRUthx3pkEXSkD3Bxnp6hJPxC4/SRhbxxzjpvgMS2vUGE+O8Z0dELn7z5y53pLQI539NqfdpLacHDwOuJsiNhAklnVbddqFb3NHaITAHejP8NK0ULAAGWDSGVTvoKCEYZoVWsHt1aYXh7/jbuqLsbPf8DthjtTA7zSpBpHfqLBVzVzMowEAAD+AAvUAAAAMAAAMAAAMAATEAAACRQZokbEJ//fEAAAMCn0HNjjOi36gD8TGGRPA64kvbKnZsTa7nmW58DxhGlT/hMzijyexMp6zASfWfea94Ec8uSy+BQbMBnBeQy0gfV5RPB8XMBWqxWCj0mFCuRthgEA6iXOzfo7VzWkwt3+yUjHQvviJ60JeoFk0GGwuyCVzmgv/bOwftXpcW0wvHpyYC4cCv8AAAAE9BnkJ4hH8AABazLINycrAVYARcQyhNEm8OuGIJsWN1+Aeei/wGfYQwvAEH99ZKBrH6NGE0RCjNRCFfw0+MSGKbT0nbPwFoRQxASkWCGtmfAAAAJwGeYXRH/wAAI6xCYdvHK39q2NU1ciFS4Hfh2lpihjQC3maGhwnZnwAAACoBnmNqR/8AACO/GstEbOgMH/7ANOyy1H4xs2aIaGwNXwahbRVnGYaNe48AAADWQZpoSahBaJlMCEf//eEAAAQTQWXvAHL9v0TTObV9bny3f7jjTX+t0nlE3MfW85r99bj02bpw8l5QLfP/mReYxORVoyloJurcBX5NLeC37IwcFPbx+qK9OgfP50rp9kJSguW2OGSKio2//q9VBI0t5sPkS/Hb8UKOqM5HUTPl+LUYHk1XUz/sbIPKAIDT1cH01zF14a9hvHm88rko/pSoLESr/AChfq1S4L0gjYv4IuKtxk3j9sPGMrOf3FXnqXIN9jsawWd6fLMxSwl487VVcEeFNwEUaQAAAE9BnoZFESwj/wAAFruUNGIrcP0v/PWQ5978bwXqGLu/M6y5tkJDMOopiKh1Z9L64b7RcousVcVd4R/SxHNZJ0pCkRupSuWtjwEKTh1mO4vJAAAAMgGepXRH/wAAI8Lwfxy5kA5CQAkjqTzcMQPH22VYPUAcJx00JTr0UM18iL+WhxB4ff0ZAAAARwGep2pH/wAAI72WAomV1oMACU10juGv0SrSryWzzYBUyQVzXSqoaiqa/YRSbYY5bxfQ0LEJwL/TUPn8G7Y/ZoB8sisEqJyoAAAAwEGarEmoQWyZTAj//IQAAA/Tn14Mmp3NWZqABWqmIsXYgpj7J3Z37r2wkmes/fegGsKwpouM6KVc66g4WN1LT6y/ncc5AGYvec1YS37WWYoOedTqAo0bXn7UdSX01u3hm5m3WjfTYG3Ee8tAEDNh81v/NpnvR+Xgb4Was7SBHagDp/6PiRML5gdsjZw9PYCG826qcyudCwsIqS1HcLYX/+fyf8OT7UluLHHEO0BW9KjSHOk0QfnrgwZKT+MMsXA8IAAAAF9BnspFFSwj/wAAFrtosqQ1FzqnL706P6urYqtmTyspMzs5up+Z/IZ2EyDPlxTOt85yZB0Pzz+YjN2AAN1Z7ksEbUYws9n5nIGJ4Q/AyhCVRPs0y7ZL9HkA5T5XdBIJMQAAAEEBnul0R/8AACOqCAnxxkL939FccaGJ8Uj417utZdhVNMts4KMusG6fx/5Z2B3wNK00HQAAft0Tzb5oafSo6/dCTAAAAEIBnutqR/8AACO9la26mkNus2VQepPyo53hVuinGH71hl/7GDtWWq2wYZmbjpN2ZImwY/56fRmGZX84TjXct4MPvcAAAACEQZrtSahBbJlMCP/8hAAAD9PmezF+5njMiUeVgj8mti80bR4Rj38DQE3b8RVN5WOVDfLAAimEOMAFJ+vd1LcoBeO9paiNyBcOku0WtD11zskDXqqOOUBuOQno2OaJjnFTujBGqhx2pMzL4xHpqcIeVwB9s2puXgM4EIkdm4RJQ2bgi76BAAAAdUGbDknhClJlMCP//IQAAA/T62vnPvHCefezYjQ+9/Plym4VuLOaQtUAcxoGn8cmYMys/C9iONJwfeZnf3MQux8YF6rpM0KYJ/gA+vkY2qXx3PquK3AgzabWAH/+2gz9sGnz8nQ2msztL3ocD0KsHM5yaroExQAAA9dtb292AAAAbG12aGQAAAAAAAAAAAAAAAAAAAPoAAABLAABAAABAAAAAAAAAAAAAAAAAQAAAAAAAAAAAAAAAAAAAAEAAAAAAAAAAAAAAAAAAEAAAAAAAAAAAAAAAAAAAAAAAAAAAAAAAAAAAAAAAAACAAADAXRyYWsAAABcdGtoZAAAAAMAAAAAAAAAAAAAAAEAAAAAAAABLAAAAAAAAAAAAAAAAAAAAAAAAQAAAAAAAAAAAAAAAAAAAAEAAAAAAAAAAAAAAAAAAEAAAAACWAAAAZAAAAAAACRlZHRzAAAAHGVsc3QAAAAAAAAAAQAAASwAAAIAAAEAAAAAAnltZGlhAAAAIG1kaGQAAAAAAAAAAAAAAAAAADIAAAAPAFXEAAAAAAAtaGRscgAAAAAAAAAAdmlkZQAAAAAAAAAAAAAAAFZpZGVvSGFuZGxlcgAAAAIkbWluZgAAABR2bWhkAAAAAQAAAAAAAAAAAAAAJGRpbmYAAAAcZHJlZgAAAAAAAAABAAAADHVybCAAAAABAAAB5HN0YmwAAACwc3RzZAAAAAAAAAABAAAAoGF2YzEAAAAAAAAAAQAAAAAAAAAAAAAAAAAAAAACWAGQAEgAAABIAAAAAAAAAAEVTGF2YzYwLjMxLjEwMiBsaWJ4MjY0AAAAAAAAAAAAAAAY//8AAAA2YXZjQwFkAB//4QAZZ2QAH6zZQJgz5eEAAAMAAQAAAwBkDxgxlgEABmjr48siwP34+AAAAAAUYnRydAAAAAAAART6AAEU+gAAABhzdHRzAAAAAAAAAAEAAAAPAAABAAAAABRzdHNzAAAAAAAAAAEAAAABAAAAgGN0dHMAAAAAAAAADgAAAAEAAAIAAAAAAQAABQAAAAABAAACAAAAAAEAAAAAAAAAAQAAAQAAAAABAAAFAAAAAAEAAAIAAAAAAQAAAAAAAAABAAABAAAAAAEAAAUAAAAAAQAAAgAAAAABAAAAAAAAAAEAAAEAAAAAAgAAAgAAAAAcc3RzYwAAAAAAAAABAAAAAQAAAA8AAAABAAAAUHN0c3oAAAAAAAAAAAAAAA8AAATBAAAAlQAAAFMAAAArAAAALgAAANoAAABTAAAANgAAAEsAAADEAAAAYwAAAEUAAABGAAAAiAAAAHkAAAAUc3RjbwAAAAAAAAABAAAAMAAAAGJ1ZHRhAAAAWm1ldGEAAAAAAAAAIWhkbHIAAAAAAAAAAG1kaXJhcHBsAAAAAAAAAAAAAAAALWlsc3QAAAAlqXRvbwAAAB1kYXRhAAAAAQAAAABMYXZmNjAuMTYuMTAw\" type=\"video/mp4\">\n",
       " Your browser does not support the video tag.\n",
       " </video></div>"
      ],
      "text/plain": [
       "<IPython.core.display.HTML object>"
      ]
     },
     "metadata": {},
     "output_type": "display_data"
    },
    {
     "name": "stdout",
     "output_type": "stream",
     "text": [
      "test/ ex1-episode-50.mp4\n"
     ]
    },
    {
     "data": {
      "text/html": [
       "<div style=\"width: 200px; height: 100px;; border: 1px solid #FF5733;\"><video loop autoplay  width=\"200\"  height=\"100\">\n",
       " <source src=\"data:video/mp4;base64,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\" type=\"video/mp4\">\n",
       " Your browser does not support the video tag.\n",
       " </video></div>"
      ],
      "text/plain": [
       "<IPython.core.display.HTML object>"
      ]
     },
     "metadata": {},
     "output_type": "display_data"
    },
    {
     "name": "stdout",
     "output_type": "stream",
     "text": [
      "test/ ex1-episode-100.mp4\n"
     ]
    },
    {
     "data": {
      "text/html": [
       "<div style=\"width: 200px; height: 100px;; border: 1px solid #FF5733;\"><video loop autoplay  width=\"200\"  height=\"100\">\n",
       " <source src=\"data:video/mp4;base64,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\" type=\"video/mp4\">\n",
       " Your browser does not support the video tag.\n",
       " </video></div>"
      ],
      "text/plain": [
       "<IPython.core.display.HTML object>"
      ]
     },
     "metadata": {},
     "output_type": "display_data"
    },
    {
     "name": "stdout",
     "output_type": "stream",
     "text": [
      "test/ ex1-episode-150.mp4\n"
     ]
    },
    {
     "data": {
      "text/html": [
       "<div style=\"width: 200px; height: 100px;; border: 1px solid #FF5733;\"><video loop autoplay  width=\"200\"  height=\"100\">\n",
       " <source src=\"data:video/mp4;base64,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\" type=\"video/mp4\">\n",
       " Your browser does not support the video tag.\n",
       " </video></div>"
      ],
      "text/plain": [
       "<IPython.core.display.HTML object>"
      ]
     },
     "metadata": {},
     "output_type": "display_data"
    },
    {
     "name": "stdout",
     "output_type": "stream",
     "text": [
      "test/ ex1-episode-200.mp4\n"
     ]
    },
    {
     "data": {
      "text/html": [
       "<div style=\"width: 200px; height: 100px;; border: 1px solid #FF5733;\"><video loop autoplay  width=\"200\"  height=\"100\">\n",
       " <source src=\"data:video/mp4;base64,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\" type=\"video/mp4\">\n",
       " Your browser does not support the video tag.\n",
       " </video></div>"
      ],
      "text/plain": [
       "<IPython.core.display.HTML object>"
      ]
     },
     "metadata": {},
     "output_type": "display_data"
    },
    {
     "name": "stdout",
     "output_type": "stream",
     "text": [
      "test/ ex1-episode-250.mp4\n"
     ]
    },
    {
     "data": {
      "text/html": [
       "<div style=\"width: 200px; height: 100px;; border: 1px solid #FF5733;\"><video loop autoplay  width=\"200\"  height=\"100\">\n",
       " <source src=\"data:video/mp4;base64,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\" type=\"video/mp4\">\n",
       " Your browser does not support the video tag.\n",
       " </video></div>"
      ],
      "text/plain": [
       "<IPython.core.display.HTML object>"
      ]
     },
     "metadata": {},
     "output_type": "display_data"
    },
    {
     "name": "stdout",
     "output_type": "stream",
     "text": [
      "test/ ex1-episode-300.mp4\n"
     ]
    },
    {
     "data": {
      "text/html": [
       "<div style=\"width: 200px; height: 100px;; border: 1px solid #FF5733;\"><video loop autoplay  width=\"200\"  height=\"100\">\n",
       " <source src=\"data:video/mp4;base64,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\" type=\"video/mp4\">\n",
       " Your browser does not support the video tag.\n",
       " </video></div>"
      ],
      "text/plain": [
       "<IPython.core.display.HTML object>"
      ]
     },
     "metadata": {},
     "output_type": "display_data"
    },
    {
     "name": "stdout",
     "output_type": "stream",
     "text": [
      "test/ ex1-episode-350.mp4\n"
     ]
    },
    {
     "data": {
      "text/html": [
       "<div style=\"width: 200px; height: 100px;; border: 1px solid #FF5733;\"><video loop autoplay  width=\"200\"  height=\"100\">\n",
       " <source src=\"data:video/mp4;base64,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\" type=\"video/mp4\">\n",
       " Your browser does not support the video tag.\n",
       " </video></div>"
      ],
      "text/plain": [
       "<IPython.core.display.HTML object>"
      ]
     },
     "metadata": {},
     "output_type": "display_data"
    },
    {
     "name": "stdout",
     "output_type": "stream",
     "text": [
      "test/ ex1-episode-400.mp4\n"
     ]
    },
    {
     "data": {
      "text/html": [
       "<div style=\"width: 200px; height: 100px;; border: 1px solid #FF5733;\"><video loop autoplay  width=\"200\"  height=\"100\">\n",
       " <source src=\"data:video/mp4;base64,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\" type=\"video/mp4\">\n",
       " Your browser does not support the video tag.\n",
       " </video></div>"
      ],
      "text/plain": [
       "<IPython.core.display.HTML object>"
      ]
     },
     "metadata": {},
     "output_type": "display_data"
    },
    {
     "name": "stdout",
     "output_type": "stream",
     "text": [
      "test/ ex1-episode-450.mp4\n"
     ]
    },
    {
     "data": {
      "text/html": [
       "<div style=\"width: 200px; height: 100px;; border: 1px solid #FF5733;\"><video loop autoplay  width=\"200\"  height=\"100\">\n",
       " <source src=\"data:video/mp4;base64,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\" type=\"video/mp4\">\n",
       " Your browser does not support the video tag.\n",
       " </video></div>"
      ],
      "text/plain": [
       "<IPython.core.display.HTML object>"
      ]
     },
     "metadata": {},
     "output_type": "display_data"
    },
    {
     "name": "stdout",
     "output_type": "stream",
     "text": [
      "test/ ex1-episode-500.mp4\n"
     ]
    },
    {
     "data": {
      "text/html": [
       "<div style=\"width: 200px; height: 100px;; border: 1px solid #FF5733;\"><video loop autoplay  width=\"200\"  height=\"100\">\n",
       " <source src=\"data:video/mp4;base64,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\" type=\"video/mp4\">\n",
       " Your browser does not support the video tag.\n",
       " </video></div>"
      ],
      "text/plain": [
       "<IPython.core.display.HTML object>"
      ]
     },
     "metadata": {},
     "output_type": "display_data"
    }
   ],
   "source": [
    "if not skip_training:\n",
    "    # Train Result\n",
    "    video_dir = work_dir/'video'/'CartPole-v1'/'train'\n",
    "    \n",
    "    # List all MP4 files in the directory\n",
    "    mp4_files = [file for file in os.listdir(video_dir) if file.endswith(\".mp4\")]\n",
    "    frame_colors = ['#FF5733', '#33FF57', '#5733FF', '#FFFF33', '#33FFFF', '#FF33FF']\n",
    "    # Display each MP4 file\n",
    "    for i, mp4_file in enumerate(mp4_files):\n",
    "        video_path = os.path.join(video_dir, mp4_file)\n",
    "        video = Video(video_path, embed=True, html_attributes=\"loop autoplay\", width=200, height=100)\n",
    "        frame_color = frame_colors[i % len(frame_colors)]\n",
    "        video_frame = HTML(f'<div style=\"width: 200px; height: 100px;; border: 1px solid #FF5733;\">{video._repr_html_()}</div>')\n",
    "        print(\"test/\",mp4_file)\n",
    "        display(video_frame)"
   ]
  },
  {
   "cell_type": "code",
   "execution_count": 7,
   "id": "47f0e835-79ad-47c7-9984-bfc705927d7b",
   "metadata": {
    "tags": []
   },
   "outputs": [
    {
     "name": "stdout",
     "output_type": "stream",
     "text": [
      "test/ ex1-episode-0.mp4\n"
     ]
    },
    {
     "data": {
      "text/html": [
       "<div style=\"width: 200px; height: 100px;; border: 1px solid #5733FF;\"><video loop autoplay  width=\"200\"  height=\"100\">\n",
       " <source src=\"data:video/mp4;base64,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\" type=\"video/mp4\">\n",
       " Your browser does not support the video tag.\n",
       " </video></div>"
      ],
      "text/plain": [
       "<IPython.core.display.HTML object>"
      ]
     },
     "metadata": {},
     "output_type": "display_data"
    },
    {
     "name": "stdout",
     "output_type": "stream",
     "text": [
      "test/ ex1-episode-1.mp4\n"
     ]
    },
    {
     "data": {
      "text/html": [
       "<div style=\"width: 200px; height: 100px;; border: 1px solid #5733FF;\"><video loop autoplay  width=\"200\"  height=\"100\">\n",
       " <source src=\"data:video/mp4;base64,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\" type=\"video/mp4\">\n",
       " Your browser does not support the video tag.\n",
       " </video></div>"
      ],
      "text/plain": [
       "<IPython.core.display.HTML object>"
      ]
     },
     "metadata": {},
     "output_type": "display_data"
    },
    {
     "name": "stdout",
     "output_type": "stream",
     "text": [
      "test/ ex1-episode-2.mp4\n"
     ]
    },
    {
     "data": {
      "text/html": [
       "<div style=\"width: 200px; height: 100px;; border: 1px solid #5733FF;\"><video loop autoplay  width=\"200\"  height=\"100\">\n",
       " <source src=\"data:video/mp4;base64,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\" type=\"video/mp4\">\n",
       " Your browser does not support the video tag.\n",
       " </video></div>"
      ],
      "text/plain": [
       "<IPython.core.display.HTML object>"
      ]
     },
     "metadata": {},
     "output_type": "display_data"
    },
    {
     "name": "stdout",
     "output_type": "stream",
     "text": [
      "test/ ex1-episode-3.mp4\n"
     ]
    },
    {
     "data": {
      "text/html": [
       "<div style=\"width: 200px; height: 100px;; border: 1px solid #5733FF;\"><video loop autoplay  width=\"200\"  height=\"100\">\n",
       " <source src=\"data:video/mp4;base64,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\" type=\"video/mp4\">\n",
       " Your browser does not support the video tag.\n",
       " </video></div>"
      ],
      "text/plain": [
       "<IPython.core.display.HTML object>"
      ]
     },
     "metadata": {},
     "output_type": "display_data"
    },
    {
     "name": "stdout",
     "output_type": "stream",
     "text": [
      "test/ ex1-episode-4.mp4\n"
     ]
    },
    {
     "data": {
      "text/html": [
       "<div style=\"width: 200px; height: 100px;; border: 1px solid #5733FF;\"><video loop autoplay  width=\"200\"  height=\"100\">\n",
       " <source src=\"data:video/mp4;base64,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\" type=\"video/mp4\">\n",
       " Your browser does not support the video tag.\n",
       " </video></div>"
      ],
      "text/plain": [
       "<IPython.core.display.HTML object>"
      ]
     },
     "metadata": {},
     "output_type": "display_data"
    },
    {
     "name": "stdout",
     "output_type": "stream",
     "text": [
      "test/ ex1-episode-5.mp4\n"
     ]
    },
    {
     "data": {
      "text/html": [
       "<div style=\"width: 200px; height: 100px;; border: 1px solid #5733FF;\"><video loop autoplay  width=\"200\"  height=\"100\">\n",
       " <source src=\"data:video/mp4;base64,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\" type=\"video/mp4\">\n",
       " Your browser does not support the video tag.\n",
       " </video></div>"
      ],
      "text/plain": [
       "<IPython.core.display.HTML object>"
      ]
     },
     "metadata": {},
     "output_type": "display_data"
    },
    {
     "name": "stdout",
     "output_type": "stream",
     "text": [
      "test/ ex1-episode-6.mp4\n"
     ]
    },
    {
     "data": {
      "text/html": [
       "<div style=\"width: 200px; height: 100px;; border: 1px solid #5733FF;\"><video loop autoplay  width=\"200\"  height=\"100\">\n",
       " <source src=\"data:video/mp4;base64,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\" type=\"video/mp4\">\n",
       " Your browser does not support the video tag.\n",
       " </video></div>"
      ],
      "text/plain": [
       "<IPython.core.display.HTML object>"
      ]
     },
     "metadata": {},
     "output_type": "display_data"
    },
    {
     "name": "stdout",
     "output_type": "stream",
     "text": [
      "test/ ex1-episode-7.mp4\n"
     ]
    },
    {
     "data": {
      "text/html": [
       "<div style=\"width: 200px; height: 100px;; border: 1px solid #5733FF;\"><video loop autoplay  width=\"200\"  height=\"100\">\n",
       " <source src=\"data:video/mp4;base64,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\" type=\"video/mp4\">\n",
       " Your browser does not support the video tag.\n",
       " </video></div>"
      ],
      "text/plain": [
       "<IPython.core.display.HTML object>"
      ]
     },
     "metadata": {},
     "output_type": "display_data"
    },
    {
     "name": "stdout",
     "output_type": "stream",
     "text": [
      "test/ ex1-episode-8.mp4\n"
     ]
    },
    {
     "data": {
      "text/html": [
       "<div style=\"width: 200px; height: 100px;; border: 1px solid #5733FF;\"><video loop autoplay  width=\"200\"  height=\"100\">\n",
       " <source src=\"data:video/mp4;base64,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\" type=\"video/mp4\">\n",
       " Your browser does not support the video tag.\n",
       " </video></div>"
      ],
      "text/plain": [
       "<IPython.core.display.HTML object>"
      ]
     },
     "metadata": {},
     "output_type": "display_data"
    },
    {
     "name": "stdout",
     "output_type": "stream",
     "text": [
      "test/ ex1-episode-9.mp4\n"
     ]
    },
    {
     "data": {
      "text/html": [
       "<div style=\"width: 200px; height: 100px;; border: 1px solid #5733FF;\"><video loop autoplay  width=\"200\"  height=\"100\">\n",
       " <source src=\"data:video/mp4;base64,AAAAIGZ0eXBpc29tAAACAGlzb21pc28yYXZjMW1wNDEAAAAIZnJlZQAAJ4BtZGF0AAACrwYF//+r3EXpvebZSLeWLNgg2SPu73gyNjQgLSBjb3JlIDE2NCByMzA5NSBiYWVlNDAwIC0gSC4yNjQvTVBFRy00IEFWQyBjb2RlYyAtIENvcHlsZWZ0IDIwMDMtMjAyMiAtIGh0dHA6Ly93d3cudmlkZW9sYW4ub3JnL3gyNjQuaHRtbCAtIG9wdGlvbnM6IGNhYmFjPTEgcmVmPTMgZGVibG9jaz0xOjA6MCBhbmFseXNlPTB4MzoweDExMyBtZT1oZXggc3VibWU9NyBwc3k9MSBwc3lfcmQ9MS4wMDowLjAwIG1peGVkX3JlZj0xIG1lX3JhbmdlPTE2IGNocm9tYV9tZT0xIHRyZWxsaXM9MSA4eDhkY3Q9MSBjcW09MCBkZWFkem9uZT0yMSwxMSBmYXN0X3Bza2lwPTEgY2hyb21hX3FwX29mZnNldD0tMiB0aHJlYWRzPTEyIGxvb2thaGVhZF90aHJlYWRzPTIgc2xpY2VkX3RocmVhZHM9MCBucj0wIGRlY2ltYXRlPTEgaW50ZXJsYWNlZD0wIGJsdXJheV9jb21wYXQ9MCBjb25zdHJhaW5lZF9pbnRyYT0wIGJmcmFtZXM9MyBiX3B5cmFtaWQ9MiBiX2FkYXB0PTEgYl9iaWFzPTAgZGlyZWN0PTEgd2VpZ2h0Yj0xIG9wZW5fZ29wPTAgd2VpZ2h0cD0yIGtleWludD0yNTAga2V5aW50X21pbj0yNSBzY2VuZWN1dD00MCBpbnRyYV9yZWZyZXNoPTAgcmNfbG9va2FoZWFkPTQwIHJjPWNyZiBtYnRyZWU9MSBjcmY9MjMuMCBxY29tcD0wLjYwIHFwbWluPTAgcXBtYXg9NjkgcXBzdGVwPTQgaXBfcmF0aW89MS40MCBhcT0xOjEuMDAAgAAAAbBliIQAJ//+9bF8CmrJ84oM6DIu4Zckya62IuJtAMAAJShQAAADABLJlCWzIByZd0AAABMgA4ofQZQeYiYqxUCV4g4GauIAhsioXOf3q3xepkAAxudTGfApEWwT3iRXlqhUhylZhSUrSXDrL6UJO9b4HK5g2TAvcIVowrKbr3nm5Ee6cJbBa2V6H/69Lq26nEK0BBBaGSVStyfNni2bnrvmbqUo0+rKEAGjwAAbH4ZPJlcIbCpAi5xqB4gkkGon66fXUb+C4AOjkVZl0T6bnPGGGzkKBnm1nQKP1H9MidSdhokNgQrmPA6MFQapHEarZnhGbo7RptR2hYvUKjnj+DFA/o5u2/zbFmAhs5WJlZplANedKTdLNd8M4J+qbK1iOdg5QP6ipc+UJMlCOdWhMAA6EUGTfkGxME5D5z0G670wReeh6utKdlx9e60dMpqZMViJc+PnU9eP2TeJlhr4IBymqMR4Iyr6Nw3ZcB7lt9HgAAAH1AEI2Qe/RzD9swd/+1gT/aYCxAiya6KuVETNTVY4+fqOUqtfKn4rPM47U7x8mRBB6bewI4wAAAMAAAMACakAAACZQZokbEI//eEAAAQUDlQ2SAZLV35AvGOpCGEUXeq+1xpNvrKXfxy/lWmI84IwiY865Fz375ohG0Gy2RhYDwJW+mgyxKl4aAxAGz0KK8hyhIvP+8YLkpCQNjCX2gpuZ6in/o2HiRRY8iMbV1nXFYN8UBSwxAK8EXJr79LbKWpJQvuB+sljNthhYKhNhJOsXjJGMkozK+C0r9YMAAAANkGeQniEfwAAFr49ZqXrQAmABLFpGLyZzDKIujJAp3L5OUAr/38KbyqbZUuM/TQKq1a3p43owQAAAB4BnmF0R/8AAAUf0MEBIyDAFhG9AwPI3vN75CZ82YAAAAAwAZ5jakf/AAAjvwQn7kvYPEDw8wjejgSVXZyDohef4Uz8VqsjS22DaAit7Okky3G5AAAAgkGaaEmoQWiZTAhP//3xAAADAPidUEFlJDXJFNtePeee7vt+QBTCAo0FJE9k6luVx9wyPrVyMx7+L2yisl5QK3CRJnVm9r0dPAKk3MLsLoCXQ6p73zcxV8d+3wcl6G96eMM5sw8sjwv+IXNuvx40mYch7xXyRRVxR9YXFH+FqK9EcKEAAAAhQZ6GRREsI/8AAAhr+uybJ7RZxnzdQvSGoBPOOs6/jz5hAAAAIgGepXRH/wAADYXdNFz9OBsYhB8o0SojJfUpDz1ZiJUuN00AAAAOAZ6nakf/AAADAAADAakAAACSQZqsSahBbJlMCE///fEAAAMCoLQ9ER8BQI6GwpKF6Z4EuE0q2S7cinAFxKDuaaTNf+MO+CKxWCPerisS1idsPwJuKH3s2eNyAtLAejxjwCIhp01tfqBLuc+aseVHUFvXlGrwQ2QxsfQEGUjq8dI4t//DLNtXgq51Fg4NQaoAHabqgDulA7SAavYJbcBamuMdMaAAAAAlQZ7KRRUsI/8AABa7in5cNU6wFNeUvGz8UCkONocvBjp41EJSoQAAABwBnul0R/8AACPDF2ippVPVEg+r8jK8B9h34dSoAAAAEQGe62pH/wAAI78b6p8NYFxAAAAAkUGa8EmoQWyZTAhP//3xAAADAp725b4O+QMtY2sJzq5j/DE+nJJZoHgXRY0uOJtJLEAKI8gbR0WQZORxXpC/gDCX/43R/0ok6NB3yZ6c6hZ24uXLgh3eWn/1aM4KbVjBD47fRjy3/IVi9rhSMURMyp47Nf1CFDKMu9L2WTUpg4mmO565kYOvvyZP5aGSTwo4KqcAAABFQZ8ORRUsI/8AABazR/txYJOPbVhpxZ+3A8Lk1tcz67xklxDqo6bTfcQ7jh21I+41IyRTiJjrWvkgB/OAA30uyeBk2iWZAAAAMAGfLXRH/wAAI6v7/R/tvnCbijUw9FfeOlMUEkW12LHU9Hfe0Kj3qJZJjHsm1Cs2zQAAACABny9qR/8AACOxzAlvqXrrcqLnvKQ++A5m8o8UZ+drZgAAAGhBmzRJqEFsmUwIR//94QAABBNb0gRVg/k5+VzyWUxsCvjeGEOSFvf6D4CRG4A/HRabM/qxICYd4jJ1KoPH7Uvk+TbD6CL7uag8Hk3yLIMYz8qn99BeMc4QkQk++LMmRDwjPEDOFHvKowAAACxBn1JFFSwj/wAAFrNIj3a0M/QQfqFdzo1l6iumIztI0PsHc35uD3FLFAdbMQAAABoBn3F0R/8AACPDPggIlHJUP3deZFKl38k/xwAAAB8Bn3NqR/8AACO/Gs57KzSIyIjF6iyaQ5XEtMR4REqAAAAATkGbeEmoQWyZTAhH//3hAAAEE1vRtp1N6Zm72Ry5x7FYk6UA8vpkEc5fhQ4JaU/penXA2rqKtofoQ8NveHUZ0gG/d34bPXYFAxF0Tq8+PQAAACZBn5ZFFSwj/wAAFrNIi98q8n3SsOiuZ3qNRHsYxSjETy+c1ym2YAAAABwBn7V0R/8AACPDPg52E712sp61UM9O3DVL6TBhAAAALwGft2pH/wAAI78a/UA8MYcjvCWGY9NPpIEugPhcn1HpKX56owR2nDXIFwfrgHbhAAAAVEGbvEmoQWyZTAhH//3hAAAEMz+hFbh9ZG3ovTyJZAACZab/irFEGKIn9i6QcgMIU8mCJkJQQawYmamVrSLSZdCqettJIp6AGeMgYC/NLXBXv8HFQAAAAC5Bn9pFFSwj/wAAF0KsRckau9ioJs9MjubfkCjDd2WvCXIZ0EwHlygM3Cvn6PBhAAAAJgGf+XRH/wAAJKv4W3ggBSKtetEBBgcSe1xg1M2ormGV1Mo5dCVAAAAAJQGf+2pH/wAAJK5eM4F5Q7qpHQ7AXb4mOXUWz3tJb63lc3O3wYEAAACFQZvgSahBbJlMCEf//eEAAAQzP5Lf6XKHAj1T6xwwAQK9bq1CihM2QtwPRjDMZnnjPYlW1EG51uZA0okgqNWCUpStUEq0VdLUNXdeuggTjpVfrZuIjbI5TaZLfj4fdmt6kf3ZMqhfse2Thb//5l24jfzQ1oMooqlbP5wUr9pphhdL9YguHQAAADtBnh5FFSwj/wAAF0NHrEI+swG9Lybijh3iXRfP7CHFP2r7ej0/eoap5HmI0L3Bn4uExvdhJAQ/qejswAAAACYBnj10R/8AACTAmd3pXpFmUj2YX/IooqbFR7W4dlfybfOvjtyckAAAACkBnj9qR/8AACSxwYnbCZk4GGqdWXnbzd/M1PbD+S03+tT6pOc9FBwDkwAAAFRBmiRJqEFsmUwIR//94QAABDS2AyevtMIyALGGHTm29ZfEX6DorG80xF5tftsEUDq1QBgF6CwFhqBOhN0a8FJ2/FLKYBC2DY1n4m/5g4yxumK9Uf8AAABDQZ5CRRUsI/8AABdCA70LZKEDAL9YsRWhcf6XbjwyQ4yVMfwhH3A0cUkyqOH79A4Z1vbFSqw4BYye6hNEqXjemG/mzQAAADQBnmF0R/8AACSr+F63FVYfVuKwXT/+e9ZHC9RUHRU4WOeWQDdKcHzLrgnsd75l1oGmaQmAAAAANQGeY2pH/wAAJK5dVOG+eJ46JVkNMISvQL03lBJnyJvxdTINk3zcySos+8hugUm+LOXWew4BAAAAU0GaaEmoQWyZTAhH//3hAAAEM0vo6HeArApQGgAIiVSDuD+1ZvsqA+2UWCKy0TisaQjhTvgZK7v7b4YEbOH+WLyM3AKkoFXlIQV0lipppHWGOL7ZAAAAKUGehkUVLCP/AAAXS1tmBl+hPdZGW2GZDBC/H9VwXJXWuIYnRjRIOX2pAAAAJQGepXRH/wAAJMCZMnyy+Sb4bd6ylKVXqlk9PrWpo44cYSXbakEAAAAqAZ6nakf/AAAkvSb/Zx8/QFjmEHX6DBqkQAts8lWn6gLdd9Ag8b4Bp3e4AAAAY0GarEmoQWyZTAhH//3hAAAEU0vleqCofYnbsvVDdwr63oswQTdkc8R7hPzoP5aSQODLEzbzuAAOE53sdH+i8u65SjetL9DwoD9ldN16/I5evp/iHdJneHBJLcCXWykV/Wpc/AAAAC9BnspFFSwj/wAAF+ibYR9ddTRFDQAuBxhZkyT235/WweKPZGZuM3XPV83li49lJQAAADcBnul0R/8AACXAmR/OoETaHBoASXkDOncV6EU2TirC99DGLhBGnfZ2MSAwrwKcavjs+hRtnRa8AAAAOAGe62pH/wAAJa5dVOI5gNAg/qIYz0iID+HCgvExGy2VcRwvLmAj2AABa8vezm4g7+of8bf0i7UgAAAAXkGa7kmoQWyZTBRMI//94QAABFS2AyG9MwI+Jwr8sSwgRR6AWzD0o3E0rj/04fDWRNEGDdRlKpwssNYP//GUL5sppt3EoZRwdEj3Bq2fmOBSZa47QBTsf1xXhg9IuoEAAAAqAZ8Nakf/AAAlrl7L35K6NdBLjzB3kB/w9zLvWDh8U5SLb+cYZuxkh27hAAAAbkGbEknhClJlMCEf/eEAAARUt3UOh3fCcsAmuj7yVAtXp58lEZAeGrD6iwogrv5TQ6aKrNfbM4kl8UvgYq5HfBmqG9/Q9KcvAcoDkdJ4IoHRR3InXRjK4je9gDiOZww//RurZSYH2TdoczNMqrxBAAAAKUGfMEU0TCP/AAAX6HRnFiYCKAElqEZspPC3p1rrFBh7kdAYkyKvNsNSAAAAJAGfT3RH/wAAJb/vbp03za8Lr0z+t60J6kIeIj4Vw4sXpAgrqQAAACMBn1FqR/8AACWtXItiF51e6t0A+5l2x5cewXONsDXE2++Q7QAAAGJBm1ZJqEFomUwIR//94QAABHS3dMkgEFV/pPTUbszd85LiMTsGSmZe5XqKA971/6uxoRvGnbbpb7W6UepOXNqFrF35p/qBjPBIsxyrAXVG+llCFJjW0nKj5zBYoNyl6TWqsAAAADpBn3RFESwj/wAAGH91NRaLsSp5AZ0FPA9aDkczZU6EqUQMECsKDbBkPcSqU/VOpb4J5V5w2Y/Q9zXaAAAAKQGfk3RH/wAAJqnqTjlZoXbctj4ab0rNe6bgILtaB8JjlffzK6B1Z5SDAAAAJQGflWpH/wAAJq1bZnDflTLzELqRvD6OLG9TCAFfeFHgptwpXcAAAABHQZuaSahBbJlMCEf//eEAAARzUmDod3xPmKAAquAk9Hl6x7Z1QrXwdaYMEJRL8pMtrO2zNseMbtV4RpVib0AAOmeDmWCZFoEAAAAkQZ+4RRUsI/8AABh/dR0LXmngxfNhU9d03owc3hY9BHk+ocTBAAAAQgGf13RH/wAAJr/vbp03zcMAiQQbcyHac+p5K3i6AEso3DogCErJ34RPC8sF9f/3wcYb0e+PaY8R+KTCdKIB7TmgQAAAAD0Bn9lqR/8AACatW+aGmYzLqpk5dyov7OFk6BVRT0t7XUzWsq0gA7W1QvBn/m3fCcApIAJamln4Akz5josrAAAAVUGb3kmoQWyZTAhH//3hAAAEk1NJNlX4cu5pw6I5F8ZD/YABQsMZfFJQUpjs6UVViB2kq/VoxBLrJFRzBtOaLKZV6PGSbX6bnOdFL1s+U7YGiFGZrEAAAAAtQZ/8RRUsI/8AABkodGwfx4O79/jAZusxnUVG+Lfjf5Lp3sr4Y2VHSDN2B+VBAAAAJgGeG3RH/wAAJ95YkWQbhTtGep/pfkkRE02Ad5Nc3mwcZFm2/UndAAAAIwGeHWpH/wAAJ9cy4ayDyRhyGv646PCwsmG544bPkN87RUfBAAAAbkGaAkmoQWyZTAhH//3hAAAEk1Jg6Hd8T8U0SOL6dG1Qz/i06nOin/dPNclCBkaURqu0EXBkDe69pkrHT7yJYH8Wy+SXk10+TCocPve7gGamMmFHC+ez4MX1HbTUuVREzZOPnGCYPdiUj1GFhFkyAAAALUGeIEUVLCP/AAAZH3VJCq+u/0OiS8X0GTtNjkxFD8Skm8WAcfVz8JK8ioLp3QAAACQBnl90R/8AACfanO1JTVyJLIdRpR2r8bny3gGmj2yVIVCj4IAAAAAqAZ5Bakf/AAAnxBm8jZkGn7DbABkFYhUO0p8iF1IZfropd0j4Iy7hRHWBAAAARkGaREmoQWyZTBRMI//94QAABLNL5LtklIPV8FmtoBQmQTlplS+oKcjwuwyZWddypmkMuPlSQE/JliTvYc802WNQaJ6T04AAAAAnAZ5jakf/AAAo5BmXyQhg7Piit67UUJDmKRaRPNR8IO8ZTeQkJRpxAAAAUkGaaEnhClJlMCEf/eEAAASzU9Q6GBmPKO8oavU/9j0UoXsNnC9SEFY4NMPWl8rQRh5n6INw/EIMgGAYNL2Li1GqrX+NP7F1FQ9Kc2Jju0k2N4EAAAAjQZ6GRTRMI/8AABm/ha9C15p4MXzYVPXdN6NmzeFYyL/5rtEAAAA5AZ6ldEf/AAAo+pztSV2wEBImIAibUU4ck9QJaAeL1z/cPwEcJQdq4QAl0wLnf9GwyBkXwLOXw3bBAAAAMwGep2pH/wAAKOKdDCQPW0eP2jiSHfpx1BEbbARXgc9zMopAvijkZao5lcEBP+Y1LobAgAAAAEdBmqpJqEFomUwU8I/94QAABNNL5pgLmaAzHd9BPWaeOBRa7GxsGSlg41lpnjJR8OxnkR0yUmgRL2BzBMyBWLtJlx64r5qLgAAAADIBnslqR/8AACoZgZFKqHhaJkozOuGUTttB/sCjLSy40nENoP62FsFE36YDOeQh+sLHgQAAAFVBms5J4QpSZTAhH/3hAAAE1LhDySAOQfeZ1LS3eSSwlR/7kNMXWspSIAfAyXN3vwvfFzB1oBqhpAegXYGz/wurl1psfS6AOwSZx0OZavH9e3hnaGGwAAAALEGe7EU0TCP/AAAaX4WvQtfTgAHGZ+NwIMZwkI2gzxZYXh1c3a/gln9cyvCAAAAALAGfC3RH/wAAKhm2GSW16RZRH6gdFAXD3+uhOgrtzngAAmj4/nLaDWHNHdgRAAAAKwGfDWpH/wAAKgKctMrvwYzc4q8w/aWMlg4G4PEl4//iLbdKuV/3WQQd3XcAAABWQZsQSahBaJlMFPH//IQAABNLZYifRqKBVUF0pHd2j7jqxfGlHGGzxLuCu0KjH2foKUjWy4W2/tMj+FbpXUZ67y3BO3OyW3tub/9GDqRyMMdKIJoZ+jkAAAAnAZ8vakf/AAArJBmXx3bvyrEXWS8vhTjgwXEBbA7ChKZBHiDARsaoAAAATUGbMUnhClJlMCEf/eEAAAT3MG0l2HMWEKyB7grhAAoU8hFjbVSEt/VZhK4MX/VIU0AxFqEVhGKAiT/7f0hTiH8fn01p6XrC8Z2yRbmSAAAAgUGbVUnhDomUwIR//eEAAAUZlOc2yXH/LyLdmIqAKwYhb+TFUKDApay4OcheIDDZh8E5hetdmZU3GEtriofQ/nPCCUohB/S9CL1Q047JqiZREV4SIYwPbOIWzLV4zRGYwvtBkR/K1VqNGs8HEjMTQl39U/eOdTh9er88a9y+yYG/0QAAADNBn3NFETwj/wAAG6l8hVJgtmMq25ce6lk8+hAGj169jyJQwKSBPtRr5q88qitrbubea2AAAAApAZ+SdEf/AAArObXbOJHkX5GDEr6SDyCAKAEsp+jSv1sjB7N7I8b1LYAAAAAtAZ+Uakf/AAAsWYDX4VkMshbeGqZgwX3ID10AJKUXlxO/IjzAQIu6QfG+npwhAAAASUGbmUmoQWiZTAhH//3hAAAFGZToOhgZj1JvKGr61/Y9FTmmIZewIAUWsiljH5WxI9T4lzY35jIF/58kq2zgKarTqpJaToSRKIAAAAApQZ+3RREsI/8AABufkgdC15p4MX0iM2zR1BGKoZTRmfu3sDbx2PJ1LaEAAAA9AZ/WdEf/AAAsWbYZJbh0igJ9do7aWpvO9bxBzuWaoexan4/74KW8zgcRxUwtEOpaqqVjRSFwBLsByRZbQQAAACIBn9hqR/8AACxCnQyob1EAxHKl4IELWEwS9B3r9lPnMKygAAAAbkGb20moQWyZTBRMf/yEAAAUZK/kXk/NgVjpa2RdPkD57K1PPeibP4VNBbkipsI0B6lmNjEMLkRNj22DpDMZKhiNgCoQov0VeLY5dwpwT5AJt6R3OBMzLZVpT5wp7WBBkSaavEOSkbDqAAeOIdyLAAAALAGf+mpH/wAALWMOWv4MGq10CgBJePhRFT7/DHOmphDBSqOiJMBabqKOxF+AAAAAVkGb/EnhClJlMCEf/eEAAAVBpCOiA0lmP6pp1xP5J6k+qJcCitk8QmFBnPK2McTPcgPltE9UkIDL4rLjV8jnD4Sciqi4ZyVK2VsGNdgdZguMYj//UU9bAAAATkGaH0nhDomUwI///IQAABT0xRKX6FZf4h8Ik6BTkK2vi8yJmsAfsCGjtpwaX0M8CT+WShC6rgCjPhaKzrvyLCW4vK+WWT7+8D2SoBonnQAAAC5Bnj1FETwj/wAAHQh6uuuOoqat2+Hff0zCP6570JkHZZfcMOVWGbv7MsGYQFeAAAAAQQGeXmpH/wAALplrfU3hsJwsOAAWxi2nfHEcktQ/EbQNLx/sqonzumZgPVOu5vpX51a47Fyed8JviDQBXW/OTItQAAAAQkGaQEmoQWiZTAj//IQAABT0To+2/QGIA3aPOU6Gx0coAbF7/MRAghSopvhDK5DXOmTWohtdflrzPbs+oCiU9Pg34QAAAF9BmmFJ4QpSZTAhH/3hAAAFZjBQaAH9+sjuDrLS6WZWi9iQqlmH8geqAkVRdBpISL+mcBfNd7C6u+2BKAPzdZzAGhB7ZzK7D15gBINw2TdH6+8Ck1WdH9r8W3sTw8PEYAAAAFNBmoNJ4Q6JlMFNEwj//eEAAAVhkDjoYGpWCfSwKkKUAAVWxz8dCYfqTwCEBtrCl1TLwT/Ghf5w2boG2VWqUjVlu1R/LM139cAFC+soWn8tHS+SQQAAACgBnqJqR/8AAC6WwRWNhFFyfXr0jWX7OQ4GSTT5Tw9uCXP4tXLnazboAAAAXEGapUnhDyZTBTwj//3hAAAFhzGOiktfUOUVAIC3noAdWh5rR0VTGvI6usNeDffzXEmevO1TxJK+qjlGDXg37oLUZc9AnJNpKwMPLjREiT7ftXxKggbzPrmZo13hAAAAOAGexGpH/wAAL7cX+DoWqT1Uj+EJm087eXsraobr06ao0B3QKTKlHLZbkVULmkR/fwuoHnLodFOBAAAAfUGayEnhDyZTAj///IQAABYUy2YrFL83XBph6akOnkAy4uRa3ng8QPJ70hZy/eLZAxdrkfMtse7hK95xJMfFWZKCIBFoLaAWHNzldv3lf+1kfFriqFUHBEXCnqvUVWR8CkeSR+m49p1s9S0cNFtskd/zt0iErXzCIoZ58e1PAAAARUGe5kURPCP/AAAeaHrTfF6fPP8Mz8UYmWWAt//uuFSxG2B5a/YoABx8K71rJp9MHP/l/E9D5FA6iLikdKZWiuJiM/bTgQAAACwBnwdqR/8AADESO+7N4aBwkdaF4h6pzgeJ037bHS+H7NylZCKAbG+yNRLo0AAAAGlBmwlJqEFomUwIR//94QAABal/kr+cQFdgHZhxn5daE9XL8tvV/LyckXmBIOSoVrnUEvV8Xn61mwveyWMzmIC3nJ/EHSbl1U/3k3xwOQwJ9RzZAqO+ZEBId9KBXKFXkOUDJ407lTySbvAAAAB1QZssSeEKUmUwI//8hAAAFqTLYUE565nBfzeYutC918kEHJ5QyURiVAagwPy1Wfracj7QbYK/CbMqpBN7RibG43dzim0hYE2DZ3Scw/QuHXQ9qDOfQZLWcr59qQavclT65LGqrKzMgxIzPs23Ab8dzUclhsDZAAAAKkGfSkU0TCP/AAAfGHrTm8/ip1LFyZKFL4rtQnib4nwtDvoU1mAc+e4aYAAAACcBn2tqR/8AADJSO+7N4bA5RDYrVegcaD/q0ZIv19J06I+sbpuWKkgAAABGQZttSahBaJlMCEf//eEAAAXNiDLf6Ug5LsBkuBttFd0dqsAAFVoBI4JYpZuDdbr4vaOscy7wtbBpjGBT1tsPHQTBrLBcMQAAAFZBm5FJ4QpSZTAj//yEAAAXNNgBRZHrmb3iFHhXqtFTDbD5bnf48NF2tIsR9dkFB4qF/ZvseSsRYSVO7VKu8/3cXAF5UGj0vQWFkkHVr20jMjPeCGjXvQAAADlBn69FNEwj/wAAH8hyIpJgudd6qNK74ynDisd40sSBZtLjqZfqJUkcH5Muazbehe6ClCTXJBkAoIEAAAAnAZ/OdEf/AAAyUeH4nTfNrwuvTP63rQnqQkIpyXYyh8QZLCUMy9aCAAAALwGf0GpH/wAAM3ee+vwW8Pf9Z5/BEAtpVT5nzHHtxoHgJmvwgKXCZ87iahpisga9AAAASEGb0kmoQWiZTAhH//3hAAAF9Egy3+lF7noQLEw6n4FS5YQbatqd25g+LSWAl8vlyxlT9juXoAuPa2Ye5Fwjkh4bTg6y6zsYgQAAAHhBm/VJ4QpSZTAj//yEAAAX0A6JQk/rmb2rgmUB/vfQAxZ76gEHmCwN0gmarY3LxoHHK1UNP9t2dri5R8maeQX9NMAWqelgoyu+CJYuZ+rHZ8ALR/DOPLCvfJ3i7X1lApafKbeYBbUOTWCj1P/0XGrYBWl3805amAIAAABAQZ4TRTRMI/8AACC8eS0kwWzPnJU6xTUjg/amf/gQCw8wCQFEKQFTL4pGo5vW6MklDmbr2dh66/oADRSBJe2CNAAAACoBnjRqR/8AADS3nvr8HS0YhbIKFpePtLMGjHHuCQiVkCdRN+b+Y2w5azEAAAA0QZo2SahBaJlMCEf//eEAAAYcSDLf6Ug9XxH1b47uGOqd9RLGntPc5zZ123+97ag+CFopsAAAAFlBmlhJ4QpSZTBREsf//IQAABhwAek99+uZvli55CdCmCDUM5pQi0AXDhr2PCX4wkDrJ41MzfgIduOgP+bLE0q/qZWde84r6uLJxomNzGvcA5bEzD5EO8jQGwAAACoBnndqR/8AADYSO+7N4bB+vEDKDq1gU5/2nKrbznW0l96wY1qq4l/IEvEAAABPQZp5SeEOiZTAhH/94QAABkXxjopLvpeqqGQ2TpDvfOuIwQAHTYBQOrpbg/iLmd+aVqBrofzJb6al9u1Z6hBqzKZ3n7/XUcy9TpWr0bLG4AAAAHBBmpxJ4Q8mUwI///yEAAAZEBIEFotz7Wb2hxSeAfIhp9e/FGQ8CqAKleVmB8uzGGus7khI1mpaZQxn50j3n1sJkAHBevDzwpA137vIcDLn8KWAv63eXIlFt7ZRZdIjfDDHx8Ci06OcgN2z91NL/zQhAAAAZUGeukURPCP/AAAivIWnWzQO+EmpcYABbLr5j4zKzFFedvdRu0qCKpwRtrGd13hCnPKPNpqBX1KV4kSCQ5PZRoLtTF4vbNRmkqTdkVLqgIOIa+jgjvngt4KnfpFbAKWEKa38r4eAAAAAMgGe22pH/wAAN08oLPhY93uKyne1aaYdA9DRJlECJoW9L33HClP+F/kVSRaU3yJwEsOJAAAAbUGa3UmoQWiZTAhH//3hAAAGbEteDyooNv9bs2eIRFBAALC57UzMsQlN6373eWCGkceBkpAsOkgjZQeiORCvCHk4ZZ5lWorTRyUXLX2Qyme4Y3tlfnfqnFtG5L7kZDkmr0PKlIrg6K0RTFHJRC8AAABiQZr/SeEKUmUwURLH//yEAAAZt7FBQ8Q2XmXMm5HWvC262TFTLFlcejQtIbxg+82W32MhVVR+7PQe2hNwM94XVgTFTzsJz2gBFnMQJhDjfmDaHZmvAWD14NtroqmUAzEJbiQAAAAoAZ8eakf/AAA4smDLgcu3sdkAzE2PomJk6P8NbZM2znBoZP9tmjlYMAAAAF9BmwBJ4Q6JlMCFf/44QAABsAcFVlIULsmJwHPVV65Qd9dhc5ZvvB67IVSUeAAC2hgmHBoXC5WRKL5j29/UKZsl6ST+1PQKJVsX25q85i1JPM74U+FBMFSl3WNitr9mRwAAAFZBmyNJ4Q8mUwIV//44QAABrz5v6VLNb27sEpy+Pt/6onD3y3OH5hY1kFUDSaozNxHpY5ucA/ATMAo826ObXDvFngmZn1iy3GSoy7ApVs0dEGXNczRWYAAAADlBn0FFETwj/wAAI8R+bvL+LvM+NBzliYrHmJWCX2kBdQ6KjFVRbYQs43J8KYFE9vaqv5XN8HMH3oEAAAAwAZ9iakf/AAA4rD1phRn/NwKg1QMUpyicHU/acieMspIjFDJOHyygKI6xr5ZsflKfAAAAOEGbZ0moQWiZTAj//IQAABnfRROXsVAthEepTFvFpYyALMn8iF53R0JpZPxqnmfaaxpe+pa2oQ6ZAAAALUGfhUURLCP/AAAjs0kKDuHEph+ZGOFh93wYfiOSj+CMNMVtdMpnEzuMPXs26QAAACkBn6R0R/8AADiUaIE8AGwINQmM5BBRx6ptjJmNw3z5mRJ47mNzAjz3KwAAABYBn6ZqR/8AAAMBJbPuWcY/KSO9/1yNAAAJU21vb3YAAABsbXZoZAAAAAAAAAAAAAAAAAAAA+gAAAqgAAEAAAEAAAAAAAAAAAAAAAABAAAAAAAAAAAAAAAAAAAAAQAAAAAAAAAAAAAAAAAAQAAAAAAAAAAAAAAAAAAAAAAAAAAAAAAAAAAAAAAAAAIAAAh9dHJhawAAAFx0a2hkAAAAAwAAAAAAAAAAAAAAAQAAAAAAAAqgAAAAAAAAAAAAAAAAAAAAAAABAAAAAAAAAAAAAAAAAAAAAQAAAAAAAAAAAAAAAAAAQAAAAAJYAAABkAAAAAAAJGVkdHMAAAAcZWxzdAAAAAAAAAABAAAKoAAAAgAAAQAAAAAH9W1kaWEAAAAgbWRoZAAAAAAAAAAAAAAAAAAAMgAAAIgAVcQAAAAAAC1oZGxyAAAAAAAAAAB2aWRlAAAAAAAAAAAAAAAAVmlkZW9IYW5kbGVyAAAAB6BtaW5mAAAAFHZtaGQAAAABAAAAAAAAAAAAAAAkZGluZgAAABxkcmVmAAAAAAAAAAEAAAAMdXJsIAAAAAEAAAdgc3RibAAAALBzdHNkAAAAAAAAAAEAAACgYXZjMQAAAAAAAAABAAAAAAAAAAAAAAAAAAAAAAJYAZAASAAAAEgAAAAAAAAAARVMYXZjNjAuMzEuMTAyIGxpYngyNjQAAAAAAAAAAAAAABj//wAAADZhdmNDAWQAH//hABlnZAAfrNlAmDPl4QAAAwABAAADAGQPGDGWAQAGaOvjyyLA/fj4AAAAABRidHJ0AAAAAAAAdBUAAHQVAAAAGHN0dHMAAAAAAAAAAQAAAIgAAAEAAAAAFHN0c3MAAAAAAAAAAQAAAAEAAAQYY3R0cwAAAAAAAACBAAAAAQAAAgAAAAABAAAFAAAAAAEAAAIAAAAAAQAAAAAAAAABAAABAAAAAAEAAAUAAAAAAQAAAgAAAAABAAAAAAAAAAEAAAEAAAAAAQAABQAAAAABAAACAAAAAAEAAAAAAAAAAQAAAQAAAAABAAAFAAAAAAEAAAIAAAAAAQAAAAAAAAABAAABAAAAAAEAAAUAAAAAAQAAAgAAAAABAAAAAAAAAAEAAAEAAAAAAQAABQAAAAABAAACAAAAAAEAAAAAAAAAAQAAAQAAAAABAAAFAAAAAAEAAAIAAAAAAQAAAAAAAAABAAABAAAAAAEAAAUAAAAAAQAAAgAAAAABAAAAAAAAAAEAAAEAAAAAAQAABQAAAAABAAACAAAAAAEAAAAAAAAAAQAAAQAAAAABAAAFAAAAAAEAAAIAAAAAAQAAAAAAAAABAAABAAAAAAEAAAUAAAAAAQAAAgAAAAABAAAAAAAAAAEAAAEAAAAAAQAAAwAAAAABAAABAAAAAAEAAAUAAAAAAQAAAgAAAAABAAAAAAAAAAEAAAEAAAAAAQAABQAAAAABAAACAAAAAAEAAAAAAAAAAQAAAQAAAAABAAAFAAAAAAEAAAIAAAAAAQAAAAAAAAABAAABAAAAAAEAAAUAAAAAAQAAAgAAAAABAAAAAAAAAAEAAAEAAAAAAQAABQAAAAABAAACAAAAAAEAAAAAAAAAAQAAAQAAAAABAAADAAAAAAEAAAEAAAAAAQAABQAAAAABAAACAAAAAAEAAAAAAAAAAQAAAQAAAAABAAADAAAAAAEAAAEAAAAAAQAABQAAAAABAAACAAAAAAEAAAAAAAAAAQAAAQAAAAABAAADAAAAAAEAAAEAAAAAAQAAAgAAAAABAAAFAAAAAAEAAAIAAAAAAQAAAAAAAAABAAABAAAAAAEAAAUAAAAAAQAAAgAAAAABAAAAAAAAAAEAAAEAAAAAAQAAAwAAAAABAAABAAAAAAEAAAIAAAAAAQAABAAAAAACAAABAAAAAAIAAAIAAAAAAQAAAwAAAAABAAABAAAAAAEAAAMAAAAAAQAAAQAAAAABAAAEAAAAAAIAAAEAAAAAAQAAAgAAAAABAAAEAAAAAAIAAAEAAAAAAQAAAgAAAAABAAAFAAAAAAEAAAIAAAAAAQAAAAAAAAABAAABAAAAAAEAAAIAAAAAAQAABAAAAAACAAABAAAAAAEAAAIAAAAAAQAAAwAAAAABAAABAAAAAAEAAAIAAAAAAQAABAAAAAACAAABAAAAAAEAAAIAAAAAAQAAAwAAAAABAAABAAAAAAEAAAIAAAAAAQAABAAAAAACAAABAAAAAAEAAAUAAAAAAQAAAgAAAAABAAAAAAAAAAEAAAEAAAAAHHN0c2MAAAAAAAAAAQAAAAEAAACIAAAAAQAAAjRzdHN6AAAAAAAAAAAAAACIAAAEZwAAAJ0AAAA6AAAAIgAAADQAAACGAAAAJQAAACYAAAASAAAAlgAAACkAAAAgAAAAFQAAAJUAAABJAAAANAAAACQAAABsAAAAMAAAAB4AAAAjAAAAUgAAACoAAAAgAAAAMwAAAFgAAAAyAAAAKgAAACkAAACJAAAAPwAAACoAAAAtAAAAWAAAAEcAAAA4AAAAOQAAAFcAAAAtAAAAKQAAAC4AAABnAAAAMwAAADsAAAA8AAAAYgAAAC4AAAByAAAALQAAACgAAAAnAAAAZgAAAD4AAAAtAAAAKQAAAEsAAAAoAAAARgAAAEEAAABZAAAAMQAAACoAAAAnAAAAcgAAADEAAAAoAAAALgAAAEoAAAArAAAAVgAAACcAAAA9AAAANwAAAEsAAAA2AAAAWQAAADAAAAAwAAAALwAAAFoAAAArAAAAUQAAAIUAAAA3AAAALQAAADEAAABNAAAALQAAAEEAAAAmAAAAcgAAADAAAABaAAAAUgAAADIAAABFAAAARgAAAGMAAABXAAAALAAAAGAAAAA8AAAAgQAAAEkAAAAwAAAAbQAAAHkAAAAuAAAAKwAAAEoAAABaAAAAPQAAACsAAAAzAAAATAAAAHwAAABEAAAALgAAADgAAABdAAAALgAAAFMAAAB0AAAAaQAAADYAAABxAAAAZgAAACwAAABjAAAAWgAAAD0AAAA0AAAAPAAAADEAAAAtAAAAGgAAABRzdGNvAAAAAAAAAAEAAAAwAAAAYnVkdGEAAABabWV0YQAAAAAAAAAhaGRscgAAAAAAAAAAbWRpcmFwcGwAAAAAAAAAAAAAAAAtaWxzdAAAACWpdG9vAAAAHWRhdGEAAAABAAAAAExhdmY2MC4xNi4xMDA=\" type=\"video/mp4\">\n",
       " Your browser does not support the video tag.\n",
       " </video></div>"
      ],
      "text/plain": [
       "<IPython.core.display.HTML object>"
      ]
     },
     "metadata": {},
     "output_type": "display_data"
    }
   ],
   "source": [
    "if not skip_training:\n",
    "    # Test Result\n",
    "    \n",
    "    video_dir = work_dir/'video'/'CartPole-v1'/'test'\n",
    "    \n",
    "    # List all MP4 files in the directory\n",
    "    mp4_files = [file for file in os.listdir(video_dir) if file.endswith(\".mp4\")]\n",
    "    frame_colors = ['#FF5733', '#33FF57', '#5733FF', '#FFFF33', '#33FFFF', '#FF33FF']\n",
    "    # Display each MP4 file\n",
    "    for i, mp4_file in enumerate(mp4_files):\n",
    "        video_path = os.path.join(video_dir, mp4_file)\n",
    "        video = Video(video_path, embed=True, html_attributes=\"loop autoplay\", width=200, height=100)\n",
    "        frame_color = frame_colors[i % len(frame_colors)]\n",
    "        video_frame = HTML(f'<div style=\"width: 200px; height: 100px;; border: 1px solid #5733FF;\">{video._repr_html_()}</div>')\n",
    "        print(\"test/\",mp4_file)\n",
    "        display(video_frame)"
   ]
  },
  {
   "cell_type": "markdown",
   "id": "b9298a34",
   "metadata": {
    "deletable": false,
    "editable": false,
    "nbgrader": {
     "cell_type": "markdown",
     "checksum": "29f3456bbec5bacc9d93ec415d74e5d3",
     "grade": false,
     "grade_id": "cell-9b1e05f80922c2bf",
     "locked": true,
     "schema_version": 3,
     "solution": false,
     "task": false
    },
    "tags": []
   },
   "source": [
    "<a id='Q1'></a>\n",
    "<div class=\" alert alert-warning\">\n",
    "    <h3><b>Student Question 1.1</b> Learning (10 points) </h3> \n",
    "\n",
    "Test the trained model from Task 1 five times with different random seeds. Did the same model, trained to balance for 100 timesteps, learn to always balance the pole for 1000 timesteps? Why/why not?\n",
    "    \n",
    "🔝\t<a href='#TOC'><b>Table of Contents</b></a>\n",
    "</div>\n"
   ]
  },
  {
   "cell_type": "code",
   "execution_count": 8,
   "id": "e76718b1",
   "metadata": {
    "tags": []
   },
   "outputs": [],
   "source": [
    "#Evaluate the trained model by setting 5 different random seeds chosen by you\n",
    "#Type 5 different  random seeds  in eval_seeds array\n",
    "eval_seeds =  [1, 4, 5, 15, 98]"
   ]
  },
  {
   "cell_type": "code",
   "execution_count": 9,
   "id": "1549ae65",
   "metadata": {
    "deletable": false,
    "editable": false,
    "nbgrader": {
     "cell_type": "code",
     "checksum": "55507b4aacb261bb5e0c39e9fb9933f9",
     "grade": true,
     "grade_id": "cell-a885538088286a64",
     "locked": true,
     "points": 0,
     "schema_version": 3,
     "solution": false,
     "task": false
    },
    "tags": []
   },
   "outputs": [],
   "source": [
    "assert len(set(eval_seeds)) == 5"
   ]
  },
  {
   "cell_type": "code",
   "execution_count": 10,
   "id": "8ea940e9",
   "metadata": {
    "deletable": false,
    "editable": false,
    "nbgrader": {
     "cell_type": "code",
     "checksum": "ebb50086ad7448789468612578cd825d",
     "grade": true,
     "grade_id": "cell-2f9ca7392eabd6d2",
     "locked": true,
     "points": 0,
     "schema_version": 3,
     "solution": false,
     "task": false
    },
    "tags": []
   },
   "outputs": [
    {
     "name": "stdout",
     "output_type": "stream",
     "text": [
      "Numpy/Torch/Random Seed:  1\n",
      "Loading model from /notebooks/rl2024/ex1/results/model/CartPole-v1_params.pt ...\n",
      "Testing...\n",
      "Test ep reward: 127.0 seed: 1\n",
      "Average test reward: 127.0 episode length: 127.0\n",
      "Numpy/Torch/Random Seed:  4\n",
      "Loading model from /notebooks/rl2024/ex1/results/model/CartPole-v1_params.pt ...\n",
      "Testing...\n",
      "Test ep reward: 148.0 seed: 4\n",
      "Average test reward: 148.0 episode length: 148.0\n",
      "Numpy/Torch/Random Seed:  5\n",
      "Loading model from /notebooks/rl2024/ex1/results/model/CartPole-v1_params.pt ...\n",
      "Testing...\n",
      "Test ep reward: 138.0 seed: 5\n",
      "Average test reward: 138.0 episode length: 138.0\n",
      "Numpy/Torch/Random Seed:  15\n",
      "Loading model from /notebooks/rl2024/ex1/results/model/CartPole-v1_params.pt ...\n",
      "Testing...\n",
      "Test ep reward: 130.0 seed: 15\n",
      "Average test reward: 130.0 episode length: 130.0\n",
      "Numpy/Torch/Random Seed:  98\n",
      "Loading model from /notebooks/rl2024/ex1/results/model/CartPole-v1_params.pt ...\n",
      "Testing...\n",
      "Test ep reward: 130.0 seed: 98\n",
      "Average test reward: 130.0 episode length: 130.0\n"
     ]
    }
   ],
   "source": [
    "%%capture --no-stdout\n",
    "def question1_1_evaluate1(eval_seeds):\n",
    "    mean_reward = []\n",
    "\n",
    "    for seed in eval_seeds:\n",
    "        acc_rewards = t.test(episodes=1, cfg_path=Path().cwd()/'cfg'/'cartpole_v1.yaml', \n",
    "            cfg_args=dict(testing=True,save_video=False, save_logging=False, save_model=False, \n",
    "            seed=seed, max_episode_steps=1000, model_name=\"CartPole-v1\"))\n",
    "        mean_reward.append(acc_rewards)\n",
    "\n",
    "    return np.mean(mean_reward)\n",
    "\n",
    "assert question1_1_evaluate1(eval_seeds) > 100"
   ]
  },
  {
   "cell_type": "markdown",
   "id": "5d817076",
   "metadata": {
    "deletable": false,
    "editable": false,
    "nbgrader": {
     "cell_type": "markdown",
     "checksum": "f6c1beea3fe0d08543135685a1b18a53",
     "grade": false,
     "grade_id": "cell-34afac26642e2bc4",
     "locked": true,
     "schema_version": 3,
     "solution": false,
     "task": false
    }
   },
   "source": [
    "### Question:\n",
    "Did the same model consistently balance the pole for 1000 timesteps? Select the most appropriate answer.\n",
    "\n",
    "**Options:**\n",
    "Choices:\n",
    "1. No, the agent generally failed around 100-200 timesteps because it encountered unfamiliar states.\n",
    "\n",
    "2. Yes, the agent balanced the pole for 1000 timesteps in every test due to a perfectly learned policy.\n",
    "\n",
    "3. No, although the agent sometimes balanced the pole for 1000 timesteps, it typically failed due to limited generalization to new states.\n",
    "\n",
    "4. Yes, but only with some random seeds; it failed to generalize this behavior across all tests.\n",
    "\n",
    "5. No, the agent frequently moved out of bounds or the pole tilted too much, showing poor adaptation.\n",
    "\n",
    "6. Yes, the agent demonstrated perfect control in all tests due to effective training.\n",
    "\n",
    "7. No, the agent's performance varied significantly with different random seeds, indicating inconsistency in learned behavior.\n",
    "\n",
    "\n"
   ]
  },
  {
   "cell_type": "code",
   "execution_count": 11,
   "id": "3b571667",
   "metadata": {
    "tags": []
   },
   "outputs": [],
   "source": [
    "sq1_1 = 3 #Answer question 1.1 with the appropriate answer number"
   ]
  },
  {
   "cell_type": "code",
   "execution_count": 12,
   "id": "53d85d22",
   "metadata": {
    "deletable": false,
    "editable": false,
    "nbgrader": {
     "cell_type": "code",
     "checksum": "11c62ac2a464b078e231c9be051ec0cc",
     "grade": true,
     "grade_id": "cell-c0b2457bfc16e0b6",
     "locked": true,
     "points": 0,
     "schema_version": 3,
     "solution": false,
     "task": false
    },
    "tags": []
   },
   "outputs": [],
   "source": [
    "assert sq1_1 in range(1,8)"
   ]
  },
  {
   "cell_type": "markdown",
   "id": "d0b1a1ca",
   "metadata": {},
   "source": [
    "The following cells are used for grading"
   ]
  },
  {
   "cell_type": "code",
   "execution_count": null,
   "id": "7799a07e",
   "metadata": {
    "deletable": false,
    "editable": false,
    "nbgrader": {
     "cell_type": "code",
     "checksum": "e0f7503516a3888a3292ce9546eec77f",
     "grade": true,
     "grade_id": "cell-47569346bb4f32fa",
     "locked": true,
     "points": 5,
     "schema_version": 3,
     "solution": false,
     "task": false
    }
   },
   "outputs": [],
   "source": []
  },
  {
   "cell_type": "code",
   "execution_count": null,
   "id": "a14c81c7",
   "metadata": {
    "deletable": false,
    "editable": false,
    "nbgrader": {
     "cell_type": "code",
     "checksum": "c67b46c2518a7daaee9b7ded56f1ccff",
     "grade": true,
     "grade_id": "cell-c5e675812f807564",
     "locked": true,
     "points": 5,
     "schema_version": 3,
     "solution": false,
     "task": false
    }
   },
   "outputs": [],
   "source": []
  },
  {
   "cell_type": "markdown",
   "id": "9f3b5ed9",
   "metadata": {
    "deletable": false,
    "editable": false,
    "nbgrader": {
     "cell_type": "markdown",
     "checksum": "3c7f39f15f26fcd1226ebdec7f666a26",
     "grade": false,
     "grade_id": "cell-6fdccf7da0340917",
     "locked": true,
     "schema_version": 3,
     "solution": false,
     "task": false
    }
   },
   "source": [
    "<a id='T2'></a>\n",
    "<div class=\" alert alert-warning\">\n",
    "    <h3><b>Student Task 2.</b> Investigating Training Performance (10 points) </h3> \n",
    "\n",
    "Repeat the experiment in Task 1 five times, each time training the model from scratch with 100 timesteps and testing it for 1000 timesteps. Use a different seed number for each training/testing cycle. You can use the box below to write a small script to do this. Use the result textbox below to report the average test reward for each repeat. \n",
    "    \n",
    "🔝\t<a href='#TOC'><b>Table of Contents</b></a>\n",
    "</div>\n"
   ]
  },
  {
   "cell_type": "markdown",
   "id": "aa8b9768",
   "metadata": {
    "deletable": false,
    "editable": false,
    "nbgrader": {
     "cell_type": "markdown",
     "checksum": "0e6bbcf84dee7d5a7e4e77f40fef39da",
     "grade": false,
     "grade_id": "cell-52c4064985fce5f1",
     "locked": true,
     "schema_version": 3,
     "solution": false,
     "task": false
    }
   },
   "source": [
    "Make sure to change the model_name for each agent to the ones given and and that the respective parameter file is saved in results/model/\n",
    "\n",
    "In order to get the points for this exercise each of the agents must have a test accuracy of higher than 100."
   ]
  },
  {
   "cell_type": "code",
   "execution_count": 16,
   "id": "01cb1f80",
   "metadata": {
    "tags": []
   },
   "outputs": [
    {
     "name": "stdout",
     "output_type": "stream",
     "text": [
      "Numpy/Torch/Random Seed:  1\n",
      "Configuration Settings: {'exp_name': 'ex1', 'seed': 1, 'env_name': 'CartPole-v1', 'model_name': 'CartPole-v1-model0', 'max_episode_steps': 100, 'train_episodes': 500, 'batch_size': 64, 'min_update_samples': 2000, 'testing': False, 'model_path': 'default', 'save_video': True, 'save_model': True, 'save_logging': True, 'silent': False, 'use_wandb': True, 'run_suffix': 0}\n",
      "Training device: cpu\n",
      "Observation space dimensions: 4\n",
      "Action space dimensions: 2\n",
      "\n"
     ]
    },
    {
     "name": "stderr",
     "output_type": "stream",
     "text": [
      "/opt/software/lib/python3.10/site-packages/gymnasium/wrappers/record_video.py:87: UserWarning: \u001b[33mWARN: Overwriting existing videos at /notebooks/rl2024/ex1/results/video/CartPole-v1/train folder (try specifying a different `video_folder` for the `RecordVideo` wrapper if this is not desired)\u001b[0m\n",
      "  logger.warn(\n"
     ]
    },
    {
     "name": "stdout",
     "output_type": "stream",
     "text": [
      "Episode 0 finished. Total reward: 14.0 (14 timesteps)\n",
      "Episode 5 finished. Total reward: 38.0 (38 timesteps)\n",
      "Episode 10 finished. Total reward: 14.0 (14 timesteps)\n",
      "Episode 15 finished. Total reward: 83.0 (83 timesteps)\n",
      "Episode 20 finished. Total reward: 12.0 (12 timesteps)\n",
      "Episode 25 finished. Total reward: 18.0 (18 timesteps)\n",
      "Episode 30 finished. Total reward: 36.0 (36 timesteps)\n",
      "Episode 35 finished. Total reward: 16.0 (16 timesteps)\n",
      "Episode 40 finished. Total reward: 29.0 (29 timesteps)\n",
      "Episode 45 finished. Total reward: 15.0 (15 timesteps)\n",
      "Episode 50 finished. Total reward: 15.0 (15 timesteps)\n",
      "Episode 55 finished. Total reward: 27.0 (27 timesteps)\n",
      "Episode 60 finished. Total reward: 33.0 (33 timesteps)\n",
      "Episode 65 finished. Total reward: 11.0 (11 timesteps)\n",
      "Episode 70 finished. Total reward: 27.0 (27 timesteps)\n",
      "Episode 75 finished. Total reward: 13.0 (13 timesteps)\n",
      "Episode 80 finished. Total reward: 9.0 (9 timesteps)\n",
      "Episode 85 finished. Total reward: 19.0 (19 timesteps)\n",
      "Updating the policy...\n",
      "Updating finished!\n",
      "Episode 90 finished. Total reward: 58.0 (58 timesteps)\n",
      "Episode 95 finished. Total reward: 13.0 (13 timesteps)\n",
      "Episode 100 finished. Total reward: 17.0 (17 timesteps)\n",
      "Episode 105 finished. Total reward: 17.0 (17 timesteps)\n",
      "Episode 110 finished. Total reward: 27.0 (27 timesteps)\n",
      "Episode 115 finished. Total reward: 9.0 (9 timesteps)\n",
      "Episode 120 finished. Total reward: 17.0 (17 timesteps)\n",
      "Episode 125 finished. Total reward: 13.0 (13 timesteps)\n",
      "Episode 130 finished. Total reward: 26.0 (26 timesteps)\n",
      "Episode 135 finished. Total reward: 9.0 (9 timesteps)\n",
      "Episode 140 finished. Total reward: 89.0 (89 timesteps)\n",
      "Episode 145 finished. Total reward: 14.0 (14 timesteps)\n",
      "Episode 150 finished. Total reward: 30.0 (30 timesteps)\n",
      "Episode 155 finished. Total reward: 27.0 (27 timesteps)\n",
      "Episode 160 finished. Total reward: 23.0 (23 timesteps)\n",
      "Updating the policy...\n",
      "Updating finished!\n",
      "Episode 165 finished. Total reward: 24.0 (24 timesteps)\n",
      "Episode 170 finished. Total reward: 28.0 (28 timesteps)\n",
      "Episode 175 finished. Total reward: 32.0 (32 timesteps)\n",
      "Episode 180 finished. Total reward: 27.0 (27 timesteps)\n",
      "Episode 185 finished. Total reward: 65.0 (65 timesteps)\n",
      "Episode 190 finished. Total reward: 99.0 (99 timesteps)\n",
      "Episode 195 finished. Total reward: 30.0 (30 timesteps)\n",
      "Episode 200 finished. Total reward: 25.0 (25 timesteps)\n",
      "Episode 205 finished. Total reward: 29.0 (29 timesteps)\n",
      "Episode 210 finished. Total reward: 27.0 (27 timesteps)\n",
      "Updating the policy...\n",
      "Updating finished!\n",
      "Episode 215 finished. Total reward: 100.0 (100 timesteps)\n",
      "Episode 220 finished. Total reward: 100.0 (100 timesteps)\n",
      "Episode 225 finished. Total reward: 59.0 (59 timesteps)\n",
      "Episode 230 finished. Total reward: 74.0 (74 timesteps)\n",
      "Episode 235 finished. Total reward: 49.0 (49 timesteps)\n",
      "Episode 240 finished. Total reward: 96.0 (96 timesteps)\n",
      "Episode 245 finished. Total reward: 73.0 (73 timesteps)\n",
      "Updating the policy...\n",
      "Updating finished!\n",
      "Episode 250 finished. Total reward: 100.0 (100 timesteps)\n",
      "Episode 255 finished. Total reward: 100.0 (100 timesteps)\n",
      "Episode 260 finished. Total reward: 52.0 (52 timesteps)\n",
      "Episode 265 finished. Total reward: 100.0 (100 timesteps)\n",
      "Episode 270 finished. Total reward: 18.0 (18 timesteps)\n",
      "Updating the policy...\n",
      "Updating finished!\n",
      "Episode 275 finished. Total reward: 100.0 (100 timesteps)\n",
      "Episode 280 finished. Total reward: 92.0 (92 timesteps)\n",
      "Episode 285 finished. Total reward: 100.0 (100 timesteps)\n",
      "Episode 290 finished. Total reward: 100.0 (100 timesteps)\n",
      "Updating the policy...\n",
      "Updating finished!\n",
      "Episode 295 finished. Total reward: 100.0 (100 timesteps)\n",
      "Episode 300 finished. Total reward: 100.0 (100 timesteps)\n",
      "Episode 305 finished. Total reward: 100.0 (100 timesteps)\n",
      "Episode 310 finished. Total reward: 100.0 (100 timesteps)\n",
      "Updating the policy...\n",
      "Updating finished!\n",
      "Episode 315 finished. Total reward: 97.0 (97 timesteps)\n",
      "Episode 320 finished. Total reward: 100.0 (100 timesteps)\n",
      "Episode 325 finished. Total reward: 100.0 (100 timesteps)\n",
      "Episode 330 finished. Total reward: 100.0 (100 timesteps)\n",
      "Episode 335 finished. Total reward: 100.0 (100 timesteps)\n",
      "Updating the policy...\n",
      "Updating finished!\n",
      "Episode 340 finished. Total reward: 100.0 (100 timesteps)\n",
      "Episode 345 finished. Total reward: 100.0 (100 timesteps)\n",
      "Episode 350 finished. Total reward: 95.0 (95 timesteps)\n",
      "Episode 355 finished. Total reward: 100.0 (100 timesteps)\n",
      "Updating the policy...\n",
      "Updating finished!\n",
      "Episode 360 finished. Total reward: 100.0 (100 timesteps)\n",
      "Episode 365 finished. Total reward: 100.0 (100 timesteps)\n",
      "Episode 370 finished. Total reward: 100.0 (100 timesteps)\n",
      "Episode 375 finished. Total reward: 100.0 (100 timesteps)\n",
      "Updating the policy...\n",
      "Updating finished!\n",
      "Episode 380 finished. Total reward: 100.0 (100 timesteps)\n",
      "Episode 385 finished. Total reward: 100.0 (100 timesteps)\n",
      "Episode 390 finished. Total reward: 100.0 (100 timesteps)\n",
      "Episode 395 finished. Total reward: 100.0 (100 timesteps)\n",
      "Updating the policy...\n",
      "Updating finished!\n",
      "Episode 400 finished. Total reward: 85.0 (85 timesteps)\n",
      "Episode 405 finished. Total reward: 100.0 (100 timesteps)\n",
      "Episode 410 finished. Total reward: 100.0 (100 timesteps)\n",
      "Episode 415 finished. Total reward: 100.0 (100 timesteps)\n",
      "Episode 420 finished. Total reward: 100.0 (100 timesteps)\n",
      "Updating the policy...\n",
      "Updating finished!\n",
      "Episode 425 finished. Total reward: 100.0 (100 timesteps)\n",
      "Episode 430 finished. Total reward: 100.0 (100 timesteps)\n",
      "Episode 435 finished. Total reward: 100.0 (100 timesteps)\n",
      "Episode 440 finished. Total reward: 100.0 (100 timesteps)\n",
      "Updating the policy...\n",
      "Updating finished!\n",
      "Episode 445 finished. Total reward: 100.0 (100 timesteps)\n",
      "Episode 450 finished. Total reward: 100.0 (100 timesteps)\n",
      "Episode 455 finished. Total reward: 100.0 (100 timesteps)\n",
      "Episode 460 finished. Total reward: 100.0 (100 timesteps)\n",
      "Updating the policy...\n",
      "Updating finished!\n",
      "Episode 465 finished. Total reward: 100.0 (100 timesteps)\n",
      "Episode 470 finished. Total reward: 100.0 (100 timesteps)\n",
      "Episode 475 finished. Total reward: 100.0 (100 timesteps)\n",
      "Episode 480 finished. Total reward: 100.0 (100 timesteps)\n",
      "Updating the policy...\n",
      "Updating finished!\n",
      "Episode 485 finished. Total reward: 100.0 (100 timesteps)\n",
      "Episode 490 finished. Total reward: 100.0 (100 timesteps)\n",
      "Episode 495 finished. Total reward: 100.0 (100 timesteps)\n",
      "Episode 500 finished. Total reward: 100.0 (100 timesteps)\n",
      "Model saved to /notebooks/rl2024/ex1/results/model/CartPole-v1-model0_params.pt\n",
      "------Training finished.------\n",
      "Numpy/Torch/Random Seed:  2\n",
      "Configuration Settings: {'exp_name': 'ex1', 'seed': 2, 'env_name': 'CartPole-v1', 'model_name': 'CartPole-v1-model1', 'max_episode_steps': 100, 'train_episodes': 500, 'batch_size': 64, 'min_update_samples': 2000, 'testing': False, 'model_path': 'default', 'save_video': True, 'save_model': True, 'save_logging': True, 'silent': False, 'use_wandb': True, 'run_suffix': 0}\n",
      "Training device: cpu\n",
      "Observation space dimensions: 4\n",
      "Action space dimensions: 2\n",
      "\n",
      "Episode 0 finished. Total reward: 13.0 (13 timesteps)\n",
      "Episode 5 finished. Total reward: 16.0 (16 timesteps)\n",
      "Episode 10 finished. Total reward: 18.0 (18 timesteps)\n",
      "Episode 15 finished. Total reward: 17.0 (17 timesteps)\n",
      "Episode 20 finished. Total reward: 28.0 (28 timesteps)\n",
      "Episode 25 finished. Total reward: 40.0 (40 timesteps)\n",
      "Episode 30 finished. Total reward: 22.0 (22 timesteps)\n",
      "Episode 35 finished. Total reward: 13.0 (13 timesteps)\n",
      "Episode 40 finished. Total reward: 16.0 (16 timesteps)\n",
      "Episode 45 finished. Total reward: 18.0 (18 timesteps)\n",
      "Episode 50 finished. Total reward: 35.0 (35 timesteps)\n",
      "Episode 55 finished. Total reward: 12.0 (12 timesteps)\n",
      "Episode 60 finished. Total reward: 10.0 (10 timesteps)\n",
      "Episode 65 finished. Total reward: 27.0 (27 timesteps)\n",
      "Episode 70 finished. Total reward: 23.0 (23 timesteps)\n",
      "Episode 75 finished. Total reward: 10.0 (10 timesteps)\n",
      "Episode 80 finished. Total reward: 34.0 (34 timesteps)\n",
      "Episode 85 finished. Total reward: 19.0 (19 timesteps)\n",
      "Episode 90 finished. Total reward: 14.0 (14 timesteps)\n",
      "Episode 95 finished. Total reward: 13.0 (13 timesteps)\n",
      "Updating the policy...\n",
      "Updating finished!\n",
      "Episode 100 finished. Total reward: 19.0 (19 timesteps)\n",
      "Episode 105 finished. Total reward: 14.0 (14 timesteps)\n",
      "Episode 110 finished. Total reward: 19.0 (19 timesteps)\n",
      "Episode 115 finished. Total reward: 16.0 (16 timesteps)\n",
      "Episode 120 finished. Total reward: 15.0 (15 timesteps)\n",
      "Episode 125 finished. Total reward: 28.0 (28 timesteps)\n",
      "Episode 130 finished. Total reward: 38.0 (38 timesteps)\n",
      "Episode 135 finished. Total reward: 52.0 (52 timesteps)\n",
      "Episode 140 finished. Total reward: 35.0 (35 timesteps)\n",
      "Episode 145 finished. Total reward: 20.0 (20 timesteps)\n",
      "Episode 150 finished. Total reward: 44.0 (44 timesteps)\n",
      "Episode 155 finished. Total reward: 14.0 (14 timesteps)\n",
      "Episode 160 finished. Total reward: 21.0 (21 timesteps)\n",
      "Episode 165 finished. Total reward: 15.0 (15 timesteps)\n",
      "Updating the policy...\n",
      "Updating finished!\n",
      "Episode 170 finished. Total reward: 36.0 (36 timesteps)\n",
      "Episode 175 finished. Total reward: 28.0 (28 timesteps)\n",
      "Episode 180 finished. Total reward: 22.0 (22 timesteps)\n",
      "Episode 185 finished. Total reward: 27.0 (27 timesteps)\n",
      "Episode 190 finished. Total reward: 36.0 (36 timesteps)\n",
      "Episode 195 finished. Total reward: 100.0 (100 timesteps)\n",
      "Episode 200 finished. Total reward: 35.0 (35 timesteps)\n",
      "Episode 205 finished. Total reward: 100.0 (100 timesteps)\n",
      "Episode 210 finished. Total reward: 21.0 (21 timesteps)\n",
      "Updating the policy...\n",
      "Updating finished!\n",
      "Episode 215 finished. Total reward: 55.0 (55 timesteps)\n",
      "Episode 220 finished. Total reward: 26.0 (26 timesteps)\n",
      "Episode 225 finished. Total reward: 100.0 (100 timesteps)\n",
      "Episode 230 finished. Total reward: 100.0 (100 timesteps)\n",
      "Episode 235 finished. Total reward: 61.0 (61 timesteps)\n",
      "Updating the policy...\n",
      "Updating finished!\n",
      "Episode 240 finished. Total reward: 100.0 (100 timesteps)\n",
      "Episode 245 finished. Total reward: 53.0 (53 timesteps)\n",
      "Episode 250 finished. Total reward: 100.0 (100 timesteps)\n",
      "Episode 255 finished. Total reward: 53.0 (53 timesteps)\n",
      "Episode 260 finished. Total reward: 100.0 (100 timesteps)\n",
      "Updating the policy...\n",
      "Updating finished!\n",
      "Episode 265 finished. Total reward: 42.0 (42 timesteps)\n",
      "Episode 270 finished. Total reward: 100.0 (100 timesteps)\n",
      "Episode 275 finished. Total reward: 100.0 (100 timesteps)\n",
      "Episode 280 finished. Total reward: 68.0 (68 timesteps)\n",
      "Episode 285 finished. Total reward: 23.0 (23 timesteps)\n",
      "Updating the policy...\n",
      "Updating finished!\n",
      "Episode 290 finished. Total reward: 36.0 (36 timesteps)\n",
      "Episode 295 finished. Total reward: 100.0 (100 timesteps)\n",
      "Episode 300 finished. Total reward: 100.0 (100 timesteps)\n",
      "Episode 305 finished. Total reward: 83.0 (83 timesteps)\n",
      "Updating the policy...\n",
      "Updating finished!\n",
      "Episode 310 finished. Total reward: 100.0 (100 timesteps)\n",
      "Episode 315 finished. Total reward: 100.0 (100 timesteps)\n",
      "Episode 320 finished. Total reward: 100.0 (100 timesteps)\n",
      "Episode 325 finished. Total reward: 100.0 (100 timesteps)\n",
      "Updating the policy...\n",
      "Updating finished!\n",
      "Episode 330 finished. Total reward: 100.0 (100 timesteps)\n",
      "Episode 335 finished. Total reward: 100.0 (100 timesteps)\n",
      "Episode 340 finished. Total reward: 100.0 (100 timesteps)\n",
      "Episode 345 finished. Total reward: 100.0 (100 timesteps)\n",
      "Updating the policy...\n",
      "Updating finished!\n",
      "Episode 350 finished. Total reward: 100.0 (100 timesteps)\n",
      "Episode 355 finished. Total reward: 100.0 (100 timesteps)\n",
      "Episode 360 finished. Total reward: 100.0 (100 timesteps)\n",
      "Episode 365 finished. Total reward: 100.0 (100 timesteps)\n",
      "Updating the policy...\n",
      "Updating finished!\n",
      "Episode 370 finished. Total reward: 100.0 (100 timesteps)\n",
      "Episode 375 finished. Total reward: 100.0 (100 timesteps)\n",
      "Episode 380 finished. Total reward: 100.0 (100 timesteps)\n",
      "Episode 385 finished. Total reward: 100.0 (100 timesteps)\n",
      "Updating the policy...\n",
      "Updating finished!\n",
      "Episode 390 finished. Total reward: 100.0 (100 timesteps)\n",
      "Episode 395 finished. Total reward: 100.0 (100 timesteps)\n",
      "Episode 400 finished. Total reward: 100.0 (100 timesteps)\n",
      "Episode 405 finished. Total reward: 100.0 (100 timesteps)\n",
      "Updating the policy...\n",
      "Updating finished!\n",
      "Episode 410 finished. Total reward: 100.0 (100 timesteps)\n",
      "Episode 415 finished. Total reward: 100.0 (100 timesteps)\n",
      "Episode 420 finished. Total reward: 100.0 (100 timesteps)\n",
      "Episode 425 finished. Total reward: 100.0 (100 timesteps)\n",
      "Updating the policy...\n",
      "Updating finished!\n",
      "Episode 430 finished. Total reward: 100.0 (100 timesteps)\n",
      "Episode 435 finished. Total reward: 100.0 (100 timesteps)\n",
      "Episode 440 finished. Total reward: 72.0 (72 timesteps)\n",
      "Episode 445 finished. Total reward: 100.0 (100 timesteps)\n",
      "Updating the policy...\n",
      "Updating finished!\n",
      "Episode 450 finished. Total reward: 100.0 (100 timesteps)\n",
      "Episode 455 finished. Total reward: 100.0 (100 timesteps)\n",
      "Episode 460 finished. Total reward: 100.0 (100 timesteps)\n",
      "Episode 465 finished. Total reward: 100.0 (100 timesteps)\n",
      "Updating the policy...\n",
      "Updating finished!\n",
      "Episode 470 finished. Total reward: 83.0 (83 timesteps)\n",
      "Episode 475 finished. Total reward: 56.0 (56 timesteps)\n",
      "Episode 480 finished. Total reward: 100.0 (100 timesteps)\n",
      "Episode 485 finished. Total reward: 20.0 (20 timesteps)\n",
      "Episode 490 finished. Total reward: 100.0 (100 timesteps)\n",
      "Updating the policy...\n",
      "Updating finished!\n",
      "Episode 495 finished. Total reward: 100.0 (100 timesteps)\n",
      "Episode 500 finished. Total reward: 100.0 (100 timesteps)\n",
      "Model saved to /notebooks/rl2024/ex1/results/model/CartPole-v1-model1_params.pt\n",
      "------Training finished.------\n",
      "Numpy/Torch/Random Seed:  4\n",
      "Configuration Settings: {'exp_name': 'ex1', 'seed': 4, 'env_name': 'CartPole-v1', 'model_name': 'CartPole-v1-model2', 'max_episode_steps': 100, 'train_episodes': 500, 'batch_size': 64, 'min_update_samples': 2000, 'testing': False, 'model_path': 'default', 'save_video': True, 'save_model': True, 'save_logging': True, 'silent': False, 'use_wandb': True, 'run_suffix': 0}\n",
      "Training device: cpu\n",
      "Observation space dimensions: 4\n",
      "Action space dimensions: 2\n",
      "\n",
      "Episode 0 finished. Total reward: 18.0 (18 timesteps)\n",
      "Episode 5 finished. Total reward: 14.0 (14 timesteps)\n",
      "Episode 10 finished. Total reward: 20.0 (20 timesteps)\n",
      "Episode 15 finished. Total reward: 44.0 (44 timesteps)\n",
      "Episode 20 finished. Total reward: 25.0 (25 timesteps)\n",
      "Episode 25 finished. Total reward: 20.0 (20 timesteps)\n",
      "Episode 30 finished. Total reward: 13.0 (13 timesteps)\n",
      "Episode 35 finished. Total reward: 16.0 (16 timesteps)\n",
      "Episode 40 finished. Total reward: 19.0 (19 timesteps)\n",
      "Episode 45 finished. Total reward: 21.0 (21 timesteps)\n",
      "Episode 50 finished. Total reward: 27.0 (27 timesteps)\n",
      "Episode 55 finished. Total reward: 11.0 (11 timesteps)\n",
      "Episode 60 finished. Total reward: 17.0 (17 timesteps)\n",
      "Episode 65 finished. Total reward: 38.0 (38 timesteps)\n",
      "Episode 70 finished. Total reward: 39.0 (39 timesteps)\n",
      "Episode 75 finished. Total reward: 19.0 (19 timesteps)\n",
      "Episode 80 finished. Total reward: 39.0 (39 timesteps)\n",
      "Updating the policy...\n",
      "Updating finished!\n",
      "Episode 85 finished. Total reward: 40.0 (40 timesteps)\n",
      "Episode 90 finished. Total reward: 46.0 (46 timesteps)\n",
      "Episode 95 finished. Total reward: 48.0 (48 timesteps)\n",
      "Episode 100 finished. Total reward: 42.0 (42 timesteps)\n",
      "Episode 105 finished. Total reward: 24.0 (24 timesteps)\n",
      "Episode 110 finished. Total reward: 11.0 (11 timesteps)\n",
      "Episode 115 finished. Total reward: 29.0 (29 timesteps)\n",
      "Episode 120 finished. Total reward: 38.0 (38 timesteps)\n",
      "Episode 125 finished. Total reward: 28.0 (28 timesteps)\n",
      "Episode 130 finished. Total reward: 48.0 (48 timesteps)\n",
      "Episode 135 finished. Total reward: 14.0 (14 timesteps)\n",
      "Episode 140 finished. Total reward: 20.0 (20 timesteps)\n",
      "Episode 145 finished. Total reward: 27.0 (27 timesteps)\n",
      "Episode 150 finished. Total reward: 13.0 (13 timesteps)\n",
      "Updating the policy...\n",
      "Updating finished!\n",
      "Episode 155 finished. Total reward: 18.0 (18 timesteps)\n",
      "Episode 160 finished. Total reward: 46.0 (46 timesteps)\n",
      "Episode 165 finished. Total reward: 22.0 (22 timesteps)\n",
      "Episode 170 finished. Total reward: 47.0 (47 timesteps)\n",
      "Episode 175 finished. Total reward: 26.0 (26 timesteps)\n",
      "Episode 180 finished. Total reward: 26.0 (26 timesteps)\n",
      "Episode 185 finished. Total reward: 61.0 (61 timesteps)\n",
      "Episode 190 finished. Total reward: 42.0 (42 timesteps)\n",
      "Episode 195 finished. Total reward: 100.0 (100 timesteps)\n",
      "Updating the policy...\n",
      "Updating finished!\n",
      "Episode 200 finished. Total reward: 18.0 (18 timesteps)\n",
      "Episode 205 finished. Total reward: 21.0 (21 timesteps)\n",
      "Episode 210 finished. Total reward: 27.0 (27 timesteps)\n",
      "Episode 215 finished. Total reward: 100.0 (100 timesteps)\n",
      "Episode 220 finished. Total reward: 53.0 (53 timesteps)\n",
      "Episode 225 finished. Total reward: 64.0 (64 timesteps)\n",
      "Episode 230 finished. Total reward: 100.0 (100 timesteps)\n",
      "Updating the policy...\n",
      "Updating finished!\n",
      "Episode 235 finished. Total reward: 100.0 (100 timesteps)\n",
      "Episode 240 finished. Total reward: 100.0 (100 timesteps)\n",
      "Episode 245 finished. Total reward: 100.0 (100 timesteps)\n",
      "Episode 250 finished. Total reward: 83.0 (83 timesteps)\n",
      "Updating the policy...\n",
      "Updating finished!\n",
      "Episode 255 finished. Total reward: 100.0 (100 timesteps)\n",
      "Episode 260 finished. Total reward: 100.0 (100 timesteps)\n",
      "Episode 265 finished. Total reward: 53.0 (53 timesteps)\n",
      "Episode 270 finished. Total reward: 95.0 (95 timesteps)\n",
      "Episode 275 finished. Total reward: 40.0 (40 timesteps)\n",
      "Updating the policy...\n",
      "Updating finished!\n",
      "Episode 280 finished. Total reward: 100.0 (100 timesteps)\n",
      "Episode 285 finished. Total reward: 100.0 (100 timesteps)\n",
      "Episode 290 finished. Total reward: 100.0 (100 timesteps)\n",
      "Episode 295 finished. Total reward: 100.0 (100 timesteps)\n",
      "Updating the policy...\n",
      "Updating finished!\n",
      "Episode 300 finished. Total reward: 100.0 (100 timesteps)\n",
      "Episode 305 finished. Total reward: 100.0 (100 timesteps)\n",
      "Episode 310 finished. Total reward: 100.0 (100 timesteps)\n",
      "Episode 315 finished. Total reward: 100.0 (100 timesteps)\n",
      "Updating the policy...\n",
      "Updating finished!\n",
      "Episode 320 finished. Total reward: 24.0 (24 timesteps)\n",
      "Episode 325 finished. Total reward: 100.0 (100 timesteps)\n",
      "Episode 330 finished. Total reward: 100.0 (100 timesteps)\n",
      "Episode 335 finished. Total reward: 100.0 (100 timesteps)\n",
      "Updating the policy...\n",
      "Updating finished!\n",
      "Episode 340 finished. Total reward: 100.0 (100 timesteps)\n",
      "Episode 345 finished. Total reward: 100.0 (100 timesteps)\n",
      "Episode 350 finished. Total reward: 100.0 (100 timesteps)\n",
      "Episode 355 finished. Total reward: 100.0 (100 timesteps)\n",
      "Updating the policy...\n",
      "Updating finished!\n",
      "Episode 360 finished. Total reward: 100.0 (100 timesteps)\n",
      "Episode 365 finished. Total reward: 100.0 (100 timesteps)\n",
      "Episode 370 finished. Total reward: 100.0 (100 timesteps)\n",
      "Episode 375 finished. Total reward: 100.0 (100 timesteps)\n",
      "Updating the policy...\n",
      "Updating finished!\n",
      "Episode 380 finished. Total reward: 100.0 (100 timesteps)\n",
      "Episode 385 finished. Total reward: 100.0 (100 timesteps)\n",
      "Episode 390 finished. Total reward: 100.0 (100 timesteps)\n",
      "Episode 395 finished. Total reward: 100.0 (100 timesteps)\n",
      "Episode 400 finished. Total reward: 100.0 (100 timesteps)\n",
      "Updating the policy...\n",
      "Updating finished!\n",
      "Episode 405 finished. Total reward: 100.0 (100 timesteps)\n",
      "Episode 410 finished. Total reward: 100.0 (100 timesteps)\n",
      "Episode 415 finished. Total reward: 100.0 (100 timesteps)\n",
      "Episode 420 finished. Total reward: 100.0 (100 timesteps)\n",
      "Updating the policy...\n",
      "Updating finished!\n",
      "Episode 425 finished. Total reward: 100.0 (100 timesteps)\n",
      "Episode 430 finished. Total reward: 100.0 (100 timesteps)\n",
      "Episode 435 finished. Total reward: 100.0 (100 timesteps)\n",
      "Episode 440 finished. Total reward: 100.0 (100 timesteps)\n",
      "Updating the policy...\n",
      "Updating finished!\n",
      "Episode 445 finished. Total reward: 100.0 (100 timesteps)\n",
      "Episode 450 finished. Total reward: 88.0 (88 timesteps)\n",
      "Episode 455 finished. Total reward: 18.0 (18 timesteps)\n",
      "Episode 460 finished. Total reward: 100.0 (100 timesteps)\n",
      "Updating the policy...\n",
      "Updating finished!\n",
      "Episode 465 finished. Total reward: 100.0 (100 timesteps)\n",
      "Episode 470 finished. Total reward: 100.0 (100 timesteps)\n",
      "Episode 475 finished. Total reward: 100.0 (100 timesteps)\n",
      "Episode 480 finished. Total reward: 100.0 (100 timesteps)\n",
      "Episode 485 finished. Total reward: 100.0 (100 timesteps)\n",
      "Updating the policy...\n",
      "Updating finished!\n",
      "Episode 490 finished. Total reward: 100.0 (100 timesteps)\n",
      "Episode 495 finished. Total reward: 100.0 (100 timesteps)\n",
      "Episode 500 finished. Total reward: 100.0 (100 timesteps)\n",
      "Model saved to /notebooks/rl2024/ex1/results/model/CartPole-v1-model2_params.pt\n",
      "------Training finished.------\n",
      "Numpy/Torch/Random Seed:  5\n",
      "Configuration Settings: {'exp_name': 'ex1', 'seed': 5, 'env_name': 'CartPole-v1', 'model_name': 'CartPole-v1-model3', 'max_episode_steps': 100, 'train_episodes': 500, 'batch_size': 64, 'min_update_samples': 2000, 'testing': False, 'model_path': 'default', 'save_video': True, 'save_model': True, 'save_logging': True, 'silent': False, 'use_wandb': True, 'run_suffix': 0}\n",
      "Training device: cpu\n",
      "Observation space dimensions: 4\n",
      "Action space dimensions: 2\n",
      "\n",
      "Episode 0 finished. Total reward: 36.0 (36 timesteps)\n",
      "Episode 5 finished. Total reward: 15.0 (15 timesteps)\n",
      "Episode 10 finished. Total reward: 46.0 (46 timesteps)\n",
      "Episode 15 finished. Total reward: 11.0 (11 timesteps)\n",
      "Episode 20 finished. Total reward: 39.0 (39 timesteps)\n",
      "Episode 25 finished. Total reward: 18.0 (18 timesteps)\n",
      "Episode 30 finished. Total reward: 77.0 (77 timesteps)\n",
      "Episode 35 finished. Total reward: 22.0 (22 timesteps)\n",
      "Episode 40 finished. Total reward: 18.0 (18 timesteps)\n",
      "Episode 45 finished. Total reward: 16.0 (16 timesteps)\n",
      "Episode 50 finished. Total reward: 19.0 (19 timesteps)\n",
      "Episode 55 finished. Total reward: 15.0 (15 timesteps)\n",
      "Episode 60 finished. Total reward: 20.0 (20 timesteps)\n",
      "Episode 65 finished. Total reward: 16.0 (16 timesteps)\n",
      "Episode 70 finished. Total reward: 38.0 (38 timesteps)\n",
      "Episode 75 finished. Total reward: 51.0 (51 timesteps)\n",
      "Updating the policy...\n",
      "Updating finished!\n",
      "Episode 80 finished. Total reward: 30.0 (30 timesteps)\n",
      "Episode 85 finished. Total reward: 24.0 (24 timesteps)\n",
      "Episode 90 finished. Total reward: 50.0 (50 timesteps)\n",
      "Episode 95 finished. Total reward: 23.0 (23 timesteps)\n",
      "Episode 100 finished. Total reward: 16.0 (16 timesteps)\n",
      "Episode 105 finished. Total reward: 24.0 (24 timesteps)\n",
      "Episode 110 finished. Total reward: 30.0 (30 timesteps)\n",
      "Episode 115 finished. Total reward: 24.0 (24 timesteps)\n",
      "Episode 120 finished. Total reward: 42.0 (42 timesteps)\n",
      "Episode 125 finished. Total reward: 16.0 (16 timesteps)\n",
      "Episode 130 finished. Total reward: 25.0 (25 timesteps)\n",
      "Episode 135 finished. Total reward: 10.0 (10 timesteps)\n",
      "Episode 140 finished. Total reward: 22.0 (22 timesteps)\n",
      "Episode 145 finished. Total reward: 53.0 (53 timesteps)\n",
      "Updating the policy...\n",
      "Updating finished!\n",
      "Episode 150 finished. Total reward: 76.0 (76 timesteps)\n",
      "Episode 155 finished. Total reward: 38.0 (38 timesteps)\n",
      "Episode 160 finished. Total reward: 39.0 (39 timesteps)\n",
      "Episode 165 finished. Total reward: 28.0 (28 timesteps)\n",
      "Episode 170 finished. Total reward: 77.0 (77 timesteps)\n",
      "Episode 175 finished. Total reward: 30.0 (30 timesteps)\n",
      "Episode 180 finished. Total reward: 74.0 (74 timesteps)\n",
      "Updating the policy...\n",
      "Updating finished!\n",
      "Episode 185 finished. Total reward: 66.0 (66 timesteps)\n",
      "Episode 190 finished. Total reward: 100.0 (100 timesteps)\n",
      "Episode 195 finished. Total reward: 25.0 (25 timesteps)\n",
      "Episode 200 finished. Total reward: 72.0 (72 timesteps)\n",
      "Episode 205 finished. Total reward: 100.0 (100 timesteps)\n",
      "Episode 210 finished. Total reward: 17.0 (17 timesteps)\n",
      "Updating the policy...\n",
      "Updating finished!\n",
      "Episode 215 finished. Total reward: 29.0 (29 timesteps)\n",
      "Episode 220 finished. Total reward: 70.0 (70 timesteps)\n",
      "Episode 225 finished. Total reward: 91.0 (91 timesteps)\n",
      "Episode 230 finished. Total reward: 72.0 (72 timesteps)\n",
      "Episode 235 finished. Total reward: 30.0 (30 timesteps)\n",
      "Updating the policy...\n",
      "Updating finished!\n",
      "Episode 240 finished. Total reward: 73.0 (73 timesteps)\n",
      "Episode 245 finished. Total reward: 96.0 (96 timesteps)\n",
      "Episode 250 finished. Total reward: 100.0 (100 timesteps)\n",
      "Episode 255 finished. Total reward: 66.0 (66 timesteps)\n",
      "Episode 260 finished. Total reward: 100.0 (100 timesteps)\n",
      "Updating the policy...\n",
      "Updating finished!\n",
      "Episode 265 finished. Total reward: 100.0 (100 timesteps)\n",
      "Episode 270 finished. Total reward: 100.0 (100 timesteps)\n",
      "Episode 275 finished. Total reward: 100.0 (100 timesteps)\n",
      "Episode 280 finished. Total reward: 100.0 (100 timesteps)\n",
      "Updating the policy...\n",
      "Updating finished!\n",
      "Episode 285 finished. Total reward: 100.0 (100 timesteps)\n",
      "Episode 290 finished. Total reward: 100.0 (100 timesteps)\n",
      "Episode 295 finished. Total reward: 100.0 (100 timesteps)\n",
      "Episode 300 finished. Total reward: 100.0 (100 timesteps)\n",
      "Updating the policy...\n",
      "Updating finished!\n",
      "Episode 305 finished. Total reward: 100.0 (100 timesteps)\n",
      "Episode 310 finished. Total reward: 51.0 (51 timesteps)\n",
      "Episode 315 finished. Total reward: 95.0 (95 timesteps)\n",
      "Episode 320 finished. Total reward: 90.0 (90 timesteps)\n",
      "Updating the policy...\n",
      "Updating finished!\n",
      "Episode 325 finished. Total reward: 100.0 (100 timesteps)\n",
      "Episode 330 finished. Total reward: 100.0 (100 timesteps)\n",
      "Episode 335 finished. Total reward: 68.0 (68 timesteps)\n",
      "Episode 340 finished. Total reward: 100.0 (100 timesteps)\n",
      "Episode 345 finished. Total reward: 100.0 (100 timesteps)\n",
      "Updating the policy...\n",
      "Updating finished!\n",
      "Episode 350 finished. Total reward: 100.0 (100 timesteps)\n",
      "Episode 355 finished. Total reward: 100.0 (100 timesteps)\n",
      "Episode 360 finished. Total reward: 100.0 (100 timesteps)\n",
      "Episode 365 finished. Total reward: 100.0 (100 timesteps)\n",
      "Updating the policy...\n",
      "Updating finished!\n",
      "Episode 370 finished. Total reward: 66.0 (66 timesteps)\n",
      "Episode 375 finished. Total reward: 100.0 (100 timesteps)\n",
      "Episode 380 finished. Total reward: 99.0 (99 timesteps)\n",
      "Episode 385 finished. Total reward: 100.0 (100 timesteps)\n",
      "Updating the policy...\n",
      "Updating finished!\n",
      "Episode 390 finished. Total reward: 100.0 (100 timesteps)\n",
      "Episode 395 finished. Total reward: 100.0 (100 timesteps)\n",
      "Episode 400 finished. Total reward: 93.0 (93 timesteps)\n",
      "Episode 405 finished. Total reward: 100.0 (100 timesteps)\n",
      "Updating the policy...\n",
      "Updating finished!\n",
      "Episode 410 finished. Total reward: 100.0 (100 timesteps)\n",
      "Episode 415 finished. Total reward: 100.0 (100 timesteps)\n",
      "Episode 420 finished. Total reward: 100.0 (100 timesteps)\n",
      "Episode 425 finished. Total reward: 100.0 (100 timesteps)\n",
      "Updating the policy...\n",
      "Updating finished!\n",
      "Episode 430 finished. Total reward: 100.0 (100 timesteps)\n",
      "Episode 435 finished. Total reward: 100.0 (100 timesteps)\n",
      "Episode 440 finished. Total reward: 100.0 (100 timesteps)\n",
      "Episode 445 finished. Total reward: 100.0 (100 timesteps)\n",
      "Updating the policy...\n",
      "Updating finished!\n",
      "Episode 450 finished. Total reward: 100.0 (100 timesteps)\n",
      "Episode 455 finished. Total reward: 100.0 (100 timesteps)\n",
      "Episode 460 finished. Total reward: 100.0 (100 timesteps)\n",
      "Episode 465 finished. Total reward: 100.0 (100 timesteps)\n",
      "Updating the policy...\n",
      "Updating finished!\n",
      "Episode 470 finished. Total reward: 100.0 (100 timesteps)\n",
      "Episode 475 finished. Total reward: 100.0 (100 timesteps)\n",
      "Episode 480 finished. Total reward: 100.0 (100 timesteps)\n",
      "Episode 485 finished. Total reward: 100.0 (100 timesteps)\n",
      "Updating the policy...\n",
      "Updating finished!\n",
      "Episode 490 finished. Total reward: 100.0 (100 timesteps)\n",
      "Episode 495 finished. Total reward: 100.0 (100 timesteps)\n",
      "Episode 500 finished. Total reward: 100.0 (100 timesteps)\n",
      "Model saved to /notebooks/rl2024/ex1/results/model/CartPole-v1-model3_params.pt\n",
      "------Training finished.------\n",
      "Numpy/Torch/Random Seed:  15\n",
      "Configuration Settings: {'exp_name': 'ex1', 'seed': 15, 'env_name': 'CartPole-v1', 'model_name': 'CartPole-v1-model4', 'max_episode_steps': 100, 'train_episodes': 500, 'batch_size': 64, 'min_update_samples': 2000, 'testing': False, 'model_path': 'default', 'save_video': True, 'save_model': True, 'save_logging': True, 'silent': False, 'use_wandb': True, 'run_suffix': 0}\n",
      "Training device: cpu\n",
      "Observation space dimensions: 4\n",
      "Action space dimensions: 2\n",
      "\n",
      "Episode 0 finished. Total reward: 17.0 (17 timesteps)\n",
      "Episode 5 finished. Total reward: 35.0 (35 timesteps)\n",
      "Episode 10 finished. Total reward: 24.0 (24 timesteps)\n",
      "Episode 15 finished. Total reward: 32.0 (32 timesteps)\n",
      "Episode 20 finished. Total reward: 13.0 (13 timesteps)\n",
      "Episode 25 finished. Total reward: 12.0 (12 timesteps)\n",
      "Episode 30 finished. Total reward: 19.0 (19 timesteps)\n",
      "Episode 35 finished. Total reward: 53.0 (53 timesteps)\n",
      "Episode 40 finished. Total reward: 41.0 (41 timesteps)\n",
      "Episode 45 finished. Total reward: 27.0 (27 timesteps)\n",
      "Episode 50 finished. Total reward: 60.0 (60 timesteps)\n",
      "Episode 55 finished. Total reward: 12.0 (12 timesteps)\n",
      "Episode 60 finished. Total reward: 18.0 (18 timesteps)\n",
      "Episode 65 finished. Total reward: 27.0 (27 timesteps)\n",
      "Episode 70 finished. Total reward: 34.0 (34 timesteps)\n",
      "Episode 75 finished. Total reward: 24.0 (24 timesteps)\n",
      "Episode 80 finished. Total reward: 19.0 (19 timesteps)\n",
      "Episode 85 finished. Total reward: 24.0 (24 timesteps)\n",
      "Updating the policy...\n",
      "Updating finished!\n",
      "Episode 90 finished. Total reward: 29.0 (29 timesteps)\n",
      "Episode 95 finished. Total reward: 15.0 (15 timesteps)\n",
      "Episode 100 finished. Total reward: 22.0 (22 timesteps)\n",
      "Episode 105 finished. Total reward: 11.0 (11 timesteps)\n",
      "Episode 110 finished. Total reward: 24.0 (24 timesteps)\n",
      "Episode 115 finished. Total reward: 23.0 (23 timesteps)\n",
      "Episode 120 finished. Total reward: 67.0 (67 timesteps)\n",
      "Episode 125 finished. Total reward: 22.0 (22 timesteps)\n",
      "Episode 130 finished. Total reward: 19.0 (19 timesteps)\n",
      "Episode 135 finished. Total reward: 13.0 (13 timesteps)\n",
      "Episode 140 finished. Total reward: 14.0 (14 timesteps)\n",
      "Episode 145 finished. Total reward: 29.0 (29 timesteps)\n",
      "Episode 150 finished. Total reward: 17.0 (17 timesteps)\n",
      "Episode 155 finished. Total reward: 41.0 (41 timesteps)\n",
      "Episode 160 finished. Total reward: 38.0 (38 timesteps)\n",
      "Updating the policy...\n",
      "Updating finished!\n",
      "Episode 165 finished. Total reward: 67.0 (67 timesteps)\n",
      "Episode 170 finished. Total reward: 52.0 (52 timesteps)\n",
      "Episode 175 finished. Total reward: 16.0 (16 timesteps)\n",
      "Episode 180 finished. Total reward: 82.0 (82 timesteps)\n",
      "Episode 185 finished. Total reward: 55.0 (55 timesteps)\n",
      "Episode 190 finished. Total reward: 32.0 (32 timesteps)\n",
      "Episode 195 finished. Total reward: 39.0 (39 timesteps)\n",
      "Episode 200 finished. Total reward: 31.0 (31 timesteps)\n",
      "Episode 205 finished. Total reward: 100.0 (100 timesteps)\n",
      "Updating the policy...\n",
      "Updating finished!\n",
      "Episode 210 finished. Total reward: 100.0 (100 timesteps)\n",
      "Episode 215 finished. Total reward: 100.0 (100 timesteps)\n",
      "Episode 220 finished. Total reward: 100.0 (100 timesteps)\n",
      "Episode 225 finished. Total reward: 84.0 (84 timesteps)\n",
      "Episode 230 finished. Total reward: 58.0 (58 timesteps)\n",
      "Episode 235 finished. Total reward: 25.0 (25 timesteps)\n",
      "Episode 240 finished. Total reward: 63.0 (63 timesteps)\n",
      "Updating the policy...\n",
      "Updating finished!\n",
      "Episode 245 finished. Total reward: 100.0 (100 timesteps)\n",
      "Episode 250 finished. Total reward: 100.0 (100 timesteps)\n",
      "Episode 255 finished. Total reward: 55.0 (55 timesteps)\n",
      "Episode 260 finished. Total reward: 100.0 (100 timesteps)\n",
      "Updating the policy...\n",
      "Updating finished!\n",
      "Episode 265 finished. Total reward: 100.0 (100 timesteps)\n",
      "Episode 270 finished. Total reward: 100.0 (100 timesteps)\n",
      "Episode 275 finished. Total reward: 100.0 (100 timesteps)\n",
      "Episode 280 finished. Total reward: 100.0 (100 timesteps)\n",
      "Updating the policy...\n",
      "Updating finished!\n",
      "Episode 285 finished. Total reward: 94.0 (94 timesteps)\n",
      "Episode 290 finished. Total reward: 100.0 (100 timesteps)\n",
      "Episode 295 finished. Total reward: 87.0 (87 timesteps)\n",
      "Episode 300 finished. Total reward: 100.0 (100 timesteps)\n",
      "Episode 305 finished. Total reward: 46.0 (46 timesteps)\n",
      "Updating the policy...\n",
      "Updating finished!\n",
      "Episode 310 finished. Total reward: 100.0 (100 timesteps)\n",
      "Episode 315 finished. Total reward: 100.0 (100 timesteps)\n",
      "Episode 320 finished. Total reward: 100.0 (100 timesteps)\n",
      "Episode 325 finished. Total reward: 100.0 (100 timesteps)\n",
      "Updating the policy...\n",
      "Updating finished!\n",
      "Episode 330 finished. Total reward: 88.0 (88 timesteps)\n",
      "Episode 335 finished. Total reward: 100.0 (100 timesteps)\n",
      "Episode 340 finished. Total reward: 53.0 (53 timesteps)\n",
      "Episode 345 finished. Total reward: 100.0 (100 timesteps)\n",
      "Updating the policy...\n",
      "Updating finished!\n",
      "Episode 350 finished. Total reward: 100.0 (100 timesteps)\n",
      "Episode 355 finished. Total reward: 100.0 (100 timesteps)\n",
      "Episode 360 finished. Total reward: 100.0 (100 timesteps)\n",
      "Episode 365 finished. Total reward: 100.0 (100 timesteps)\n",
      "Updating the policy...\n",
      "Updating finished!\n",
      "Episode 370 finished. Total reward: 100.0 (100 timesteps)\n",
      "Episode 375 finished. Total reward: 100.0 (100 timesteps)\n",
      "Episode 380 finished. Total reward: 100.0 (100 timesteps)\n",
      "Episode 385 finished. Total reward: 100.0 (100 timesteps)\n",
      "Updating the policy...\n",
      "Updating finished!\n",
      "Episode 390 finished. Total reward: 100.0 (100 timesteps)\n",
      "Episode 395 finished. Total reward: 100.0 (100 timesteps)\n",
      "Episode 400 finished. Total reward: 100.0 (100 timesteps)\n",
      "Episode 405 finished. Total reward: 100.0 (100 timesteps)\n",
      "Updating the policy...\n",
      "Updating finished!\n",
      "Episode 410 finished. Total reward: 100.0 (100 timesteps)\n",
      "Episode 415 finished. Total reward: 100.0 (100 timesteps)\n",
      "Episode 420 finished. Total reward: 100.0 (100 timesteps)\n",
      "Episode 425 finished. Total reward: 100.0 (100 timesteps)\n",
      "Updating the policy...\n",
      "Updating finished!\n",
      "Episode 430 finished. Total reward: 100.0 (100 timesteps)\n",
      "Episode 435 finished. Total reward: 100.0 (100 timesteps)\n",
      "Episode 440 finished. Total reward: 100.0 (100 timesteps)\n",
      "Episode 445 finished. Total reward: 100.0 (100 timesteps)\n",
      "Updating the policy...\n",
      "Updating finished!\n",
      "Episode 450 finished. Total reward: 100.0 (100 timesteps)\n",
      "Episode 455 finished. Total reward: 100.0 (100 timesteps)\n",
      "Episode 460 finished. Total reward: 100.0 (100 timesteps)\n",
      "Episode 465 finished. Total reward: 100.0 (100 timesteps)\n",
      "Updating the policy...\n",
      "Updating finished!\n",
      "Episode 470 finished. Total reward: 100.0 (100 timesteps)\n",
      "Episode 475 finished. Total reward: 100.0 (100 timesteps)\n",
      "Episode 480 finished. Total reward: 100.0 (100 timesteps)\n",
      "Episode 485 finished. Total reward: 100.0 (100 timesteps)\n",
      "Updating the policy...\n",
      "Updating finished!\n",
      "Episode 490 finished. Total reward: 100.0 (100 timesteps)\n",
      "Episode 495 finished. Total reward: 100.0 (100 timesteps)\n",
      "Episode 500 finished. Total reward: 100.0 (100 timesteps)\n",
      "Model saved to /notebooks/rl2024/ex1/results/model/CartPole-v1-model4_params.pt\n",
      "------Training finished.------\n"
     ]
    }
   ],
   "source": [
    "# %%capture\n",
    "# uncomment if you want to skip the output\n",
    "\n",
    "if not skip_training:\n",
    "    model_names = [\"CartPole-v1-model0\", \"CartPole-v1-model1\", \"CartPole-v1-model2\", \"CartPole-v1-model3\", \"CartPole-v1-model4\"]\n",
    "    model_seeds = [1, 2, 4, 5, 15]\n",
    "\n",
    "    assert len(set(model_seeds)) == 5\n",
    "    '''\n",
    "    TODO: Repeat the experiment in Task 1 five times\n",
    "    '''\n",
    "    ########## Your code starts here ##########\n",
    "    for model_name, seed in zip(model_names, model_seeds):\n",
    "        # Train the model\n",
    "        t.train(cfg_path=Path().cwd() / 'cfg' / 'cartpole_v1.yaml', \n",
    "                cfg_args=dict(seed=seed, max_episode_steps=100, model_name=model_name))\n",
    "    ########## Your code ends here ##########\n",
    "\n"
   ]
  },
  {
   "cell_type": "markdown",
   "id": "0106a2db",
   "metadata": {},
   "source": [
    "Do not delete the cell below as it is used for grading."
   ]
  },
  {
   "cell_type": "code",
   "execution_count": 17,
   "id": "3b59f4fd",
   "metadata": {
    "deletable": false,
    "editable": false,
    "nbgrader": {
     "cell_type": "code",
     "checksum": "9b8f3f542f8ea26128cafabbdb2fc39d",
     "grade": true,
     "grade_id": "cell-410200f55bb863ed",
     "locked": true,
     "points": 10,
     "schema_version": 3,
     "solution": false,
     "task": false
    },
    "tags": []
   },
   "outputs": [
    {
     "name": "stdout",
     "output_type": "stream",
     "text": [
      "Numpy/Torch/Random Seed:  700\n",
      "Loading model from /notebooks/rl2024/ex1/results/model/CartPole-v1-model0_params.pt ...\n",
      "Testing...\n",
      "Test ep reward: 139.0 seed: 700\n",
      "Average test reward: 139.0 episode length: 139.0\n",
      "Numpy/Torch/Random Seed:  800\n",
      "Loading model from /notebooks/rl2024/ex1/results/model/CartPole-v1-model0_params.pt ...\n",
      "Testing...\n",
      "Test ep reward: 129.0 seed: 800\n",
      "Average test reward: 129.0 episode length: 129.0\n",
      "Numpy/Torch/Random Seed:  900\n",
      "Loading model from /notebooks/rl2024/ex1/results/model/CartPole-v1-model0_params.pt ...\n",
      "Testing...\n",
      "Test ep reward: 132.0 seed: 900\n",
      "Average test reward: 132.0 episode length: 132.0\n",
      "Numpy/Torch/Random Seed:  1000\n",
      "Loading model from /notebooks/rl2024/ex1/results/model/CartPole-v1-model0_params.pt ...\n",
      "Testing...\n",
      "Test ep reward: 130.0 seed: 1000\n",
      "Average test reward: 130.0 episode length: 130.0\n",
      "Numpy/Torch/Random Seed:  2000\n",
      "Loading model from /notebooks/rl2024/ex1/results/model/CartPole-v1-model0_params.pt ...\n",
      "Testing...\n",
      "Test ep reward: 123.0 seed: 2000\n",
      "Average test reward: 123.0 episode length: 123.0\n",
      "Numpy/Torch/Random Seed:  700\n",
      "Loading model from /notebooks/rl2024/ex1/results/model/CartPole-v1-model1_params.pt ...\n",
      "Testing...\n",
      "Test ep reward: 133.0 seed: 700\n",
      "Average test reward: 133.0 episode length: 133.0\n",
      "Numpy/Torch/Random Seed:  800\n",
      "Loading model from /notebooks/rl2024/ex1/results/model/CartPole-v1-model1_params.pt ...\n",
      "Testing...\n",
      "Test ep reward: 147.0 seed: 800\n",
      "Average test reward: 147.0 episode length: 147.0\n",
      "Numpy/Torch/Random Seed:  900\n",
      "Loading model from /notebooks/rl2024/ex1/results/model/CartPole-v1-model1_params.pt ...\n",
      "Testing...\n",
      "Test ep reward: 137.0 seed: 900\n",
      "Average test reward: 137.0 episode length: 137.0\n",
      "Numpy/Torch/Random Seed:  1000\n",
      "Loading model from /notebooks/rl2024/ex1/results/model/CartPole-v1-model1_params.pt ...\n",
      "Testing...\n",
      "Test ep reward: 149.0 seed: 1000\n",
      "Average test reward: 149.0 episode length: 149.0\n",
      "Numpy/Torch/Random Seed:  2000\n",
      "Loading model from /notebooks/rl2024/ex1/results/model/CartPole-v1-model1_params.pt ...\n",
      "Testing...\n",
      "Test ep reward: 162.0 seed: 2000\n",
      "Average test reward: 162.0 episode length: 162.0\n",
      "Numpy/Torch/Random Seed:  700\n",
      "Loading model from /notebooks/rl2024/ex1/results/model/CartPole-v1-model2_params.pt ...\n",
      "Testing...\n",
      "Test ep reward: 124.0 seed: 700\n",
      "Average test reward: 124.0 episode length: 124.0\n",
      "Numpy/Torch/Random Seed:  800\n",
      "Loading model from /notebooks/rl2024/ex1/results/model/CartPole-v1-model2_params.pt ...\n",
      "Testing...\n",
      "Test ep reward: 129.0 seed: 800\n",
      "Average test reward: 129.0 episode length: 129.0\n",
      "Numpy/Torch/Random Seed:  900\n",
      "Loading model from /notebooks/rl2024/ex1/results/model/CartPole-v1-model2_params.pt ...\n",
      "Testing...\n",
      "Test ep reward: 130.0 seed: 900\n",
      "Average test reward: 130.0 episode length: 130.0\n",
      "Numpy/Torch/Random Seed:  1000\n",
      "Loading model from /notebooks/rl2024/ex1/results/model/CartPole-v1-model2_params.pt ...\n",
      "Testing...\n",
      "Test ep reward: 128.0 seed: 1000\n",
      "Average test reward: 128.0 episode length: 128.0\n",
      "Numpy/Torch/Random Seed:  2000\n",
      "Loading model from /notebooks/rl2024/ex1/results/model/CartPole-v1-model2_params.pt ...\n",
      "Testing...\n",
      "Test ep reward: 138.0 seed: 2000\n",
      "Average test reward: 138.0 episode length: 138.0\n",
      "Numpy/Torch/Random Seed:  700\n",
      "Loading model from /notebooks/rl2024/ex1/results/model/CartPole-v1-model3_params.pt ...\n",
      "Testing...\n",
      "Test ep reward: 164.0 seed: 700\n",
      "Average test reward: 164.0 episode length: 164.0\n",
      "Numpy/Torch/Random Seed:  800\n",
      "Loading model from /notebooks/rl2024/ex1/results/model/CartPole-v1-model3_params.pt ...\n",
      "Testing...\n",
      "Test ep reward: 183.0 seed: 800\n",
      "Average test reward: 183.0 episode length: 183.0\n",
      "Numpy/Torch/Random Seed:  900\n",
      "Loading model from /notebooks/rl2024/ex1/results/model/CartPole-v1-model3_params.pt ...\n",
      "Testing...\n",
      "Test ep reward: 171.0 seed: 900\n",
      "Average test reward: 171.0 episode length: 171.0\n",
      "Numpy/Torch/Random Seed:  1000\n",
      "Loading model from /notebooks/rl2024/ex1/results/model/CartPole-v1-model3_params.pt ...\n",
      "Testing...\n",
      "Test ep reward: 181.0 seed: 1000\n",
      "Average test reward: 181.0 episode length: 181.0\n",
      "Numpy/Torch/Random Seed:  2000\n",
      "Loading model from /notebooks/rl2024/ex1/results/model/CartPole-v1-model3_params.pt ...\n",
      "Testing...\n",
      "Test ep reward: 189.0 seed: 2000\n",
      "Average test reward: 189.0 episode length: 189.0\n",
      "Numpy/Torch/Random Seed:  700\n",
      "Loading model from /notebooks/rl2024/ex1/results/model/CartPole-v1-model4_params.pt ...\n",
      "Testing...\n",
      "Test ep reward: 387.0 seed: 700\n",
      "Average test reward: 387.0 episode length: 387.0\n",
      "Numpy/Torch/Random Seed:  800\n",
      "Loading model from /notebooks/rl2024/ex1/results/model/CartPole-v1-model4_params.pt ...\n",
      "Testing...\n",
      "Test ep reward: 1000.0 seed: 800\n",
      "Average test reward: 1000.0 episode length: 1000.0\n",
      "Numpy/Torch/Random Seed:  900\n",
      "Loading model from /notebooks/rl2024/ex1/results/model/CartPole-v1-model4_params.pt ...\n",
      "Testing...\n",
      "Test ep reward: 316.0 seed: 900\n",
      "Average test reward: 316.0 episode length: 316.0\n",
      "Numpy/Torch/Random Seed:  1000\n",
      "Loading model from /notebooks/rl2024/ex1/results/model/CartPole-v1-model4_params.pt ...\n",
      "Testing...\n",
      "Test ep reward: 390.0 seed: 1000\n",
      "Average test reward: 390.0 episode length: 390.0\n",
      "Numpy/Torch/Random Seed:  2000\n",
      "Loading model from /notebooks/rl2024/ex1/results/model/CartPole-v1-model4_params.pt ...\n",
      "Testing...\n",
      "Test ep reward: 771.0 seed: 2000\n",
      "Average test reward: 771.0 episode length: 771.0\n"
     ]
    }
   ],
   "source": [
    "%%capture --no-stdout\n",
    "test_seeds = [700, 800, 900, 1000, 2000]\n",
    "\n",
    "for i in range(5):\n",
    "    for seed in test_seeds:\n",
    "        assert t.test(episodes=1, cfg_path=Path().cwd()/'cfg'/'cartpole_v1.yaml', \n",
    "            cfg_args=dict(testing=True, seed=seed,save_video=False, save_logging=False, \n",
    "            save_model=False, max_episode_steps=1000, model_name=str(\"CartPole-v1-model\"+str(i)))) > 100\n",
    "\n"
   ]
  },
  {
   "cell_type": "markdown",
   "id": "c5efc121-7d09-4645-804c-25015f5dea2a",
   "metadata": {
    "tags": []
   },
   "source": [
    "**DOUBLE CLICK HERE TO EDIT, CLEAR THIS TEXT AND REPORT HERE**"
   ]
  },
  {
   "cell_type": "markdown",
   "id": "95ff4274",
   "metadata": {
    "deletable": false,
    "editable": false,
    "nbgrader": {
     "cell_type": "markdown",
     "checksum": "4a996d7ff3ccc16e98ef6c64a247a59e",
     "grade": false,
     "grade_id": "cell-7b64e24c45653faa",
     "locked": true,
     "schema_version": 3,
     "solution": false,
     "task": false
    },
    "tags": []
   },
   "source": [
    "<a id='Q2'></a>\n",
    "<div class=\" alert alert-warning\">\n",
    "    <h3><b>Student Question 2.1</b> Analysis of Training Performance (15 points) </h3> \n",
    "\n",
    "Are the behavior and performance of the trained models the same every time? Why/why not? Analyze the causes briefly. Hint: the random seed initializes the weights and the environment settings randomly.\n",
    "    \n",
    "🔝\t<a href='#TOC'><b>Table of Contents</b></a>\n",
    "</div>\n"
   ]
  },
  {
   "cell_type": "markdown",
   "id": "eee2bcdb",
   "metadata": {
    "deletable": false,
    "editable": false,
    "nbgrader": {
     "cell_type": "markdown",
     "checksum": "e182f1f667244911d5c375723b971013",
     "grade": false,
     "grade_id": "cell-7af2d94176449236",
     "locked": true,
     "schema_version": 3,
     "solution": false,
     "task": false
    }
   },
   "source": [
    "Select all the correct answers. You can select no more than 6 answers, otherwise you lose all exercise points.\n",
    "\n",
    "1. Yes, because the model has been optimized to always reach the highest possible reward regardless of random seeds or initial conditions.\n",
    "\n",
    "2. No, because the training dynamics and the evaluating dynamics are not the same\n",
    "\n",
    "3. No, because the trained model has stochastic behaviour which may perform differently in different environments\n",
    "\n",
    "4. No, the behaviour and performance are not the same, as shown by the different average rewards in previous Task. \n",
    "\n",
    "5. No, because there’s a lot of stochasticity involved in the training process\n",
    "\n",
    "6. No, because agent explores with random actions during training\n",
    "\n",
    "7. No, because policy is initially randomly initialised with random weights, gradient updates of the policy are noisy. \n",
    "\n",
    "8. No, because the environment may be stochastic: agent is randomly initialised in beginning of each episode, (transitions from one state to next one may follow a probability distribution)\n",
    "\n",
    "9. Yes, all machine learning models perform consistently after training due to the deterministic nature of their algorithms."
   ]
  },
  {
   "cell_type": "code",
   "execution_count": 18,
   "id": "24c0e6d4",
   "metadata": {
    "tags": []
   },
   "outputs": [],
   "source": [
    "sq2_1 = [3, 4, 5, 6, 7, 8] #Answer question 2.1 with the appropriate answer numbers"
   ]
  },
  {
   "cell_type": "code",
   "execution_count": 19,
   "id": "a4f08826",
   "metadata": {
    "deletable": false,
    "editable": false,
    "nbgrader": {
     "cell_type": "code",
     "checksum": "8984880c713f3f91b66fe44e266ed251",
     "grade": true,
     "grade_id": "cell-722a5d335b120083",
     "locked": true,
     "points": 0,
     "schema_version": 3,
     "solution": false,
     "task": false
    },
    "tags": []
   },
   "outputs": [],
   "source": [
    "assert 1 <= len(set(sq2_1)) <= 6\n",
    "assert set(sq2_1) < set(range(1, 10))"
   ]
  },
  {
   "cell_type": "markdown",
   "id": "c5011bb0",
   "metadata": {},
   "source": [
    "Do not remove the following blocks as they are used for grading"
   ]
  },
  {
   "cell_type": "code",
   "execution_count": null,
   "id": "6ea13a03",
   "metadata": {
    "deletable": false,
    "editable": false,
    "nbgrader": {
     "cell_type": "code",
     "checksum": "ecec9d4c828f9bed69a14039122d01f8",
     "grade": true,
     "grade_id": "cell-c78029cac9905a77",
     "locked": true,
     "points": 3,
     "schema_version": 3,
     "solution": false,
     "task": false
    }
   },
   "outputs": [],
   "source": []
  },
  {
   "cell_type": "code",
   "execution_count": null,
   "id": "fa2fbbce",
   "metadata": {
    "deletable": false,
    "editable": false,
    "nbgrader": {
     "cell_type": "code",
     "checksum": "ee347f3560f406aeae33d04d56afa907",
     "grade": true,
     "grade_id": "cell-9d6e251e5ab4caaa",
     "locked": true,
     "points": 3,
     "schema_version": 3,
     "solution": false,
     "task": false
    }
   },
   "outputs": [],
   "source": []
  },
  {
   "cell_type": "code",
   "execution_count": null,
   "id": "cfded39b",
   "metadata": {
    "deletable": false,
    "editable": false,
    "nbgrader": {
     "cell_type": "code",
     "checksum": "b68ba72b4beaba16e6a1a23bd6c7af06",
     "grade": true,
     "grade_id": "cell-0cc6e8153c39e73f",
     "locked": true,
     "points": 3,
     "schema_version": 3,
     "solution": false,
     "task": false
    }
   },
   "outputs": [],
   "source": []
  },
  {
   "cell_type": "code",
   "execution_count": null,
   "id": "5871d663",
   "metadata": {
    "deletable": false,
    "editable": false,
    "nbgrader": {
     "cell_type": "code",
     "checksum": "119a95a042c705feb85c5dc20e6f7143",
     "grade": true,
     "grade_id": "cell-0622d1b37ab64c5f",
     "locked": true,
     "points": 3,
     "schema_version": 3,
     "solution": false,
     "task": false
    }
   },
   "outputs": [],
   "source": []
  },
  {
   "cell_type": "code",
   "execution_count": null,
   "id": "d58c5f09",
   "metadata": {
    "deletable": false,
    "editable": false,
    "nbgrader": {
     "cell_type": "code",
     "checksum": "2482be09b178df1a0623964d5ca75e57",
     "grade": true,
     "grade_id": "cell-cf801ba86d95dc4f",
     "locked": true,
     "points": 3,
     "schema_version": 3,
     "solution": false,
     "task": false
    }
   },
   "outputs": [],
   "source": []
  },
  {
   "cell_type": "markdown",
   "id": "8b248abf",
   "metadata": {
    "deletable": false,
    "editable": false,
    "nbgrader": {
     "cell_type": "markdown",
     "checksum": "160945a6af92cd280f1ac64dfddc0e36",
     "grade": false,
     "grade_id": "cell-e0d965bc4eca7b76",
     "locked": true,
     "schema_version": 3,
     "solution": false,
     "task": false
    }
   },
   "source": [
    "<a id='Q3'></a>\n",
    "<div class=\" alert alert-warning\">\n",
    "    <h3><b>Student Question 2.2</b> Stochasticity (10 points) </h3> \n",
    "\n",
    "What are the implications of this stochasticity, when it comes to comparing reinforcement learning algorithms to each other? Please explain.\n",
    "    \n",
    "🔝\t<a href='#TOC'><b>Table of Contents</b></a>\n",
    "</div>\n"
   ]
  },
  {
   "cell_type": "markdown",
   "id": "b7b41e22",
   "metadata": {
    "deletable": false,
    "editable": false,
    "nbgrader": {
     "cell_type": "markdown",
     "checksum": "6f8d97d020366dc823856f0e1c7e3ca3",
     "grade": false,
     "grade_id": "cell-20eea1ddc122c6c4",
     "locked": true,
     "schema_version": 3,
     "solution": false,
     "task": false
    }
   },
   "source": [
    "Select the correct answer\n",
    "\n",
    "1. It is only necessary to compare the maximum rewards achieved by each algorithm to determine the best one.\n",
    "\n",
    "2. Stochasticity requires that algorithms be trained and evaluated multiple times to obtain a reliable estimate of performance, including measures of variance besides the average reward.\n",
    "\n",
    "3. Algorithms should be trained once under identical conditions to ensure a fair comparison, focusing on the consistency of the training process.\n",
    "\n",
    "4. The best approach is to evaluate algorithms based on their performance in a single, well-designed test to avoid the confounding effects of random variability.\n",
    "\n",
    "5. To effectively compare algorithms, one should calculate the median reward from multiple trials, as this is the most robust measure against outliers.\n"
   ]
  },
  {
   "cell_type": "code",
   "execution_count": 20,
   "id": "ddea5e29",
   "metadata": {
    "tags": []
   },
   "outputs": [],
   "source": [
    "sq2_2 = 2 #Answer question 2.2 with the appropriate answer number"
   ]
  },
  {
   "cell_type": "code",
   "execution_count": 21,
   "id": "47fb2651",
   "metadata": {
    "deletable": false,
    "editable": false,
    "nbgrader": {
     "cell_type": "code",
     "checksum": "93b0daa059c5695a24ed19d7f2acdd44",
     "grade": true,
     "grade_id": "cell-f97b7298905094bd",
     "locked": true,
     "points": 0,
     "schema_version": 3,
     "solution": false,
     "task": false
    },
    "tags": []
   },
   "outputs": [],
   "source": [
    "assert sq2_2 in range(1,6)"
   ]
  },
  {
   "cell_type": "markdown",
   "id": "82d5d136",
   "metadata": {},
   "source": [
    "The following cells are used for grading"
   ]
  },
  {
   "cell_type": "code",
   "execution_count": null,
   "id": "9307e725",
   "metadata": {
    "deletable": false,
    "editable": false,
    "nbgrader": {
     "cell_type": "code",
     "checksum": "e42ca79b6e86e066e25269ca5c72007e",
     "grade": true,
     "grade_id": "cell-270da713465619af",
     "locked": true,
     "points": 5,
     "schema_version": 3,
     "solution": false,
     "task": false
    }
   },
   "outputs": [],
   "source": []
  },
  {
   "cell_type": "code",
   "execution_count": null,
   "id": "1f38a7a5",
   "metadata": {
    "deletable": false,
    "editable": false,
    "nbgrader": {
     "cell_type": "code",
     "checksum": "c349bcb808edc0e15477780e58064484",
     "grade": true,
     "grade_id": "cell-390e4a656c3243a8",
     "locked": true,
     "points": 5,
     "schema_version": 3,
     "solution": false,
     "task": false
    }
   },
   "outputs": [],
   "source": []
  },
  {
   "cell_type": "markdown",
   "id": "842afa68",
   "metadata": {
    "deletable": false,
    "editable": false,
    "nbgrader": {
     "cell_type": "markdown",
     "checksum": "c77d78adb7ac2e8073a9ea95d4ddece4",
     "grade": false,
     "grade_id": "cell-18b846ee50e61942",
     "locked": true,
     "schema_version": 3,
     "solution": false,
     "task": false
    }
   },
   "source": [
    "# Reacher <a id='3.'></a>\n",
    "\n",
    "Now we will focus on designing a reward function for a different environment, the Reacher environment, where a two-joint manipulator needs to reach a goal (see Figure 2).\n",
    "\n",
    "<figure>\n",
    "<img src=\"imgs/reacher.png\" width=\"200px\">\n",
    "<figcaption style=\"text-align: center\"> Figure 2: The Reacher environment  </figcaption>\n",
    "</figure>\n",
    "\n",
    "The Cartesian ($x$, $y$) position of the end-effector of the manipulator can be determined following the equation:\n",
    "\n",
    "$$\n",
    " x = L_1 \\sin(\\theta_0)+L_2 \\sin(\\theta_0+\\theta_1)\\\\\n",
    " y = -L_1 \\cos(\\theta_0)-L_2 \\cos(\\theta_0+\\theta_1)\n",
    "$$\n",
    "\n",
    "where $L1 = 1$, $L2 = 1$ are the lengths, and $\\theta_0$, $\\theta_1$ the joint angles of the first and second links respectively. The state (and observation) in this environment is the two element vector:\n",
    "\n",
    "$$\n",
    "o=s=\\left(\\begin{array}{c}\n",
    "\\theta_0 \\\\\n",
    "\\theta_1 \\\\\n",
    "\\end{array}\\right) \\text {, }\n",
    "$$\n",
    "\n",
    "The action space now consists of 5 \"options\"; 4 correspond rotating the first/second joint left/right, and the final one performs no motion at all (the configuration doesn’t change). The episode terminates when the agent reaches the target position, marked in red. Now, let us design a custom reward function and use it for training the RL agent."
   ]
  },
  {
   "cell_type": "markdown",
   "id": "e138b75d",
   "metadata": {
    "deletable": false,
    "editable": false,
    "nbgrader": {
     "cell_type": "markdown",
     "checksum": "ff94517d52449f9ad78ed836e8ae5056",
     "grade": false,
     "grade_id": "cell-47ba07fead317fd8",
     "locked": true,
     "schema_version": 3,
     "solution": false,
     "task": false
    }
   },
   "source": [
    "<a id='T3'></a>\n",
    "<div class=\" alert alert-warning\">\n",
    "    <h3><b>Student Task 3.</b> Reward Functions (20 points) </h3> \n",
    "\n",
    "Below two classes are shown that modify the reward function of the reacher function provided in ```reacher.py```. Edit the function ```get_reward``` _below_ (not in ```reacher.py```) in both classes. For each class, write a reward function to incentivise the agent to learn the following behaviors:\n",
    "\n",
    "Class 1) ```SpinningReacherEnv```: Keep the manipulator rotating clockwise continuously (w.r.t. angle θ_0). You can use a lower number of training episodes for this, e.g. train(cfg_args=dict(env_name='SpinningReacher-v0', train_episodes=200), overrides=['env=reacher_v1'])\n",
    "\n",
    "Class 2) ```TargetReacherEnv```: Reach the goal point located in x = [1.0,1.0] (marked in red). Use at least 500 training episodes.\n",
    "    \n",
    "Train one model for each behavior. \n",
    "\n",
    "**Hint:** Use the observation vector to get the quantities required to compute the new reward (such as the position of the manipulator). You can get the Cartesian position of the end-effector with ```self.get_cartesian_pos(state)```.\n",
    "            \n",
    "🔝\t<a href='#TOC'><b>Table of Contents</b></a>\n",
    "</div>\n"
   ]
  },
  {
   "cell_type": "code",
   "execution_count": 22,
   "id": "32bf76fe",
   "metadata": {
    "tags": []
   },
   "outputs": [],
   "source": [
    "from reacher import ReacherEnv\n",
    "from typing import Optional\n",
    "from gymnasium.envs.registration import register\n",
    "\n",
    "class SpinningReacherEnv(ReacherEnv):\n",
    "    def __init__(self, render_mode: Optional[str] = None, max_episode_steps=200):\n",
    "        super().__init__(render_mode=render_mode, max_episode_steps=max_episode_steps)\n",
    "        \n",
    "    def get_reward(self, prev_state, action, next_state):\n",
    "        '''\n",
    "        TODO: Task 3: Implement and test the first reward function\n",
    "        '''\n",
    "        ########## Your code starts here ##########\n",
    "         # Extract angles from previous and next states\n",
    "        prev_theta0, _ = prev_state\n",
    "        next_theta0, _ = next_state\n",
    "        \n",
    "        # Calculate the change in theta0\n",
    "        delta_theta0 = next_theta0 - prev_theta0\n",
    "        \n",
    "        # Reward positive changes in theta0, indicating clockwise rotation\n",
    "        reward = delta_theta0\n",
    "        \n",
    "        return reward\n",
    "        ########## Your codes end here ########## \n",
    "        \n",
    "    \n",
    "register(\"SpinningReacher-v0\",\n",
    "        entry_point=\"%s:SpinningReacherEnv\"%__name__,\n",
    "        max_episode_steps=200)\n",
    "\n",
    "class TargetReacherEnv(ReacherEnv):\n",
    "    def __init__(self, render_mode: Optional[str] = None, max_episode_steps=200):\n",
    "        super().__init__(render_mode=render_mode, max_episode_steps=max_episode_steps)\n",
    "        \n",
    "    def get_reward(self, prev_state, action, next_state):\n",
    "        '''\n",
    "        # TODO: Task 3: Implement and test the second reward function\n",
    "        '''\n",
    "        ########## Your code starts here ##########\n",
    "        # Extract angles from the state\n",
    "        theta0, theta1 = next_state\n",
    "        \n",
    "        # Get the Cartesian position of the end-effector\n",
    "        x, y = self.get_cartesian_pos(next_state)\n",
    "        \n",
    "        # Define the target position\n",
    "        target_x, target_y = 1.0, 1.0\n",
    "        \n",
    "        # Calculate the Euclidean distance to the target\n",
    "        distance = np.sqrt((x - target_x) ** 2 + (y - target_y) ** 2)\n",
    "        \n",
    "        # Reward is the negative distance (closer = higher reward)\n",
    "        reward = -distance\n",
    "        \n",
    "        return reward\n",
    "        ########## Your codes end here ########## \n",
    "        \n",
    "register(\"TargetReacher-v0\",\n",
    "        entry_point=\"%s:TargetReacherEnv\"%__name__,\n",
    "        max_episode_steps=200)"
   ]
  },
  {
   "cell_type": "code",
   "execution_count": 23,
   "id": "765ea45c",
   "metadata": {
    "tags": []
   },
   "outputs": [
    {
     "name": "stdout",
     "output_type": "stream",
     "text": [
      "Numpy/Torch/Random Seed:  1\n",
      "Configuration Settings: {'exp_name': 'ex1', 'seed': 1, 'env_name': 'SpinningReacher-v0', 'model_name': 'SpinningReacher-v0', 'max_episode_steps': 200, 'train_episodes': 200, 'batch_size': 64, 'min_update_samples': 2000, 'testing': False, 'model_path': 'default', 'save_video': True, 'save_model': True, 'save_logging': True, 'silent': False, 'use_wandb': True, 'run_suffix': 0}\n",
      "Training device: cpu\n",
      "Observation space dimensions: 2\n",
      "Action space dimensions: 5\n",
      "\n",
      "Episode 0 finished. Total reward: 0.9999997168779373 (200 timesteps)\n",
      "Episode 5 finished. Total reward: -4.199996635317802 (200 timesteps)\n",
      "Episode 10 finished. Total reward: -0.20000001788139343 (200 timesteps)\n",
      "Updating the policy...\n",
      "Updating finished!\n",
      "Episode 15 finished. Total reward: 0.2000000774860382 (200 timesteps)\n",
      "Episode 20 finished. Total reward: 3.9999969750642776 (200 timesteps)\n",
      "Updating the policy...\n",
      "Updating finished!\n",
      "Episode 25 finished. Total reward: 13.400116756558418 (200 timesteps)\n",
      "Episode 30 finished. Total reward: 2.999997928738594 (121 timesteps)\n",
      "Updating the policy...\n",
      "Updating finished!\n",
      "Episode 35 finished. Total reward: 20.600281551480293 (200 timesteps)\n",
      "Episode 40 finished. Total reward: 1.5999991446733475 (33 timesteps)\n",
      "Updating the policy...\n",
      "Updating finished!\n",
      "Episode 45 finished. Total reward: 14.200135067105293 (152 timesteps)\n",
      "Episode 50 finished. Total reward: 14.200135067105293 (109 timesteps)\n",
      "Episode 55 finished. Total reward: 15.600167110562325 (174 timesteps)\n",
      "Updating the policy...\n",
      "Updating finished!\n",
      "Episode 60 finished. Total reward: 28.600464656949043 (200 timesteps)\n",
      "Episode 65 finished. Total reward: 7.999993160367012 (77 timesteps)\n",
      "Updating the policy...\n",
      "Updating finished!\n",
      "Episode 70 finished. Total reward: 28.000450924038887 (200 timesteps)\n",
      "Episode 75 finished. Total reward: 26.20040972530842 (200 timesteps)\n",
      "Updating the policy...\n",
      "Updating finished!\n",
      "Episode 80 finished. Total reward: 14.200135067105293 (99 timesteps)\n",
      "Episode 85 finished. Total reward: 31.800537899136543 (200 timesteps)\n",
      "Episode 90 finished. Total reward: 28.000450924038887 (200 timesteps)\n",
      "Updating the policy...\n",
      "Updating finished!\n",
      "Episode 95 finished. Total reward: 31.400528743863106 (200 timesteps)\n",
      "Episode 100 finished. Total reward: 31.800537899136543 (200 timesteps)\n",
      "Updating the policy...\n",
      "Updating finished!\n",
      "Episode 105 finished. Total reward: 28.200455501675606 (164 timesteps)\n",
      "Episode 110 finished. Total reward: 34.600601986050606 (200 timesteps)\n",
      "Updating the policy...\n",
      "Updating finished!\n",
      "Episode 115 finished. Total reward: 35.40062029659748 (200 timesteps)\n",
      "Episode 120 finished. Total reward: 35.6006248742342 (200 timesteps)\n",
      "Updating the policy...\n",
      "Updating finished!\n",
      "Episode 125 finished. Total reward: 37.60067065060139 (200 timesteps)\n",
      "Episode 130 finished. Total reward: 37.40066607296467 (200 timesteps)\n",
      "Updating the policy...\n",
      "Updating finished!\n",
      "Episode 135 finished. Total reward: 38.000679805874825 (200 timesteps)\n",
      "Episode 140 finished. Total reward: 38.20068438351154 (200 timesteps)\n",
      "Updating the policy...\n",
      "Updating finished!\n",
      "Episode 145 finished. Total reward: 39.400711849331856 (200 timesteps)\n",
      "Episode 150 finished. Total reward: 39.20070727169514 (200 timesteps)\n",
      "Updating the policy...\n",
      "Updating finished!\n",
      "Episode 155 finished. Total reward: 39.400711849331856 (200 timesteps)\n",
      "Episode 160 finished. Total reward: 39.20070727169514 (200 timesteps)\n",
      "Updating the policy...\n",
      "Updating finished!\n",
      "Episode 165 finished. Total reward: 39.400711849331856 (200 timesteps)\n",
      "Episode 170 finished. Total reward: 39.600716426968575 (200 timesteps)\n",
      "Updating the policy...\n",
      "Updating finished!\n",
      "Episode 175 finished. Total reward: 39.80072100460529 (200 timesteps)\n",
      "Episode 180 finished. Total reward: 39.600716426968575 (200 timesteps)\n",
      "Updating the policy...\n",
      "Updating finished!\n",
      "Episode 185 finished. Total reward: 40.00072558224201 (200 timesteps)\n",
      "Episode 190 finished. Total reward: 39.80072100460529 (200 timesteps)\n",
      "Updating the policy...\n",
      "Updating finished!\n",
      "Episode 195 finished. Total reward: 40.00072558224201 (200 timesteps)\n",
      "Episode 200 finished. Total reward: 39.600716426968575 (200 timesteps)\n",
      "Model saved to /notebooks/rl2024/ex1/results/model/SpinningReacher-v0_params.pt\n",
      "------Training finished.------\n"
     ]
    }
   ],
   "source": [
    "if not skip_training:\n",
    "      t.train(cfg_path=Path().cwd()/'cfg'/'reacher_v1.yaml', \n",
    "      cfg_args=dict(env_name='SpinningReacher-v0',model_name='SpinningReacher-v0', train_episodes=200, seed=1)) # < 5 mins"
   ]
  },
  {
   "cell_type": "code",
   "execution_count": 24,
   "id": "2d4cb332",
   "metadata": {
    "tags": []
   },
   "outputs": [
    {
     "name": "stdout",
     "output_type": "stream",
     "text": [
      "Numpy/Torch/Random Seed:  60\n",
      "Loading model from /notebooks/rl2024/ex1/results/model/SpinningReacher-v0_params.pt ...\n",
      "Testing...\n",
      "Test ep reward: 40.000725865364075 seed: 206\n",
      "Test ep reward: 40.00072532892227 seed: 66\n",
      "Test ep reward: 40.000723481178284 seed: 583\n",
      "Test ep reward: 40.00072096288204 seed: 395\n",
      "Test ep reward: 40.000724375247955 seed: 400\n",
      "Test ep reward: 40.000725984573364 seed: 100\n",
      "Test ep reward: 40.00072507560253 seed: 73\n",
      "Test ep reward: 40.00072538852692 seed: 122\n",
      "Test ep reward: 40.000723734498024 seed: 914\n",
      "Test ep reward: 40.00072155892849 seed: 675\n",
      "Average test reward: 40.000724175572394 episode length: 200.0\n"
     ]
    }
   ],
   "source": [
    "if not skip_training:\n",
    "       t.test(episodes=10, cfg_path=Path().cwd()/'cfg'/'reacher_v1.yaml', \n",
    "       cfg_args=dict(env_name='SpinningReacher-v0',model_name='SpinningReacher-v0', testing=True,seed=None))"
   ]
  },
  {
   "cell_type": "markdown",
   "id": "383507bc",
   "metadata": {
    "deletable": false,
    "editable": false,
    "nbgrader": {
     "cell_type": "markdown",
     "checksum": "ae28a94ff0891a34fcdffc954b90cda2",
     "grade": false,
     "grade_id": "cell-06f756f42a921878",
     "locked": true,
     "schema_version": 3,
     "solution": false,
     "task": false
    }
   },
   "source": [
    "The agent acting in the environment can be seen using the following command. Change the ```path``` to pick the episode you want to visualize. Bear in mind by default video saving for training is taken every 50 episodes."
   ]
  },
  {
   "cell_type": "code",
   "execution_count": 27,
   "id": "555bc002",
   "metadata": {
    "tags": []
   },
   "outputs": [
    {
     "data": {
      "text/html": [
       "<video loop autoplay  >\n",
       " <source src=\"data:video/mp4;base64,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\" type=\"video/mp4\">\n",
       " Your browser does not support the video tag.\n",
       " </video>"
      ],
      "text/plain": [
       "<IPython.core.display.Video object>"
      ]
     },
     "metadata": {},
     "output_type": "display_data"
    }
   ],
   "source": [
    "if not skip_training:\n",
    "      video = Video(work_dir/'video'/'SpinningReacher-v0'/'test'/f'ex1-episode-0.mp4',\n",
    "      embed=True, html_attributes=\"loop autoplay\") # Set html_attributes=\"controls\" for video control\n",
    "      display(video)"
   ]
  },
  {
   "cell_type": "code",
   "execution_count": 28,
   "id": "663c258a",
   "metadata": {
    "tags": []
   },
   "outputs": [
    {
     "name": "stdout",
     "output_type": "stream",
     "text": [
      "Numpy/Torch/Random Seed:  1\n",
      "Configuration Settings: {'exp_name': 'ex1', 'seed': 1, 'env_name': 'TargetReacher-v0', 'model_name': 'TargetReacher-v0', 'max_episode_steps': 200, 'train_episodes': 500, 'batch_size': 64, 'min_update_samples': 2000, 'testing': False, 'model_path': 'default', 'save_video': True, 'save_model': True, 'save_logging': True, 'silent': False, 'use_wandb': True, 'run_suffix': 0}\n",
      "Training device: cpu\n",
      "Observation space dimensions: 2\n",
      "Action space dimensions: 5\n",
      "\n",
      "Episode 0 finished. Total reward: -571.9537805008489 (200 timesteps)\n",
      "Episode 5 finished. Total reward: -533.6843759806541 (200 timesteps)\n",
      "Episode 10 finished. Total reward: -604.272767413936 (200 timesteps)\n",
      "Updating the policy...\n",
      "Updating finished!\n",
      "Episode 15 finished. Total reward: -80.1796538766261 (40 timesteps)\n",
      "Episode 20 finished. Total reward: -369.87731162214294 (200 timesteps)\n",
      "Updating the policy...\n",
      "Updating finished!\n",
      "Episode 25 finished. Total reward: -394.4414388304313 (200 timesteps)\n",
      "Episode 30 finished. Total reward: -378.48743626640504 (200 timesteps)\n",
      "Updating the policy...\n",
      "Updating finished!\n",
      "Episode 35 finished. Total reward: -373.0086270680964 (200 timesteps)\n",
      "Episode 40 finished. Total reward: -233.26818804176827 (134 timesteps)\n",
      "Episode 45 finished. Total reward: -60.5237512490564 (31 timesteps)\n",
      "Episode 50 finished. Total reward: -80.45341425616046 (44 timesteps)\n",
      "Updating the policy...\n",
      "Updating finished!\n",
      "Episode 55 finished. Total reward: -35.80822392924983 (21 timesteps)\n",
      "Episode 60 finished. Total reward: -151.32287389355596 (105 timesteps)\n",
      "Episode 65 finished. Total reward: -82.79113477770156 (37 timesteps)\n",
      "Episode 70 finished. Total reward: -325.3955444048953 (179 timesteps)\n",
      "Updating the policy...\n",
      "Updating finished!\n",
      "Episode 75 finished. Total reward: -129.70303411433866 (85 timesteps)\n",
      "Episode 80 finished. Total reward: -382.3229798029909 (189 timesteps)\n",
      "Episode 85 finished. Total reward: -86.74025455218394 (38 timesteps)\n",
      "Episode 90 finished. Total reward: -208.23570339057187 (111 timesteps)\n",
      "Episode 95 finished. Total reward: -299.91780581086226 (164 timesteps)\n",
      "Updating the policy...\n",
      "Updating finished!\n",
      "Episode 100 finished. Total reward: -367.3348305590615 (200 timesteps)\n",
      "Episode 105 finished. Total reward: -34.85407608561298 (25 timesteps)\n",
      "Episode 110 finished. Total reward: -357.7723130233212 (200 timesteps)\n",
      "Episode 115 finished. Total reward: -91.7588256271416 (64 timesteps)\n",
      "Episode 120 finished. Total reward: -273.353337928596 (169 timesteps)\n",
      "Episode 125 finished. Total reward: -280.5299344373903 (163 timesteps)\n",
      "Updating the policy...\n",
      "Updating finished!\n",
      "Episode 130 finished. Total reward: -222.27640157065375 (139 timesteps)\n",
      "Episode 135 finished. Total reward: -365.1862383396505 (200 timesteps)\n",
      "Episode 140 finished. Total reward: -51.60914469248095 (30 timesteps)\n",
      "Episode 145 finished. Total reward: -338.49758369673265 (200 timesteps)\n",
      "Episode 150 finished. Total reward: -39.6645531160769 (21 timesteps)\n",
      "Episode 155 finished. Total reward: -35.86884124642807 (19 timesteps)\n",
      "Updating the policy...\n",
      "Updating finished!\n",
      "Episode 160 finished. Total reward: -30.80251044942633 (17 timesteps)\n",
      "Episode 165 finished. Total reward: -43.05902316159371 (25 timesteps)\n",
      "Episode 170 finished. Total reward: -199.54354881468694 (112 timesteps)\n",
      "Episode 175 finished. Total reward: -42.30615421536371 (21 timesteps)\n",
      "Episode 180 finished. Total reward: -230.88535174481638 (142 timesteps)\n",
      "Episode 185 finished. Total reward: -221.0472965146015 (126 timesteps)\n",
      "Updating the policy...\n",
      "Updating finished!\n",
      "Episode 190 finished. Total reward: -35.838449292640334 (27 timesteps)\n",
      "Episode 195 finished. Total reward: -47.84226076980664 (30 timesteps)\n",
      "Episode 200 finished. Total reward: -298.46125389386214 (175 timesteps)\n",
      "Episode 205 finished. Total reward: -30.488648940288062 (18 timesteps)\n",
      "Episode 210 finished. Total reward: -32.43702402043547 (19 timesteps)\n",
      "Episode 215 finished. Total reward: -61.46050258568872 (47 timesteps)\n",
      "Updating the policy...\n",
      "Updating finished!\n",
      "Episode 220 finished. Total reward: -28.14286054331255 (16 timesteps)\n",
      "Episode 225 finished. Total reward: -32.97550276825772 (19 timesteps)\n",
      "Episode 230 finished. Total reward: -68.2774312735156 (52 timesteps)\n",
      "Episode 235 finished. Total reward: -25.150060366048336 (15 timesteps)\n",
      "Episode 240 finished. Total reward: -348.1143851654531 (200 timesteps)\n",
      "Updating the policy...\n",
      "Updating finished!\n",
      "Episode 245 finished. Total reward: -78.39209810765745 (57 timesteps)\n",
      "Episode 250 finished. Total reward: -355.72393519355114 (200 timesteps)\n",
      "Episode 255 finished. Total reward: -45.29884072513697 (24 timesteps)\n",
      "Episode 260 finished. Total reward: -26.612393535601136 (17 timesteps)\n",
      "Episode 265 finished. Total reward: -27.73773619773191 (16 timesteps)\n",
      "Updating the policy...\n",
      "Updating finished!\n",
      "Episode 270 finished. Total reward: -24.863364770094336 (16 timesteps)\n",
      "Episode 275 finished. Total reward: -78.80020032225862 (62 timesteps)\n",
      "Episode 280 finished. Total reward: -27.957475086126927 (16 timesteps)\n",
      "Episode 285 finished. Total reward: -338.8562585659363 (200 timesteps)\n",
      "Episode 290 finished. Total reward: -32.519009883618736 (21 timesteps)\n",
      "Episode 295 finished. Total reward: -348.86823686322725 (200 timesteps)\n",
      "Episode 300 finished. Total reward: -29.848933722007317 (19 timesteps)\n",
      "Episode 305 finished. Total reward: -34.10132082024734 (21 timesteps)\n",
      "Updating the policy...\n",
      "Updating finished!\n",
      "Episode 310 finished. Total reward: -24.5707829614306 (14 timesteps)\n",
      "Episode 315 finished. Total reward: -67.85193572983357 (48 timesteps)\n",
      "Episode 320 finished. Total reward: -28.76647837238569 (19 timesteps)\n",
      "Episode 325 finished. Total reward: -37.43696515319926 (20 timesteps)\n",
      "Episode 330 finished. Total reward: -28.279336483358463 (18 timesteps)\n",
      "Episode 335 finished. Total reward: -40.156430425456065 (23 timesteps)\n",
      "Episode 340 finished. Total reward: -157.4480321184227 (96 timesteps)\n",
      "Episode 345 finished. Total reward: -26.602077847704916 (16 timesteps)\n",
      "Episode 350 finished. Total reward: -25.18363684891801 (14 timesteps)\n",
      "Updating the policy...\n",
      "Updating finished!\n",
      "Episode 355 finished. Total reward: -361.8265372343272 (200 timesteps)\n",
      "Episode 360 finished. Total reward: -188.95992269848438 (100 timesteps)\n",
      "Episode 365 finished. Total reward: -27.995677348774255 (18 timesteps)\n",
      "Episode 370 finished. Total reward: -34.04309344852075 (18 timesteps)\n",
      "Episode 375 finished. Total reward: -26.99371974246626 (15 timesteps)\n",
      "Episode 380 finished. Total reward: -39.02818868254301 (20 timesteps)\n",
      "Episode 385 finished. Total reward: -32.21459867668866 (18 timesteps)\n",
      "Updating the policy...\n",
      "Updating finished!\n",
      "Episode 390 finished. Total reward: -27.44875967037614 (17 timesteps)\n",
      "Episode 395 finished. Total reward: -197.8764987177071 (107 timesteps)\n",
      "Episode 400 finished. Total reward: -26.872320754655696 (20 timesteps)\n",
      "Episode 405 finished. Total reward: -334.41775388139894 (200 timesteps)\n",
      "Episode 410 finished. Total reward: -32.260479806509785 (18 timesteps)\n",
      "Episode 415 finished. Total reward: -32.507442517110384 (20 timesteps)\n",
      "Episode 420 finished. Total reward: -24.796633858316344 (15 timesteps)\n",
      "Episode 425 finished. Total reward: -198.9968210093196 (126 timesteps)\n",
      "Episode 430 finished. Total reward: -28.215221855267405 (19 timesteps)\n",
      "Episode 435 finished. Total reward: -347.24742005671413 (200 timesteps)\n",
      "Episode 440 finished. Total reward: -33.60766783012935 (20 timesteps)\n",
      "Updating the policy...\n",
      "Updating finished!\n",
      "Episode 445 finished. Total reward: -358.4500074227465 (200 timesteps)\n",
      "Episode 450 finished. Total reward: -31.695111343516654 (18 timesteps)\n",
      "Episode 455 finished. Total reward: -26.55483262913745 (16 timesteps)\n",
      "Episode 460 finished. Total reward: -372.22721574912595 (200 timesteps)\n",
      "Episode 465 finished. Total reward: -27.91654066424372 (17 timesteps)\n",
      "Episode 470 finished. Total reward: -70.28367201682471 (62 timesteps)\n",
      "Episode 475 finished. Total reward: -25.974489253201014 (15 timesteps)\n",
      "Episode 480 finished. Total reward: -25.405948721391834 (16 timesteps)\n",
      "Episode 485 finished. Total reward: -23.38993901562231 (14 timesteps)\n",
      "Updating the policy...\n",
      "Updating finished!\n",
      "Episode 490 finished. Total reward: -30.086791020565375 (19 timesteps)\n",
      "Episode 495 finished. Total reward: -30.35155274741469 (16 timesteps)\n",
      "Episode 500 finished. Total reward: -356.0189181553706 (200 timesteps)\n",
      "Model saved to /notebooks/rl2024/ex1/results/model/TargetReacher-v0_params.pt\n",
      "------Training finished.------\n"
     ]
    }
   ],
   "source": [
    "if not skip_training:\n",
    "      t.train(cfg_path=Path().cwd()/'cfg'/'reacher_v1.yaml', \n",
    "      cfg_args=dict(env_name='TargetReacher-v0',model_name='TargetReacher-v0', train_episodes=500, seed=1)) # < 5 mins"
   ]
  },
  {
   "cell_type": "code",
   "execution_count": 29,
   "id": "4714194c",
   "metadata": {
    "tags": []
   },
   "outputs": [
    {
     "name": "stdout",
     "output_type": "stream",
     "text": [
      "Numpy/Torch/Random Seed:  519\n",
      "Loading model from /notebooks/rl2024/ex1/results/model/TargetReacher-v0_params.pt ...\n",
      "Testing...\n",
      "Test ep reward: -27.82880207688945 seed: 25\n",
      "Test ep reward: -26.783486480853362 seed: 466\n",
      "Test ep reward: -26.184199947698463 seed: 374\n",
      "Test ep reward: -24.769934864094974 seed: 517\n",
      "Test ep reward: -24.320561223924084 seed: 875\n",
      "Test ep reward: -24.613443126057277 seed: 180\n",
      "Test ep reward: -26.138254807258836 seed: 20\n",
      "Test ep reward: -27.78487429442449 seed: 519\n",
      "Test ep reward: -25.025835976465842 seed: 873\n",
      "Test ep reward: -23.337915984927395 seed: 768\n",
      "Average test reward: -25.678730878259422 episode length: 15.3\n"
     ]
    }
   ],
   "source": [
    "if not skip_training:\n",
    "       t.test(episodes=10, cfg_path=Path().cwd()/'cfg'/'reacher_v1.yaml', \n",
    "       cfg_args=dict(env_name='TargetReacher-v0',model_name='TargetReacher-v0', seed=None, testing=True,))"
   ]
  },
  {
   "cell_type": "code",
   "execution_count": 30,
   "id": "67152513",
   "metadata": {
    "tags": []
   },
   "outputs": [
    {
     "data": {
      "text/html": [
       "<video loop autoplay  >\n",
       " <source src=\"data:video/mp4;base64,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\" type=\"video/mp4\">\n",
       " Your browser does not support the video tag.\n",
       " </video>"
      ],
      "text/plain": [
       "<IPython.core.display.Video object>"
      ]
     },
     "metadata": {},
     "output_type": "display_data"
    }
   ],
   "source": [
    "if not skip_training:\n",
    "      video = Video(work_dir/'video'/'TargetReacher-v0'/'test'/f'ex1-episode-0.mp4',\n",
    "      embed=True, html_attributes=\"loop autoplay\") # Set html_attributes=\"controls\" for video control\n",
    "      display(video)"
   ]
  },
  {
   "cell_type": "markdown",
   "id": "947add89",
   "metadata": {
    "deletable": false,
    "editable": false,
    "nbgrader": {
     "cell_type": "markdown",
     "checksum": "24b4e1b132030de471dd3ab7d7d89a7b",
     "grade": false,
     "grade_id": "cell-8fbe6b6920b12c52",
     "locked": true,
     "schema_version": 3,
     "solution": false,
     "task": false
    }
   },
   "source": [
    "Do not delete the following cells as they are used for grading. Make sure to test that both agents work correctly for the selected set of seeds [860, 241, 73, 543, 582, 211, 524, 484, 954, 656]."
   ]
  },
  {
   "cell_type": "code",
   "execution_count": null,
   "id": "141e44fe",
   "metadata": {
    "deletable": false,
    "editable": false,
    "nbgrader": {
     "cell_type": "code",
     "checksum": "8d262615dcd66ffad7534f4c0c2a5424",
     "grade": true,
     "grade_id": "cell-626f99384bd58109",
     "locked": true,
     "points": 10,
     "schema_version": 3,
     "solution": false,
     "task": false
    }
   },
   "outputs": [],
   "source": [
    "%%capture --no-stdout\n",
    "\"TEST CELL\""
   ]
  },
  {
   "cell_type": "code",
   "execution_count": null,
   "id": "0ee03e99",
   "metadata": {
    "deletable": false,
    "editable": false,
    "nbgrader": {
     "cell_type": "code",
     "checksum": "80c6477f2fe781715a9c816f5434d617",
     "grade": true,
     "grade_id": "cell-233242cce6bb1187",
     "locked": true,
     "points": 10,
     "schema_version": 3,
     "solution": false,
     "task": false
    }
   },
   "outputs": [],
   "source": [
    "%%capture --no-stdout\n",
    "\"TEST CELL\""
   ]
  },
  {
   "cell_type": "markdown",
   "id": "c384e863",
   "metadata": {
    "deletable": false,
    "editable": false,
    "nbgrader": {
     "cell_type": "markdown",
     "checksum": "f2f484cdc7ececdfcdeb734e9133f0d8",
     "grade": false,
     "grade_id": "cell-54aa2850dfdfb7d1",
     "locked": true,
     "schema_version": 3,
     "solution": false,
     "task": false
    }
   },
   "source": [
    "<a id='T4'></a>\n",
    "<div class=\" alert alert-warning\">\n",
    "    <h3><b>Student Task 4.</b> Visualizing Behavior (10 points) </h3> \n",
    "\n",
    "Now, let us visualize the reward function for the second behavior (reaching the goal [1,1]). Plot the values of the second reward function from Task 3 and the learned best action as a function of the state (the joint positions). Use the code below as a starting point. After plotting, answer the questions below.\n",
    "            \n",
    "🔝\t<a href='#TOC'><b>Table of Contents</b></a>\n",
    "</div>\n"
   ]
  },
  {
   "cell_type": "code",
   "execution_count": 31,
   "id": "139b3387",
   "metadata": {
    "tags": []
   },
   "outputs": [],
   "source": [
    "import matplotlib.pyplot as plt\n",
    "import seaborn as sns\n",
    "import gymnasium as gym\n",
    "from agent import Agent, Policy"
   ]
  },
  {
   "cell_type": "code",
   "execution_count": 32,
   "id": "0035a7f8",
   "metadata": {
    "tags": []
   },
   "outputs": [
    {
     "name": "stdout",
     "output_type": "stream",
     "text": [
      "Loading policy from /notebooks/rl2024/ex1/results/model/TargetReacher-v0_params.pt\n"
     ]
    }
   ],
   "source": [
    "env_name = \"TargetReacher-v0\" \n",
    "resolution = 101  # Resolution of the policy/reward image\n",
    "\n",
    "# Load policy from default path to plot\n",
    "policy_dir = Path().cwd()/'results'/'model'/f'{env_name}_params.pt'\n",
    "\n",
    "sns.set()\n",
    "\n",
    "# Create a gym environment\n",
    "env = gym.make(env_name)\n",
    "\n",
    "action_space_dim = u.get_space_dim(env.action_space)\n",
    "observation_space_dim = u.get_space_dim(env.observation_space)\n",
    "policy = Policy(observation_space_dim, action_space_dim)\n",
    "\n",
    "if policy_dir:\n",
    "    policy.load_state_dict(torch.load(policy_dir))\n",
    "    print(\"Loading policy from\", policy_dir)\n",
    "else:\n",
    "    print(\"Plotting a random policy\")"
   ]
  },
  {
   "cell_type": "code",
   "execution_count": 33,
   "id": "170a06be",
   "metadata": {
    "tags": []
   },
   "outputs": [],
   "source": [
    "# Create a grid and initialize arrays to store rewards and actions\n",
    "npoints = resolution\n",
    "state_range = np.linspace(-np.pi, np.pi, npoints)\n",
    "rewards = np.zeros((npoints, npoints))\n",
    "actions = np.zeros((npoints, npoints), dtype=np.int32)\n",
    "\n",
    "# Loop through state[0] and state[1]\n",
    "for i,th1 in enumerate(state_range):\n",
    "    for j,th2 in enumerate(state_range):\n",
    "        # Create the state vector from th1, th2\n",
    "        state = np.array([th1, th2])\n",
    "\n",
    "        # Query the policy and find the most probable action\n",
    "        with torch.no_grad():\n",
    "            action_dist, _ = policy(torch.from_numpy(state).float().unsqueeze(0))\n",
    "        action_probs = action_dist.probs.numpy()\n",
    "\n",
    "        '''\n",
    "        # TODO: Task 4: \n",
    "        # 1. What's the best action, according to the policy?\n",
    "        # 2. Compute the reward given state\n",
    "        '''\n",
    "        ########## Your code starts here ##########\n",
    "        # Use the action probabilities in the action_probs vector\n",
    "        # (it's a numpy array)\n",
    "        # Find the action with the highest probability\n",
    "        best_action = np.argmax(action_probs)\n",
    "        actions[i, j] = best_action\n",
    "        \n",
    "        # Calculate the reward for the given state-action pair\n",
    "        # Use the policy to get the reward for the state-action pair\n",
    "        next_state = state  # For static reward calculation, we use the same state\n",
    "        reward = env.get_reward(state, best_action, next_state)\n",
    "        rewards[i, j] = reward \n",
    "        ########## Your code ends here ##########\n"
   ]
  },
  {
   "cell_type": "code",
   "execution_count": 34,
   "id": "ea36aa9a",
   "metadata": {
    "tags": []
   },
   "outputs": [
    {
     "data": {
      "image/png": "[encoded data removed]",
      "text/plain": [
       "<Figure size 640x480 with 2 Axes>"
      ]
     },
     "metadata": {},
     "output_type": "display_data"
    }
   ],
   "source": [
    "# Create the reward plot\n",
    "num_ticks = 10\n",
    "tick_skip = max(1, npoints // num_ticks)\n",
    "tick_shift = 2*np.pi/npoints/2\n",
    "tick_points = np.arange(npoints)[::tick_skip] + tick_shift\n",
    "tick_labels = state_range.round(2)[::tick_skip]\n",
    "\n",
    "sns.heatmap(rewards)\n",
    "plt.xticks(tick_points, tick_labels, rotation=45)\n",
    "plt.yticks(tick_points, tick_labels, rotation=45)\n",
    "plt.xlabel(\"J2\")\n",
    "plt.ylabel(\"J1\")\n",
    "plt.title(\"Reward\")\n",
    "plt.suptitle(\"Rewards in %s\" % env_name)\n",
    "plt.show()\n"
   ]
  },
  {
   "cell_type": "code",
   "execution_count": 35,
   "id": "99f6c89a",
   "metadata": {
    "tags": []
   },
   "outputs": [
    {
     "data": {
      "image/png": "[encoded data removed]",
      "text/plain": [
       "<Figure size 640x480 with 2 Axes>"
      ]
     },
     "metadata": {},
     "output_type": "display_data"
    }
   ],
   "source": [
    "# # Create the policy plot\n",
    "cmap = sns.color_palette(\"deep\", action_space_dim)\n",
    "sns.heatmap(actions, cmap=cmap, vmin=0, vmax=action_space_dim-1)\n",
    "plt.xticks(tick_points, tick_labels, rotation=45)\n",
    "plt.yticks(tick_points, tick_labels, rotation=45)\n",
    "colorbar = plt.gca().collections[0].colorbar\n",
    "ticks = np.array(range(action_space_dim))*((action_space_dim-1)/action_space_dim)+0.5\n",
    "colorbar.set_ticks(ticks)\n",
    "if env.spec.id == \"Reacher-v1\":\n",
    "    # In Reacher, we can replace 0..4 with more readable labels\n",
    "    labels = [\"J1+\", \"J1-\", \"J2+\", \"J2-\", \"Stop\"]\n",
    "else:\n",
    "    labels = list(map(str, range(action_space_dim)))\n",
    "colorbar.set_ticklabels(labels)\n",
    "plt.xlabel(\"J2\")\n",
    "plt.ylabel(\"J1\")\n",
    "plt.title(\"Best action\")\n",
    "plt.suptitle(\"Best action in %s\" % env_name)\n",
    "plt.show()"
   ]
  },
  {
   "cell_type": "markdown",
   "id": "7c2187e8-19c3-43a3-8854-7c20a9c73f9d",
   "metadata": {
    "deletable": false,
    "editable": false,
    "nbgrader": {
     "cell_type": "markdown",
     "checksum": "8a786bb3b1a68bc06adae81775588814",
     "grade": false,
     "grade_id": "cell-29064556f36a3c80",
     "locked": true,
     "points": 10,
     "schema_version": 3,
     "solution": false,
     "task": true
    }
   },
   "source": [
    "Do not remove this cell as it is used for grading"
   ]
  },
  {
   "cell_type": "markdown",
   "id": "c45dc911",
   "metadata": {
    "deletable": false,
    "editable": false,
    "nbgrader": {
     "cell_type": "markdown",
     "checksum": "7a79e29e8ff15be5a5132d9afe13efbe",
     "grade": false,
     "grade_id": "cell-a90e3e94423fcb0c",
     "locked": true,
     "schema_version": 3,
     "solution": false,
     "task": false
    }
   },
   "source": [
    "<a id='Q4'></a>\n",
    "<div class=\" alert alert-warning\">\n",
    "    <h3><b>Student Question 4.1</b> Achieved Performance (5 points) </h3> \n",
    "\n",
    "Where are the highest and lowest reward achieved?\n",
    "            \n",
    "🔝\t<a href='#TOC'><b>Table of Contents</b></a>\n",
    "</div>\n"
   ]
  },
  {
   "cell_type": "markdown",
   "id": "7011e57b",
   "metadata": {
    "deletable": false,
    "nbgrader": {
     "cell_type": "markdown",
     "checksum": "0151f821d750a97b7d38442f319f371e",
     "grade": true,
     "grade_id": "cell-e19d78f23a6643a3",
     "locked": false,
     "points": 5,
     "schema_version": 3,
     "solution": true,
     "task": false
    }
   },
   "source": [
    "Highest Rewards: Located in areas with bright colors, closer to yellow. Specifically, the highest rewards are achieved when the joint angles (j1,j2) are around the coordinates where the color on the heatmap transitions to bright yellow.\n",
    "\n",
    "Lowest Rewards: Located in areas with darker colors, closer to purple or black. The lowest rewards are achieved when the joint angles (j1,j2) are around the coordinates where the color on the heatmap transitions to dark purple or blue."
   ]
  },
  {
   "cell_type": "markdown",
   "id": "f77cbd95",
   "metadata": {
    "deletable": false,
    "editable": false,
    "nbgrader": {
     "cell_type": "markdown",
     "checksum": "71e236f9aab831df339f717afeb56013",
     "grade": false,
     "grade_id": "cell-4346eec80fe675af",
     "locked": true,
     "schema_version": 3,
     "solution": false,
     "task": false
    }
   },
   "source": [
    "<a id='Q5'></a>\n",
    "<div class=\" alert alert-warning\">\n",
    "    <h3><b>Student Question 4.2</b> Analysis of Behaviour (10 points) </h3> \n",
    "\n",
    "Did the policy learn to reach the goal from every possible state (manipulator configuration) in an optimal way (i.e. with lowest possible number of steps)? Why/why not?\n",
    "            \n",
    "🔝\t<a href='#TOC'><b>Table of Contents</b></a>\n",
    "</div>"
   ]
  },
  {
   "cell_type": "markdown",
   "id": "f5b2b7fd",
   "metadata": {
    "deletable": false,
    "editable": false,
    "nbgrader": {
     "cell_type": "markdown",
     "checksum": "94b370c7ab8e151a80925317aa768e4c",
     "grade": false,
     "grade_id": "cell-44ab862bff7d27bf",
     "locked": true,
     "schema_version": 3,
     "solution": false,
     "task": false
    }
   },
   "source": [
    "Select all the correct answers.You can select no more than 4 answers, otherwise you lose all exercise points:\n",
    "\n",
    "1. Yes, the policy efficiently learns to reach the goal from every state due to comprehensive state exploration.\n",
    "\n",
    "2. No, the policy fails to explore all states adequately because the initial and goal states are nearly constant, leading to limited exploration ability.\n",
    "\n",
    "3. Yes, the model is trained to always find the shortest path due to advanced algorithmic efficiency.\n",
    "\n",
    "4. No, because the policy often chooses longer paths for certain initial states , not exploiting shorter alternatives.\n",
    "\n",
    "5. Yes, continuous training ensures the policy adapts to find the best route from any state over time.\n",
    "\n",
    "6. No, optimal paths are not always found because the exploration phase is limited, causing repeated suboptimal actions.\n",
    "\n",
    "7. No, the policy sometimes achieves the goal optimally, but not consistently across all trials and configurations.\n",
    "\n",
    "8. Yes, the training regime guarantees that all possible configurations are optimally addressed by the final model.\n",
    "\n",
    "9. No, the policy cannot reach from all state because the policy has stochastic behavior.\n",
    "\n",
    "10. No, bacause the policy overfits to the online it collects.\n",
    "\n",
    "11. No, bacause the the reward function is not defined in an optimal way for this task."
   ]
  },
  {
   "cell_type": "code",
   "execution_count": 38,
   "id": "1621dc20",
   "metadata": {
    "tags": []
   },
   "outputs": [],
   "source": [
    "sq4_2 = [2, 4, 6, 7] #Answer question 4.2 with the appropriate answer numbers"
   ]
  },
  {
   "cell_type": "code",
   "execution_count": 39,
   "id": "fcc40e62",
   "metadata": {
    "deletable": false,
    "editable": false,
    "nbgrader": {
     "cell_type": "code",
     "checksum": "d036db91e2228e5f4ac16c460b609890",
     "grade": true,
     "grade_id": "cell-44c69f0bc8c72e3f",
     "locked": true,
     "points": 1,
     "schema_version": 3,
     "solution": false,
     "task": false
    },
    "tags": []
   },
   "outputs": [],
   "source": [
    "assert 1 <= len(set(sq4_2)) <= 4\n",
    "assert set(sq4_2) < set(range(1, 12))"
   ]
  },
  {
   "cell_type": "markdown",
   "id": "3eaeb40d",
   "metadata": {
    "deletable": false,
    "editable": false,
    "nbgrader": {
     "cell_type": "markdown",
     "checksum": "b652e7d56b0faeab487f22b14f619240",
     "grade": false,
     "grade_id": "cell-c1270f97d5ec1f3d",
     "locked": true,
     "schema_version": 3,
     "solution": false,
     "task": false
    }
   },
   "source": [
    "Do not remove the following blocks as they are used for grading"
   ]
  },
  {
   "cell_type": "code",
   "execution_count": null,
   "id": "05031d7b",
   "metadata": {
    "deletable": false,
    "editable": false,
    "nbgrader": {
     "cell_type": "code",
     "checksum": "363e721a50466efc4a48b8eb31060bfc",
     "grade": true,
     "grade_id": "cell-5a73a8d6f1e62a4c",
     "locked": true,
     "points": 3,
     "schema_version": 3,
     "solution": false,
     "task": false
    }
   },
   "outputs": [],
   "source": []
  },
  {
   "cell_type": "code",
   "execution_count": null,
   "id": "75c7b426",
   "metadata": {
    "deletable": false,
    "editable": false,
    "nbgrader": {
     "cell_type": "code",
     "checksum": "7ac4e9f13a548e2d539bd454d10ee8b0",
     "grade": true,
     "grade_id": "cell-b18c9cd3dfeb8639",
     "locked": true,
     "points": 3,
     "schema_version": 3,
     "solution": false,
     "task": false
    }
   },
   "outputs": [],
   "source": []
  },
  {
   "cell_type": "code",
   "execution_count": null,
   "id": "db031f32",
   "metadata": {
    "deletable": false,
    "editable": false,
    "nbgrader": {
     "cell_type": "code",
     "checksum": "27bd6747e4d994a69c36e743a49c9e70",
     "grade": true,
     "grade_id": "cell-20401f4d0e76b565",
     "locked": true,
     "points": 3,
     "schema_version": 3,
     "solution": false,
     "task": false
    }
   },
   "outputs": [],
   "source": []
  },
  {
   "cell_type": "markdown",
   "id": "4c50da4d",
   "metadata": {},
   "source": [
    "# 4. Submitting <a id='4.'></a>\n",
    "Ensure all tasks and questions (in ```ex1.ipynb```) are answered and the relevant plots are recorded in the relevant places. Details about attaching images and figures can be found below. The relevant graphs to be included for this assignment are:\n",
    "- Task 1, CartPole ```episodesep_reward``` plot from logged csv file\n",
    "- x2 Task 4 reward plots\n",
    "\n",
    "Ensure the correct model files are saved:\n",
    "- results/model/CartPole-v1_params.pt\n",
    "- results/model/CartPole-v1-model{0-4}_params.pt\n",
    "- results/model/SpinningReacher-v0_params.pt\n",
    "- results/model/TargetReacher-v0_params.pt\n"
   ]
  },
  {
   "cell_type": "code",
   "execution_count": 42,
   "id": "27d551ec",
   "metadata": {
    "deletable": false,
    "editable": false,
    "nbgrader": {
     "cell_type": "code",
     "checksum": "ec29d723e13463965e0cd445e8d76d21",
     "grade": true,
     "grade_id": "cell-b0b285ad316b6cdf",
     "locked": true,
     "points": 0,
     "schema_version": 3,
     "solution": false,
     "task": false
    },
    "tags": []
   },
   "outputs": [],
   "source": [
    "# Make sure that skip training is set to True before submission\n",
    "assert skip_training == True"
   ]
  },
  {
   "cell_type": "markdown",
   "id": "d4c3b7e3-49a1-4ca6-8484-e9fd422271be",
   "metadata": {},
   "source": [
    "## 4.1 Feedback <a id='4.1'></a>\n",
    "\n",
    "In order to help the staff of the course as well as the forthcoming students, it would be great if you could answer to the following questions in your submission:"
   ]
  },
  {
   "cell_type": "markdown",
   "id": "29381b17-ce64-4a1c-b16c-e82ea2a0af96",
   "metadata": {},
   "source": [
    "1) How much time did you spend solving this exercise? (change the ```hrs``` variable below to a floating point number representing the number of hours taken e.g. 5.43)\n"
   ]
  },
  {
   "cell_type": "code",
   "execution_count": null,
   "id": "cbc91b59-0048-475d-a679-8e976ba0c7b7",
   "metadata": {},
   "outputs": [],
   "source": [
    "hrs = 2.5"
   ]
  },
  {
   "cell_type": "markdown",
   "id": "4dbefa77-e4a4-48ec-8049-e52b40fff463",
   "metadata": {},
   "source": [
    "2) Difficulty of each task/question from 1-5 (int or float)"
   ]
  },
  {
   "cell_type": "code",
   "execution_count": null,
   "id": "35321f8a-a156-4953-ba84-689b6e53a0b8",
   "metadata": {},
   "outputs": [],
   "source": [
    "T1 = 1 # Student Task 1. Training a simple model for Cartpole environment\n",
    "Q1_1 = 2 # Student Question 1.1 Learning\n",
    "T2 = 4 # Student Task 2. Investigating training performance\n",
    "Q2_1 = 3 # Student Question 2.1 Analyzing the training performance\n",
    "Q2_2 = 3 # Stochasticity\n",
    "T3 = 4 # Student Task 3. Reward function\n",
    "T4 = 2 # Student Task 4. Visualize behavior\n",
    "Q4_1 = 1 # Student Question 4.1 Achieved performance\n",
    "Q4_2 = 3 # Student Question 4.2 Analysis of behavior"
   ]
  },
  {
   "cell_type": "markdown",
   "id": "ce4983ba-5031-460d-bdb3-e7cd708ed203",
   "metadata": {},
   "source": [
    "3) How well did you understand the content of the task/question from 1-5? (int or float)\n"
   ]
  },
  {
   "cell_type": "code",
   "execution_count": null,
   "id": "6ed5d535-89b1-4852-81ef-541a0e1d6dcd",
   "metadata": {},
   "outputs": [],
   "source": [
    "T1 = 5 # Student Task 1. Training a simple model for Cartpole environment\n",
    "Q1_1 = 3 # Student Question 1.1 Learning\n",
    "T2 = 4 # Student Task 2. Investigating training performance\n",
    "Q2_1 = 2 # Student Question 2.1 Analyzing the training performance\n",
    "Q2_2 = 2 # Stochasticity\n",
    "T3 = 4 # Student Task 3. Reward function\n",
    "T4 = 4 # Student Task 4. Visualize behavior\n",
    "Q4_1 = 5 # Student Question 4.1 Achieved performance\n",
    "Q4_2 = 2 # Student Question 4.2 Analysis of behavior"
   ]
  },
  {
   "cell_type": "markdown",
   "id": "f7670bd2-6bff-418a-bf25-fabf1a3e5396",
   "metadata": {},
   "source": [
    "4) General feedback. Consider questions like:\n",
    "\n",
    "    - Did the content of the lecture relate well with the assignment?\n",
    "    - To what extent did you find the material to be potentially useful for your research and studies?\n",
    "    \n",
    "And other feedback you think is worth including. Type in the box below"
   ]
  },
  {
   "cell_type": "markdown",
   "id": "e4330ed5-2f15-4580-bf05-34e9aaf0004c",
   "metadata": {
    "tags": []
   },
   "source": [
    "Please use the following section to record references.\n",
    "# References <a id='5.'></a>\n",
    "\n",
    "[1] Sutton, Richard S., and Andrew G. Barto. \"Reinforcement Learning: An Introduction (in progress).\" London, England (2017). http://incompleteideas.net/book/RLbook2018.pdf"
   ]
  }
 ],
 "metadata": {
  "kernelspec": {
   "display_name": "Python 3",
   "language": "python",
   "name": "python3"
  },
  "language_info": {
   "codemirror_mode": {
    "name": "ipython",
    "version": 3
   },
   "file_extension": ".py",
   "mimetype": "text/x-python",
   "name": "python",
   "nbconvert_exporter": "python",
   "pygments_lexer": "ipython3",
   "version": "3.10.12"
  }
 },
 "nbformat": 4,
 "nbformat_minor": 5
}
